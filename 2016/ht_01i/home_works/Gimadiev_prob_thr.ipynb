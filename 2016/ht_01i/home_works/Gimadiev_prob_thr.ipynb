{
 "cells": [
  {
   "cell_type": "markdown",
   "metadata": {},
   "source": [
    "## Домашняя работа по теорверу. Автор: Гимадиев А.Ф."
   ]
  },
  {
   "cell_type": "markdown",
   "metadata": {},
   "source": [
    "### Задание 3. Задача 56 про китайский ресторан."
   ]
  },
  {
   "cell_type": "markdown",
   "metadata": {},
   "source": [
    "Для начала кратко перескажу условие задачи. Есть китайский ресторан, где на момент времени $t=0$ сидит $n=0$ человек. Раз в минуту в ресторан входит очередной посетитель и видит, что в ресторане сидит уже $n$ человек. Таким образом, $t=n-1,~t>0$. Посетитель, пришедший в момент времени $t$, с  вероятностью $\\dfrac{\\theta}{n+\\theta}=\\dfrac{\\theta}{t-1+\\theta}$ сядет за отдельный столик, с вероятностью же $1-\\dfrac{\\theta}{n+\\theta}=1-\\dfrac{\\theta}{t-1+\\theta}=\\dfrac{t-1}{t-1+\\theta}$ присоединится к одному из уже занятых столиков. \n",
    "\n",
    "Вопрос: Каково ожидаемое число занятых столиков на момент времени $t$? Обозначим за $\\mathbb{E}(k_t)$.\n",
    "\n",
    "###### Решение. \n",
    "\n",
    "Идея решения состоит в том, что для подсчёта матожидания количества занятых столиков в момент времени $t$ мы будем отталкиваться от данных в момент времени $t-1$. К моменту времени $t$, пока ещё не зашёл посетитель, количество уже занятых столов является случайной величиной, принимающей значения от 1 до $t-1$ с определёнными вероятностями. Далее количество занятых столиков либо возрастает на 1 с известной вероятностью либо остаётся неизменным. \n",
    "\n",
    "$\\mathbb{E}(к_1)=1$, что очевидно. Человек приходит и с вероятностью 1 садится за отдельный стол. \n",
    "\n",
    "$\\mathbb{E}(к_2)=1\\times \\dfrac{1}{\\theta+1}+2\\times\\dfrac{\\theta}{\\theta+1}$, так как с вероятностью $\\dfrac{1}{\\theta+1}$ человек присоединится к занятому столику, иначе сядет за второй стол. \n",
    "\n",
    "$\\mathbb{E}(к_3)=\\dfrac{1}{\\theta+1}\\left(1\\times \\dfrac{2}{\\theta+2}+2\\times\\dfrac{\\theta}{\\theta+2}\\right)+\\dfrac{\\theta}{\\theta+1}\\left( 2\\times\\dfrac{2}{\\theta+2}+3\\times\\dfrac{\\theta}{\\theta+2}\\right)=1\\times\\dfrac{2!}{(\\theta+1)(\\theta+2)}+2\\times 3\\dfrac{\\theta}{(\\theta+1)(\\theta+2)}+3\\times\\dfrac{\\theta^2}{(\\theta+1)(\\theta+2)}$\n",
    "\n",
    "$~$\n",
    "\n",
    "\\begin{multline*}\n",
    "\\mathbb{E}(к_4)=\\dfrac{2!}{(\\theta+1)(\\theta+2)}\\left( 1\\times\\dfrac{3}{\\theta+3}+2\\times\\dfrac{\\theta}{\\theta+3} \\right)+3\\dfrac{\\theta}{(\\theta+1)(\\theta+2)}\\left( 2\\times\\dfrac{3}{\\theta+3}+3\\times\\dfrac{\\theta}{\\theta+3} \\right)+\\dfrac{\\theta^2}{(\\theta+1)(\\theta+2)}\\left( 3\\times\\dfrac{3}{\\theta+3}+4\\times\\dfrac{\\theta}{\\theta+3} \\right)=\\\\=1\\times\\left( \\dfrac{3!}{(\\theta+1)(\\theta+2)(\\theta+3)} \\right)+2\\times\\left( \\dfrac{11\\theta}{(\\theta+1)(\\theta+2)(\\theta+3)} \\right)+3\\times\\left( \\dfrac{6\\theta^2}{(\\theta+1)(\\theta+2)(\\theta+3)} \\right)+4\\times\\left( \\dfrac{\\theta^3}{(\\theta+1)(\\theta+2)(\\theta+3)} \\right)\n",
    "\\end{multline*}\n",
    "\n",
    "Что мы имеем?\n",
    "\n",
    "$$\\mathbb{E}(k_t)=\\sum_{j=1}^t j\\times a_{tj}\\times \\dfrac{\\theta^{j-1}}{(\\theta+1)(\\theta+2)\\dots(\\theta+t-1)},$$ где $j$ - число занятых столов, $a_{tj}\\times \\dfrac{\\theta^{j-1}}{(\\theta+1)(\\theta+2)\\dots(\\theta+t-1)}$ - вероятность того, что именно такое количество столов будет занято. Понятно, откуда берётся дробь $$\\dfrac{\\theta^{j-1}}{(\\theta+1)(\\theta+2)\\dots(\\theta+t-1)},$$ ведь чтобы было занято $j$ столов, нужно, чтобы $j-1$ человек решили сесть за отдельные столики, когда только пришли в ресторан (первого человека не считаем, он садился за отдельный стол с вероятностью 1). \n",
    "\n",
    "Теперь нужно понять, как строятся числа $a_{tj}$. Как мы получаем в момент времени $t$ всего $j$ занятых столиков? Либо в момент времени $t-1$ было также занято всего $j$ столиков, тогда с вероятностью $\\dfrac{t-1}{t-1+\\theta}$ это число сохранится, либо в момент времени $t-1$ было занято $j-1$ столиков, тогда с вероятностью $\\dfrac{\\theta}{t-1+\\theta}$ их число увеличится на один. Имеем: $$a_{tj}=(t-1)a_{(t-1)j}+a_{(t-1)(j-1)}$$\n",
    "\n",
    "Попытками выразить элемент $a_{tj}$ через $t$ и $j$ через производящие функции от двух переменных доводим себя до депрессивных мыслей о собственном ничтожестве, после чего почти случайно узнаём у однокурсника с матфака, что я пытаюсь посчитать ЧИСЛА СТИРЛИНГА ПЕРВОГО РОДА БЕЗ ЗНАКА. Имеем: $$\\mathbb{E}(k_t)=\\sum_{j=1}^t jc(t,j)\\dfrac{\\theta^{j-1}}{(\\theta+1)(\\theta+2)\\dots(\\theta+t-1)}=\\left(\\sum_{l=0}^t c(t,l)\\theta^l\\right)^{-1}\\left(\\sum_{j=1}^tjc(t,j)\\theta^j\\right),~t>1$$"
   ]
  },
  {
   "cell_type": "markdown",
   "metadata": {
    "collapsed": true
   },
   "source": [
    "### Задача 2.1"
   ]
  },
  {
   "cell_type": "code",
   "execution_count": 77,
   "metadata": {
    "collapsed": true
   },
   "outputs": [],
   "source": [
    "import numpy as np\n",
    "import pandas as pd\n",
    "import matplotlib.pyplot as plt\n",
    "import ggplot as gp\n",
    "import math as math\n",
    "import scipy as sp\n",
    "from scipy import stats\n",
    "from scipy.stats import rayleigh\n",
    "\n",
    "%matplotlib inline\n",
    "\n",
    "import timeit as t\n",
    "from pylab import *\n",
    "from sklearn import svm\n",
    "from sklearn.svm import SVR\n",
    "from sklearn.svm import SVC\n",
    "from sklearn.metrics import mean_absolute_error\n",
    "from pandas import read_csv, DataFrame\n",
    "from sklearn.metrics import roc_curve, auc, roc_auc_score\n",
    "from sklearn.ensemble import RandomForestClassifier, GradientBoostingClassifier, AdaBoostClassifier\n",
    "from sklearn import cross_validation\n",
    "from sklearn.cross_validation import train_test_split\n",
    "from sklearn.naive_bayes import GaussianNB\n",
    "from sklearn.neighbors import KNeighborsClassifier\n",
    "from sklearn.decomposition import PCA\n",
    "import ml_metrics, string, re, pylab as pl\n",
    "import random\n",
    "import csv\n",
    "from ggplot import *"
   ]
  },
  {
   "cell_type": "code",
   "execution_count": 16,
   "metadata": {
    "collapsed": true
   },
   "outputs": [],
   "source": [
    "sample=[]"
   ]
  },
  {
   "cell_type": "code",
   "execution_count": 17,
   "metadata": {
    "collapsed": true
   },
   "outputs": [],
   "source": [
    "for i in range(50):\n",
    "    sample.append([])"
   ]
  },
  {
   "cell_type": "code",
   "execution_count": 18,
   "metadata": {
    "collapsed": false
   },
   "outputs": [],
   "source": [
    "for i in range(50):\n",
    "    sample[i]=np.random.uniform(0, 1, 1000)\n",
    "\n",
    "#сгенерировали 1000 рандомных точек для каждого из 50 распределений"
   ]
  },
  {
   "cell_type": "code",
   "execution_count": 30,
   "metadata": {
    "collapsed": false
   },
   "outputs": [
    {
     "data": {
      "text/plain": [
       "<matplotlib.legend.Legend at 0x29523ce2b00>"
      ]
     },
     "execution_count": 30,
     "metadata": {},
     "output_type": "execute_result"
    },
    {
     "data": {
      "image/png": "[encoded data removed]",
      "text/plain": [
       "<matplotlib.figure.Figure at 0x29524264b00>"
      ]
     },
     "metadata": {},
     "output_type": "display_data"
    }
   ],
   "source": [
    "fig, ax = plt.subplots(1, 1)\n",
    "\n",
    "# строим график функции плотности и гистограмму распределений\n",
    "x = np.linspace(0, 1, 100)\n",
    "count, bins, ignored = plt.hist(sample[0], 100, normed=True, label='sample')\n",
    "plt.plot(bins, np.ones_like(bins), linewidth=2, color='r', label='Probability density function')\n",
    "plt.ylabel('f(x)')\n",
    "plt.xlabel('x')\n",
    "plt.title('Histogram for $X_1$')\n",
    "\n",
    "plt.legend(loc='best')"
   ]
  },
  {
   "cell_type": "markdown",
   "metadata": {},
   "source": [
    "Я так понимаю, что задание про сумму непрерывных независимых случайных величин связано с ЦПТ, поэтому ещё добавил к гистограммам соответствующие нормальные распределения."
   ]
  },
  {
   "cell_type": "code",
   "execution_count": 31,
   "metadata": {
    "collapsed": false
   },
   "outputs": [],
   "source": [
    "#генерим выборки для сумм случайных величин\n",
    "\n",
    "sample_3=[]\n",
    "k=0\n",
    "for i in range(1000):\n",
    "    k = sample[0][i]+sample[1][i]+sample[2][i]\n",
    "    sample_3.append(k)\n",
    "    k=0\n",
    "\n",
    "sample_10=[]\n",
    "for i in range(1000):\n",
    "    for l in range(10):\n",
    "        k = k+sample[l][i]\n",
    "    sample_10.append(k)\n",
    "    k=0\n",
    "    \n",
    "sample_50=[]\n",
    "for i in range(1000):\n",
    "    for l in range(50):\n",
    "        k = k+sample[l][i]\n",
    "    sample_50.append(k)\n",
    "    k=0"
   ]
  },
  {
   "cell_type": "code",
   "execution_count": 32,
   "metadata": {
    "collapsed": true
   },
   "outputs": [],
   "source": [
    "#это матожидание и дисперсия равомерного распределения X_i\n",
    "\n",
    "m=0.5\n",
    "disp=1/12"
   ]
  },
  {
   "cell_type": "code",
   "execution_count": 33,
   "metadata": {
    "collapsed": true
   },
   "outputs": [],
   "source": [
    "#это дисперсии нормальных распределений, которыми будет аппроксимировать суммы данных случайных величин\n",
    "\n",
    "disp_1=disp*3\n",
    "disp_2=disp*10\n",
    "disp_3=disp*50"
   ]
  },
  {
   "cell_type": "code",
   "execution_count": 34,
   "metadata": {
    "collapsed": false
   },
   "outputs": [
    {
     "data": {
      "text/plain": [
       "<matplotlib.legend.Legend at 0x29525b126d8>"
      ]
     },
     "execution_count": 34,
     "metadata": {},
     "output_type": "execute_result"
    },
    {
     "data": {
      "image/png": "[encoded data removed]",
      "text/plain": [
       "<matplotlib.figure.Figure at 0x29525ad7400>"
      ]
     },
     "metadata": {},
     "output_type": "display_data"
    }
   ],
   "source": [
    "fig, ax = plt.subplots(1, 1)\n",
    "\n",
    "# строим график функции плотности\n",
    "x = np.linspace(0, 3, 100)\n",
    "\n",
    "values = plt.hist(sample_3, normed=True, bins=100, label='sample')\n",
    "\n",
    "pdf_3 = (1/(sqrt(disp_1)*sqrt(2*pi)))*exp(-(x-3*m)*(x-3*m)/(2*disp_1))\n",
    "plt.plot(x, pdf_3, 'r-', lw=2, label='Probability density function')\n",
    "\n",
    "plt.ylabel('f(x)')\n",
    "plt.xlabel('x')\n",
    "plt.title('Histogram for $X_1+X_2+X_3$')\n",
    "\n",
    "plt.legend(loc='best')"
   ]
  },
  {
   "cell_type": "code",
   "execution_count": 35,
   "metadata": {
    "collapsed": false
   },
   "outputs": [
    {
     "data": {
      "text/plain": [
       "<matplotlib.legend.Legend at 0x29525e12be0>"
      ]
     },
     "execution_count": 35,
     "metadata": {},
     "output_type": "execute_result"
    },
    {
     "data": {
      "image/png": "[encoded data removed]",
      "text/plain": [
       "<matplotlib.figure.Figure at 0x29525c83748>"
      ]
     },
     "metadata": {},
     "output_type": "display_data"
    }
   ],
   "source": [
    "fig, ax = plt.subplots(1, 1)\n",
    "\n",
    "# строим график функции плотности\n",
    "x = np.linspace(0, 10, 100)\n",
    "\n",
    "values = plt.hist(sample_10, normed=True, bins=100, label='sample')\n",
    "\n",
    "pdf_10 = (1/(sqrt(disp_2)*sqrt(2*pi)))*exp(-(x-10*m)*(x-10*m)/(2*disp_2))\n",
    "plt.plot(x, pdf_10, 'r-', lw=2, label='Probability density function')\n",
    "\n",
    "plt.ylabel('f(x)')\n",
    "plt.xlabel('x')\n",
    "plt.title('Histogram for $\\sum_{i=1}^{10} X_i$')\n",
    "\n",
    "plt.legend(loc='best')"
   ]
  },
  {
   "cell_type": "code",
   "execution_count": 36,
   "metadata": {
    "collapsed": false
   },
   "outputs": [
    {
     "data": {
      "text/plain": [
       "<matplotlib.legend.Legend at 0x29525f8ee48>"
      ]
     },
     "execution_count": 36,
     "metadata": {},
     "output_type": "execute_result"
    },
    {
     "data": {
      "image/png": "[encoded data removed]",
      "text/plain": [
       "<matplotlib.figure.Figure at 0x29525d7b550>"
      ]
     },
     "metadata": {},
     "output_type": "display_data"
    }
   ],
   "source": [
    "fig, ax = plt.subplots(1, 1)\n",
    "\n",
    "# строим график функции плотности\n",
    "x = np.linspace(0, 50, 100)\n",
    "\n",
    "values = plt.hist(sample_50, normed=True, bins=50, label='sample')\n",
    "\n",
    "pdf_50 = (1/(sqrt(disp_3)*sqrt(2*pi)))*exp(-(x-50*m)*(x-50*m)/(2*disp_3))\n",
    "plt.plot(x, pdf_50, 'r-', lw=2, label='Probability density function')\n",
    "\n",
    "plt.ylabel('f(x)')\n",
    "plt.xlabel('x')\n",
    "plt.title('Histogram for $\\sum_{i=1}^{50} X_i$')\n",
    "\n",
    "plt.legend(loc='best')"
   ]
  },
  {
   "cell_type": "markdown",
   "metadata": {},
   "source": [
    "Как видим, при $n\\to\\infty$ $\\sum\\limits_{i=1}^n X_i$ всё лучше и лучше приближается $N(n\\mu,n\\sigma^2)$."
   ]
  },
  {
   "cell_type": "markdown",
   "metadata": {},
   "source": [
    "### Задача 2.2"
   ]
  },
  {
   "cell_type": "code",
   "execution_count": 37,
   "metadata": {
    "collapsed": false
   },
   "outputs": [
    {
     "name": "stdout",
     "output_type": "stream",
     "text": [
      "probabilty is equal to 0.157\n"
     ]
    }
   ],
   "source": [
    "k=0\n",
    "for i in range(1000):\n",
    "    if sample_3[i]>2:\n",
    "        k=k+1\n",
    "probability = k/1000\n",
    "print('probabilty is equal to',probability)"
   ]
  },
  {
   "cell_type": "markdown",
   "metadata": {},
   "source": [
    "Получаем, что $\\mathbb{P}\\left(\\sum\\limits_{i=1}^3 X_i >2\\right)\\approx $ \"значение probabilty\". \n",
    "\n",
    "Теперь же посчитаем это вручную (используя WolframAplha конечно же) при помощи ЦТП и получим: $$\\mathbb{P}(X_1+X_2+X_3>2)=\\int_2^\\infty \\dfrac{2}{\\sqrt{2\\pi}}e^{-2(x-3/2)^2}dx\\approx 0.158655$$"
   ]
  },
  {
   "cell_type": "markdown",
   "metadata": {},
   "source": [
    "### Задача 2.3"
   ]
  },
  {
   "cell_type": "markdown",
   "metadata": {},
   "source": [
    "Найдём $v_5=\\mathbb{E}[X_1^5]$"
   ]
  },
  {
   "cell_type": "code",
   "execution_count": 38,
   "metadata": {
    "collapsed": false
   },
   "outputs": [
    {
     "name": "stdout",
     "output_type": "stream",
     "text": [
      "Пятый начальный момент равен 0.159311890315\n"
     ]
    }
   ],
   "source": [
    "v=0\n",
    "for j in range(1000):\n",
    "    v=v+pow(sample[0][j],5)/1000\n",
    "print('Пятый начальный момент равен',v)"
   ]
  },
  {
   "cell_type": "markdown",
   "metadata": {},
   "source": [
    "В идеале это должно быть $v_5=\\int_0^1x^5dx=\\dfrac{1}{6}=0,16666666666$"
   ]
  },
  {
   "cell_type": "markdown",
   "metadata": {},
   "source": [
    "Теперь поищем $var\\left(\\dfrac{X_1}{1+X_2^2}\\right)$."
   ]
  },
  {
   "cell_type": "code",
   "execution_count": 39,
   "metadata": {
    "collapsed": false
   },
   "outputs": [],
   "source": [
    "c=0\n",
    "samplesample=[]\n",
    "for j in range(1000):\n",
    "    c=sample[0][j]/(1+pow(sample[1][j],2))\n",
    "    samplesample.append(c)\n",
    "    c=0"
   ]
  },
  {
   "cell_type": "code",
   "execution_count": 40,
   "metadata": {
    "collapsed": false
   },
   "outputs": [
    {
     "data": {
      "text/plain": [
       "0.39298618364568599"
      ]
     },
     "execution_count": 40,
     "metadata": {},
     "output_type": "execute_result"
    }
   ],
   "source": [
    "average=0\n",
    "for j in range(1000):\n",
    "    average = average + samplesample[j]\n",
    "average=average/1000\n",
    "average"
   ]
  },
  {
   "cell_type": "code",
   "execution_count": 41,
   "metadata": {
    "collapsed": false
   },
   "outputs": [
    {
     "name": "stdout",
     "output_type": "stream",
     "text": [
      "дисперсия примерно равна 0.0582073472316\n"
     ]
    }
   ],
   "source": [
    "var=0\n",
    "for j in range(1000):\n",
    "    var=var+pow((samplesample[j]-average),2)\n",
    "var=var/999\n",
    "print('дисперсия примерно равна',var)"
   ]
  },
  {
   "cell_type": "markdown",
   "metadata": {},
   "source": [
    "### Задача 2.4"
   ]
  },
  {
   "cell_type": "code",
   "execution_count": 42,
   "metadata": {
    "collapsed": false
   },
   "outputs": [],
   "source": [
    "sample_op=[]\n",
    "h=0\n",
    "for j in range(1000):\n",
    "    h=(1+sample[0][j])/(3+sample[1][j])\n",
    "    sample_op.append(h)\n",
    "    h=0\n",
    "sample_op.sort()"
   ]
  },
  {
   "cell_type": "code",
   "execution_count": 44,
   "metadata": {
    "collapsed": false
   },
   "outputs": [
    {
     "name": "stdout",
     "output_type": "stream",
     "text": [
      "медиана примерно равна 0.424933107156\n"
     ]
    }
   ],
   "source": [
    "mediana = (sample_op[499]+sample_op[500])/2\n",
    "print('медиана примерно равна',mediana)"
   ]
  },
  {
   "cell_type": "code",
   "execution_count": 45,
   "metadata": {
    "collapsed": false
   },
   "outputs": [
    {
     "name": "stdout",
     "output_type": "stream",
     "text": [
      "25% квантиль примерно равен 0.358009291635\n"
     ]
    }
   ],
   "source": [
    "kvantil = (sample_op[249]+sample_op[250])/2\n",
    "print('25% квантиль примерно равен',kvantil)"
   ]
  },
  {
   "cell_type": "markdown",
   "metadata": {},
   "source": [
    "### Задача 1"
   ]
  },
  {
   "cell_type": "code",
   "execution_count": 78,
   "metadata": {
    "collapsed": true
   },
   "outputs": [],
   "source": [
    "pd.set_option('display.max_columns', 100)"
   ]
  },
  {
   "cell_type": "markdown",
   "metadata": {},
   "source": [
    "Решил взять достаточно заезженный датасет про пассажиров Титаника и построить свои графики."
   ]
  },
  {
   "cell_type": "code",
   "execution_count": 79,
   "metadata": {
    "collapsed": false,
    "scrolled": true
   },
   "outputs": [
    {
     "data": {
      "text/html": [
       "<div>\n",
       "<table border=\"1\" class=\"dataframe\">\n",
       "  <thead>\n",
       "    <tr style=\"text-align: right;\">\n",
       "      <th></th>\n",
       "      <th>PassengerId</th>\n",
       "      <th>Survived</th>\n",
       "      <th>Pclass</th>\n",
       "      <th>Name</th>\n",
       "      <th>Sex</th>\n",
       "      <th>Age</th>\n",
       "      <th>SibSp</th>\n",
       "      <th>Parch</th>\n",
       "      <th>Ticket</th>\n",
       "      <th>Fare</th>\n",
       "      <th>Cabin</th>\n",
       "      <th>Embarked</th>\n",
       "    </tr>\n",
       "  </thead>\n",
       "  <tbody>\n",
       "    <tr>\n",
       "      <th>0</th>\n",
       "      <td>1</td>\n",
       "      <td>0</td>\n",
       "      <td>3</td>\n",
       "      <td>Braund, Mr. Owen Harris</td>\n",
       "      <td>male</td>\n",
       "      <td>22</td>\n",
       "      <td>1</td>\n",
       "      <td>0</td>\n",
       "      <td>A/5 21171</td>\n",
       "      <td>7.25</td>\n",
       "      <td>NaN</td>\n",
       "      <td>S</td>\n",
       "    </tr>\n",
       "    <tr>\n",
       "      <th>1</th>\n",
       "      <td>2</td>\n",
       "      <td>1</td>\n",
       "      <td>1</td>\n",
       "      <td>Cumings, Mrs. John Bradley (Florence Briggs Th...</td>\n",
       "      <td>female</td>\n",
       "      <td>38</td>\n",
       "      <td>1</td>\n",
       "      <td>0</td>\n",
       "      <td>PC 17599</td>\n",
       "      <td>71.2833</td>\n",
       "      <td>C85</td>\n",
       "      <td>C</td>\n",
       "    </tr>\n",
       "    <tr>\n",
       "      <th>2</th>\n",
       "      <td>3</td>\n",
       "      <td>1</td>\n",
       "      <td>3</td>\n",
       "      <td>Heikkinen, Miss. Laina</td>\n",
       "      <td>female</td>\n",
       "      <td>26</td>\n",
       "      <td>0</td>\n",
       "      <td>0</td>\n",
       "      <td>STON/O2. 3101282</td>\n",
       "      <td>7.925</td>\n",
       "      <td>NaN</td>\n",
       "      <td>S</td>\n",
       "    </tr>\n",
       "    <tr>\n",
       "      <th>3</th>\n",
       "      <td>4</td>\n",
       "      <td>1</td>\n",
       "      <td>1</td>\n",
       "      <td>Futrelle, Mrs. Jacques Heath (Lily May Peel)</td>\n",
       "      <td>female</td>\n",
       "      <td>35</td>\n",
       "      <td>1</td>\n",
       "      <td>0</td>\n",
       "      <td>113803</td>\n",
       "      <td>53.1</td>\n",
       "      <td>C123</td>\n",
       "      <td>S</td>\n",
       "    </tr>\n",
       "    <tr>\n",
       "      <th>4</th>\n",
       "      <td>5</td>\n",
       "      <td>0</td>\n",
       "      <td>3</td>\n",
       "      <td>Allen, Mr. William Henry</td>\n",
       "      <td>male</td>\n",
       "      <td>35</td>\n",
       "      <td>0</td>\n",
       "      <td>0</td>\n",
       "      <td>373450</td>\n",
       "      <td>8.05</td>\n",
       "      <td>NaN</td>\n",
       "      <td>S</td>\n",
       "    </tr>\n",
       "    <tr>\n",
       "      <th>5</th>\n",
       "      <td>6</td>\n",
       "      <td>0</td>\n",
       "      <td>3</td>\n",
       "      <td>Moran, Mr. James</td>\n",
       "      <td>male</td>\n",
       "      <td>NaN</td>\n",
       "      <td>0</td>\n",
       "      <td>0</td>\n",
       "      <td>330877</td>\n",
       "      <td>8.4583</td>\n",
       "      <td>NaN</td>\n",
       "      <td>Q</td>\n",
       "    </tr>\n",
       "    <tr>\n",
       "      <th>6</th>\n",
       "      <td>7</td>\n",
       "      <td>0</td>\n",
       "      <td>1</td>\n",
       "      <td>McCarthy, Mr. Timothy J</td>\n",
       "      <td>male</td>\n",
       "      <td>54</td>\n",
       "      <td>0</td>\n",
       "      <td>0</td>\n",
       "      <td>17463</td>\n",
       "      <td>51.8625</td>\n",
       "      <td>E46</td>\n",
       "      <td>S</td>\n",
       "    </tr>\n",
       "    <tr>\n",
       "      <th>7</th>\n",
       "      <td>8</td>\n",
       "      <td>0</td>\n",
       "      <td>3</td>\n",
       "      <td>Palsson, Master. Gosta Leonard</td>\n",
       "      <td>male</td>\n",
       "      <td>2</td>\n",
       "      <td>3</td>\n",
       "      <td>1</td>\n",
       "      <td>349909</td>\n",
       "      <td>21.075</td>\n",
       "      <td>NaN</td>\n",
       "      <td>S</td>\n",
       "    </tr>\n",
       "    <tr>\n",
       "      <th>8</th>\n",
       "      <td>9</td>\n",
       "      <td>1</td>\n",
       "      <td>3</td>\n",
       "      <td>Johnson, Mrs. Oscar W (Elisabeth Vilhelmina Berg)</td>\n",
       "      <td>female</td>\n",
       "      <td>27</td>\n",
       "      <td>0</td>\n",
       "      <td>2</td>\n",
       "      <td>347742</td>\n",
       "      <td>11.1333</td>\n",
       "      <td>NaN</td>\n",
       "      <td>S</td>\n",
       "    </tr>\n",
       "    <tr>\n",
       "      <th>9</th>\n",
       "      <td>10</td>\n",
       "      <td>1</td>\n",
       "      <td>2</td>\n",
       "      <td>Nasser, Mrs. Nicholas (Adele Achem)</td>\n",
       "      <td>female</td>\n",
       "      <td>14</td>\n",
       "      <td>1</td>\n",
       "      <td>0</td>\n",
       "      <td>237736</td>\n",
       "      <td>30.0708</td>\n",
       "      <td>NaN</td>\n",
       "      <td>C</td>\n",
       "    </tr>\n",
       "  </tbody>\n",
       "</table>\n",
       "</div>"
      ],
      "text/plain": [
       "   PassengerId  Survived  Pclass  \\\n",
       "0            1         0       3   \n",
       "1            2         1       1   \n",
       "2            3         1       3   \n",
       "3            4         1       1   \n",
       "4            5         0       3   \n",
       "5            6         0       3   \n",
       "6            7         0       1   \n",
       "7            8         0       3   \n",
       "8            9         1       3   \n",
       "9           10         1       2   \n",
       "\n",
       "                                                Name     Sex  Age  SibSp  \\\n",
       "0                            Braund, Mr. Owen Harris    male   22      1   \n",
       "1  Cumings, Mrs. John Bradley (Florence Briggs Th...  female   38      1   \n",
       "2                             Heikkinen, Miss. Laina  female   26      0   \n",
       "3       Futrelle, Mrs. Jacques Heath (Lily May Peel)  female   35      1   \n",
       "4                           Allen, Mr. William Henry    male   35      0   \n",
       "5                                   Moran, Mr. James    male  NaN      0   \n",
       "6                            McCarthy, Mr. Timothy J    male   54      0   \n",
       "7                     Palsson, Master. Gosta Leonard    male    2      3   \n",
       "8  Johnson, Mrs. Oscar W (Elisabeth Vilhelmina Berg)  female   27      0   \n",
       "9                Nasser, Mrs. Nicholas (Adele Achem)  female   14      1   \n",
       "\n",
       "   Parch            Ticket     Fare Cabin Embarked  \n",
       "0      0         A/5 21171     7.25   NaN        S  \n",
       "1      0          PC 17599  71.2833   C85        C  \n",
       "2      0  STON/O2. 3101282    7.925   NaN        S  \n",
       "3      0            113803     53.1  C123        S  \n",
       "4      0            373450     8.05   NaN        S  \n",
       "5      0            330877   8.4583   NaN        Q  \n",
       "6      0             17463  51.8625   E46        S  \n",
       "7      1            349909   21.075   NaN        S  \n",
       "8      2            347742  11.1333   NaN        S  \n",
       "9      0            237736  30.0708   NaN        C  "
      ]
     },
     "execution_count": 79,
     "metadata": {},
     "output_type": "execute_result"
    }
   ],
   "source": [
    "data = pd.read_csv('C:\\\\Users\\\\Азат\\\\Desktop\\\\домашка по теорверу\\\\train.csv', sep=',', decimal=',')\n",
    "data[:10]"
   ]
  },
  {
   "cell_type": "markdown",
   "metadata": {},
   "source": [
    "survival = Survival\n",
    "                (0 = No; 1 = Yes)\n",
    "                \n",
    "pclass       =   Passenger Class\n",
    "                (1 = 1st; 2 = 2nd; 3 = 3rd)\n",
    "                \n",
    "name        =    Name\n",
    "\n",
    "sex          =   Sex\n",
    "\n",
    "age           =  Age\n",
    "\n",
    "sibsp          = Number of Siblings/Spouses Aboard\n",
    "\n",
    "parch           = Number of Parents/Children Aboard\n",
    "\n",
    "ticket      =    Ticket Number\n",
    "\n",
    "fare        =    Passenger Fare\n",
    "\n",
    "cabin       =    Cabin\n",
    "\n",
    "embarked   =     Port of Embarkation\n",
    "                (C = Cherbourg; Q = Queenstown; S = Southampton)\n",
    "\n",
    "SPECIAL NOTES:\n",
    "Pclass is a proxy for socio-economic status (SES)\n",
    " 1st ~ Upper; 2nd ~ Middle; 3rd ~ Lower"
   ]
  },
  {
   "cell_type": "code",
   "execution_count": 80,
   "metadata": {
    "collapsed": false
   },
   "outputs": [
    {
     "data": {
      "text/plain": [
       "PassengerId    891\n",
       "Survived       891\n",
       "Pclass         891\n",
       "Name           891\n",
       "Sex            891\n",
       "Age            714\n",
       "SibSp          891\n",
       "Parch          891\n",
       "Ticket         891\n",
       "Fare           891\n",
       "Cabin          204\n",
       "Embarked       889\n",
       "dtype: int64"
      ]
     },
     "execution_count": 80,
     "metadata": {},
     "output_type": "execute_result"
    }
   ],
   "source": [
    "data.count(axis=0)"
   ]
  },
  {
   "cell_type": "markdown",
   "metadata": {},
   "source": [
    "Видим, что пропущено достаточно много значений в столбце \"Возраст\" и \"Номер кабины\". В приниципе возраст пассажиров анализировать ещё можно, а вот столбцом \"Cabin\" лучше не пользоваться. "
   ]
  },
  {
   "cell_type": "markdown",
   "metadata": {},
   "source": [
    "#### График 1."
   ]
  },
  {
   "cell_type": "code",
   "execution_count": 88,
   "metadata": {
    "collapsed": false
   },
   "outputs": [
    {
     "data": {
      "text/plain": [
       "<matplotlib.text.Text at 0x18aa09380b8>"
      ]
     },
     "execution_count": 88,
     "metadata": {},
     "output_type": "execute_result"
    },
    {
     "data": {
      "text/plain": [
       "<matplotlib.figure.Figure at 0x18aa0913be0>"
      ]
     },
     "metadata": {},
     "output_type": "display_data"
    },
    {
     "data": {
      "image/png": "[encoded data removed]",
      "text/plain": [
       "<matplotlib.figure.Figure at 0x18aa08c52e8>"
      ]
     },
     "metadata": {},
     "output_type": "display_data"
    }
   ],
   "source": [
    "plt.figure(figsize=(15,10))\n",
    "data.pivot_table('PassengerId', ['Pclass'], 'Survived', 'count').plot(kind='bar', title='Why it is better to be rich')\n",
    "plt.grid(True, which='major', color='grey', linestyle='dashed', alpha=0.5)\n",
    "plt.xlabel('Pclass')\n",
    "plt.ylabel('Number of people')"
   ]
  },
  {
   "cell_type": "markdown",
   "metadata": {},
   "source": [
    "Как видим, среди выживших примерное одинаковое количество людей из всех классов. Но у пассажира первого класса отношение \"спасшиеся/погибшие\" куда выше чем у остальных."
   ]
  },
  {
   "cell_type": "markdown",
   "metadata": {},
   "source": [
    "#### График 2."
   ]
  },
  {
   "cell_type": "code",
   "execution_count": 184,
   "metadata": {
    "collapsed": false
   },
   "outputs": [
    {
     "data": {
      "text/plain": [
       "<matplotlib.figure.Figure at 0x18ac7179358>"
      ]
     },
     "metadata": {},
     "output_type": "display_data"
    },
    {
     "data": {
      "image/png": "[encoded data removed]",
      "text/plain": [
       "<matplotlib.figure.Figure at 0x18ac72b8c88>"
      ]
     },
     "metadata": {},
     "output_type": "display_data"
    }
   ],
   "source": [
    "plt.figure(figsize=(15,10))\n",
    "data.pivot_table('PassengerId', 'Sex', 'Survived', 'count').plot(kind='bar', stacked=True)\n",
    "plt.xlabel('Sex')\n",
    "plt.ylabel('Number of people')\n",
    "plt.grid(True, which='major', color='grey', linestyle='dashed', alpha=0.5)"
   ]
  },
  {
   "cell_type": "markdown",
   "metadata": {},
   "source": [
    "Сначала женщины и дети. Следствием применения этого принципа стало спасение 74% женщин и 52% детей, тогда как среди мужчин выжило лишь 20%."
   ]
  },
  {
   "cell_type": "markdown",
   "metadata": {},
   "source": [
    "#### График 3."
   ]
  },
  {
   "cell_type": "code",
   "execution_count": 172,
   "metadata": {
    "collapsed": false
   },
   "outputs": [
    {
     "data": {
      "text/plain": [
       "<matplotlib.text.Text at 0x18ac6b7fcc0>"
      ]
     },
     "execution_count": 172,
     "metadata": {},
     "output_type": "execute_result"
    },
    {
     "data": {
      "image/png": "[encoded data removed]",
      "text/plain": [
       "<matplotlib.figure.Figure at 0x18ac6b3f208>"
      ]
     },
     "metadata": {},
     "output_type": "display_data"
    }
   ],
   "source": [
    "data.pivot_table('PassengerId', ['SibSp'], 'Survived', 'count').plot(title='Relation between \"Survived\" and \"SibSp\"')\n",
    "plt.xlabel('Number of siblings and spouses aborad')\n",
    "plt.ylabel('Number of people')"
   ]
  },
  {
   "cell_type": "markdown",
   "metadata": {},
   "source": [
    "Если смотреть на выживших, то больше спасались \"одиночки\", то есть те, кто не имел родственников на корабле. Это и логично, ведь аморально покидать корабль, оставляя умирать своих близких. А со всеми родственниками занять целую шлюпку достаточно сложно."
   ]
  },
  {
   "cell_type": "markdown",
   "metadata": {},
   "source": [
    "#### График 4."
   ]
  },
  {
   "cell_type": "code",
   "execution_count": 176,
   "metadata": {
    "collapsed": false
   },
   "outputs": [
    {
     "data": {
      "text/plain": [
       "<matplotlib.text.Text at 0x18ac6ef70b8>"
      ]
     },
     "execution_count": 176,
     "metadata": {},
     "output_type": "execute_result"
    },
    {
     "data": {
      "image/png": "[encoded data removed]",
      "text/plain": [
       "<matplotlib.figure.Figure at 0x18ac6dafef0>"
      ]
     },
     "metadata": {},
     "output_type": "display_data"
    }
   ],
   "source": [
    "data.pivot_table('PassengerId', ['Parch'], 'Survived', 'count').plot(title='Relation between \"Parch\" and \"Survived\"')\n",
    "plt.xlabel('Number of parents and childrens aborad')\n",
    "plt.ylabel('Number of people')"
   ]
  },
  {
   "cell_type": "markdown",
   "metadata": {},
   "source": [
    "Опять же, предположение из \"Графика 3\" подтверждается. "
   ]
  },
  {
   "cell_type": "markdown",
   "metadata": {},
   "source": [
    "Извиняюсь, но я очень не дружу с графиками, поэтому имеет смысл закончить на этом пункте, чтобы не плодить одинаковые и бессмысленные  графики."
   ]
  },
  {
   "cell_type": "code",
   "execution_count": null,
   "metadata": {
    "collapsed": false
   },
   "outputs": [],
   "source": []
  },
  {
   "cell_type": "code",
   "execution_count": null,
   "metadata": {
    "collapsed": true
   },
   "outputs": [],
   "source": []
  }
 ],
 "metadata": {
  "kernelspec": {
   "display_name": "Python 3",
   "language": "python",
   "name": "python3"
  },
  "language_info": {
   "codemirror_mode": {
    "name": "ipython",
    "version": 3
   },
   "file_extension": ".py",
   "mimetype": "text/x-python",
   "name": "python",
   "nbconvert_exporter": "python",
   "pygments_lexer": "ipython3",
   "version": "3.5.1"
  }
 },
 "nbformat": 4,
 "nbformat_minor": 0
}
