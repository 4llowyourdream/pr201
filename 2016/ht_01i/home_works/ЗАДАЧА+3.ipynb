{
 "cells": [
  {
   "cell_type": "markdown",
   "metadata": {},
   "source": [
    "3 Задача.\n",
    "\n",
    "1)Пусть  $X$ это случайная величина, причём $\\{X=k\\}$ в двух случаях: \n",
    "\n",
    "1.В левом кармане $k$ спичек, а другой уже пуст\n",
    "\n",
    "или\n",
    "\n",
    "2.В правом кармане $k$ спичек а левый уже пуст.\n",
    "\n",
    "Первое событие происходит, если Банах уже взял с левого кармана $n-k$ спичек и $n$ спичек с правого кармана, и он собирается проверить количество спичек в правом кармане. Это значит, что он проверил оба его карманы всего $n-k+n=2n-k$ раз, из которых  $n-k$ находятся в левом, а $n$ в правом.\n",
    "\n",
    "Из биномиального распределения, эта вероятность равна:\n",
    "$$\n",
    "C_{2n-k}^{n}\\left(\\frac{1}{2}\\right)^{n-k}\\times \\left(\\frac{1}{2}\\right)^{n}\\cdot \\frac{1}{2}=C_{2n-k}^{n}\\left(\\frac{1}{2}\\right)^{2n-k+1}\n",
    "$$\n",
    "\n",
    "Второй случай рассматривается аналогично, если мы просто поменяем карманы местами, то есть, умножая полученную выше вероятность на 2, получаем:\n",
    "$$\n",
    "\\mathbb{P}(X=k)=2\\times C_{2n-k}^{n}\\left(\\frac{1}{2}\\right)^{2n-k+1}=C_{2n-k}^{n}\\left(\\frac{1}{2}\\right)^{2n-k}\n",
    "$$\n",
    "2)Среднее значение для биномиального распределения равно наиболее ожидаемому значению (в этом и есть суть проблемы, что наиболее вероятное и среднее (т.е. наиболее ожидаемое) значения абсолютно разные), то есть мат.ожиданию: $$E(x)=kp$$ Значит, для данного случая: $$E(x)=k\\times p=k\\times C_{2n-k}^{n}\\left(\\frac{1}{2}\\right)^{2n-k}$$"
   ]
  },
  {
   "cell_type": "code",
   "execution_count": null,
   "metadata": {
    "collapsed": false
   },
   "outputs": [],
   "source": [
    "\n"
   ]
  }
 ],
 "metadata": {
  "anaconda-cloud": {},
  "kernelspec": {
   "display_name": "Python [conda root]",
   "language": "python",
   "name": "conda-root-py"
  },
  "language_info": {
   "codemirror_mode": {
    "name": "ipython",
    "version": 3
   },
   "file_extension": ".py",
   "mimetype": "text/x-python",
   "name": "python",
   "nbconvert_exporter": "python",
   "pygments_lexer": "ipython3",
   "version": "3.5.2"
  }
 },
 "nbformat": 4,
 "nbformat_minor": 1
}
