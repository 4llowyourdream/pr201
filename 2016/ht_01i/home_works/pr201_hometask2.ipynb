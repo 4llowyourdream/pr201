{
 "cells": [
  {
   "cell_type": "markdown",
   "metadata": {},
   "source": [
    "*Продолжение домашнего задания*"
   ]
  },
  {
   "cell_type": "code",
   "execution_count": 1,
   "metadata": {
    "collapsed": true
   },
   "outputs": [],
   "source": [
    "import numpy as np\n",
    "import scipy.stats as stats\n",
    "import matplotlib.pyplot as plt\n",
    "import pandas as pd\n",
    "import seaborn as sns\n",
    "%matplotlib inline\n",
    "import matplotlib\n",
    "from pandas.tools.plotting import scatter_matrix\n",
    "from scipy import stats \n",
    "from scipy.stats import randint"
   ]
  },
  {
   "cell_type": "markdown",
   "metadata": {},
   "source": [
    "Второй пункт\n",
    "-----------\n",
    "Необходимо оценить $P(X_{1}+X_{2}+X_{3}>2)$ "
   ]
  },
  {
   "cell_type": "code",
   "execution_count": 2,
   "metadata": {
    "collapsed": false
   },
   "outputs": [
    {
     "data": {
      "text/plain": [
       "0.16652449999999999"
      ]
     },
     "execution_count": 2,
     "metadata": {},
     "output_type": "execute_result"
    }
   ],
   "source": [
    "X1 = stats.uniform(0,1)\n",
    "v1 = X1.rvs(10000000)\n",
    "X2 = stats.uniform(0,1)\n",
    "v2 = X2.rvs(10000000)\n",
    "X3 = stats.uniform(0,1)\n",
    "v3 = X3.rvs(10000000)\n",
    "Value = v1 + v2 + v3\n",
    "np.sum(Value>2)/(len(Value))"
   ]
  },
  {
   "cell_type": "markdown",
   "metadata": {},
   "source": [
    "*математическое ожидание $E(X^{5}_{1})$ :*"
   ]
  },
  {
   "cell_type": "code",
   "execution_count": 3,
   "metadata": {
    "collapsed": false
   },
   "outputs": [
    {
     "data": {
      "text/plain": [
       "0.16640780819390411"
      ]
     },
     "execution_count": 3,
     "metadata": {},
     "output_type": "execute_result"
    }
   ],
   "source": [
    "np.mean(v1**5)"
   ]
  },
  {
   "cell_type": "code",
   "execution_count": 4,
   "metadata": {
    "collapsed": false
   },
   "outputs": [
    {
     "name": "stdout",
     "output_type": "stream",
     "text": [
      "0.172246704713\n"
     ]
    }
   ],
   "source": [
    "Var1 = X1.var()\n",
    "EX2 = np.mean(v2 ** 2)\n",
    "EX4 = np.mean(v2 ** 4)\n",
    "Var2 = EX4 - (EX2*EX2)\n",
    "Var = Var1+Var2\n",
    "print(Var)"
   ]
  },
  {
   "cell_type": "markdown",
   "metadata": {},
   "source": [
    "*Дисперсия $Var(X_{1}+X^{2}_{2})$ *:\n",
    "$Var(X_{1}+X^{2}_{2}) = Var(X_{1})+Var(X^{2}_{2})+2Cov(X_{1},X^{2}_{2})$\n",
    "\n",
    "Здесь ковариация равна нулю ввиду независимости."
   ]
  },
  {
   "cell_type": "code",
   "execution_count": 5,
   "metadata": {
    "collapsed": false
   },
   "outputs": [
    {
     "name": "stdout",
     "output_type": "stream",
     "text": [
      "0.172246704713\n"
     ]
    }
   ],
   "source": [
    "Var1 = X1.var()\n",
    "EX2 = np.mean(v2 ** 2)\n",
    "EX4 = np.mean(v2 ** 4)\n",
    "Var2 = EX4 - (EX2*EX2)\n",
    "Var = Var1+Var2\n",
    "print(Var)"
   ]
  },
  {
   "cell_type": "code",
   "execution_count": 6,
   "metadata": {
    "collapsed": true
   },
   "outputs": [],
   "source": [
    "V = (v1+1)/(v2+3)\n",
    "k = np.percentile(V, 25) #нижний квартиль\n",
    "m = np.percentile(V, 50) #медиана"
   ]
  },
  {
   "cell_type": "markdown",
   "metadata": {},
   "source": [
    "*Квантиль:*"
   ]
  },
  {
   "cell_type": "code",
   "execution_count": 7,
   "metadata": {
    "collapsed": false
   },
   "outputs": [
    {
     "data": {
      "text/plain": [
       "0.35712017072599644"
      ]
     },
     "execution_count": 7,
     "metadata": {},
     "output_type": "execute_result"
    }
   ],
   "source": [
    "k\n"
   ]
  },
  {
   "cell_type": "markdown",
   "metadata": {},
   "source": [
    "*Медиана:*"
   ]
  },
  {
   "cell_type": "code",
   "execution_count": 8,
   "metadata": {
    "collapsed": false
   },
   "outputs": [
    {
     "data": {
      "text/plain": [
       "0.42849957331167732"
      ]
     },
     "execution_count": 8,
     "metadata": {},
     "output_type": "execute_result"
    }
   ],
   "source": [
    "m"
   ]
  },
  {
   "cell_type": "markdown",
   "metadata": {},
   "source": [
    "Задание 3\n",
    "---------"
   ]
  },
  {
   "cell_type": "markdown",
   "metadata": {},
   "source": [
    "*№ 10: Задача про злобного дракона и несчастных гномов*"
   ]
  },
  {
   "cell_type": "markdown",
   "metadata": {},
   "source": [
    "а)Присвоим белому колпаку значение 0, а черному 1. Первый гном смотрит на двух остальных и считает \"сумму\" их колпаков. Пусть по договоренности, если сумма четная, то гном произносит \"белый\", нечетная- \"черный\". Дракон воспринимает высказанное как догадку о цвете колпака первого гнома, хотя по сути оно таковым не является. У гнома нет данных, чтобы сделать вывод о цвете своего колпака. С вероятностью 0,5 гном либо угадал цвет своего колпака, сообщая сумму двум другим игрокам, и игра продолжается, либо не угадал и все будут съедены. Допустим, первый считает сумму, видит, что она нечетная, говорит дракону, что его колпак черный и случайным образом угадывает цвет своего колпака.\n",
    "Второй, зная сумму, которую назвал первый, смотрит на шапку третьего гнома и сравнивает \"значение\" колпака третьего гнома с названной ранее суммой. Если она не изменилась, то его колпак, очевидно, белый. Изменилась- черный. Из предположения второго третий наверняка знает, какого цвета на нем колпак.\n",
    "Таким образом, вероятность выигрыша сводится к вероятности того, что названная первым гномом \"сумма\" в действительности соответствует цвету его колпака.\n"
   ]
  },
  {
   "cell_type": "markdown",
   "metadata": {},
   "source": [
    "б) *(Сложное решение аналогичной задачи от Бориса Борисовича)*\n",
    " Итак, у нас есть счетное число гномов, которые увидели дракона. Эти гномы знают, что колпаки бывают двух цветов — черного и белого, поэтому последовательность из белых и черных колпаков (надетых на головы бедных гномов, конечно) является последовательностью абсолютно эквивалентной последовательности из нулей и единиц, рассмотренной в предыдущем пункте. Что же мешает нам посоветовать гномам заранее определить представительскую последовательность в каждом классе похожих (главную звезду в созвездии похожих звезд колпаков) и угадывать свой цвет, согласно ей?!\n",
    "Тогда каждый гном, видя цвета колпаков своих друзей, стоящих впереди, сможет определить класс, к которому принадлежит реальная последовательность колпаков (определенная драконом при раздаче колпаков). Так как эта последовательность “похожа” на выбранную гномами в качестве представительской, то она будет отличаться от нее на конечное число колпаков. Значит, гадая согласно выбранной последовательности, лишь конечное число гномов назовут свои цвета неправильно.\n"
   ]
  }
 ],
 "metadata": {
  "anaconda-cloud": {},
  "kernelspec": {
   "display_name": "Python [conda root]",
   "language": "python",
   "name": "conda-root-py"
  },
  "language_info": {
   "codemirror_mode": {
    "name": "ipython",
    "version": 3
   },
   "file_extension": ".py",
   "mimetype": "text/x-python",
   "name": "python",
   "nbconvert_exporter": "python",
   "pygments_lexer": "ipython3",
   "version": "3.5.2"
  }
 },
 "nbformat": 4,
 "nbformat_minor": 1
}
