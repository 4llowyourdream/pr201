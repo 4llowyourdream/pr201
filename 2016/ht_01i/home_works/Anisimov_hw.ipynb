{
 "cells": [
  {
   "cell_type": "markdown",
   "metadata": {},
   "source": [
    "# Домашняя работа"
   ]
  },
  {
   "cell_type": "code",
   "execution_count": 415,
   "metadata": {
    "collapsed": false
   },
   "outputs": [
    {
     "name": "stdout",
     "output_type": "stream",
     "text": [
      "Populating the interactive namespace from numpy and matplotlib\n"
     ]
    }
   ],
   "source": [
    "import scipy.stats as stats\n",
    "import csv as csv\n",
    "import numpy as np\n",
    "import pandas as pd\n",
    "import seaborn as sns\n",
    "import fnmatch\n",
    "import matplotlib.pyplot as plt\n",
    "import matplotlib.mlab as mlab\n",
    "%matplotlib inline\n",
    "import warnings\n",
    "warnings.simplefilter('ignore')\n",
    "%pylab inline"
   ]
  },
  {
   "cell_type": "markdown",
   "metadata": {},
   "source": [
    "# Задача 1"
   ]
  },
  {
   "cell_type": "markdown",
   "metadata": {},
   "source": [
    "$Глоссарий$  \n",
    "  \n",
    "ATP = Tournament number    \n",
    "Location = Venue of tournament  \n",
    "Tournament = Name of tounament (including sponsor if relevant)  \n",
    "Data = Date of match (note: prior to 2003 the date shown for all matches played in a single tournament is the start date)  \n",
    "Series = Name of ATP tennis series (Grand Slam, Masters, International or International Gold)  \n",
    "Court = Type of court (outdoors or indoors)  \n",
    "Surface = Type of surface (clay, hard, carpet or grass)  \n",
    "Round = Round of match   \n",
    "Best of = Maximum number of sets playable in match  \n",
    "Winner = Match winner  \n",
    "Loser = Match loser  \n",
    "WRank = ATP Entry ranking of the match winner as of the start of the tournament  \n",
    "LRank = ATP Entry ranking of the match loser as of the start of the tournament  \n",
    "WPts = ATP Entry points of the match winner as of the start of the tournament  \n",
    "LPts = ATP Entry points of the match loser as of the start of the tournament  \n",
    "W1 = Number of games won in 1st set by match winner  \n",
    "L1 = Number of games won in 1st set by match loser  \n",
    "W2 = Number of games won in 2nd set by match winner  \n",
    "L2 = Number of games won in 2nd set by match loser  \n",
    "W3 = Number of games won in 3rd set by match winner  \n",
    "L3 = Number of games won in 3rd set by match loser  \n",
    "W4 = Number of games won in 4th set by match winner  \n",
    "L4 = Number of games won in 4th set by match loser  \n",
    "W5 = Number of games won in 5th set by match winner  \n",
    "L5 = Number of games won in 5th set by match loser  \n",
    "Wsets = Number of sets won by match winner  \n",
    "Lsets = Number of sets won by match loser  \n",
    "Comment = Comment on the match (Completed, won through retirement of loser, or via Walkover)  \n",
    "  \n",
    "  \n",
    "Key to match betting odds data:  \n",
    "  \n",
    "B365W = Bet365 odds of match winner  \n",
    "B365L = Bet365 odds of match loser  \n",
    "B&WW = Bet&Win odds of match winner  \n",
    "B&WL = Bet&Win odds of match loser  \n",
    "CBW = Centrebet odds of match winner   \n",
    "CBL = Centrebet odds of match loser  \n",
    "EXW = Expekt odds of match winner  \n",
    "EXL = Expekt odds of match loser  \n",
    "LBW = Ladbrokes odds of match winner  \n",
    "LBL = Ladbrokes odds of match loser  \n",
    "GBW = Gamebookers odds of match winner  \n",
    "GBL = Gamebookers odds of match loser  \n",
    "IWW = Interwetten odds of match winner  \n",
    "IWL = Interwetten odds of match loser  \n",
    "PSW = Pinnacles Sports odds of match winner  \n",
    "PSL = Pinnacles Sports odds of match loser  \n",
    "SBW = Sportingbet odds of match winner  \n",
    "SBL = Sportingbet odds of match loser  \n",
    "SJW = Stan James odds of match winner  \n",
    "SJL = Stan James odds of match loser  \n",
    "UBW = Unibet odds of match winner  \n",
    "UBL = Unibet odds of match loser  \n",
    "  \n",
    "MaxW= Maximum odds of match winner (as shown by Oddsportal.com)  \n",
    "MaxL= Maximum odds of match loser (as shown by Oddsportal.com)  \n",
    "AvgW= Average odds of match winner (as shown by Oddsportal.com)  \n",
    "AvgL= Average odds of match loser (as shown by Oddsportal.com)  "
   ]
  },
  {
   "cell_type": "code",
   "execution_count": 416,
   "metadata": {
    "collapsed": false
   },
   "outputs": [],
   "source": [
    "tennis = pd.read_csv('/Users/Максим/Downloads/ausopen.csv') "
   ]
  },
  {
   "cell_type": "code",
   "execution_count": 417,
   "metadata": {
    "collapsed": false
   },
   "outputs": [
    {
     "name": "stdout",
     "output_type": "stream",
     "text": [
      "<class 'pandas.core.frame.DataFrame'>\n",
      "RangeIndex: 127 entries, 0 to 126\n",
      "Data columns (total 40 columns):\n",
      "ATP           127 non-null int64\n",
      "Location      127 non-null object\n",
      "Tournament    127 non-null object\n",
      "Date          127 non-null object\n",
      "Series        127 non-null object\n",
      "Court         127 non-null object\n",
      "Surface       127 non-null object\n",
      "Round         127 non-null object\n",
      "Best of       127 non-null int64\n",
      "Winner        127 non-null object\n",
      "Loser         127 non-null object\n",
      "WRank         127 non-null int64\n",
      "LRank         125 non-null float64\n",
      "WPts          127 non-null int64\n",
      "LPts          125 non-null float64\n",
      "W1            127 non-null int64\n",
      "L1            127 non-null int64\n",
      "W2            127 non-null int64\n",
      "L2            127 non-null int64\n",
      "W3            125 non-null float64\n",
      "L3            125 non-null float64\n",
      "W4            63 non-null float64\n",
      "L4            63 non-null float64\n",
      "W5            20 non-null float64\n",
      "L5            20 non-null float64\n",
      "Wsets         127 non-null int64\n",
      "Lsets         127 non-null int64\n",
      "Comment       127 non-null object\n",
      "B365W         127 non-null float64\n",
      "B365L         127 non-null float64\n",
      "EXW           127 non-null float64\n",
      "EXL           127 non-null float64\n",
      "LBW           127 non-null float64\n",
      "LBL           127 non-null float64\n",
      "PSW           127 non-null float64\n",
      "PSL           127 non-null float64\n",
      "MaxW          127 non-null float64\n",
      "MaxL          127 non-null float64\n",
      "AvgW          127 non-null float64\n",
      "AvgL          127 non-null float64\n",
      "dtypes: float64(20), int64(10), object(10)\n",
      "memory usage: 39.8+ KB\n"
     ]
    }
   ],
   "source": [
    "tennis.info()"
   ]
  },
  {
   "cell_type": "code",
   "execution_count": 418,
   "metadata": {
    "collapsed": false
   },
   "outputs": [
    {
     "data": {
      "text/plain": [
       "Index(['ATP', 'Location', 'Tournament', 'Date', 'Series', 'Court', 'Surface',\n",
       "       'Round', 'Best of', 'Winner', 'Loser', 'WRank', 'LRank', 'WPts', 'LPts',\n",
       "       'W1', 'L1', 'W2', 'L2', 'W3', 'L3', 'W4', 'L4', 'W5', 'L5', 'Wsets',\n",
       "       'Lsets', 'Comment', 'B365W', 'B365L', 'EXW', 'EXL', 'LBW', 'LBL', 'PSW',\n",
       "       'PSL', 'MaxW', 'MaxL', 'AvgW', 'AvgL'],\n",
       "      dtype='object')"
      ]
     },
     "execution_count": 418,
     "metadata": {},
     "output_type": "execute_result"
    }
   ],
   "source": [
    "tennis.columns"
   ]
  },
  {
   "cell_type": "code",
   "execution_count": 419,
   "metadata": {
    "collapsed": false
   },
   "outputs": [
    {
     "data": {
      "text/html": [
       "<div>\n",
       "<table border=\"1\" class=\"dataframe\">\n",
       "  <thead>\n",
       "    <tr style=\"text-align: right;\">\n",
       "      <th></th>\n",
       "      <th>ATP</th>\n",
       "      <th>Location</th>\n",
       "      <th>Tournament</th>\n",
       "      <th>Date</th>\n",
       "      <th>Series</th>\n",
       "      <th>Court</th>\n",
       "      <th>Surface</th>\n",
       "      <th>Round</th>\n",
       "      <th>Best of</th>\n",
       "      <th>Winner</th>\n",
       "      <th>...</th>\n",
       "      <th>EXW</th>\n",
       "      <th>EXL</th>\n",
       "      <th>LBW</th>\n",
       "      <th>LBL</th>\n",
       "      <th>PSW</th>\n",
       "      <th>PSL</th>\n",
       "      <th>MaxW</th>\n",
       "      <th>MaxL</th>\n",
       "      <th>AvgW</th>\n",
       "      <th>AvgL</th>\n",
       "    </tr>\n",
       "  </thead>\n",
       "  <tbody>\n",
       "    <tr>\n",
       "      <th>0</th>\n",
       "      <td>6</td>\n",
       "      <td>Melbourne</td>\n",
       "      <td>Australian Open</td>\n",
       "      <td>18/01/16</td>\n",
       "      <td>Grand Slam</td>\n",
       "      <td>Outdoor</td>\n",
       "      <td>Hard</td>\n",
       "      <td>1st Round</td>\n",
       "      <td>5</td>\n",
       "      <td>Basic M.</td>\n",
       "      <td>...</td>\n",
       "      <td>2.80</td>\n",
       "      <td>1.42</td>\n",
       "      <td>3.00</td>\n",
       "      <td>1.40</td>\n",
       "      <td>2.99</td>\n",
       "      <td>1.45</td>\n",
       "      <td>3.10</td>\n",
       "      <td>1.45</td>\n",
       "      <td>2.90</td>\n",
       "      <td>1.40</td>\n",
       "    </tr>\n",
       "    <tr>\n",
       "      <th>1</th>\n",
       "      <td>6</td>\n",
       "      <td>Melbourne</td>\n",
       "      <td>Australian Open</td>\n",
       "      <td>18/01/16</td>\n",
       "      <td>Grand Slam</td>\n",
       "      <td>Outdoor</td>\n",
       "      <td>Hard</td>\n",
       "      <td>1st Round</td>\n",
       "      <td>5</td>\n",
       "      <td>Goffin D.</td>\n",
       "      <td>...</td>\n",
       "      <td>1.11</td>\n",
       "      <td>5.75</td>\n",
       "      <td>1.12</td>\n",
       "      <td>6.00</td>\n",
       "      <td>1.16</td>\n",
       "      <td>6.10</td>\n",
       "      <td>1.16</td>\n",
       "      <td>7.00</td>\n",
       "      <td>1.13</td>\n",
       "      <td>5.86</td>\n",
       "    </tr>\n",
       "    <tr>\n",
       "      <th>2</th>\n",
       "      <td>6</td>\n",
       "      <td>Melbourne</td>\n",
       "      <td>Australian Open</td>\n",
       "      <td>18/01/16</td>\n",
       "      <td>Grand Slam</td>\n",
       "      <td>Outdoor</td>\n",
       "      <td>Hard</td>\n",
       "      <td>1st Round</td>\n",
       "      <td>5</td>\n",
       "      <td>Dzumhur D.</td>\n",
       "      <td>...</td>\n",
       "      <td>3.75</td>\n",
       "      <td>1.25</td>\n",
       "      <td>3.75</td>\n",
       "      <td>1.29</td>\n",
       "      <td>3.69</td>\n",
       "      <td>1.33</td>\n",
       "      <td>3.90</td>\n",
       "      <td>1.33</td>\n",
       "      <td>3.62</td>\n",
       "      <td>1.28</td>\n",
       "    </tr>\n",
       "    <tr>\n",
       "      <th>3</th>\n",
       "      <td>6</td>\n",
       "      <td>Melbourne</td>\n",
       "      <td>Australian Open</td>\n",
       "      <td>18/01/16</td>\n",
       "      <td>Grand Slam</td>\n",
       "      <td>Outdoor</td>\n",
       "      <td>Hard</td>\n",
       "      <td>1st Round</td>\n",
       "      <td>5</td>\n",
       "      <td>Brands D.</td>\n",
       "      <td>...</td>\n",
       "      <td>1.38</td>\n",
       "      <td>3.00</td>\n",
       "      <td>1.40</td>\n",
       "      <td>3.00</td>\n",
       "      <td>1.37</td>\n",
       "      <td>3.39</td>\n",
       "      <td>1.45</td>\n",
       "      <td>3.39</td>\n",
       "      <td>1.38</td>\n",
       "      <td>3.03</td>\n",
       "    </tr>\n",
       "    <tr>\n",
       "      <th>4</th>\n",
       "      <td>6</td>\n",
       "      <td>Melbourne</td>\n",
       "      <td>Australian Open</td>\n",
       "      <td>18/01/16</td>\n",
       "      <td>Grand Slam</td>\n",
       "      <td>Outdoor</td>\n",
       "      <td>Hard</td>\n",
       "      <td>1st Round</td>\n",
       "      <td>5</td>\n",
       "      <td>Nishikori K.</td>\n",
       "      <td>...</td>\n",
       "      <td>1.22</td>\n",
       "      <td>4.00</td>\n",
       "      <td>1.22</td>\n",
       "      <td>4.33</td>\n",
       "      <td>1.27</td>\n",
       "      <td>4.22</td>\n",
       "      <td>1.27</td>\n",
       "      <td>4.50</td>\n",
       "      <td>1.23</td>\n",
       "      <td>4.15</td>\n",
       "    </tr>\n",
       "  </tbody>\n",
       "</table>\n",
       "<p>5 rows × 40 columns</p>\n",
       "</div>"
      ],
      "text/plain": [
       "   ATP   Location       Tournament      Date      Series    Court Surface  \\\n",
       "0    6  Melbourne  Australian Open  18/01/16  Grand Slam  Outdoor    Hard   \n",
       "1    6  Melbourne  Australian Open  18/01/16  Grand Slam  Outdoor    Hard   \n",
       "2    6  Melbourne  Australian Open  18/01/16  Grand Slam  Outdoor    Hard   \n",
       "3    6  Melbourne  Australian Open  18/01/16  Grand Slam  Outdoor    Hard   \n",
       "4    6  Melbourne  Australian Open  18/01/16  Grand Slam  Outdoor    Hard   \n",
       "\n",
       "       Round  Best of        Winner  ...    EXW   EXL   LBW   LBL   PSW   PSL  \\\n",
       "0  1st Round        5      Basic M.  ...   2.80  1.42  3.00  1.40  2.99  1.45   \n",
       "1  1st Round        5     Goffin D.  ...   1.11  5.75  1.12  6.00  1.16  6.10   \n",
       "2  1st Round        5    Dzumhur D.  ...   3.75  1.25  3.75  1.29  3.69  1.33   \n",
       "3  1st Round        5     Brands D.  ...   1.38  3.00  1.40  3.00  1.37  3.39   \n",
       "4  1st Round        5  Nishikori K.  ...   1.22  4.00  1.22  4.33  1.27  4.22   \n",
       "\n",
       "   MaxW  MaxL  AvgW  AvgL  \n",
       "0  3.10  1.45  2.90  1.40  \n",
       "1  1.16  7.00  1.13  5.86  \n",
       "2  3.90  1.33  3.62  1.28  \n",
       "3  1.45  3.39  1.38  3.03  \n",
       "4  1.27  4.50  1.23  4.15  \n",
       "\n",
       "[5 rows x 40 columns]"
      ]
     },
     "execution_count": 419,
     "metadata": {},
     "output_type": "execute_result"
    }
   ],
   "source": [
    "tennis.head(5)"
   ]
  },
  {
   "cell_type": "code",
   "execution_count": 420,
   "metadata": {
    "collapsed": false,
    "scrolled": true
   },
   "outputs": [
    {
     "data": {
      "text/html": [
       "<div>\n",
       "<table border=\"1\" class=\"dataframe\">\n",
       "  <thead>\n",
       "    <tr style=\"text-align: right;\">\n",
       "      <th></th>\n",
       "      <th>ATP</th>\n",
       "      <th>Location</th>\n",
       "      <th>Tournament</th>\n",
       "      <th>Date</th>\n",
       "      <th>Series</th>\n",
       "      <th>Court</th>\n",
       "      <th>Surface</th>\n",
       "      <th>Round</th>\n",
       "      <th>Best of</th>\n",
       "      <th>Winner</th>\n",
       "      <th>...</th>\n",
       "      <th>EXW</th>\n",
       "      <th>EXL</th>\n",
       "      <th>LBW</th>\n",
       "      <th>LBL</th>\n",
       "      <th>PSW</th>\n",
       "      <th>PSL</th>\n",
       "      <th>MaxW</th>\n",
       "      <th>MaxL</th>\n",
       "      <th>AvgW</th>\n",
       "      <th>AvgL</th>\n",
       "    </tr>\n",
       "  </thead>\n",
       "  <tbody>\n",
       "    <tr>\n",
       "      <th>124</th>\n",
       "      <td>6</td>\n",
       "      <td>Melbourne</td>\n",
       "      <td>Australian Open</td>\n",
       "      <td>28/01/16</td>\n",
       "      <td>Grand Slam</td>\n",
       "      <td>Outdoor</td>\n",
       "      <td>Hard</td>\n",
       "      <td>Semifinals</td>\n",
       "      <td>5</td>\n",
       "      <td>Djokovic N.</td>\n",
       "      <td>...</td>\n",
       "      <td>1.33</td>\n",
       "      <td>3.1</td>\n",
       "      <td>1.30</td>\n",
       "      <td>3.5</td>\n",
       "      <td>1.36</td>\n",
       "      <td>3.60</td>\n",
       "      <td>1.40</td>\n",
       "      <td>3.75</td>\n",
       "      <td>1.32</td>\n",
       "      <td>3.41</td>\n",
       "    </tr>\n",
       "    <tr>\n",
       "      <th>125</th>\n",
       "      <td>6</td>\n",
       "      <td>Melbourne</td>\n",
       "      <td>Australian Open</td>\n",
       "      <td>29/01/16</td>\n",
       "      <td>Grand Slam</td>\n",
       "      <td>Outdoor</td>\n",
       "      <td>Hard</td>\n",
       "      <td>Semifinals</td>\n",
       "      <td>5</td>\n",
       "      <td>Murray A.</td>\n",
       "      <td>...</td>\n",
       "      <td>1.38</td>\n",
       "      <td>3.0</td>\n",
       "      <td>1.33</td>\n",
       "      <td>3.4</td>\n",
       "      <td>1.40</td>\n",
       "      <td>3.35</td>\n",
       "      <td>1.41</td>\n",
       "      <td>3.50</td>\n",
       "      <td>1.36</td>\n",
       "      <td>3.19</td>\n",
       "    </tr>\n",
       "    <tr>\n",
       "      <th>126</th>\n",
       "      <td>6</td>\n",
       "      <td>Melbourne</td>\n",
       "      <td>Australian Open</td>\n",
       "      <td>31/01/16</td>\n",
       "      <td>Grand Slam</td>\n",
       "      <td>Outdoor</td>\n",
       "      <td>Hard</td>\n",
       "      <td>The Final</td>\n",
       "      <td>5</td>\n",
       "      <td>Djokovic N.</td>\n",
       "      <td>...</td>\n",
       "      <td>1.20</td>\n",
       "      <td>4.4</td>\n",
       "      <td>1.20</td>\n",
       "      <td>5.0</td>\n",
       "      <td>1.21</td>\n",
       "      <td>5.38</td>\n",
       "      <td>1.22</td>\n",
       "      <td>5.50</td>\n",
       "      <td>1.19</td>\n",
       "      <td>4.92</td>\n",
       "    </tr>\n",
       "  </tbody>\n",
       "</table>\n",
       "<p>3 rows × 40 columns</p>\n",
       "</div>"
      ],
      "text/plain": [
       "     ATP   Location       Tournament      Date      Series    Court Surface  \\\n",
       "124    6  Melbourne  Australian Open  28/01/16  Grand Slam  Outdoor    Hard   \n",
       "125    6  Melbourne  Australian Open  29/01/16  Grand Slam  Outdoor    Hard   \n",
       "126    6  Melbourne  Australian Open  31/01/16  Grand Slam  Outdoor    Hard   \n",
       "\n",
       "          Round  Best of       Winner  ...    EXW  EXL   LBW  LBL   PSW   PSL  \\\n",
       "124  Semifinals        5  Djokovic N.  ...   1.33  3.1  1.30  3.5  1.36  3.60   \n",
       "125  Semifinals        5    Murray A.  ...   1.38  3.0  1.33  3.4  1.40  3.35   \n",
       "126   The Final        5  Djokovic N.  ...   1.20  4.4  1.20  5.0  1.21  5.38   \n",
       "\n",
       "     MaxW  MaxL  AvgW  AvgL  \n",
       "124  1.40  3.75  1.32  3.41  \n",
       "125  1.41  3.50  1.36  3.19  \n",
       "126  1.22  5.50  1.19  4.92  \n",
       "\n",
       "[3 rows x 40 columns]"
      ]
     },
     "execution_count": 420,
     "metadata": {},
     "output_type": "execute_result"
    }
   ],
   "source": [
    "tennis.tail(3)"
   ]
  },
  {
   "cell_type": "code",
   "execution_count": 421,
   "metadata": {
    "collapsed": false
   },
   "outputs": [
    {
     "data": {
      "text/html": [
       "<div>\n",
       "<table border=\"1\" class=\"dataframe\">\n",
       "  <thead>\n",
       "    <tr style=\"text-align: right;\">\n",
       "      <th></th>\n",
       "      <th>ATP</th>\n",
       "      <th>Best of</th>\n",
       "      <th>WRank</th>\n",
       "      <th>LRank</th>\n",
       "      <th>WPts</th>\n",
       "      <th>LPts</th>\n",
       "      <th>W1</th>\n",
       "      <th>L1</th>\n",
       "      <th>W2</th>\n",
       "      <th>L2</th>\n",
       "      <th>...</th>\n",
       "      <th>EXW</th>\n",
       "      <th>EXL</th>\n",
       "      <th>LBW</th>\n",
       "      <th>LBL</th>\n",
       "      <th>PSW</th>\n",
       "      <th>PSL</th>\n",
       "      <th>MaxW</th>\n",
       "      <th>MaxL</th>\n",
       "      <th>AvgW</th>\n",
       "      <th>AvgL</th>\n",
       "    </tr>\n",
       "  </thead>\n",
       "  <tbody>\n",
       "    <tr>\n",
       "      <th>count</th>\n",
       "      <td>127.0</td>\n",
       "      <td>127.0</td>\n",
       "      <td>127.000000</td>\n",
       "      <td>125.000000</td>\n",
       "      <td>127.000000</td>\n",
       "      <td>125.000000</td>\n",
       "      <td>127.000000</td>\n",
       "      <td>127.000000</td>\n",
       "      <td>127.000000</td>\n",
       "      <td>127.000000</td>\n",
       "      <td>...</td>\n",
       "      <td>127.000000</td>\n",
       "      <td>127.000000</td>\n",
       "      <td>127.000000</td>\n",
       "      <td>127.000000</td>\n",
       "      <td>127.000000</td>\n",
       "      <td>127.000000</td>\n",
       "      <td>127.000000</td>\n",
       "      <td>127.000000</td>\n",
       "      <td>127.000000</td>\n",
       "      <td>127.000000</td>\n",
       "    </tr>\n",
       "    <tr>\n",
       "      <th>mean</th>\n",
       "      <td>6.0</td>\n",
       "      <td>5.0</td>\n",
       "      <td>48.204724</td>\n",
       "      <td>84.504000</td>\n",
       "      <td>3150.519685</td>\n",
       "      <td>1150.536000</td>\n",
       "      <td>5.952756</td>\n",
       "      <td>3.952756</td>\n",
       "      <td>5.606299</td>\n",
       "      <td>4.354331</td>\n",
       "      <td>...</td>\n",
       "      <td>1.691181</td>\n",
       "      <td>5.070866</td>\n",
       "      <td>1.737244</td>\n",
       "      <td>5.843228</td>\n",
       "      <td>1.810394</td>\n",
       "      <td>7.622992</td>\n",
       "      <td>1.867559</td>\n",
       "      <td>8.281811</td>\n",
       "      <td>1.727087</td>\n",
       "      <td>5.743622</td>\n",
       "    </tr>\n",
       "    <tr>\n",
       "      <th>std</th>\n",
       "      <td>0.0</td>\n",
       "      <td>0.0</td>\n",
       "      <td>65.211176</td>\n",
       "      <td>85.353121</td>\n",
       "      <td>4062.561185</td>\n",
       "      <td>1367.862263</td>\n",
       "      <td>1.014641</td>\n",
       "      <td>1.807648</td>\n",
       "      <td>1.464704</td>\n",
       "      <td>1.875183</td>\n",
       "      <td>...</td>\n",
       "      <td>1.227343</td>\n",
       "      <td>4.294717</td>\n",
       "      <td>1.349790</td>\n",
       "      <td>6.044750</td>\n",
       "      <td>1.600700</td>\n",
       "      <td>10.798846</td>\n",
       "      <td>1.744209</td>\n",
       "      <td>12.231749</td>\n",
       "      <td>1.366058</td>\n",
       "      <td>5.498085</td>\n",
       "    </tr>\n",
       "    <tr>\n",
       "      <th>min</th>\n",
       "      <td>6.0</td>\n",
       "      <td>5.0</td>\n",
       "      <td>1.000000</td>\n",
       "      <td>2.000000</td>\n",
       "      <td>146.000000</td>\n",
       "      <td>38.000000</td>\n",
       "      <td>1.000000</td>\n",
       "      <td>0.000000</td>\n",
       "      <td>0.000000</td>\n",
       "      <td>0.000000</td>\n",
       "      <td>...</td>\n",
       "      <td>1.000000</td>\n",
       "      <td>1.070000</td>\n",
       "      <td>1.000000</td>\n",
       "      <td>1.070000</td>\n",
       "      <td>1.000000</td>\n",
       "      <td>1.080000</td>\n",
       "      <td>1.010000</td>\n",
       "      <td>1.080000</td>\n",
       "      <td>1.010000</td>\n",
       "      <td>1.060000</td>\n",
       "    </tr>\n",
       "    <tr>\n",
       "      <th>25%</th>\n",
       "      <td>6.0</td>\n",
       "      <td>5.0</td>\n",
       "      <td>8.000000</td>\n",
       "      <td>NaN</td>\n",
       "      <td>756.000000</td>\n",
       "      <td>NaN</td>\n",
       "      <td>6.000000</td>\n",
       "      <td>3.000000</td>\n",
       "      <td>6.000000</td>\n",
       "      <td>3.000000</td>\n",
       "      <td>...</td>\n",
       "      <td>1.105000</td>\n",
       "      <td>2.450000</td>\n",
       "      <td>1.105000</td>\n",
       "      <td>2.440000</td>\n",
       "      <td>1.110000</td>\n",
       "      <td>2.535000</td>\n",
       "      <td>1.130000</td>\n",
       "      <td>2.590000</td>\n",
       "      <td>1.100000</td>\n",
       "      <td>2.420000</td>\n",
       "    </tr>\n",
       "    <tr>\n",
       "      <th>50%</th>\n",
       "      <td>6.0</td>\n",
       "      <td>5.0</td>\n",
       "      <td>25.000000</td>\n",
       "      <td>NaN</td>\n",
       "      <td>1485.000000</td>\n",
       "      <td>NaN</td>\n",
       "      <td>6.000000</td>\n",
       "      <td>4.000000</td>\n",
       "      <td>6.000000</td>\n",
       "      <td>4.000000</td>\n",
       "      <td>...</td>\n",
       "      <td>1.250000</td>\n",
       "      <td>3.500000</td>\n",
       "      <td>1.290000</td>\n",
       "      <td>3.750000</td>\n",
       "      <td>1.310000</td>\n",
       "      <td>3.840000</td>\n",
       "      <td>1.310000</td>\n",
       "      <td>4.100000</td>\n",
       "      <td>1.270000</td>\n",
       "      <td>3.680000</td>\n",
       "    </tr>\n",
       "    <tr>\n",
       "      <th>75%</th>\n",
       "      <td>6.0</td>\n",
       "      <td>5.0</td>\n",
       "      <td>65.500000</td>\n",
       "      <td>NaN</td>\n",
       "      <td>4145.000000</td>\n",
       "      <td>NaN</td>\n",
       "      <td>6.000000</td>\n",
       "      <td>6.000000</td>\n",
       "      <td>6.000000</td>\n",
       "      <td>6.000000</td>\n",
       "      <td>...</td>\n",
       "      <td>1.510000</td>\n",
       "      <td>6.000000</td>\n",
       "      <td>1.550000</td>\n",
       "      <td>6.750000</td>\n",
       "      <td>1.585000</td>\n",
       "      <td>8.090000</td>\n",
       "      <td>1.630000</td>\n",
       "      <td>8.135000</td>\n",
       "      <td>1.555000</td>\n",
       "      <td>6.935000</td>\n",
       "    </tr>\n",
       "    <tr>\n",
       "      <th>max</th>\n",
       "      <td>6.0</td>\n",
       "      <td>5.0</td>\n",
       "      <td>328.000000</td>\n",
       "      <td>696.000000</td>\n",
       "      <td>16790.000000</td>\n",
       "      <td>8945.000000</td>\n",
       "      <td>7.000000</td>\n",
       "      <td>7.000000</td>\n",
       "      <td>7.000000</td>\n",
       "      <td>7.000000</td>\n",
       "      <td>...</td>\n",
       "      <td>8.000000</td>\n",
       "      <td>28.000000</td>\n",
       "      <td>8.500000</td>\n",
       "      <td>34.000000</td>\n",
       "      <td>10.440000</td>\n",
       "      <td>81.000000</td>\n",
       "      <td>13.000000</td>\n",
       "      <td>91.000000</td>\n",
       "      <td>8.920000</td>\n",
       "      <td>32.550000</td>\n",
       "    </tr>\n",
       "  </tbody>\n",
       "</table>\n",
       "<p>8 rows × 30 columns</p>\n",
       "</div>"
      ],
      "text/plain": [
       "         ATP  Best of       WRank       LRank          WPts         LPts  \\\n",
       "count  127.0    127.0  127.000000  125.000000    127.000000   125.000000   \n",
       "mean     6.0      5.0   48.204724   84.504000   3150.519685  1150.536000   \n",
       "std      0.0      0.0   65.211176   85.353121   4062.561185  1367.862263   \n",
       "min      6.0      5.0    1.000000    2.000000    146.000000    38.000000   \n",
       "25%      6.0      5.0    8.000000         NaN    756.000000          NaN   \n",
       "50%      6.0      5.0   25.000000         NaN   1485.000000          NaN   \n",
       "75%      6.0      5.0   65.500000         NaN   4145.000000          NaN   \n",
       "max      6.0      5.0  328.000000  696.000000  16790.000000  8945.000000   \n",
       "\n",
       "               W1          L1          W2          L2     ...             EXW  \\\n",
       "count  127.000000  127.000000  127.000000  127.000000     ...      127.000000   \n",
       "mean     5.952756    3.952756    5.606299    4.354331     ...        1.691181   \n",
       "std      1.014641    1.807648    1.464704    1.875183     ...        1.227343   \n",
       "min      1.000000    0.000000    0.000000    0.000000     ...        1.000000   \n",
       "25%      6.000000    3.000000    6.000000    3.000000     ...        1.105000   \n",
       "50%      6.000000    4.000000    6.000000    4.000000     ...        1.250000   \n",
       "75%      6.000000    6.000000    6.000000    6.000000     ...        1.510000   \n",
       "max      7.000000    7.000000    7.000000    7.000000     ...        8.000000   \n",
       "\n",
       "              EXL         LBW         LBL         PSW         PSL        MaxW  \\\n",
       "count  127.000000  127.000000  127.000000  127.000000  127.000000  127.000000   \n",
       "mean     5.070866    1.737244    5.843228    1.810394    7.622992    1.867559   \n",
       "std      4.294717    1.349790    6.044750    1.600700   10.798846    1.744209   \n",
       "min      1.070000    1.000000    1.070000    1.000000    1.080000    1.010000   \n",
       "25%      2.450000    1.105000    2.440000    1.110000    2.535000    1.130000   \n",
       "50%      3.500000    1.290000    3.750000    1.310000    3.840000    1.310000   \n",
       "75%      6.000000    1.550000    6.750000    1.585000    8.090000    1.630000   \n",
       "max     28.000000    8.500000   34.000000   10.440000   81.000000   13.000000   \n",
       "\n",
       "             MaxL        AvgW        AvgL  \n",
       "count  127.000000  127.000000  127.000000  \n",
       "mean     8.281811    1.727087    5.743622  \n",
       "std     12.231749    1.366058    5.498085  \n",
       "min      1.080000    1.010000    1.060000  \n",
       "25%      2.590000    1.100000    2.420000  \n",
       "50%      4.100000    1.270000    3.680000  \n",
       "75%      8.135000    1.555000    6.935000  \n",
       "max     91.000000    8.920000   32.550000  \n",
       "\n",
       "[8 rows x 30 columns]"
      ]
     },
     "execution_count": 421,
     "metadata": {},
     "output_type": "execute_result"
    }
   ],
   "source": [
    "tennis.describe()"
   ]
  },
  {
   "cell_type": "code",
   "execution_count": 422,
   "metadata": {
    "collapsed": false
   },
   "outputs": [
    {
     "data": {
      "text/plain": [
       "<seaborn.axisgrid.PairGrid at 0x19b2f5d5eb8>"
      ]
     },
     "execution_count": 422,
     "metadata": {},
     "output_type": "execute_result"
    },
    {
     "data": {
      "image/png": "[encoded data removed]",
      "text/plain": [
       "<matplotlib.figure.Figure at 0x19b2f5d5f60>"
      ]
     },
     "metadata": {},
     "output_type": "display_data"
    }
   ],
   "source": [
    "sns.pairplot(tennis[['B365L', 'PSL']])"
   ]
  },
  {
   "cell_type": "markdown",
   "metadata": {},
   "source": [
    "Сравнение ставок на проигравшего матч букмекерских компаний Bet365 и  Pinnacles Sports"
   ]
  },
  {
   "cell_type": "code",
   "execution_count": 423,
   "metadata": {
    "collapsed": false
   },
   "outputs": [
    {
     "data": {
      "text/plain": [
       "<matplotlib.axes._subplots.AxesSubplot at 0x19b2f78edd8>"
      ]
     },
     "execution_count": 423,
     "metadata": {},
     "output_type": "execute_result"
    },
    {
     "data": {
      "image/png": "[encoded data removed]",
      "text/plain": [
       "<matplotlib.figure.Figure at 0x19b2f82fcc0>"
      ]
     },
     "metadata": {},
     "output_type": "display_data"
    }
   ],
   "source": [
    "sns.distplot(tennis.W1, color = 'green', axlabel = 'Quantity of games won in the first set by a match winner')"
   ]
  },
  {
   "cell_type": "markdown",
   "metadata": {},
   "source": [
    " График показывает распределение количества выигранных геймов в первом сете победителем матча. При выигрыше 6 и 7 геймов игрок почти наверняка выиграл сет."
   ]
  },
  {
   "cell_type": "code",
   "execution_count": null,
   "metadata": {
    "collapsed": false
   },
   "outputs": [],
   "source": []
  },
  {
   "cell_type": "code",
   "execution_count": 424,
   "metadata": {
    "collapsed": false
   },
   "outputs": [
    {
     "data": {
      "text/plain": [
       "<matplotlib.axes._subplots.AxesSubplot at 0x19b2f84d400>"
      ]
     },
     "execution_count": 424,
     "metadata": {},
     "output_type": "execute_result"
    },
    {
     "data": {
      "image/png": "[encoded data removed]",
      "text/plain": [
       "<matplotlib.figure.Figure at 0x19b2f8aa550>"
      ]
     },
     "metadata": {},
     "output_type": "display_data"
    }
   ],
   "source": [
    "sns.distplot(tennis.W2, color = '#4CB100', axlabel = 'Quantity of sets won in the second set by a match winner')"
   ]
  },
  {
   "cell_type": "markdown",
   "metadata": {},
   "source": [
    " График показывает распределение количества выигранных геймов во втором сете."
   ]
  },
  {
   "cell_type": "code",
   "execution_count": 425,
   "metadata": {
    "collapsed": false
   },
   "outputs": [
    {
     "data": {
      "text/plain": [
       "<seaborn.axisgrid.JointGrid at 0x19b2f93f080>"
      ]
     },
     "execution_count": 425,
     "metadata": {},
     "output_type": "execute_result"
    },
    {
     "data": {
      "image/png": "[encoded data removed]",
      "text/plain": [
       "<matplotlib.figure.Figure at 0x19b2f93fcc0>"
      ]
     },
     "metadata": {},
     "output_type": "display_data"
    }
   ],
   "source": [
    "sns.jointplot(x = tennis.WRank, y = tennis.W1, kind=\"hex\", color=\"#4CB391\")"
   ]
  },
  {
   "cell_type": "markdown",
   "metadata": {},
   "source": [
    "График показывает распределение выигранных первых сетов в зависимости от места в мировом рейтинге теннисистов (чем темнее цвет, тем больше концентрация). Видно, что чем выше ранг теннисиста (WRank), тем больше вероятность для него выиграть первый сет (выиграть 6 или 7 геймов за сет).\n"
   ]
  },
  {
   "cell_type": "code",
   "execution_count": 426,
   "metadata": {
    "collapsed": false
   },
   "outputs": [
    {
     "data": {
      "text/plain": [
       "<matplotlib.axes._subplots.AxesSubplot at 0x19b2fa5ac50>"
      ]
     },
     "execution_count": 426,
     "metadata": {},
     "output_type": "execute_result"
    },
    {
     "data": {
      "image/png": "[encoded data removed]",
      "text/plain": [
       "<matplotlib.figure.Figure at 0x19b2f94f978>"
      ]
     },
     "metadata": {},
     "output_type": "display_data"
    }
   ],
   "source": [
    "sns.regplot(x= 'AvgL', y = 'Lsets', data = tennis, color= \"black\", fit_reg = False)"
   ]
  },
  {
   "cell_type": "markdown",
   "metadata": {},
   "source": [
    "Ниже рассмотрены два параметра для проигравшего в теннисном матче: количество выигранных им сетов и средняя ставка на него. Как мы можем увидеть, чем меньше коэффициент на игрока, тем больше сетов он выиграл (хоть и проиграл."
   ]
  },
  {
   "cell_type": "code",
   "execution_count": 427,
   "metadata": {
    "collapsed": false
   },
   "outputs": [
    {
     "data": {
      "text/plain": [
       "<matplotlib.axes._subplots.AxesSubplot at 0x19b2faea2e8>"
      ]
     },
     "execution_count": 427,
     "metadata": {},
     "output_type": "execute_result"
    },
    {
     "data": {
      "image/png": "[encoded data removed]",
      "text/plain": [
       "<matplotlib.figure.Figure at 0x19b2f94f668>"
      ]
     },
     "metadata": {},
     "output_type": "display_data"
    }
   ],
   "source": [
    "sns.distplot(tennis.AvgW)"
   ]
  },
  {
   "cell_type": "markdown",
   "metadata": {},
   "source": [
    "Функция плотности среднего коэффициента на победу выигрывшего игрока."
   ]
  },
  {
   "cell_type": "code",
   "execution_count": 428,
   "metadata": {
    "collapsed": false
   },
   "outputs": [
    {
     "data": {
      "text/plain": [
       "<matplotlib.text.Text at 0x19b30bde0b8>"
      ]
     },
     "execution_count": 428,
     "metadata": {},
     "output_type": "execute_result"
    },
    {
     "data": {
      "image/png": "[encoded data removed]",
      "text/plain": [
       "<matplotlib.figure.Figure at 0x19b30be50b8>"
      ]
     },
     "metadata": {},
     "output_type": "display_data"
    }
   ],
   "source": [
    "plt.hist(tennis.AvgL, 10)\n",
    "plt.hist(tennis.AvgW, 10)\n",
    "plt.title('Comparison between AvgW (green) and AvL (blue)')\n",
    "plt.ylabel('Frequency')\n",
    "plt.xlabel('Odd')\n"
   ]
  },
  {
   "cell_type": "markdown",
   "metadata": {},
   "source": [
    "А здесь уже сравнение распределений средних ставок на проигравшего и победителя. Видно, насколько сильнее средняя ставка на победителя \"прижимается\" к 1."
   ]
  },
  {
   "cell_type": "code",
   "execution_count": 429,
   "metadata": {
    "collapsed": false
   },
   "outputs": [
    {
     "data": {
      "text/plain": [
       "0      1.068966\n",
       "1      1.026549\n",
       "2      1.077348\n",
       "3      1.050725\n",
       "4      1.032520\n",
       "5      1.034483\n",
       "6      1.050955\n",
       "7      1.069519\n",
       "8      1.018692\n",
       "9      1.038710\n",
       "10     1.009901\n",
       "11     1.046667\n",
       "12     1.032000\n",
       "13     1.057143\n",
       "14     1.040816\n",
       "15     1.173442\n",
       "16     1.111111\n",
       "17     1.000000\n",
       "18     1.043478\n",
       "19     1.016667\n",
       "20     1.144578\n",
       "21     1.046980\n",
       "22     1.457399\n",
       "23     1.117541\n",
       "24     1.208029\n",
       "25     1.018868\n",
       "26     1.030864\n",
       "27     1.038278\n",
       "28     1.009901\n",
       "29     1.027273\n",
       "         ...   \n",
       "97     1.018692\n",
       "98     1.027778\n",
       "99     1.027778\n",
       "100    1.034783\n",
       "101    1.000000\n",
       "102    1.076923\n",
       "103    1.054217\n",
       "104    1.040541\n",
       "105    1.033333\n",
       "106    1.018692\n",
       "107    1.050000\n",
       "108    1.018868\n",
       "109    1.061224\n",
       "110    1.009901\n",
       "111    1.026549\n",
       "112    1.023256\n",
       "113    1.009901\n",
       "114    1.032000\n",
       "115    1.019231\n",
       "116    1.040323\n",
       "117    1.047009\n",
       "118    1.066225\n",
       "119    1.018349\n",
       "120    1.034188\n",
       "121    1.017544\n",
       "122    1.042373\n",
       "123    1.029630\n",
       "124    1.060606\n",
       "125    1.036765\n",
       "126    1.025210\n",
       "dtype: float64"
      ]
     },
     "execution_count": 429,
     "metadata": {},
     "output_type": "execute_result"
    }
   ],
   "source": [
    "tennis.MaxtoAvW = tennis.MaxW / tennis.AvgW\n",
    "tennis.MaxtoAvW\n"
   ]
  },
  {
   "cell_type": "markdown",
   "metadata": {},
   "source": [
    "Выше мы посчитали отношение максимальной ставки на победителя к средней ставке на него для каждого мужского матча на Australian Open 2016. Ниже воспользуемся этой переменной MaxtoAvW."
   ]
  },
  {
   "cell_type": "code",
   "execution_count": 430,
   "metadata": {
    "collapsed": false
   },
   "outputs": [
    {
     "data": {
      "text/plain": [
       "<matplotlib.axes._subplots.AxesSubplot at 0x19b2faa6a90>"
      ]
     },
     "execution_count": 430,
     "metadata": {},
     "output_type": "execute_result"
    },
    {
     "data": {
      "image/png": "[encoded data removed]",
      "text/plain": [
       "<matplotlib.figure.Figure at 0x19b30c11c50>"
      ]
     },
     "metadata": {},
     "output_type": "display_data"
    }
   ],
   "source": [
    "sns.regplot(x = tennis.MaxtoAvW, y = tennis.WPts, data = tennis, color= \"g\")"
   ]
  },
  {
   "cell_type": "markdown",
   "metadata": {},
   "source": [
    "Зависимость отношения максимальной и средней ставки на победу выигравшего матч от его места в рейтинге теннисистов. В целом чем больше у победителя очков в рейтинге, тем меньше это соотношение."
   ]
  },
  {
   "cell_type": "code",
   "execution_count": 431,
   "metadata": {
    "collapsed": false
   },
   "outputs": [
    {
     "data": {
      "text/plain": [
       "<matplotlib.axes._subplots.AxesSubplot at 0x19b30ccb940>"
      ]
     },
     "execution_count": 431,
     "metadata": {},
     "output_type": "execute_result"
    },
    {
     "data": {
      "image/png": "[encoded data removed]",
      "text/plain": [
       "<matplotlib.figure.Figure at 0x19b30cf9780>"
      ]
     },
     "metadata": {},
     "output_type": "display_data"
    }
   ],
   "source": [
    "sns.regplot(x = tennis.W1, y = tennis.W3)"
   ]
  },
  {
   "cell_type": "markdown",
   "metadata": {
    "collapsed": false
   },
   "source": [
    "График показывает распеределие выигранных победителем первого и второго сетов."
   ]
  },
  {
   "cell_type": "code",
   "execution_count": 432,
   "metadata": {
    "collapsed": false
   },
   "outputs": [
    {
     "data": {
      "text/plain": [
       "<seaborn.axisgrid.JointGrid at 0x19b30d72f28>"
      ]
     },
     "execution_count": 432,
     "metadata": {},
     "output_type": "execute_result"
    },
    {
     "data": {
      "image/png": "[encoded data removed]",
      "text/plain": [
       "<matplotlib.figure.Figure at 0x19b30d72be0>"
      ]
     },
     "metadata": {},
     "output_type": "display_data"
    }
   ],
   "source": [
    "from scipy.stats import kendalltau\n",
    "sns.jointplot(tennis.EXW, tennis.PSW, kind=\"kde\", stat_func=kendalltau, color=\"#4BB193\")"
   ]
  },
  {
   "cell_type": "markdown",
   "metadata": {},
   "source": [
    "График выше показывает распределения ставок на победителей двух букмекерских контор: Expekt (EXW) и Pinnacles Sports (PSW)."
   ]
  },
  {
   "cell_type": "markdown",
   "metadata": {},
   "source": [
    "# ЗАДАЧА 2"
   ]
  },
  {
   "cell_type": "markdown",
   "metadata": {},
   "source": [
    "Все X независимы и равномерны на [0; 1]"
   ]
  },
  {
   "cell_type": "code",
   "execution_count": 433,
   "metadata": {
    "collapsed": false
   },
   "outputs": [],
   "source": [
    "X1 = stats.uniform(loc=0,scale =1)"
   ]
  },
  {
   "cell_type": "markdown",
   "metadata": {
    "collapsed": true
   },
   "source": [
    "Гистограмма распределения X1"
   ]
  },
  {
   "cell_type": "code",
   "execution_count": 434,
   "metadata": {
    "collapsed": false
   },
   "outputs": [
    {
     "data": {
      "text/plain": [
       "<matplotlib.axes._subplots.AxesSubplot at 0x19b30ec5c18>"
      ]
     },
     "execution_count": 434,
     "metadata": {},
     "output_type": "execute_result"
    },
    {
     "data": {
      "image/png": "[encoded data removed]",
      "text/plain": [
       "<matplotlib.figure.Figure at 0x19b30c8e080>"
      ]
     },
     "metadata": {},
     "output_type": "display_data"
    }
   ],
   "source": [
    "sns.distplot(X1.rvs(10**5))\n"
   ]
  },
  {
   "cell_type": "code",
   "execution_count": 435,
   "metadata": {
    "collapsed": true
   },
   "outputs": [],
   "source": [
    "X2 = stats.uniform(loc=0, scale=1)\n",
    "X3 = stats.uniform(loc=0, scale=1)"
   ]
  },
  {
   "cell_type": "code",
   "execution_count": 436,
   "metadata": {
    "collapsed": false
   },
   "outputs": [
    {
     "data": {
      "text/plain": [
       "<matplotlib.text.Text at 0x19b30fa7a58>"
      ]
     },
     "execution_count": 436,
     "metadata": {},
     "output_type": "execute_result"
    },
    {
     "data": {
      "image/png": "[encoded data removed]",
      "text/plain": [
       "<matplotlib.figure.Figure at 0x19b30f28d68>"
      ]
     },
     "metadata": {},
     "output_type": "display_data"
    }
   ],
   "source": [
    "plt.hist(X1.rvs(10**5)+X2.rvs(10**5)+X3.rvs(10**5), 500, color='c')\n",
    "plt.title('Гистограмма для X1 + X2 + X3')\n",
    "plt.ylabel('Frequency')\n",
    "plt.xlabel('Value')"
   ]
  },
  {
   "cell_type": "code",
   "execution_count": 439,
   "metadata": {
    "collapsed": false
   },
   "outputs": [
    {
     "data": {
      "text/plain": [
       "<matplotlib.text.Text at 0x19b32ed4f28>"
      ]
     },
     "execution_count": 439,
     "metadata": {},
     "output_type": "execute_result"
    },
    {
     "data": {
      "image/png": "[encoded data removed]",
      "text/plain": [
       "<matplotlib.figure.Figure at 0x19b32cd62b0>"
      ]
     },
     "metadata": {},
     "output_type": "display_data"
    }
   ],
   "source": [
    "X_sum10 = 0\n",
    "for i in range(10):\n",
    "    X_sum10 += X1.rvs(10**5)\n",
    "    \n",
    "plt.hist(X_sum10, 500, color='g')\n",
    "plt.title('Гисторграмма для X1 +...+ X10')\n",
    "plt.ylabel(\"Frequency\")\n",
    "plt.xlabel('Value')"
   ]
  },
  {
   "cell_type": "code",
   "execution_count": 440,
   "metadata": {
    "collapsed": false
   },
   "outputs": [
    {
     "data": {
      "text/plain": [
       "<matplotlib.text.Text at 0x19b335ede10>"
      ]
     },
     "execution_count": 440,
     "metadata": {},
     "output_type": "execute_result"
    },
    {
     "data": {
      "image/png": "[encoded data removed]",
      "text/plain": [
       "<matplotlib.figure.Figure at 0x19b33427cf8>"
      ]
     },
     "metadata": {},
     "output_type": "display_data"
    }
   ],
   "source": [
    "X_sum50 = 0\n",
    "for i in range(50):\n",
    "    X_sum50 += X1.rvs(10**5)\n",
    "\n",
    "plt.hist(X_sum50, 500, color='blue')\n",
    "plt.title('Гистограмма X1 +...+ X50')\n",
    "plt.ylabel('Frequency')\n",
    "plt.xlabel('Value')"
   ]
  },
  {
   "cell_type": "markdown",
   "metadata": {},
   "source": [
    "Найдем P(X1 + X2 + X3) > 2  \n",
    "P(X1 + X2 + X3) = 0.16657"
   ]
  },
  {
   "cell_type": "code",
   "execution_count": 441,
   "metadata": {
    "collapsed": false
   },
   "outputs": [
    {
     "name": "stdout",
     "output_type": "stream",
     "text": [
      "0.16637\n"
     ]
    }
   ],
   "source": [
    "vv = X1.rvs(10**5) + X2.rvs(10**5) + X3.rvs(10**5)\n",
    "i = 0\n",
    "j = 0\n",
    "while i < 10**5:\n",
    "    if vv[i] > 2:\n",
    "        j += 1\n",
    "    i += 1\n",
    "print(j/10**5)"
   ]
  },
  {
   "cell_type": "markdown",
   "metadata": {},
   "source": [
    "Оценим E(X^5)  \n",
    "E(X^5) = 0.166132377406"
   ]
  },
  {
   "cell_type": "code",
   "execution_count": 442,
   "metadata": {
    "collapsed": false
   },
   "outputs": [
    {
     "name": "stdout",
     "output_type": "stream",
     "text": [
      "0.166132377406\n"
     ]
    }
   ],
   "source": [
    "new_values = X1.rvs(10**5)**5\n",
    "print(values_new.mean())"
   ]
  },
  {
   "cell_type": "markdown",
   "metadata": {},
   "source": [
    "Оценим Var(X1/[1 + X2^2])  \n",
    "Var(X1/[1 + X2^2]) = 0.0602866519377"
   ]
  },
  {
   "cell_type": "code",
   "execution_count": 443,
   "metadata": {
    "collapsed": false
   },
   "outputs": [
    {
     "name": "stdout",
     "output_type": "stream",
     "text": [
      "0.0602866519377\n"
     ]
    }
   ],
   "source": [
    "new_values2 = X2.rvs(10**5)**2\n",
    "values1_2 = (X1.rvs(10**5)/(1+new_values2))\n",
    "print(values1_2.var())"
   ]
  },
  {
   "cell_type": "markdown",
   "metadata": {},
   "source": [
    "Оценим медиану (1 + X1)/(3 + X2)  \n",
    "Медиана = 0.428987256999"
   ]
  },
  {
   "cell_type": "code",
   "execution_count": 444,
   "metadata": {
    "collapsed": false
   },
   "outputs": [
    {
     "name": "stdout",
     "output_type": "stream",
     "text": [
      "0.428987256999\n"
     ]
    }
   ],
   "source": [
    "v = (1+X1.rvs(10**5))/(3+X2.rvs(10**5))\n",
    "print(np.median(v))"
   ]
  },
  {
   "cell_type": "markdown",
   "metadata": {},
   "source": [
    "Оценим 25%-ую квантиль  \n",
    "25%-ая квантиль = 0.357222103505"
   ]
  },
  {
   "cell_type": "code",
   "execution_count": 445,
   "metadata": {
    "collapsed": false
   },
   "outputs": [
    {
     "name": "stdout",
     "output_type": "stream",
     "text": [
      "0.357222103505\n"
     ]
    }
   ],
   "source": [
    "print(np.percentile(v, 25))"
   ]
  },
  {
   "cell_type": "markdown",
   "metadata": {},
   "source": [
    "# ЗАДАЧА 3"
   ]
  },
  {
   "cell_type": "markdown",
   "metadata": {
    "collapsed": true
   },
   "source": [
    " На самолёт,имеющий 100 мест,проданы все билеты.Для посадки в самолёт пассажиры выстроились в очередь.Первые 99 пассажиров — сумасшедшие старушки.Они садятся на наугад выбранные места.Последний пассажир садится на то место, которое указано в его билете.Если это место занято, то он с омощью стюардессы сгоняет старушку со своего законного места.Согнанная с чужого места сумасшедшая старушка становится благоразумной и садится на свое место по билету.Возможно, для этого придется согнать еще одну старушку и т.д. \n",
    "1. Какова вероятность того,что потревожат старушку,стоявшую i-ой вочереди?\n",
    "2. Каково ожидаемое количество потревоженных старушек? "
   ]
  },
  {
   "cell_type": "markdown",
   "metadata": {},
   "source": [
    "$РЕШЕНИЕ$"
   ]
  },
  {
   "cell_type": "markdown",
   "metadata": {
    "collapsed": true
   },
   "source": [
    "1. Чтобы потревожили старушку, стоявшую i-ой в очереди, эта старушка должна случайным образом выбрать то место из $101-i$ оставшегося, которое по билету принадлежит последнему пассажиру, или же сесть на место другой сумасшедшей старушки так, чтобы в итоге другая сумасшедшая старушка попросила ее пересесть.    \n",
    "Если старушки случайно выбирают место в порядке очереди, то i-ая старушка будет выбирать $1$ место из $101-i$. Вероятность случайно выбрать место одинакова для всех мест, а значит:  \n",
    "P(i grandma will choose the last passenger`s seat)=$1 - 1/(101-i)$=$(100-i)/(101-i)$.  \n",
    "НО: здесь еще надо учесть ситуацию, когда в итоге i-ая старушка будет потревожена другой.\n",
    "\n",
    "Ответ: min P(i grandma will be bothered) = $(100-i)/(101-i)$"
   ]
  },
  {
   "cell_type": "markdown",
   "metadata": {
    "collapsed": true
   },
   "source": [
    "2. Одну из старушек потревожат с вероятностью $1/100$, так как она должна была случайно выбрать одно из $100$ мест. Если ее потревожили, то с вероятностью $98/99$ место, указанное в ее билете, будет занято, что преполагает пересаживание еще одной старушки и т.д. $0$ старушек будет потревожено с вероятностью 99/100, лишь $1$ старушка будет потревожена с вероятностью $1/100*1/99$, две старушки будут потревожены с вероятностью $1/100*98/99*1/98$ и т.д. Заметим, что при нахождении математического ожидания можно будет вынести $1/9000$ за скобку, а в ней останется сумма чисел  от $1$ до $99$.\n",
    "\n",
    "$E(X) = 0*99/100 + 1*1/100*1/99 + 2*1/100*98/99*1/98 + ...$"
   ]
  },
  {
   "cell_type": "code",
   "execution_count": 409,
   "metadata": {
    "collapsed": false
   },
   "outputs": [
    {
     "data": {
      "text/plain": [
       "0.48999999999999999"
      ]
     },
     "execution_count": 409,
     "metadata": {},
     "output_type": "execute_result"
    }
   ],
   "source": [
    "sum(range(99))/9900"
   ]
  },
  {
   "cell_type": "markdown",
   "metadata": {},
   "source": [
    "Ответ: E(X) = $0.489$"
   ]
  }
 ],
 "metadata": {
  "anaconda-cloud": {},
  "kernelspec": {
   "display_name": "Python [Root]",
   "language": "python",
   "name": "Python [Root]"
  },
  "language_info": {
   "codemirror_mode": {
    "name": "ipython",
    "version": 3
   },
   "file_extension": ".py",
   "mimetype": "text/x-python",
   "name": "python",
   "nbconvert_exporter": "python",
   "pygments_lexer": "ipython3",
   "version": "3.5.2"
  }
 },
 "nbformat": 4,
 "nbformat_minor": 0
}
