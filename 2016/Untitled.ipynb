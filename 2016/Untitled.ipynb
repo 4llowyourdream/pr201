{
 "cells": [
  {
   "cell_type": "code",
   "execution_count": 1,
   "metadata": {
    "collapsed": true
   },
   "outputs": [],
   "source": [
    "import pandas as pd\n",
    "import numpy as np\n",
    "import scipy.stats as stats\n",
    "%matplotlib inline"
   ]
  },
  {
   "cell_type": "code",
   "execution_count": 26,
   "metadata": {
    "collapsed": true
   },
   "outputs": [],
   "source": [
    "import sympy\n",
    "a = sympy.Symbol(\"a\", positive=True)\n",
    "x = sympy.Symbol(\"x\", positive=True)\n",
    "t = sympy.Symbol(\"t\", positive=True)"
   ]
  },
  {
   "cell_type": "code",
   "execution_count": 27,
   "metadata": {
    "collapsed": false
   },
   "outputs": [
    {
     "data": {
      "text/plain": [
       "a/(a + 1)"
      ]
     },
     "execution_count": 27,
     "metadata": {},
     "output_type": "execute_result"
    }
   ],
   "source": [
    "sympy.integrate(t* a * t**(a - 1), (t, 0, 1))\n",
    "\n"
   ]
  },
  {
   "cell_type": "code",
   "execution_count": 58,
   "metadata": {
    "collapsed": false
   },
   "outputs": [],
   "source": [
    "def loglik(y, a):\n",
    "    loglik = np.log(a) + (a - 1) * np.log(y)\n",
    "    return loglik\n"
   ]
  },
  {
   "cell_type": "code",
   "execution_count": 34,
   "metadata": {
    "collapsed": false
   },
   "outputs": [],
   "source": []
  },
  {
   "cell_type": "code",
   "execution_count": 59,
   "metadata": {
    "collapsed": true
   },
   "outputs": [],
   "source": [
    "from statsmodels.base.model import GenericLikelihoodModel\n",
    "class a_model(GenericLikelihoodModel):\n",
    "    def __init__(self, endog, exog=None, **kwds):\n",
    "        if exog is None:\n",
    "            exog = np.zeros_like(endog)\n",
    "        super(a_model, self).__init__(endog, exog, **kwds)\n",
    "    def nloglikeobs(self, params):\n",
    "        a = params[0]\n",
    "        ll = loglik(self.endog, a)\n",
    "        return -ll\n",
    "    def fit(self, start_params=None, maxiter=1000, maxfun=1000, **kwds):\n",
    "        if start_params is None:\n",
    "            start_params = 7\n",
    "        return super(a_model, self).fit(start_params=start_params, \n",
    "                                        maxiter=maxiter, maxfun=maxfun, **kwds)\n",
    "    "
   ]
  },
  {
   "cell_type": "code",
   "execution_count": 60,
   "metadata": {
    "collapsed": true
   },
   "outputs": [],
   "source": [
    "y = [0.7, 0.8, 0.9]"
   ]
  },
  {
   "cell_type": "code",
   "execution_count": 61,
   "metadata": {
    "collapsed": false
   },
   "outputs": [],
   "source": [
    "model = a_model(y)"
   ]
  },
  {
   "cell_type": "code",
   "execution_count": 62,
   "metadata": {
    "collapsed": false
   },
   "outputs": [
    {
     "name": "stdout",
     "output_type": "stream",
     "text": [
      "Optimization terminated successfully.\n",
      "         Current function value: -0.705080\n",
      "         Iterations: 17\n",
      "         Function evaluations: 34\n"
     ]
    }
   ],
   "source": [
    "results = model.fit()"
   ]
  },
  {
   "cell_type": "code",
   "execution_count": 63,
   "metadata": {
    "collapsed": false
   },
   "outputs": [
    {
     "data": {
      "text/html": [
       "<table class=\"simpletable\">\n",
       "<caption>a_model Results</caption>\n",
       "<tr>\n",
       "  <th>Dep. Variable:</th>             <td>y</td>         <th>  Log-Likelihood:    </th> <td>  2.1152</td>\n",
       "</tr>\n",
       "<tr>\n",
       "  <th>Model:</th>                  <td>a_model</td>      <th>  AIC:               </th> <td>  -4.230</td>\n",
       "</tr>\n",
       "<tr>\n",
       "  <th>Method:</th>           <td>Maximum Likelihood</td> <th>  BIC:               </th> <td>  -4.230</td>\n",
       "</tr>\n",
       "<tr>\n",
       "  <th>Date:</th>              <td>Mon, 06 Mar 2017</td>  <th>                     </th>     <td> </td>   \n",
       "</tr>\n",
       "<tr>\n",
       "  <th>Time:</th>                  <td>08:40:35</td>      <th>                     </th>     <td> </td>   \n",
       "</tr>\n",
       "<tr>\n",
       "  <th>No. Observations:</th>       <td>     3</td>       <th>                     </th>     <td> </td>   \n",
       "</tr>\n",
       "<tr>\n",
       "  <th>Df Residuals:</th>           <td>     3</td>       <th>                     </th>     <td> </td>   \n",
       "</tr>\n",
       "<tr>\n",
       "  <th>Df Model:</th>               <td>    -1</td>       <th>                     </th>     <td> </td>   \n",
       "</tr>\n",
       "</table>\n",
       "<table class=\"simpletable\">\n",
       "<tr>\n",
       "    <td></td>       <th>coef</th>     <th>std err</th>      <th>z</th>      <th>P>|z|</th> <th>[95.0% Conf. Int.]</th> \n",
       "</tr>\n",
       "<tr>\n",
       "  <th>const</th> <td>    4.3784</td> <td>    2.528</td> <td>    1.732</td> <td> 0.083</td> <td>   -0.576     9.333</td>\n",
       "</tr>\n",
       "</table>"
      ],
      "text/plain": [
       "<class 'statsmodels.iolib.summary.Summary'>\n",
       "\"\"\"\n",
       "                               a_model Results                                \n",
       "==============================================================================\n",
       "Dep. Variable:                      y   Log-Likelihood:                 2.1152\n",
       "Model:                        a_model   AIC:                            -4.230\n",
       "Method:            Maximum Likelihood   BIC:                            -4.230\n",
       "Date:                Mon, 06 Mar 2017                                         \n",
       "Time:                        08:40:35                                         \n",
       "No. Observations:                   3                                         \n",
       "Df Residuals:                       3                                         \n",
       "Df Model:                          -1                                         \n",
       "==============================================================================\n",
       "                 coef    std err          z      P>|z|      [95.0% Conf. Int.]\n",
       "------------------------------------------------------------------------------\n",
       "const          4.3784      2.528      1.732      0.083        -0.576     9.333\n",
       "==============================================================================\n",
       "\"\"\""
      ]
     },
     "execution_count": 63,
     "metadata": {},
     "output_type": "execute_result"
    }
   ],
   "source": [
    "results.summary()"
   ]
  },
  {
   "cell_type": "code",
   "execution_count": 64,
   "metadata": {
    "collapsed": true
   },
   "outputs": [],
   "source": [
    "from statsmodels.sandbox.regression.gmm import GMM"
   ]
  },
  {
   "cell_type": "code",
   "execution_count": 90,
   "metadata": {
    "collapsed": true
   },
   "outputs": [],
   "source": []
  },
  {
   "cell_type": "code",
   "execution_count": 93,
   "metadata": {
    "collapsed": false
   },
   "outputs": [
    {
     "name": "stdout",
     "output_type": "stream",
     "text": [
      "Optimization terminated successfully.\n",
      "         Current function value: 0.000000\n",
      "         Iterations: 91\n",
      "         Function evaluations: 179\n",
      "Optimization terminated successfully.\n",
      "         Current function value: 0.000000\n",
      "         Iterations: 27\n",
      "         Function evaluations: 55\n"
     ]
    }
   ],
   "source": [
    "class GMMGamma(GMM):\n",
    "\n",
    "    def __init__(self, *args, **kwds):\n",
    "        # set appropriate counts for moment conditions and parameters\n",
    "        # TODO: clean up signature\n",
    "        kwds.setdefault('k_moms', 2)\n",
    "        kwds.setdefault('k_params', 2)\n",
    "        super(GMMGamma, self).__init__(*args, **kwds)\n",
    "\n",
    "\n",
    "    def momcond(self, params):\n",
    "        p0, p1 = params\n",
    "        endog = self.endog\n",
    "        error1 = endog - p0 / p1\n",
    "        error2 = endog**2 - (p0 + 1) * p0 / p1**2\n",
    "        g = np.column_stack((error1, error2))\n",
    "        return g\n",
    "y = np.array([0.7, 0.8, 0.9, 0.3, 0.5])\n",
    "nobs = y.shape[0]\n",
    "x = np.ones((nobs, ))\n",
    "\n",
    "model = GMMGamma(y, x, None)\n",
    "beta0 = np.array([2, 0.1])\n",
    "res = model.fit(beta0, maxiter=2, optim_method='nm', wargs=dict(centered=False))"
   ]
  },
  {
   "cell_type": "code",
   "execution_count": 94,
   "metadata": {
    "collapsed": false
   },
   "outputs": [
    {
     "data": {
      "text/html": [
       "<table class=\"simpletable\">\n",
       "<caption>GMMGamma Results</caption>\n",
       "<tr>\n",
       "  <th>Dep. Variable:</th>            <td>y</td>        <th>  Hansen J:          </th> <td>2.011e-12</td>\n",
       "</tr>\n",
       "<tr>\n",
       "  <th>Model:</th>                <td>GMMGamma</td>     <th>  Prob (Hansen J):   </th>  <td>   nan</td>  \n",
       "</tr>\n",
       "<tr>\n",
       "  <th>Method:</th>                  <td>GMM</td>       <th>                     </th>     <td> </td>    \n",
       "</tr>\n",
       "<tr>\n",
       "  <th>Date:</th>             <td>Mon, 06 Mar 2017</td> <th>                     </th>     <td> </td>    \n",
       "</tr>\n",
       "<tr>\n",
       "  <th>Time:</th>                 <td>10:30:13</td>     <th>                     </th>     <td> </td>    \n",
       "</tr>\n",
       "<tr>\n",
       "  <th>No. Observations:</th>      <td>     5</td>      <th>                     </th>     <td> </td>    \n",
       "</tr>\n",
       "</table>\n",
       "<table class=\"simpletable\">\n",
       "<tr>\n",
       "    <td></td>       <th>coef</th>     <th>std err</th>      <th>z</th>      <th>P>|z|</th> <th>[95.0% Conf. Int.]</th> \n",
       "</tr>\n",
       "<tr>\n",
       "  <th>const</th> <td>    8.8276</td> <td>    5.237</td> <td>    1.686</td> <td> 0.092</td> <td>   -1.437    19.092</td>\n",
       "</tr>\n",
       "<tr>\n",
       "  <th>x1</th>    <td>   13.7931</td> <td>    6.611</td> <td>    2.086</td> <td> 0.037</td> <td>    0.836    26.750</td>\n",
       "</tr>\n",
       "</table>"
      ],
      "text/plain": [
       "<class 'statsmodels.iolib.summary.Summary'>\n",
       "\"\"\"\n",
       "                               GMMGamma Results                               \n",
       "==============================================================================\n",
       "Dep. Variable:                      y   Hansen J:                    2.011e-12\n",
       "Model:                       GMMGamma   Prob (Hansen J):                   nan\n",
       "Method:                           GMM                                         \n",
       "Date:                Mon, 06 Mar 2017                                         \n",
       "Time:                        10:30:13                                         \n",
       "No. Observations:                   5                                         \n",
       "==============================================================================\n",
       "                 coef    std err          z      P>|z|      [95.0% Conf. Int.]\n",
       "------------------------------------------------------------------------------\n",
       "const          8.8276      5.237      1.686      0.092        -1.437    19.092\n",
       "x1            13.7931      6.611      2.086      0.037         0.836    26.750\n",
       "==============================================================================\n",
       "\"\"\""
      ]
     },
     "execution_count": 94,
     "metadata": {},
     "output_type": "execute_result"
    }
   ],
   "source": [
    "res.summary()"
   ]
  },
  {
   "cell_type": "code",
   "execution_count": 122,
   "metadata": {
    "collapsed": false
   },
   "outputs": [
    {
     "name": "stdout",
     "output_type": "stream",
     "text": [
      "Optimization terminated successfully.\n",
      "         Current function value: 0.000000\n",
      "         Iterations: 47\n",
      "         Function evaluations: 89\n",
      "Optimization terminated successfully.\n",
      "         Current function value: 0.000000\n",
      "         Iterations: 27\n",
      "         Function evaluations: 51\n"
     ]
    },
    {
     "data": {
      "text/html": [
       "<table class=\"simpletable\">\n",
       "<caption>GMMGamma Results</caption>\n",
       "<tr>\n",
       "  <th>Dep. Variable:</th>            <td>y</td>        <th>  Hansen J:          </th> <td>1.390e-08</td>\n",
       "</tr>\n",
       "<tr>\n",
       "  <th>Model:</th>                <td>GMMGamma</td>     <th>  Prob (Hansen J):   </th>  <td>   nan</td>  \n",
       "</tr>\n",
       "<tr>\n",
       "  <th>Method:</th>                  <td>GMM</td>       <th>                     </th>     <td> </td>    \n",
       "</tr>\n",
       "<tr>\n",
       "  <th>Date:</th>             <td>Mon, 06 Mar 2017</td> <th>                     </th>     <td> </td>    \n",
       "</tr>\n",
       "<tr>\n",
       "  <th>Time:</th>                 <td>10:39:24</td>     <th>                     </th>     <td> </td>    \n",
       "</tr>\n",
       "<tr>\n",
       "  <th>No. Observations:</th>      <td>     5</td>      <th>                     </th>     <td> </td>    \n",
       "</tr>\n",
       "</table>\n",
       "<table class=\"simpletable\">\n",
       "<tr>\n",
       "   <td></td>     <th>coef</th>     <th>std err</th>      <th>z</th>      <th>P>|z|</th> <th>[95.0% Conf. Int.]</th> \n",
       "</tr>\n",
       "<tr>\n",
       "  <th>x2</th> <td>    1.7777</td> <td>    0.743</td> <td>    2.392</td> <td> 0.017</td> <td>    0.321     3.234</td>\n",
       "</tr>\n",
       "<tr>\n",
       "  <th>x3</th> <td>    0.4560</td> <td>    0.116</td> <td>    3.929</td> <td> 0.000</td> <td>    0.229     0.683</td>\n",
       "</tr>\n",
       "</table>"
      ],
      "text/plain": [
       "<class 'statsmodels.iolib.summary.Summary'>\n",
       "\"\"\"\n",
       "                               GMMGamma Results                               \n",
       "==============================================================================\n",
       "Dep. Variable:                      y   Hansen J:                    1.390e-08\n",
       "Model:                       GMMGamma   Prob (Hansen J):                   nan\n",
       "Method:                           GMM                                         \n",
       "Date:                Mon, 06 Mar 2017                                         \n",
       "Time:                        10:39:24                                         \n",
       "No. Observations:                   5                                         \n",
       "==============================================================================\n",
       "                 coef    std err          z      P>|z|      [95.0% Conf. Int.]\n",
       "------------------------------------------------------------------------------\n",
       "x2             1.7777      0.743      2.392      0.017         0.321     3.234\n",
       "x3             0.4560      0.116      3.929      0.000         0.229     0.683\n",
       "==============================================================================\n",
       "\"\"\""
      ]
     },
     "execution_count": 122,
     "metadata": {},
     "output_type": "execute_result"
    }
   ],
   "source": [
    "class GMMGamma(GMM):\n",
    "\n",
    "    def __init__(self, *args, **kwds):\n",
    "        # set appropriate counts for moment conditions and parameters\n",
    "        # TODO: clean up signature\n",
    "        kwds.setdefault('k_moms', 2)\n",
    "        kwds.setdefault('k_params', 1)\n",
    "        super(GMMGamma, self).__init__(*args, **kwds)\n",
    "\n",
    "\n",
    "    def momcond(self, params):\n",
    "        p0, p1 = params\n",
    "        endog = self.endog\n",
    "        error1 = endog - p0 / (p0 + 1)\n",
    "        error2 = endog**2 - p1 \n",
    "        g = np.column_stack((error1, error2))\n",
    "        return g\n",
    "y = np.array([0.7, 0.8, 0.9, 0.3, 0.5])\n",
    "nobs = y.shape[0]\n",
    "x = np.ones((nobs, 4))\n",
    "\n",
    "model = GMMGamma(y, x, None)\n",
    "beta0 = np.array([2, 0.1])\n",
    "res = model.fit(beta0, maxiter=2, optim_method='nm')\n",
    "res.summary()"
   ]
  },
  {
   "cell_type": "code",
   "execution_count": null,
   "metadata": {
    "collapsed": true
   },
   "outputs": [],
   "source": []
  }
 ],
 "metadata": {
  "anaconda-cloud": {},
  "kernelspec": {
   "display_name": "Python 3",
   "language": "python",
   "name": "python3"
  },
  "language_info": {
   "codemirror_mode": {
    "name": "ipython",
    "version": 3
   },
   "file_extension": ".py",
   "mimetype": "text/x-python",
   "name": "python",
   "nbconvert_exporter": "python",
   "pygments_lexer": "ipython3",
   "version": "3.5.2"
  }
 },
 "nbformat": 4,
 "nbformat_minor": 1
}
