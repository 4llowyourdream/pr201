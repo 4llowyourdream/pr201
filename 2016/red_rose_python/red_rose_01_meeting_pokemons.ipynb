{
 "cells": [
  {
   "cell_type": "markdown",
   "metadata": {},
   "source": [
    "Поехали!\n",
    "\n",
    "Может потребоваться установка пакета `seaborn`. Для его установки (на macos/ubuntu/windows) нужно запустить командную строку и в ней выполнить: `conda install seaborn`.\n",
    "\n",
    "На archlinux `pacman -S install python-seaborn`\n",
    "\n",
    "Для запуска на macos запускаем командную строку и набираем: `jupyter notebook`.\n"
   ]
  },
  {
   "cell_type": "markdown",
   "metadata": {},
   "source": [
    "Импортируем пакет numpy и с помощью него считаем косинус:"
   ]
  },
  {
   "cell_type": "code",
   "execution_count": 1,
   "metadata": {
    "collapsed": true
   },
   "outputs": [],
   "source": [
    "import numpy"
   ]
  },
  {
   "cell_type": "code",
   "execution_count": 2,
   "metadata": {
    "collapsed": false
   },
   "outputs": [
    {
     "data": {
      "text/plain": [
       "-0.98999249660044542"
      ]
     },
     "execution_count": 2,
     "metadata": {},
     "output_type": "execute_result"
    }
   ],
   "source": [
    "numpy.cos(3)"
   ]
  },
  {
   "cell_type": "markdown",
   "metadata": {},
   "source": [
    "Обычно название пакета numpy сокращают до np:"
   ]
  },
  {
   "cell_type": "code",
   "execution_count": 3,
   "metadata": {
    "collapsed": false
   },
   "outputs": [
    {
     "data": {
      "text/plain": [
       "-0.98999249660044542"
      ]
     },
     "execution_count": 3,
     "metadata": {},
     "output_type": "execute_result"
    }
   ],
   "source": [
    "import numpy as np\n",
    "np.cos(3)"
   ]
  },
  {
   "cell_type": "code",
   "execution_count": 4,
   "metadata": {
    "collapsed": true
   },
   "outputs": [],
   "source": [
    "import pandas as pd\n",
    "import seaborn as sns"
   ]
  },
  {
   "cell_type": "markdown",
   "metadata": {},
   "source": [
    "Без этого магического заклинания графики будут строится на одну строчку кода дольше:"
   ]
  },
  {
   "cell_type": "code",
   "execution_count": 5,
   "metadata": {
    "collapsed": true
   },
   "outputs": [],
   "source": [
    "%matplotlib inline"
   ]
  },
  {
   "cell_type": "markdown",
   "metadata": {},
   "source": [
    "Заходим на сайт kaggle.com, регистрируемся и скачиваем набор данных про покемонов. Разархивируем в папку без русских букв и пробелов. А теперь загрузим данные в память компьютера:"
   ]
  },
  {
   "cell_type": "code",
   "execution_count": 6,
   "metadata": {
    "collapsed": true
   },
   "outputs": [],
   "source": [
    "pokemon = pd.read_csv('/Users/boris/Downloads/pokemon-sun-and-moon-gen-7-stats/pokemon.csv')"
   ]
  },
  {
   "cell_type": "markdown",
   "metadata": {},
   "source": [
    "Смотрим на начало набора данных:"
   ]
  },
  {
   "cell_type": "code",
   "execution_count": 7,
   "metadata": {
    "collapsed": false
   },
   "outputs": [
    {
     "data": {
      "text/html": [
       "<div>\n",
       "<table border=\"1\" class=\"dataframe\">\n",
       "  <thead>\n",
       "    <tr style=\"text-align: right;\">\n",
       "      <th></th>\n",
       "      <th>id</th>\n",
       "      <th>ndex</th>\n",
       "      <th>species</th>\n",
       "      <th>forme</th>\n",
       "      <th>type1</th>\n",
       "      <th>type2</th>\n",
       "      <th>ability1</th>\n",
       "      <th>ability2</th>\n",
       "      <th>abilityH</th>\n",
       "      <th>hp</th>\n",
       "      <th>...</th>\n",
       "      <th>weight</th>\n",
       "      <th>height</th>\n",
       "      <th>dex1</th>\n",
       "      <th>dex2</th>\n",
       "      <th>class</th>\n",
       "      <th>percent-male</th>\n",
       "      <th>percent-female</th>\n",
       "      <th>pre-evolution</th>\n",
       "      <th>egg-group1</th>\n",
       "      <th>egg-group2</th>\n",
       "    </tr>\n",
       "  </thead>\n",
       "  <tbody>\n",
       "    <tr>\n",
       "      <th>0</th>\n",
       "      <td>1</td>\n",
       "      <td>1</td>\n",
       "      <td>Bulbasaur</td>\n",
       "      <td>Bulbasaur</td>\n",
       "      <td>Grass</td>\n",
       "      <td>Poison</td>\n",
       "      <td>Overgrow</td>\n",
       "      <td>NaN</td>\n",
       "      <td>Chlorophyll</td>\n",
       "      <td>45</td>\n",
       "      <td>...</td>\n",
       "      <td>15.2 lbs.</td>\n",
       "      <td>2'04\"</td>\n",
       "      <td>NaN</td>\n",
       "      <td>NaN</td>\n",
       "      <td>Seed Pokémon</td>\n",
       "      <td>0.875</td>\n",
       "      <td>0.125</td>\n",
       "      <td>NaN</td>\n",
       "      <td>Monster</td>\n",
       "      <td>Grass</td>\n",
       "    </tr>\n",
       "    <tr>\n",
       "      <th>1</th>\n",
       "      <td>2</td>\n",
       "      <td>2</td>\n",
       "      <td>Ivysaur</td>\n",
       "      <td>Ivysaur</td>\n",
       "      <td>Grass</td>\n",
       "      <td>Poison</td>\n",
       "      <td>Overgrow</td>\n",
       "      <td>NaN</td>\n",
       "      <td>Chlorophyll</td>\n",
       "      <td>60</td>\n",
       "      <td>...</td>\n",
       "      <td>28.7 lbs.</td>\n",
       "      <td>3'03\"</td>\n",
       "      <td>NaN</td>\n",
       "      <td>NaN</td>\n",
       "      <td>Seed Pokémon</td>\n",
       "      <td>0.875</td>\n",
       "      <td>0.125</td>\n",
       "      <td>Bulbasaur</td>\n",
       "      <td>Monster</td>\n",
       "      <td>Grass</td>\n",
       "    </tr>\n",
       "    <tr>\n",
       "      <th>2</th>\n",
       "      <td>3</td>\n",
       "      <td>3</td>\n",
       "      <td>Venusaur</td>\n",
       "      <td>Venusaur</td>\n",
       "      <td>Grass</td>\n",
       "      <td>Poison</td>\n",
       "      <td>Overgrow</td>\n",
       "      <td>NaN</td>\n",
       "      <td>Chlorophyll</td>\n",
       "      <td>80</td>\n",
       "      <td>...</td>\n",
       "      <td>220.5 lbs.</td>\n",
       "      <td>6'07\"</td>\n",
       "      <td>NaN</td>\n",
       "      <td>NaN</td>\n",
       "      <td>Seed Pokémon</td>\n",
       "      <td>0.875</td>\n",
       "      <td>0.125</td>\n",
       "      <td>Ivysaur</td>\n",
       "      <td>Monster</td>\n",
       "      <td>Grass</td>\n",
       "    </tr>\n",
       "    <tr>\n",
       "      <th>3</th>\n",
       "      <td>4</td>\n",
       "      <td>4</td>\n",
       "      <td>Charmander</td>\n",
       "      <td>Charmander</td>\n",
       "      <td>Fire</td>\n",
       "      <td>NaN</td>\n",
       "      <td>Blaze</td>\n",
       "      <td>NaN</td>\n",
       "      <td>Solar Power</td>\n",
       "      <td>39</td>\n",
       "      <td>...</td>\n",
       "      <td>18.7 lbs.</td>\n",
       "      <td>2'00\"</td>\n",
       "      <td>NaN</td>\n",
       "      <td>NaN</td>\n",
       "      <td>Lizard Pokémon</td>\n",
       "      <td>0.875</td>\n",
       "      <td>0.125</td>\n",
       "      <td>NaN</td>\n",
       "      <td>Monster</td>\n",
       "      <td>Dragon</td>\n",
       "    </tr>\n",
       "    <tr>\n",
       "      <th>4</th>\n",
       "      <td>5</td>\n",
       "      <td>5</td>\n",
       "      <td>Charmeleon</td>\n",
       "      <td>Charmeleon</td>\n",
       "      <td>Fire</td>\n",
       "      <td>NaN</td>\n",
       "      <td>Blaze</td>\n",
       "      <td>NaN</td>\n",
       "      <td>Solar Power</td>\n",
       "      <td>58</td>\n",
       "      <td>...</td>\n",
       "      <td>41.9 lbs.</td>\n",
       "      <td>3'07\"</td>\n",
       "      <td>NaN</td>\n",
       "      <td>NaN</td>\n",
       "      <td>Flame Pokémon</td>\n",
       "      <td>0.875</td>\n",
       "      <td>0.125</td>\n",
       "      <td>Charmander</td>\n",
       "      <td>Monster</td>\n",
       "      <td>Dragon</td>\n",
       "    </tr>\n",
       "  </tbody>\n",
       "</table>\n",
       "<p>5 rows × 26 columns</p>\n",
       "</div>"
      ],
      "text/plain": [
       "   id  ndex     species       forme  type1   type2  ability1 ability2  \\\n",
       "0   1     1   Bulbasaur   Bulbasaur  Grass  Poison  Overgrow      NaN   \n",
       "1   2     2     Ivysaur     Ivysaur  Grass  Poison  Overgrow      NaN   \n",
       "2   3     3    Venusaur    Venusaur  Grass  Poison  Overgrow      NaN   \n",
       "3   4     4  Charmander  Charmander   Fire     NaN     Blaze      NaN   \n",
       "4   5     5  Charmeleon  Charmeleon   Fire     NaN     Blaze      NaN   \n",
       "\n",
       "      abilityH  hp    ...          weight  height  dex1  dex2           class  \\\n",
       "0  Chlorophyll  45    ...       15.2 lbs.   2'04\"   NaN   NaN    Seed Pokémon   \n",
       "1  Chlorophyll  60    ...       28.7 lbs.   3'03\"   NaN   NaN    Seed Pokémon   \n",
       "2  Chlorophyll  80    ...      220.5 lbs.   6'07\"   NaN   NaN    Seed Pokémon   \n",
       "3  Solar Power  39    ...       18.7 lbs.   2'00\"   NaN   NaN  Lizard Pokémon   \n",
       "4  Solar Power  58    ...       41.9 lbs.   3'07\"   NaN   NaN   Flame Pokémon   \n",
       "\n",
       "   percent-male percent-female pre-evolution egg-group1 egg-group2  \n",
       "0         0.875          0.125           NaN    Monster      Grass  \n",
       "1         0.875          0.125     Bulbasaur    Monster      Grass  \n",
       "2         0.875          0.125       Ivysaur    Monster      Grass  \n",
       "3         0.875          0.125           NaN    Monster     Dragon  \n",
       "4         0.875          0.125    Charmander    Monster     Dragon  \n",
       "\n",
       "[5 rows x 26 columns]"
      ]
     },
     "execution_count": 7,
     "metadata": {},
     "output_type": "execute_result"
    }
   ],
   "source": [
    "pokemon.head()"
   ]
  },
  {
   "cell_type": "code",
   "execution_count": 8,
   "metadata": {
    "collapsed": true
   },
   "outputs": [],
   "source": [
    "# Аня, тебе большой и горячий привет! :)\n"
   ]
  },
  {
   "cell_type": "markdown",
   "metadata": {},
   "source": [
    "Аня, тебе _большой_ и **горячий** привет!"
   ]
  },
  {
   "cell_type": "markdown",
   "metadata": {},
   "source": [
    "Смотрим на хвостик набора данных:"
   ]
  },
  {
   "cell_type": "code",
   "execution_count": 9,
   "metadata": {
    "collapsed": false
   },
   "outputs": [
    {
     "data": {
      "text/html": [
       "<div>\n",
       "<table border=\"1\" class=\"dataframe\">\n",
       "  <thead>\n",
       "    <tr style=\"text-align: right;\">\n",
       "      <th></th>\n",
       "      <th>id</th>\n",
       "      <th>ndex</th>\n",
       "      <th>species</th>\n",
       "      <th>forme</th>\n",
       "      <th>type1</th>\n",
       "      <th>type2</th>\n",
       "      <th>ability1</th>\n",
       "      <th>ability2</th>\n",
       "      <th>abilityH</th>\n",
       "      <th>hp</th>\n",
       "      <th>...</th>\n",
       "      <th>weight</th>\n",
       "      <th>height</th>\n",
       "      <th>dex1</th>\n",
       "      <th>dex2</th>\n",
       "      <th>class</th>\n",
       "      <th>percent-male</th>\n",
       "      <th>percent-female</th>\n",
       "      <th>pre-evolution</th>\n",
       "      <th>egg-group1</th>\n",
       "      <th>egg-group2</th>\n",
       "    </tr>\n",
       "  </thead>\n",
       "  <tbody>\n",
       "    <tr>\n",
       "      <th>1059</th>\n",
       "      <td>1061</td>\n",
       "      <td>784</td>\n",
       "      <td>Kommo-o</td>\n",
       "      <td>Kommo-o (1)</td>\n",
       "      <td>Dragon</td>\n",
       "      <td>Fighting</td>\n",
       "      <td>Bulletproof</td>\n",
       "      <td>Soundproof</td>\n",
       "      <td>Overcoat</td>\n",
       "      <td>75</td>\n",
       "      <td>...</td>\n",
       "      <td>172.4 lbs.</td>\n",
       "      <td>5'03\"</td>\n",
       "      <td>NaN</td>\n",
       "      <td>NaN</td>\n",
       "      <td>Scaly Pokémon</td>\n",
       "      <td>0.5</td>\n",
       "      <td>0.5</td>\n",
       "      <td>NaN</td>\n",
       "      <td>Dragon</td>\n",
       "      <td>NaN</td>\n",
       "    </tr>\n",
       "    <tr>\n",
       "      <th>1060</th>\n",
       "      <td>1062</td>\n",
       "      <td>801</td>\n",
       "      <td>Magearna</td>\n",
       "      <td>Magearna (Original Color)</td>\n",
       "      <td>Steel</td>\n",
       "      <td>Fairy</td>\n",
       "      <td>Soul-Heart</td>\n",
       "      <td>Soul-Heart</td>\n",
       "      <td>Soul-Heart</td>\n",
       "      <td>80</td>\n",
       "      <td>...</td>\n",
       "      <td>177.5 lbs.</td>\n",
       "      <td>3'03\"</td>\n",
       "      <td>This beautiful form reflects Magearna’s appear...</td>\n",
       "      <td>This gorgeous Magearna looks as it did at the ...</td>\n",
       "      <td>Artificial Pokémon</td>\n",
       "      <td>NaN</td>\n",
       "      <td>NaN</td>\n",
       "      <td>NaN</td>\n",
       "      <td>Undiscovered</td>\n",
       "      <td>NaN</td>\n",
       "    </tr>\n",
       "  </tbody>\n",
       "</table>\n",
       "<p>2 rows × 26 columns</p>\n",
       "</div>"
      ],
      "text/plain": [
       "        id  ndex   species                      forme   type1     type2  \\\n",
       "1059  1061   784   Kommo-o                Kommo-o (1)  Dragon  Fighting   \n",
       "1060  1062   801  Magearna  Magearna (Original Color)   Steel     Fairy   \n",
       "\n",
       "         ability1    ability2    abilityH  hp    ...          weight  height  \\\n",
       "1059  Bulletproof  Soundproof    Overcoat  75    ...      172.4 lbs.   5'03\"   \n",
       "1060   Soul-Heart  Soul-Heart  Soul-Heart  80    ...      177.5 lbs.   3'03\"   \n",
       "\n",
       "                                                   dex1  \\\n",
       "1059                                                NaN   \n",
       "1060  This beautiful form reflects Magearna’s appear...   \n",
       "\n",
       "                                                   dex2               class  \\\n",
       "1059                                                NaN       Scaly Pokémon   \n",
       "1060  This gorgeous Magearna looks as it did at the ...  Artificial Pokémon   \n",
       "\n",
       "      percent-male percent-female pre-evolution    egg-group1 egg-group2  \n",
       "1059           0.5            0.5           NaN        Dragon        NaN  \n",
       "1060           NaN            NaN           NaN  Undiscovered        NaN  \n",
       "\n",
       "[2 rows x 26 columns]"
      ]
     },
     "execution_count": 9,
     "metadata": {},
     "output_type": "execute_result"
    }
   ],
   "source": [
    "pokemon.tail(2)"
   ]
  },
  {
   "cell_type": "markdown",
   "metadata": {},
   "source": [
    "Посмотрим на список колонок:"
   ]
  },
  {
   "cell_type": "code",
   "execution_count": 16,
   "metadata": {
    "collapsed": false
   },
   "outputs": [
    {
     "name": "stdout",
     "output_type": "stream",
     "text": [
      "<class 'pandas.core.frame.DataFrame'>\n",
      "RangeIndex: 1061 entries, 0 to 1060\n",
      "Data columns (total 26 columns):\n",
      "id                1061 non-null int64\n",
      "ndex              1061 non-null int64\n",
      "species           1061 non-null object\n",
      "forme             1061 non-null object\n",
      "type1             1061 non-null object\n",
      "type2             538 non-null object\n",
      "ability1          1059 non-null object\n",
      "ability2          602 non-null object\n",
      "abilityH          845 non-null object\n",
      "hp                1061 non-null int64\n",
      "attack            1061 non-null int64\n",
      "defense           1061 non-null int64\n",
      "spattack          1061 non-null int64\n",
      "spdefense         1061 non-null int64\n",
      "speed             1061 non-null int64\n",
      "total             1061 non-null int64\n",
      "weight            1061 non-null object\n",
      "height            1061 non-null object\n",
      "dex1              382 non-null object\n",
      "dex2              382 non-null object\n",
      "class             1061 non-null object\n",
      "percent-male      859 non-null float64\n",
      "percent-female    859 non-null float64\n",
      "pre-evolution     490 non-null object\n",
      "egg-group1        1061 non-null object\n",
      "egg-group2        235 non-null object\n",
      "dtypes: float64(2), int64(9), object(15)\n",
      "memory usage: 215.6+ KB\n"
     ]
    }
   ],
   "source": [
    "pokemon.info()"
   ]
  },
  {
   "cell_type": "markdown",
   "metadata": {},
   "source": [
    "А ещё можно на список колонок так глянуть:"
   ]
  },
  {
   "cell_type": "code",
   "execution_count": 17,
   "metadata": {
    "collapsed": false
   },
   "outputs": [
    {
     "data": {
      "text/plain": [
       "Index(['id', 'ndex', 'species', 'forme', 'type1', 'type2', 'ability1',\n",
       "       'ability2', 'abilityH', 'hp', 'attack', 'defense', 'spattack',\n",
       "       'spdefense', 'speed', 'total', 'weight', 'height', 'dex1', 'dex2',\n",
       "       'class', 'percent-male', 'percent-female', 'pre-evolution',\n",
       "       'egg-group1', 'egg-group2'],\n",
       "      dtype='object')"
      ]
     },
     "execution_count": 17,
     "metadata": {},
     "output_type": "execute_result"
    }
   ],
   "source": [
    "pokemon.columns"
   ]
  },
  {
   "cell_type": "markdown",
   "metadata": {},
   "source": [
    "Узнаем описательные статистики (минимум, максимум, среднее и прочие):"
   ]
  },
  {
   "cell_type": "code",
   "execution_count": 11,
   "metadata": {
    "collapsed": false,
    "scrolled": true
   },
   "outputs": [
    {
     "name": "stderr",
     "output_type": "stream",
     "text": [
      "/Users/boris/anaconda3/lib/python3.5/site-packages/numpy/lib/function_base.py:3834: RuntimeWarning: Invalid value encountered in percentile\n",
      "  RuntimeWarning)\n"
     ]
    },
    {
     "data": {
      "text/html": [
       "<div>\n",
       "<table border=\"1\" class=\"dataframe\">\n",
       "  <thead>\n",
       "    <tr style=\"text-align: right;\">\n",
       "      <th></th>\n",
       "      <th>id</th>\n",
       "      <th>ndex</th>\n",
       "      <th>hp</th>\n",
       "      <th>attack</th>\n",
       "      <th>defense</th>\n",
       "      <th>spattack</th>\n",
       "      <th>spdefense</th>\n",
       "      <th>speed</th>\n",
       "      <th>total</th>\n",
       "      <th>percent-male</th>\n",
       "      <th>percent-female</th>\n",
       "    </tr>\n",
       "  </thead>\n",
       "  <tbody>\n",
       "    <tr>\n",
       "      <th>count</th>\n",
       "      <td>1061.000000</td>\n",
       "      <td>1061.000000</td>\n",
       "      <td>1061.000000</td>\n",
       "      <td>1061.000000</td>\n",
       "      <td>1061.000000</td>\n",
       "      <td>1061.000000</td>\n",
       "      <td>1061.000000</td>\n",
       "      <td>1061.000000</td>\n",
       "      <td>1061.000000</td>\n",
       "      <td>859.000000</td>\n",
       "      <td>859.000000</td>\n",
       "    </tr>\n",
       "    <tr>\n",
       "      <th>mean</th>\n",
       "      <td>531.244109</td>\n",
       "      <td>417.471254</td>\n",
       "      <td>70.041470</td>\n",
       "      <td>79.602262</td>\n",
       "      <td>73.730443</td>\n",
       "      <td>74.550424</td>\n",
       "      <td>72.911404</td>\n",
       "      <td>70.321395</td>\n",
       "      <td>441.157399</td>\n",
       "      <td>0.544529</td>\n",
       "      <td>0.455471</td>\n",
       "    </tr>\n",
       "    <tr>\n",
       "      <th>std</th>\n",
       "      <td>306.748505</td>\n",
       "      <td>239.020743</td>\n",
       "      <td>25.893508</td>\n",
       "      <td>31.378369</td>\n",
       "      <td>30.394899</td>\n",
       "      <td>31.975146</td>\n",
       "      <td>27.995681</td>\n",
       "      <td>29.328288</td>\n",
       "      <td>121.289505</td>\n",
       "      <td>0.207969</td>\n",
       "      <td>0.207969</td>\n",
       "    </tr>\n",
       "    <tr>\n",
       "      <th>min</th>\n",
       "      <td>1.000000</td>\n",
       "      <td>1.000000</td>\n",
       "      <td>1.000000</td>\n",
       "      <td>5.000000</td>\n",
       "      <td>5.000000</td>\n",
       "      <td>10.000000</td>\n",
       "      <td>20.000000</td>\n",
       "      <td>5.000000</td>\n",
       "      <td>175.000000</td>\n",
       "      <td>0.000000</td>\n",
       "      <td>0.000000</td>\n",
       "    </tr>\n",
       "    <tr>\n",
       "      <th>25%</th>\n",
       "      <td>266.000000</td>\n",
       "      <td>201.000000</td>\n",
       "      <td>50.000000</td>\n",
       "      <td>55.000000</td>\n",
       "      <td>50.000000</td>\n",
       "      <td>50.000000</td>\n",
       "      <td>50.000000</td>\n",
       "      <td>48.000000</td>\n",
       "      <td>336.000000</td>\n",
       "      <td>NaN</td>\n",
       "      <td>NaN</td>\n",
       "    </tr>\n",
       "    <tr>\n",
       "      <th>50%</th>\n",
       "      <td>531.000000</td>\n",
       "      <td>423.000000</td>\n",
       "      <td>68.000000</td>\n",
       "      <td>75.000000</td>\n",
       "      <td>70.000000</td>\n",
       "      <td>70.000000</td>\n",
       "      <td>70.000000</td>\n",
       "      <td>68.000000</td>\n",
       "      <td>455.000000</td>\n",
       "      <td>NaN</td>\n",
       "      <td>NaN</td>\n",
       "    </tr>\n",
       "    <tr>\n",
       "      <th>75%</th>\n",
       "      <td>796.000000</td>\n",
       "      <td>646.000000</td>\n",
       "      <td>80.000000</td>\n",
       "      <td>100.000000</td>\n",
       "      <td>91.000000</td>\n",
       "      <td>95.000000</td>\n",
       "      <td>90.000000</td>\n",
       "      <td>93.000000</td>\n",
       "      <td>520.000000</td>\n",
       "      <td>NaN</td>\n",
       "      <td>NaN</td>\n",
       "    </tr>\n",
       "    <tr>\n",
       "      <th>max</th>\n",
       "      <td>1062.000000</td>\n",
       "      <td>802.000000</td>\n",
       "      <td>255.000000</td>\n",
       "      <td>190.000000</td>\n",
       "      <td>230.000000</td>\n",
       "      <td>194.000000</td>\n",
       "      <td>230.000000</td>\n",
       "      <td>180.000000</td>\n",
       "      <td>780.000000</td>\n",
       "      <td>1.000000</td>\n",
       "      <td>1.000000</td>\n",
       "    </tr>\n",
       "  </tbody>\n",
       "</table>\n",
       "</div>"
      ],
      "text/plain": [
       "                id         ndex           hp       attack      defense  \\\n",
       "count  1061.000000  1061.000000  1061.000000  1061.000000  1061.000000   \n",
       "mean    531.244109   417.471254    70.041470    79.602262    73.730443   \n",
       "std     306.748505   239.020743    25.893508    31.378369    30.394899   \n",
       "min       1.000000     1.000000     1.000000     5.000000     5.000000   \n",
       "25%     266.000000   201.000000    50.000000    55.000000    50.000000   \n",
       "50%     531.000000   423.000000    68.000000    75.000000    70.000000   \n",
       "75%     796.000000   646.000000    80.000000   100.000000    91.000000   \n",
       "max    1062.000000   802.000000   255.000000   190.000000   230.000000   \n",
       "\n",
       "          spattack    spdefense        speed        total  percent-male  \\\n",
       "count  1061.000000  1061.000000  1061.000000  1061.000000    859.000000   \n",
       "mean     74.550424    72.911404    70.321395   441.157399      0.544529   \n",
       "std      31.975146    27.995681    29.328288   121.289505      0.207969   \n",
       "min      10.000000    20.000000     5.000000   175.000000      0.000000   \n",
       "25%      50.000000    50.000000    48.000000   336.000000           NaN   \n",
       "50%      70.000000    70.000000    68.000000   455.000000           NaN   \n",
       "75%      95.000000    90.000000    93.000000   520.000000           NaN   \n",
       "max     194.000000   230.000000   180.000000   780.000000      1.000000   \n",
       "\n",
       "       percent-female  \n",
       "count      859.000000  \n",
       "mean         0.455471  \n",
       "std          0.207969  \n",
       "min          0.000000  \n",
       "25%               NaN  \n",
       "50%               NaN  \n",
       "75%               NaN  \n",
       "max          1.000000  "
      ]
     },
     "execution_count": 11,
     "metadata": {},
     "output_type": "execute_result"
    }
   ],
   "source": [
    "pokemon.describe()"
   ]
  },
  {
   "cell_type": "markdown",
   "metadata": {},
   "source": [
    "Посмотрим на отдельно взятый столбик данных:"
   ]
  },
  {
   "cell_type": "code",
   "execution_count": 12,
   "metadata": {
    "collapsed": false
   },
   "outputs": [
    {
     "data": {
      "text/plain": [
       "0        49\n",
       "1        62\n",
       "2        82\n",
       "3        52\n",
       "4        64\n",
       "5        84\n",
       "6        48\n",
       "7        63\n",
       "8        83\n",
       "9        30\n",
       "10       20\n",
       "11       45\n",
       "12       35\n",
       "13       25\n",
       "14       90\n",
       "15       45\n",
       "16       60\n",
       "17       80\n",
       "18       56\n",
       "19       81\n",
       "20       60\n",
       "21       90\n",
       "22       60\n",
       "23       95\n",
       "24       55\n",
       "25       90\n",
       "26       75\n",
       "27      100\n",
       "28       47\n",
       "29       62\n",
       "       ... \n",
       "1031     95\n",
       "1032     95\n",
       "1033     95\n",
       "1034     95\n",
       "1035     95\n",
       "1036     95\n",
       "1037     95\n",
       "1038     95\n",
       "1039     95\n",
       "1040     95\n",
       "1041     95\n",
       "1042     95\n",
       "1043     60\n",
       "1044     60\n",
       "1045     60\n",
       "1046     60\n",
       "1047     60\n",
       "1048     60\n",
       "1049    100\n",
       "1050    100\n",
       "1051    100\n",
       "1052    100\n",
       "1053    100\n",
       "1054    100\n",
       "1055    100\n",
       "1056    100\n",
       "1057    100\n",
       "1058    100\n",
       "1059    110\n",
       "1060     95\n",
       "Name: attack, dtype: int64"
      ]
     },
     "execution_count": 12,
     "metadata": {},
     "output_type": "execute_result"
    }
   ],
   "source": [
    "pokemon.attack"
   ]
  },
  {
   "cell_type": "markdown",
   "metadata": {},
   "source": [
    "Альтернативный вариант выделения отдельного столбика. Полезен, если название столбика содержит пробелы. Пробелы в названиях столбцов — это плохой стиль, но иногда приходится сталкиваться."
   ]
  },
  {
   "cell_type": "code",
   "execution_count": 13,
   "metadata": {
    "collapsed": false
   },
   "outputs": [
    {
     "data": {
      "text/plain": [
       "0        49\n",
       "1        62\n",
       "2        82\n",
       "3        52\n",
       "4        64\n",
       "5        84\n",
       "6        48\n",
       "7        63\n",
       "8        83\n",
       "9        30\n",
       "10       20\n",
       "11       45\n",
       "12       35\n",
       "13       25\n",
       "14       90\n",
       "15       45\n",
       "16       60\n",
       "17       80\n",
       "18       56\n",
       "19       81\n",
       "20       60\n",
       "21       90\n",
       "22       60\n",
       "23       95\n",
       "24       55\n",
       "25       90\n",
       "26       75\n",
       "27      100\n",
       "28       47\n",
       "29       62\n",
       "       ... \n",
       "1031     95\n",
       "1032     95\n",
       "1033     95\n",
       "1034     95\n",
       "1035     95\n",
       "1036     95\n",
       "1037     95\n",
       "1038     95\n",
       "1039     95\n",
       "1040     95\n",
       "1041     95\n",
       "1042     95\n",
       "1043     60\n",
       "1044     60\n",
       "1045     60\n",
       "1046     60\n",
       "1047     60\n",
       "1048     60\n",
       "1049    100\n",
       "1050    100\n",
       "1051    100\n",
       "1052    100\n",
       "1053    100\n",
       "1054    100\n",
       "1055    100\n",
       "1056    100\n",
       "1057    100\n",
       "1058    100\n",
       "1059    110\n",
       "1060     95\n",
       "Name: attack, dtype: int64"
      ]
     },
     "execution_count": 13,
     "metadata": {},
     "output_type": "execute_result"
    }
   ],
   "source": [
    "pokemon['attack']"
   ]
  },
  {
   "cell_type": "markdown",
   "metadata": {},
   "source": [
    "Строки с 2 по 9, столбец 3. Будьте внимательны! \n",
    "1. Питон нумерует строки и столбцы начиная с нулевого! \n",
    "1. Правая граница интервала никогда не включается!"
   ]
  },
  {
   "cell_type": "code",
   "execution_count": 14,
   "metadata": {
    "collapsed": false
   },
   "outputs": [
    {
     "data": {
      "text/plain": [
       "2      Venusaur\n",
       "3    Charmander\n",
       "4    Charmeleon\n",
       "5     Charizard\n",
       "6      Squirtle\n",
       "7     Wartortle\n",
       "8     Blastoise\n",
       "Name: forme, dtype: object"
      ]
     },
     "execution_count": 14,
     "metadata": {},
     "output_type": "execute_result"
    }
   ],
   "source": [
    "pokemon.iloc[2:9, 3]"
   ]
  },
  {
   "cell_type": "markdown",
   "metadata": {},
   "source": [
    "Создадим новую переменную:"
   ]
  },
  {
   "cell_type": "code",
   "execution_count": 15,
   "metadata": {
    "collapsed": true
   },
   "outputs": [],
   "source": [
    "pokemon.force = pokemon.attack + pokemon.defense"
   ]
  },
  {
   "cell_type": "markdown",
   "metadata": {},
   "source": [
    "Диаграмма рассеивания:"
   ]
  },
  {
   "cell_type": "code",
   "execution_count": 18,
   "metadata": {
    "collapsed": false
   },
   "outputs": [
    {
     "data": {
      "text/plain": [
       "<seaborn.axisgrid.JointGrid at 0x11a54e198>"
      ]
     },
     "execution_count": 18,
     "metadata": {},
     "output_type": "execute_result"
    },
    {
     "data": {
      "image/png": "[encoded data removed]",
      "text/plain": [
       "<matplotlib.figure.Figure at 0x11a54e9b0>"
      ]
     },
     "metadata": {},
     "output_type": "display_data"
    }
   ],
   "source": [
    "sns.jointplot(data=pokemon, x='attack', y='defense')"
   ]
  },
  {
   "cell_type": "markdown",
   "metadata": {},
   "source": [
    "Документация по конкретной функции. Хотя гуглить проще."
   ]
  },
  {
   "cell_type": "code",
   "execution_count": 19,
   "metadata": {
    "collapsed": false
   },
   "outputs": [
    {
     "name": "stdout",
     "output_type": "stream",
     "text": [
      "Help on function jointplot in module seaborn.distributions:\n",
      "\n",
      "jointplot(x, y, data=None, kind='scatter', stat_func=<function pearsonr at 0x1157f5378>, color=None, size=6, ratio=5, space=0.2, dropna=True, xlim=None, ylim=None, joint_kws=None, marginal_kws=None, annot_kws=None, **kwargs)\n",
      "    Draw a plot of two variables with bivariate and univariate graphs.\n",
      "    \n",
      "    This function provides a convenient interface to the :class:`JointGrid`\n",
      "    class, with several canned plot kinds. This is intended to be a fairly\n",
      "    lightweight wrapper; if you need more flexibility, you should use\n",
      "    :class:`JointGrid` directly.\n",
      "    \n",
      "    Parameters\n",
      "    ----------\n",
      "    x, y : strings or vectors\n",
      "        Data or names of variables in ``data``.\n",
      "    data : DataFrame, optional\n",
      "        DataFrame when ``x`` and ``y`` are variable names.\n",
      "    kind : { \"scatter\" | \"reg\" | \"resid\" | \"kde\" | \"hex\" }, optional\n",
      "        Kind of plot to draw.\n",
      "    stat_func : callable or None, optional\n",
      "        Function used to calculate a statistic about the relationship and\n",
      "        annotate the plot. Should map `x` and `y` either to a single value\n",
      "        or to a (value, p) tuple. Set to ``None`` if you don't want to\n",
      "        annotate the plot.\n",
      "    color : matplotlib color, optional\n",
      "        Color used for the plot elements.\n",
      "    size : numeric, optional\n",
      "        Size of the figure (it will be square).\n",
      "    ratio : numeric, optional\n",
      "        Ratio of joint axes size to marginal axes height.\n",
      "    space : numeric, optional\n",
      "        Space between the joint and marginal axes\n",
      "    dropna : bool, optional\n",
      "        If True, remove observations that are missing from ``x`` and ``y``.\n",
      "    {x, y}lim : two-tuples, optional\n",
      "        Axis limits to set before plotting.\n",
      "    {joint, marginal, annot}_kws : dicts, optional\n",
      "        Additional keyword arguments for the plot components.\n",
      "    kwargs : key, value pairings\n",
      "        Additional keyword arguments are passed to the function used to\n",
      "        draw the plot on the joint Axes, superseding items in the\n",
      "        ``joint_kws`` dictionary.\n",
      "    \n",
      "    Returns\n",
      "    -------\n",
      "    grid : :class:`JointGrid`\n",
      "        :class:`JointGrid` object with the plot on it.\n",
      "    \n",
      "    See Also\n",
      "    --------\n",
      "    JointGrid : The Grid class used for drawing this plot. Use it directly if\n",
      "                you need more flexibility.\n",
      "    \n",
      "    Examples\n",
      "    --------\n",
      "    \n",
      "    Draw a scatterplot with marginal histograms:\n",
      "    \n",
      "    .. plot::\n",
      "        :context: close-figs\n",
      "    \n",
      "        >>> import numpy as np, pandas as pd; np.random.seed(0)\n",
      "        >>> import seaborn as sns; sns.set(style=\"white\", color_codes=True)\n",
      "        >>> tips = sns.load_dataset(\"tips\")\n",
      "        >>> g = sns.jointplot(x=\"total_bill\", y=\"tip\", data=tips)\n",
      "    \n",
      "    Add regression and kernel density fits:\n",
      "    \n",
      "    .. plot::\n",
      "        :context: close-figs\n",
      "    \n",
      "        >>> g = sns.jointplot(\"total_bill\", \"tip\", data=tips, kind=\"reg\")\n",
      "    \n",
      "    Replace the scatterplot with a joint histogram using hexagonal bins:\n",
      "    \n",
      "    .. plot::\n",
      "        :context: close-figs\n",
      "    \n",
      "        >>> g = sns.jointplot(\"total_bill\", \"tip\", data=tips, kind=\"hex\")\n",
      "    \n",
      "    Replace the scatterplots and histograms with density estimates and align\n",
      "    the marginal Axes tightly with the joint Axes:\n",
      "    \n",
      "    .. plot::\n",
      "        :context: close-figs\n",
      "    \n",
      "        >>> iris = sns.load_dataset(\"iris\")\n",
      "        >>> g = sns.jointplot(\"sepal_width\", \"petal_length\", data=iris,\n",
      "        ...                   kind=\"kde\", space=0, color=\"g\")\n",
      "    \n",
      "    Use a different statistic for the annotation:\n",
      "    \n",
      "    .. plot::\n",
      "        :context: close-figs\n",
      "    \n",
      "        >>> from scipy.stats import spearmanr\n",
      "        >>> g = sns.jointplot(\"size\", \"total_bill\", data=tips,\n",
      "        ...                   stat_func=spearmanr, color=\"m\")\n",
      "    \n",
      "    Draw a scatterplot, then add a joint density estimate:\n",
      "    \n",
      "    .. plot::\n",
      "        :context: close-figs\n",
      "    \n",
      "        >>> g = (sns.jointplot(\"sepal_length\", \"sepal_width\",\n",
      "        ...                    data=iris, color=\"k\")\n",
      "        ...         .plot_joint(sns.kdeplot, zorder=0, n_levels=6))\n",
      "    \n",
      "    Pass vectors in directly without using Pandas, then name the axes:\n",
      "    \n",
      "    .. plot::\n",
      "        :context: close-figs\n",
      "    \n",
      "        >>> x, y = np.random.randn(2, 300)\n",
      "        >>> g = (sns.jointplot(x, y, kind=\"hex\", stat_func=None)\n",
      "        ...         .set_axis_labels(\"x\", \"y\"))\n",
      "    \n",
      "    Draw a smaller figure with more space devoted to the marginal plots:\n",
      "    \n",
      "    .. plot::\n",
      "        :context: close-figs\n",
      "    \n",
      "        >>> g = sns.jointplot(\"total_bill\", \"tip\", data=tips,\n",
      "        ...                   size=5, ratio=3, color=\"g\")\n",
      "    \n",
      "    Pass keyword arguments down to the underlying plots:\n",
      "    \n",
      "    .. plot::\n",
      "        :context: close-figs\n",
      "    \n",
      "        >>> g = sns.jointplot(\"petal_length\", \"sepal_length\", data=iris,\n",
      "        ...                   marginal_kws=dict(bins=15, rug=True),\n",
      "        ...                   annot_kws=dict(stat=\"r\"),\n",
      "        ...                   s=40, edgecolor=\"w\", linewidth=1)\n",
      "\n"
     ]
    }
   ],
   "source": [
    "help(sns.jointplot)"
   ]
  },
  {
   "cell_type": "code",
   "execution_count": null,
   "metadata": {
    "collapsed": true
   },
   "outputs": [],
   "source": []
  }
 ],
 "metadata": {
  "anaconda-cloud": {},
  "kernelspec": {
   "display_name": "Python 3",
   "language": "python",
   "name": "python3"
  },
  "language_info": {
   "codemirror_mode": {
    "name": "ipython",
    "version": 3
   },
   "file_extension": ".py",
   "mimetype": "text/x-python",
   "name": "python",
   "nbconvert_exporter": "python",
   "pygments_lexer": "ipython3",
   "version": "3.5.2"
  }
 },
 "nbformat": 4,
 "nbformat_minor": 0
}
