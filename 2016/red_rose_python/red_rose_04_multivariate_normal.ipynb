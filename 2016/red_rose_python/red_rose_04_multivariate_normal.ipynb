{
 "cells": [
  {
   "cell_type": "code",
   "execution_count": 1,
   "metadata": {
    "collapsed": true
   },
   "outputs": [],
   "source": [
    "import pandas as pd\n",
    "import numpy as np\n",
    "import seaborn as sns\n",
    "import scipy.stats as stats\n",
    "import matplotlib.pyplot as plt\n",
    "%matplotlib inline"
   ]
  },
  {
   "cell_type": "code",
   "execution_count": 9,
   "metadata": {
    "collapsed": false
   },
   "outputs": [],
   "source": [
    "X = stats.uniform(loc=2, scale=8)"
   ]
  },
  {
   "cell_type": "code",
   "execution_count": 10,
   "metadata": {
    "collapsed": false
   },
   "outputs": [
    {
     "data": {
      "text/plain": [
       "6.0"
      ]
     },
     "execution_count": 10,
     "metadata": {},
     "output_type": "execute_result"
    }
   ],
   "source": [
    "X.mean()"
   ]
  },
  {
   "cell_type": "code",
   "execution_count": 11,
   "metadata": {
    "collapsed": false
   },
   "outputs": [
    {
     "data": {
      "text/plain": [
       "5.333333333333333"
      ]
     },
     "execution_count": 11,
     "metadata": {},
     "output_type": "execute_result"
    }
   ],
   "source": [
    "X.var()"
   ]
  },
  {
   "cell_type": "code",
   "execution_count": 13,
   "metadata": {
    "collapsed": false
   },
   "outputs": [
    {
     "data": {
      "text/plain": [
       "41.33333333333333"
      ]
     },
     "execution_count": 13,
     "metadata": {},
     "output_type": "execute_result"
    }
   ],
   "source": [
    "X.moment(2)"
   ]
  },
  {
   "cell_type": "markdown",
   "metadata": {},
   "source": [
    "Квантильная функция:"
   ]
  },
  {
   "cell_type": "code",
   "execution_count": 16,
   "metadata": {
    "collapsed": false
   },
   "outputs": [
    {
     "data": {
      "text/plain": [
       "9.1999999999999993"
      ]
     },
     "execution_count": 16,
     "metadata": {},
     "output_type": "execute_result"
    }
   ],
   "source": [
    "X.ppf(0.9)"
   ]
  },
  {
   "cell_type": "code",
   "execution_count": 23,
   "metadata": {
    "collapsed": true
   },
   "outputs": [],
   "source": [
    "v = X.rvs()"
   ]
  },
  {
   "cell_type": "code",
   "execution_count": 24,
   "metadata": {
    "collapsed": false
   },
   "outputs": [
    {
     "data": {
      "text/plain": [
       "9.819277860195374"
      ]
     },
     "execution_count": 24,
     "metadata": {},
     "output_type": "execute_result"
    }
   ],
   "source": [
    "v"
   ]
  },
  {
   "cell_type": "code",
   "execution_count": 19,
   "metadata": {
    "collapsed": true
   },
   "outputs": [],
   "source": [
    "w = X.rvs(10)"
   ]
  },
  {
   "cell_type": "code",
   "execution_count": 20,
   "metadata": {
    "collapsed": false
   },
   "outputs": [
    {
     "data": {
      "text/plain": [
       "array([ 9.6969911 ,  9.37003663,  4.65275973,  3.48768608,  2.31439418,\n",
       "        7.81066492,  2.69240374,  7.76941428,  8.00622158,  5.28606074])"
      ]
     },
     "execution_count": 20,
     "metadata": {},
     "output_type": "execute_result"
    }
   ],
   "source": [
    "w"
   ]
  },
  {
   "cell_type": "code",
   "execution_count": 25,
   "metadata": {
    "collapsed": true
   },
   "outputs": [],
   "source": [
    "z = X.rvs([10, 3])"
   ]
  },
  {
   "cell_type": "code",
   "execution_count": 26,
   "metadata": {
    "collapsed": false
   },
   "outputs": [
    {
     "data": {
      "text/plain": [
       "array([[ 2.91839015,  4.24424029,  6.88733939],\n",
       "       [ 5.28747959,  2.77584393,  2.87234955],\n",
       "       [ 7.34462979,  5.52891836,  9.35954991],\n",
       "       [ 2.06303793,  7.51845907,  9.114818  ],\n",
       "       [ 7.53998168,  2.11324204,  2.02269886],\n",
       "       [ 9.58745144,  5.1660538 ,  5.04878039],\n",
       "       [ 5.9321832 ,  2.11995854,  3.27872469],\n",
       "       [ 9.33733496,  5.89207442,  8.85635825],\n",
       "       [ 3.46255025,  7.51299178,  4.75249189],\n",
       "       [ 6.06567617,  2.33059066,  7.73609637]])"
      ]
     },
     "execution_count": 26,
     "metadata": {},
     "output_type": "execute_result"
    }
   ],
   "source": [
    "z"
   ]
  },
  {
   "cell_type": "markdown",
   "metadata": {},
   "source": [
    "#### Задачка\n",
    "\n",
    "$X \\sim N(7; 8)$ и $F(t)$ — её функция распределения.\n",
    "\n",
    "Как распределена случайная величина $Y =F(X)$?\n",
    "\n",
    "А ещё можно **жирный шрифт** сделать :)"
   ]
  },
  {
   "cell_type": "code",
   "execution_count": 36,
   "metadata": {
    "collapsed": true
   },
   "outputs": [],
   "source": [
    "X = stats.norm(loc=7, scale=np.sqrt(8))\n",
    "x_values = X.rvs(100000)\n",
    "y_values = X.cdf(x_values)"
   ]
  },
  {
   "cell_type": "code",
   "execution_count": 49,
   "metadata": {
    "collapsed": false
   },
   "outputs": [
    {
     "name": "stderr",
     "output_type": "stream",
     "text": [
      "/Users/boris/anaconda3/lib/python3.5/site-packages/statsmodels/nonparametric/kdetools.py:20: VisibleDeprecationWarning: using a non-integer number instead of an integer will result in an error in the future\n",
      "  y = X[:m/2+1] + np.r_[0,X[m/2+1:],0]*1j\n"
     ]
    },
    {
     "data": {
      "text/plain": [
       "<matplotlib.text.Text at 0x11d788dd8>"
      ]
     },
     "execution_count": 49,
     "metadata": {},
     "output_type": "execute_result"
    },
    {
     "data": {
      "image/png": "[encoded data removed]",
      "text/plain": [
       "<matplotlib.figure.Figure at 0x11d1cee48>"
      ]
     },
     "metadata": {},
     "output_type": "display_data"
    }
   ],
   "source": [
    "sns.distplot(y_values)\n",
    "plt.xlabel(\"Привет, Ира!\")"
   ]
  },
  {
   "cell_type": "code",
   "execution_count": 38,
   "metadata": {
    "collapsed": false
   },
   "outputs": [
    {
     "data": {
      "text/plain": [
       "array([[ 2.91839015,  4.24424029,  6.88733939],\n",
       "       [ 5.28747959,  2.77584393,  2.87234955],\n",
       "       [ 7.34462979,  5.52891836,  9.35954991],\n",
       "       [ 2.06303793,  7.51845907,  9.114818  ],\n",
       "       [ 7.53998168,  2.11324204,  2.02269886],\n",
       "       [ 9.58745144,  5.1660538 ,  5.04878039],\n",
       "       [ 5.9321832 ,  2.11995854,  3.27872469],\n",
       "       [ 9.33733496,  5.89207442,  8.85635825],\n",
       "       [ 3.46255025,  7.51299178,  4.75249189],\n",
       "       [ 6.06567617,  2.33059066,  7.73609637]])"
      ]
     },
     "execution_count": 38,
     "metadata": {},
     "output_type": "execute_result"
    }
   ],
   "source": [
    "z"
   ]
  },
  {
   "cell_type": "code",
   "execution_count": 39,
   "metadata": {
    "collapsed": false
   },
   "outputs": [
    {
     "data": {
      "text/plain": [
       "164.67029535766258"
      ]
     },
     "execution_count": 39,
     "metadata": {},
     "output_type": "execute_result"
    }
   ],
   "source": [
    "np.sum(z)"
   ]
  },
  {
   "cell_type": "code",
   "execution_count": 40,
   "metadata": {
    "collapsed": false
   },
   "outputs": [
    {
     "name": "stdout",
     "output_type": "stream",
     "text": [
      "Help on function sum in module numpy.core.fromnumeric:\n",
      "\n",
      "sum(a, axis=None, dtype=None, out=None, keepdims=False)\n",
      "    Sum of array elements over a given axis.\n",
      "    \n",
      "    Parameters\n",
      "    ----------\n",
      "    a : array_like\n",
      "        Elements to sum.\n",
      "    axis : None or int or tuple of ints, optional\n",
      "        Axis or axes along which a sum is performed.  The default,\n",
      "        axis=None, will sum all of the elements of the input array.  If\n",
      "        axis is negative it counts from the last to the first axis.\n",
      "    \n",
      "        .. versionadded:: 1.7.0\n",
      "    \n",
      "        If axis is a tuple of ints, a sum is performed on all of the axes\n",
      "        specified in the tuple instead of a single axis or all the axes as\n",
      "        before.\n",
      "    dtype : dtype, optional\n",
      "        The type of the returned array and of the accumulator in which the\n",
      "        elements are summed.  The dtype of `a` is used by default unless `a`\n",
      "        has an integer dtype of less precision than the default platform\n",
      "        integer.  In that case, if `a` is signed then the platform integer\n",
      "        is used while if `a` is unsigned then an unsigned integer of the\n",
      "        same precision as the platform integer is used.\n",
      "    out : ndarray, optional\n",
      "        Alternative output array in which to place the result. It must have\n",
      "        the same shape as the expected output, but the type of the output\n",
      "        values will be cast if necessary.\n",
      "    keepdims : bool, optional\n",
      "        If this is set to True, the axes which are reduced are left in the\n",
      "        result as dimensions with size one. With this option, the result\n",
      "        will broadcast correctly against the input array.\n",
      "    \n",
      "    Returns\n",
      "    -------\n",
      "    sum_along_axis : ndarray\n",
      "        An array with the same shape as `a`, with the specified\n",
      "        axis removed.   If `a` is a 0-d array, or if `axis` is None, a scalar\n",
      "        is returned.  If an output array is specified, a reference to\n",
      "        `out` is returned.\n",
      "    \n",
      "    See Also\n",
      "    --------\n",
      "    ndarray.sum : Equivalent method.\n",
      "    \n",
      "    cumsum : Cumulative sum of array elements.\n",
      "    \n",
      "    trapz : Integration of array values using the composite trapezoidal rule.\n",
      "    \n",
      "    mean, average\n",
      "    \n",
      "    Notes\n",
      "    -----\n",
      "    Arithmetic is modular when using integer types, and no error is\n",
      "    raised on overflow.\n",
      "    \n",
      "    The sum of an empty array is the neutral element 0:\n",
      "    \n",
      "    >>> np.sum([])\n",
      "    0.0\n",
      "    \n",
      "    Examples\n",
      "    --------\n",
      "    >>> np.sum([0.5, 1.5])\n",
      "    2.0\n",
      "    >>> np.sum([0.5, 0.7, 0.2, 1.5], dtype=np.int32)\n",
      "    1\n",
      "    >>> np.sum([[0, 1], [0, 5]])\n",
      "    6\n",
      "    >>> np.sum([[0, 1], [0, 5]], axis=0)\n",
      "    array([0, 6])\n",
      "    >>> np.sum([[0, 1], [0, 5]], axis=1)\n",
      "    array([1, 5])\n",
      "    \n",
      "    If the accumulator is too small, overflow occurs:\n",
      "    \n",
      "    >>> np.ones(128, dtype=np.int8).sum(dtype=np.int8)\n",
      "    -128\n",
      "\n"
     ]
    }
   ],
   "source": [
    "help(np.sum)"
   ]
  },
  {
   "cell_type": "code",
   "execution_count": 41,
   "metadata": {
    "collapsed": false
   },
   "outputs": [
    {
     "data": {
      "text/plain": [
       "array([ 59.53871517,  45.20237288,  59.92920731])"
      ]
     },
     "execution_count": 41,
     "metadata": {},
     "output_type": "execute_result"
    }
   ],
   "source": [
    "np.sum(z, axis=0)"
   ]
  },
  {
   "cell_type": "code",
   "execution_count": 42,
   "metadata": {
    "collapsed": false
   },
   "outputs": [
    {
     "data": {
      "text/plain": [
       "array([ 14.04996983,  10.93567308,  22.23309806,  18.696315  ,\n",
       "        11.67592258,  19.80228563,  11.33086643,  24.08576763,\n",
       "        15.72803392,  16.1323632 ])"
      ]
     },
     "execution_count": 42,
     "metadata": {},
     "output_type": "execute_result"
    }
   ],
   "source": [
    "np.sum(z, axis=1)"
   ]
  },
  {
   "cell_type": "code",
   "execution_count": 45,
   "metadata": {
    "collapsed": false
   },
   "outputs": [
    {
     "data": {
      "text/plain": [
       "9.1148179992285261"
      ]
     },
     "execution_count": 45,
     "metadata": {},
     "output_type": "execute_result"
    }
   ],
   "source": [
    "z[3, 2]"
   ]
  },
  {
   "cell_type": "code",
   "execution_count": 46,
   "metadata": {
    "collapsed": false
   },
   "outputs": [
    {
     "data": {
      "text/plain": [
       "array([ 6.88733939,  2.87234955,  9.35954991,  9.114818  ,  2.02269886,\n",
       "        5.04878039,  3.27872469,  8.85635825,  4.75249189,  7.73609637])"
      ]
     },
     "execution_count": 46,
     "metadata": {},
     "output_type": "execute_result"
    }
   ],
   "source": [
    "z[:, 2]"
   ]
  },
  {
   "cell_type": "code",
   "execution_count": 48,
   "metadata": {
    "collapsed": false
   },
   "outputs": [
    {
     "data": {
      "text/plain": [
       "14.049969834646092"
      ]
     },
     "execution_count": 48,
     "metadata": {},
     "output_type": "execute_result"
    }
   ],
   "source": [
    "np.sum(z[0, :])"
   ]
  },
  {
   "cell_type": "markdown",
   "metadata": {},
   "source": [
    "Многомерное нормальное распределение\n",
    "\n",
    "$$\n",
    "Z \\sim \\mathcal{N} \\left( \n",
    "\\begin{pmatrix}\n",
    "4 \\\\\n",
    "-2 \\\\\n",
    "\\end{pmatrix};\n",
    "\\begin{pmatrix}\n",
    "4 & -4\\\\\n",
    "-4 & 9\\\\\n",
    "\\end{pmatrix}\n",
    "\\right)\n",
    "$$"
   ]
  },
  {
   "cell_type": "code",
   "execution_count": 50,
   "metadata": {
    "collapsed": true
   },
   "outputs": [],
   "source": [
    "Z = stats.multivariate_normal(mean=[4, -2],\n",
    "                             cov=[[4, -4], [-4, 9]])"
   ]
  },
  {
   "cell_type": "code",
   "execution_count": 51,
   "metadata": {
    "collapsed": true
   },
   "outputs": [],
   "source": [
    "z_values = Z.rvs(100)"
   ]
  },
  {
   "cell_type": "code",
   "execution_count": 52,
   "metadata": {
    "collapsed": false
   },
   "outputs": [
    {
     "data": {
      "text/plain": [
       "array([[  6.5678983 ,  -5.17047498],\n",
       "       [  2.55252261,   0.05014449],\n",
       "       [  5.09341832,  -4.00345885],\n",
       "       [  0.49591468,   3.36515576],\n",
       "       [  4.87549773,  -2.23205574],\n",
       "       [  7.04225905,  -6.79706832],\n",
       "       [  4.86826548,  -4.5460329 ],\n",
       "       [  2.11989192,   0.78499891],\n",
       "       [  4.70372756,  -1.7374114 ],\n",
       "       [  2.34955521,  -5.01665268],\n",
       "       [  3.93775537,  -2.41822181],\n",
       "       [  3.76511881,  -2.97031743],\n",
       "       [  5.71392   ,  -1.24573542],\n",
       "       [  6.21510428,  -0.62689684],\n",
       "       [  1.49133629,  -0.67624028],\n",
       "       [  5.22665774,  -1.62615926],\n",
       "       [  1.49202193,  -2.0200636 ],\n",
       "       [  1.4032652 ,   1.7143557 ],\n",
       "       [  4.18699673,  -1.16791766],\n",
       "       [  1.34022924,   0.56839079],\n",
       "       [  4.21453526,   0.97777285],\n",
       "       [  0.79752791,   8.30945417],\n",
       "       [  5.96863737,  -2.91301431],\n",
       "       [  4.18097021,  -2.95279023],\n",
       "       [  8.45247405, -11.35495026],\n",
       "       [  2.36324322,   1.95847727],\n",
       "       [  3.53832808,  -2.50124372],\n",
       "       [  3.8043813 ,   1.69676611],\n",
       "       [  5.48629289,  -2.04996156],\n",
       "       [  3.07744976,   1.90815151],\n",
       "       [  3.6029696 ,  -4.15579468],\n",
       "       [  2.18136845,   4.20671992],\n",
       "       [  3.72687338,   0.69441753],\n",
       "       [  4.30697538,  -2.39991469],\n",
       "       [  6.20411171,  -8.4040892 ],\n",
       "       [  1.63984362,   0.57738157],\n",
       "       [  2.89659519,   0.24683372],\n",
       "       [  5.84404185,  -4.08229966],\n",
       "       [  4.06499883,  -1.58186269],\n",
       "       [  6.4007189 ,  -2.43053431],\n",
       "       [  3.07038372,  -2.88738988],\n",
       "       [  5.87078575,  -2.57030756],\n",
       "       [  3.21947235,  -1.40721888],\n",
       "       [  3.51206715,  -2.16377724],\n",
       "       [  3.89549758,  -4.93352878],\n",
       "       [  4.20233274,  -1.35688455],\n",
       "       [  4.91040102,  -6.53114995],\n",
       "       [  1.52560261,  -2.08663107],\n",
       "       [  0.57422058,  -5.32591388],\n",
       "       [  1.98988695,   4.59671728],\n",
       "       [  1.76011476,   1.11049438],\n",
       "       [  4.71572454,  -5.30330916],\n",
       "       [  3.26630973,  -1.07954477],\n",
       "       [  8.64172653,  -9.16291318],\n",
       "       [  0.04658384,   3.66076902],\n",
       "       [  5.10491942,  -4.24830471],\n",
       "       [  2.73561931,   2.33069713],\n",
       "       [  4.73275974,  -3.43235893],\n",
       "       [  4.20287516,   1.81436919],\n",
       "       [  6.69738316,  -7.56006975],\n",
       "       [  3.76158537,   1.09019368],\n",
       "       [  2.13324549,   0.63943462],\n",
       "       [  1.97466791,  -2.39800436],\n",
       "       [  2.10197754,  -0.28205156],\n",
       "       [  3.00861746,  -0.44556386],\n",
       "       [  1.63695557,   0.9356361 ],\n",
       "       [  5.66935422,  -3.1112103 ],\n",
       "       [  3.14455195,  -1.07863616],\n",
       "       [  5.5006456 ,  -3.81011206],\n",
       "       [ -0.31737625,   1.54456494],\n",
       "       [  2.58140829,   2.94480643],\n",
       "       [  0.98305776,  -0.38505173],\n",
       "       [  4.11330277,  -2.02280496],\n",
       "       [  1.86083928,  -0.03052713],\n",
       "       [  3.04305644,  -0.92862081],\n",
       "       [  4.36900539,  -2.84419971],\n",
       "       [  2.40836338,  -1.85770932],\n",
       "       [  2.52772426,   0.18661066],\n",
       "       [  5.15038665,  -4.30090106],\n",
       "       [  8.33719627,  -7.73561295],\n",
       "       [  2.07662774,  -2.20794009],\n",
       "       [  7.84403904,  -3.86109542],\n",
       "       [  0.39778554,   1.81510764],\n",
       "       [  1.28871762,   6.59818987],\n",
       "       [  4.44862423,   1.08894103],\n",
       "       [  6.2958447 ,  -2.47279132],\n",
       "       [  5.39423949,  -4.11405799],\n",
       "       [  2.6162566 ,  -3.49770899],\n",
       "       [  2.62910288,   2.08747095],\n",
       "       [  4.27639029,  -0.77488228],\n",
       "       [  6.27860548,  -8.4350966 ],\n",
       "       [  6.25157932,  -5.9760128 ],\n",
       "       [  1.25484432,   1.95761797],\n",
       "       [  4.14619044,  -1.77242691],\n",
       "       [  4.30179726,   0.45583892],\n",
       "       [  1.30640943,  -3.10713735],\n",
       "       [  7.25380876,  -9.44148297],\n",
       "       [  5.52480783,  -6.65196872],\n",
       "       [  4.16245987,  -3.10591326],\n",
       "       [  8.22084526, -11.45366258]])"
      ]
     },
     "execution_count": 52,
     "metadata": {},
     "output_type": "execute_result"
    }
   ],
   "source": [
    "z_values"
   ]
  },
  {
   "cell_type": "code",
   "execution_count": 53,
   "metadata": {
    "collapsed": true
   },
   "outputs": [],
   "source": [
    "z_df = pd.DataFrame({'Rost' : z_values[:, 0], \n",
    "                     'Ves' : z_values[:, 1]})"
   ]
  },
  {
   "cell_type": "code",
   "execution_count": 54,
   "metadata": {
    "collapsed": false
   },
   "outputs": [
    {
     "data": {
      "text/html": [
       "<div>\n",
       "<table border=\"1\" class=\"dataframe\">\n",
       "  <thead>\n",
       "    <tr style=\"text-align: right;\">\n",
       "      <th></th>\n",
       "      <th>Rost</th>\n",
       "      <th>Ves</th>\n",
       "    </tr>\n",
       "  </thead>\n",
       "  <tbody>\n",
       "    <tr>\n",
       "      <th>0</th>\n",
       "      <td>6.567898</td>\n",
       "      <td>-5.170475</td>\n",
       "    </tr>\n",
       "    <tr>\n",
       "      <th>1</th>\n",
       "      <td>2.552523</td>\n",
       "      <td>0.050144</td>\n",
       "    </tr>\n",
       "    <tr>\n",
       "      <th>2</th>\n",
       "      <td>5.093418</td>\n",
       "      <td>-4.003459</td>\n",
       "    </tr>\n",
       "    <tr>\n",
       "      <th>3</th>\n",
       "      <td>0.495915</td>\n",
       "      <td>3.365156</td>\n",
       "    </tr>\n",
       "    <tr>\n",
       "      <th>4</th>\n",
       "      <td>4.875498</td>\n",
       "      <td>-2.232056</td>\n",
       "    </tr>\n",
       "  </tbody>\n",
       "</table>\n",
       "</div>"
      ],
      "text/plain": [
       "       Rost       Ves\n",
       "0  6.567898 -5.170475\n",
       "1  2.552523  0.050144\n",
       "2  5.093418 -4.003459\n",
       "3  0.495915  3.365156\n",
       "4  4.875498 -2.232056"
      ]
     },
     "execution_count": 54,
     "metadata": {},
     "output_type": "execute_result"
    }
   ],
   "source": [
    "z_df.head()"
   ]
  },
  {
   "cell_type": "code",
   "execution_count": 55,
   "metadata": {
    "collapsed": false
   },
   "outputs": [
    {
     "data": {
      "text/html": [
       "<div>\n",
       "<table border=\"1\" class=\"dataframe\">\n",
       "  <thead>\n",
       "    <tr style=\"text-align: right;\">\n",
       "      <th></th>\n",
       "      <th>Rost</th>\n",
       "      <th>Ves</th>\n",
       "    </tr>\n",
       "  </thead>\n",
       "  <tbody>\n",
       "    <tr>\n",
       "      <th>count</th>\n",
       "      <td>100.000000</td>\n",
       "      <td>100.000000</td>\n",
       "    </tr>\n",
       "    <tr>\n",
       "      <th>mean</th>\n",
       "      <td>3.828259</td>\n",
       "      <td>-1.833172</td>\n",
       "    </tr>\n",
       "    <tr>\n",
       "      <th>std</th>\n",
       "      <td>2.032044</td>\n",
       "      <td>3.532172</td>\n",
       "    </tr>\n",
       "    <tr>\n",
       "      <th>min</th>\n",
       "      <td>-0.317376</td>\n",
       "      <td>-11.453663</td>\n",
       "    </tr>\n",
       "    <tr>\n",
       "      <th>25%</th>\n",
       "      <td>2.169338</td>\n",
       "      <td>-3.822858</td>\n",
       "    </tr>\n",
       "    <tr>\n",
       "      <th>50%</th>\n",
       "      <td>3.849939</td>\n",
       "      <td>-1.938886</td>\n",
       "    </tr>\n",
       "    <tr>\n",
       "      <th>75%</th>\n",
       "      <td>5.169454</td>\n",
       "      <td>0.592895</td>\n",
       "    </tr>\n",
       "    <tr>\n",
       "      <th>max</th>\n",
       "      <td>8.641727</td>\n",
       "      <td>8.309454</td>\n",
       "    </tr>\n",
       "  </tbody>\n",
       "</table>\n",
       "</div>"
      ],
      "text/plain": [
       "             Rost         Ves\n",
       "count  100.000000  100.000000\n",
       "mean     3.828259   -1.833172\n",
       "std      2.032044    3.532172\n",
       "min     -0.317376  -11.453663\n",
       "25%      2.169338   -3.822858\n",
       "50%      3.849939   -1.938886\n",
       "75%      5.169454    0.592895\n",
       "max      8.641727    8.309454"
      ]
     },
     "execution_count": 55,
     "metadata": {},
     "output_type": "execute_result"
    }
   ],
   "source": [
    "z_df.describe()"
   ]
  },
  {
   "cell_type": "code",
   "execution_count": 56,
   "metadata": {
    "collapsed": false
   },
   "outputs": [
    {
     "data": {
      "text/plain": [
       "<seaborn.axisgrid.JointGrid at 0x11db70e10>"
      ]
     },
     "execution_count": 56,
     "metadata": {},
     "output_type": "execute_result"
    },
    {
     "data": {
      "image/png": "[encoded data removed]",
      "text/plain": [
       "<matplotlib.figure.Figure at 0x11db70cc0>"
      ]
     },
     "metadata": {},
     "output_type": "display_data"
    }
   ],
   "source": [
    "sns.jointplot(data=z_df, x=\"Rost\", y=\"Ves\")"
   ]
  },
  {
   "cell_type": "code",
   "execution_count": null,
   "metadata": {
    "collapsed": true
   },
   "outputs": [],
   "source": []
  }
 ],
 "metadata": {
  "anaconda-cloud": {},
  "kernelspec": {
   "display_name": "Python [Root]",
   "language": "python",
   "name": "Python [Root]"
  },
  "language_info": {
   "codemirror_mode": {
    "name": "ipython",
    "version": 3
   },
   "file_extension": ".py",
   "mimetype": "text/x-python",
   "name": "python",
   "nbconvert_exporter": "python",
   "pygments_lexer": "ipython3",
   "version": "3.5.2"
  }
 },
 "nbformat": 4,
 "nbformat_minor": 0
}
