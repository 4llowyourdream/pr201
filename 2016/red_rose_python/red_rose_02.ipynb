{
 "cells": [
  {
   "cell_type": "code",
   "execution_count": 1,
   "metadata": {
    "collapsed": true
   },
   "outputs": [],
   "source": [
    "import numpy as np\n",
    "import pandas as pd\n",
    "import seaborn as sns\n",
    "import scipy.stats as stats\n",
    "import bokeh as bk\n",
    "%matplotlib inline"
   ]
  },
  {
   "cell_type": "code",
   "execution_count": 93,
   "metadata": {
    "collapsed": false
   },
   "outputs": [],
   "source": [
    "X = stats.binom(n=30, p=0.7)"
   ]
  },
  {
   "cell_type": "code",
   "execution_count": 94,
   "metadata": {
    "collapsed": false
   },
   "outputs": [
    {
     "data": {
      "text/plain": [
       "20.999999999999847"
      ]
     },
     "execution_count": 94,
     "metadata": {},
     "output_type": "execute_result"
    }
   ],
   "source": [
    "X.expect()"
   ]
  },
  {
   "cell_type": "code",
   "execution_count": 95,
   "metadata": {
    "collapsed": false
   },
   "outputs": [
    {
     "data": {
      "text/plain": [
       "6.3000000000000007"
      ]
     },
     "execution_count": 95,
     "metadata": {},
     "output_type": "execute_result"
    }
   ],
   "source": [
    "X.var()"
   ]
  },
  {
   "cell_type": "markdown",
   "metadata": {},
   "source": [
    "Найдём вероятность $P(X=7)$:"
   ]
  },
  {
   "cell_type": "code",
   "execution_count": 97,
   "metadata": {
    "collapsed": false
   },
   "outputs": [
    {
     "data": {
      "text/plain": [
       "1.5783752006340861e-07"
      ]
     },
     "execution_count": 97,
     "metadata": {},
     "output_type": "execute_result"
    }
   ],
   "source": [
    "X.pmf(7)"
   ]
  },
  {
   "cell_type": "code",
   "execution_count": 96,
   "metadata": {
    "collapsed": true
   },
   "outputs": [],
   "source": [
    "values = X.rvs(20)"
   ]
  },
  {
   "cell_type": "code",
   "execution_count": 24,
   "metadata": {
    "collapsed": false
   },
   "outputs": [
    {
     "data": {
      "text/plain": [
       "array([ 8, 10,  5,  8,  7,  5,  6,  7,  7,  7,  6,  7,  6,  8,  7,  7,  7,\n",
       "        5,  8,  9])"
      ]
     },
     "execution_count": 24,
     "metadata": {},
     "output_type": "execute_result"
    }
   ],
   "source": [
    "values"
   ]
  },
  {
   "cell_type": "code",
   "execution_count": 52,
   "metadata": {
    "collapsed": false
   },
   "outputs": [
    {
     "data": {
      "text/plain": [
       "True"
      ]
     },
     "execution_count": 52,
     "metadata": {},
     "output_type": "execute_result"
    }
   ],
   "source": [
    "4 - 3 == 1"
   ]
  },
  {
   "cell_type": "code",
   "execution_count": 54,
   "metadata": {
    "collapsed": false
   },
   "outputs": [
    {
     "data": {
      "text/plain": [
       "False"
      ]
     },
     "execution_count": 54,
     "metadata": {},
     "output_type": "execute_result"
    }
   ],
   "source": [
    "0.4 - 0.3 == 0.1"
   ]
  },
  {
   "cell_type": "code",
   "execution_count": 55,
   "metadata": {
    "collapsed": false
   },
   "outputs": [
    {
     "data": {
      "text/plain": [
       "True"
      ]
     },
     "execution_count": 55,
     "metadata": {},
     "output_type": "execute_result"
    }
   ],
   "source": [
    "0.1 + 0.3 == 0.4"
   ]
  },
  {
   "cell_type": "code",
   "execution_count": 56,
   "metadata": {
    "collapsed": false
   },
   "outputs": [
    {
     "data": {
      "text/plain": [
       "0.0012379400392853797"
      ]
     },
     "execution_count": 56,
     "metadata": {},
     "output_type": "execute_result"
    }
   ],
   "source": [
    "X.pmf(0)"
   ]
  },
  {
   "cell_type": "code",
   "execution_count": 57,
   "metadata": {
    "collapsed": false
   },
   "outputs": [
    {
     "data": {
      "text/plain": [
       "0.97438374466467348"
      ]
     },
     "execution_count": 57,
     "metadata": {},
     "output_type": "execute_result"
    }
   ],
   "source": [
    "X.cdf(10)"
   ]
  },
  {
   "cell_type": "code",
   "execution_count": 58,
   "metadata": {
    "collapsed": true
   },
   "outputs": [],
   "source": [
    "v = np.arange(2, 8)"
   ]
  },
  {
   "cell_type": "code",
   "execution_count": 59,
   "metadata": {
    "collapsed": false
   },
   "outputs": [
    {
     "data": {
      "text/plain": [
       "array([2, 3, 4, 5, 6, 7])"
      ]
     },
     "execution_count": 59,
     "metadata": {},
     "output_type": "execute_result"
    }
   ],
   "source": [
    "v"
   ]
  },
  {
   "cell_type": "code",
   "execution_count": 60,
   "metadata": {
    "collapsed": true
   },
   "outputs": [],
   "source": [
    "v = np.arange(2, 8, 0.3)"
   ]
  },
  {
   "cell_type": "code",
   "execution_count": 61,
   "metadata": {
    "collapsed": false
   },
   "outputs": [
    {
     "data": {
      "text/plain": [
       "array([ 2. ,  2.3,  2.6,  2.9,  3.2,  3.5,  3.8,  4.1,  4.4,  4.7,  5. ,\n",
       "        5.3,  5.6,  5.9,  6.2,  6.5,  6.8,  7.1,  7.4,  7.7])"
      ]
     },
     "execution_count": 61,
     "metadata": {},
     "output_type": "execute_result"
    }
   ],
   "source": [
    "v"
   ]
  },
  {
   "cell_type": "code",
   "execution_count": 64,
   "metadata": {
    "collapsed": false
   },
   "outputs": [
    {
     "data": {
      "text/plain": [
       "array([ 2. ,  2.3,  2.6,  2.9,  3.2,  3.5,  3.8,  4.1,  4.4,  4.7,  5. ,\n",
       "        5.3,  5.6,  5.9,  6.2,  6.5,  6.8,  7.1,  7.4,  7.7])"
      ]
     },
     "execution_count": 64,
     "metadata": {},
     "output_type": "execute_result"
    }
   ],
   "source": [
    "np.arange(start=2, stop=8, step=0.3)"
   ]
  },
  {
   "cell_type": "code",
   "execution_count": 65,
   "metadata": {
    "collapsed": true
   },
   "outputs": [],
   "source": [
    "v = np.arange(2, 8)"
   ]
  },
  {
   "cell_type": "code",
   "execution_count": 68,
   "metadata": {
    "collapsed": false
   },
   "outputs": [
    {
     "data": {
      "text/plain": [
       "array([ 0.03365649,  0.07853182,  0.13252245,  0.17227918,  0.17945748,\n",
       "        0.1538207 ])"
      ]
     },
     "execution_count": 68,
     "metadata": {},
     "output_type": "execute_result"
    }
   ],
   "source": [
    "X.pmf(v)"
   ]
  },
  {
   "cell_type": "code",
   "execution_count": 69,
   "metadata": {
    "collapsed": false
   },
   "outputs": [
    {
     "data": {
      "text/plain": [
       "0.75026812836502677"
      ]
     },
     "execution_count": 69,
     "metadata": {},
     "output_type": "execute_result"
    }
   ],
   "source": [
    "np.sum(X.pmf(v))"
   ]
  },
  {
   "cell_type": "code",
   "execution_count": 82,
   "metadata": {
    "collapsed": true
   },
   "outputs": [],
   "source": [
    "values = X.rvs(1000)"
   ]
  },
  {
   "cell_type": "code",
   "execution_count": 83,
   "metadata": {
    "collapsed": false
   },
   "outputs": [
    {
     "data": {
      "text/plain": [
       "array([ 3,  8,  6,  7, 11,  6,  6,  3,  5,  6,  7,  8,  5,  3,  5,  9,  4,\n",
       "        6,  9,  2,  6, 10,  4,  6,  9,  4,  6,  7,  7,  6,  4,  6,  5,  6,\n",
       "        5,  8,  8,  5,  6,  5,  6,  5,  7,  5,  6,  7,  5,  9,  4,  7,  5,\n",
       "        5,  7,  6,  5,  1,  3,  7,  6,  7, 10,  7,  3,  5,  6,  4, 10, 10,\n",
       "        8,  6,  8,  4,  5,  6,  7,  6,  4,  5,  5,  5,  4,  5,  6,  8,  8,\n",
       "        6,  6,  8,  9,  7,  8, 10,  2,  9,  5,  6,  8,  7,  4,  7,  3,  5,\n",
       "        8,  6,  6,  7,  8,  7,  1,  5,  6,  3,  6,  7,  8, 10,  4,  4,  7,\n",
       "        4,  4,  6,  4,  8,  8,  2,  6,  8, 11,  5,  4,  9,  9,  4,  6,  7,\n",
       "        8,  4,  7,  8,  6,  4,  2,  5,  8,  3,  1,  5,  3,  4,  2,  6,  7,\n",
       "        5,  4,  5,  6, 10, 12,  4,  2,  8,  9,  6,  8,  8,  7,  9,  2,  5,\n",
       "        5,  3,  9,  2,  7,  3,  5,  5,  4,  6,  6,  5,  7,  4,  4,  5,  5,\n",
       "        4,  9,  8,  3,  5,  4,  6,  5,  6,  9,  5,  7,  6,  7,  3,  7, 10,\n",
       "        6,  5,  7,  7,  7,  4, 10, 10,  5,  6,  2, 11,  8,  7,  8,  4,  5,\n",
       "        4,  6,  3,  9,  6,  6,  3,  7,  8,  7,  4,  8,  4,  8,  6,  5,  6,\n",
       "        7,  5,  8,  5,  9,  8,  3,  7,  5,  7,  6,  6,  9,  3,  6,  5,  2,\n",
       "        7,  6,  9,  6,  5, 11,  3,  3,  7,  5,  5,  9,  5,  9,  7,  5,  3,\n",
       "        4, 10,  5,  4,  5,  9,  4,  8,  4, 10,  6,  2,  9,  5,  7,  6,  3,\n",
       "        3,  4,  4,  3,  3, 10,  3,  6,  3,  4,  8,  9,  6,  1, 14,  3,  5,\n",
       "        6,  9,  8,  7,  5,  8,  8,  9,  7,  3,  5,  6,  6,  8,  4,  7,  5,\n",
       "        8,  4,  6,  3,  4,  9,  5,  9,  6,  2,  8,  3,  8,  1,  7,  4,  5,\n",
       "       10,  6,  7,  7,  3,  8,  9,  4,  6,  5,  7,  2,  6,  8,  7,  3,  8,\n",
       "        4,  8,  6,  4,  7,  8,  7, 10,  5,  4,  4,  6,  5,  5,  6,  5,  1,\n",
       "        6,  5,  6,  9,  4,  7,  7,  5,  6, 10,  5,  7,  8,  5, 11,  7,  6,\n",
       "        7,  5,  7,  5,  9,  6,  4,  6,  9,  8,  6,  5,  5, 11,  3,  9,  8,\n",
       "        4,  5,  6,  8, 10, 12,  5,  4,  6,  6,  7,  3,  7,  9,  9, 10,  9,\n",
       "       10,  3,  9,  5,  5,  6, 10,  6,  5,  5,  9,  8,  4,  4,  5,  4,  6,\n",
       "        4,  6,  9,  8,  3,  4,  5,  7,  5,  4,  5,  4,  8,  7,  5,  7,  6,\n",
       "        6,  5,  6, 11,  8,  8,  4,  6,  5,  3,  5,  3,  4,  8,  7,  7,  3,\n",
       "        4,  2,  3,  3, 10,  9,  4,  4, 10,  6,  5,  6,  5,  6,  7,  6,  8,\n",
       "        3,  6, 11,  4,  6,  7,  5, 10,  6,  6,  9,  2,  8,  4,  5,  6,  6,\n",
       "        2,  5,  5, 10,  9,  6,  9,  8,  5,  3,  7,  5,  1, 11, 10,  6,  7,\n",
       "        7,  9,  6,  6,  4,  4,  6,  4,  2,  5,  7,  5,  8,  7,  7,  9,  3,\n",
       "        4,  9,  9,  3,  8,  2,  4,  3,  5,  5,  9,  6,  4,  5,  1,  2,  6,\n",
       "        6,  4,  5,  3,  7,  5,  4,  6,  4,  5,  4,  8,  5, 10,  5,  4,  7,\n",
       "        7,  9,  4,  8,  8,  5,  6,  7,  4,  9,  7,  8,  6,  6,  4,  5,  7,\n",
       "       10,  4,  3,  3,  6,  8,  4,  6,  6,  8,  4,  2,  6,  5,  5,  8,  7,\n",
       "        3,  6,  8,  9,  0,  8,  2,  7,  6, 10,  7,  3,  7,  4,  8,  2,  5,\n",
       "        7,  4,  7,  7,  7,  9,  5,  4,  5,  5,  3,  7,  3,  3,  9,  8,  4,\n",
       "        5,  8,  7,  5,  6,  8,  0, 12,  6,  4,  8,  3,  5,  6,  4,  9,  7,\n",
       "        4,  4,  3,  6,  4,  6,  8,  9,  3,  5,  5,  5,  5,  6,  7,  5,  5,\n",
       "        5,  4,  7,  5,  9,  8,  4,  4,  8,  6,  1,  7,  5,  8,  7,  9,  7,\n",
       "        9,  5,  5,  3,  8,  4,  6,  6,  8,  5,  4,  5,  3,  5,  7,  3, 11,\n",
       "        6,  5,  8,  4,  5,  9,  4,  7,  3,  6,  7,  4,  5,  6,  6,  4,  5,\n",
       "       14,  5,  8,  4,  6,  6,  6,  7,  8,  7,  8,  9,  5,  8,  6,  5,  4,\n",
       "        8,  7,  3,  6,  3,  5,  6,  7,  4,  3,  6,  8,  8,  5,  6,  7,  9,\n",
       "        6,  9,  5,  4,  5,  7,  9,  6,  7,  4,  6,  6,  6,  4,  7,  7,  7,\n",
       "        7,  6,  8,  6,  9,  5,  7,  4,  3,  9,  5,  3,  7,  9,  8, 11,  9,\n",
       "        6,  4,  3,  5,  7,  9,  1,  8,  8,  7,  4,  3,  7,  7,  5,  5,  2,\n",
       "       12,  8, 10,  8,  6,  8,  4,  7,  4,  5,  9,  5,  9,  6,  5,  5,  1,\n",
       "        6,  8,  4,  6, 11,  5,  9,  8,  6,  7,  3,  6,  7,  4,  3,  2,  4,\n",
       "        4,  8,  6,  6,  5,  5,  6,  7,  4,  6,  7, 10,  5,  5,  6,  4,  7,\n",
       "       11,  5,  6,  3,  6, 10,  6,  4,  5,  7,  8,  6,  6,  8,  3, 10,  6,\n",
       "        5,  8,  5,  4,  5,  7,  3,  6,  4,  6,  4,  8,  9,  5,  5,  6,  7,\n",
       "        3,  7,  8,  8,  6,  8,  6,  4,  5,  6,  6,  8,  7,  4,  5,  8,  6,\n",
       "        4,  9,  6,  5,  6,  5,  5,  7,  8,  5,  4,  6,  5,  6,  4,  8,  4,\n",
       "        2,  7,  7,  4,  4,  6,  9,  4,  6,  5,  7,  6,  5,  7,  6,  4,  5,\n",
       "       10,  8,  6,  7,  4,  5,  9,  4, 11,  8,  7,  5,  3,  5,  7,  5,  8,\n",
       "        4,  8,  8,  7,  4,  4,  3,  3,  7,  6,  8,  5,  5,  9, 13,  3,  8,\n",
       "        6,  1,  7,  5,  5, 10,  7,  3,  7,  2,  9,  6,  7,  2])"
      ]
     },
     "execution_count": 83,
     "metadata": {},
     "output_type": "execute_result"
    }
   ],
   "source": [
    "values"
   ]
  },
  {
   "cell_type": "code",
   "execution_count": 72,
   "metadata": {
    "collapsed": false
   },
   "outputs": [
    {
     "data": {
      "text/plain": [
       "array([  27, 1000,  729, 1000,   64,   64,   64,  729,   64,  125,  512,\n",
       "         27, 1728,  343,  343,  512,  125,  512,  343,  125,   64,  512,\n",
       "        343,  125,  512,  343,  216,  125,  512,  512,   64,  216,  125,\n",
       "         27,    8, 1000,  125,   64,  125,  216,  125,  216,  512,  343,\n",
       "        512,   64,   64,   27, 1331,  125,  343,  125,  729,  216,   64,\n",
       "        216,   27,  216,    8,  343,  343,  343,  216,  216,  216,  125,\n",
       "        216,  343,   27,    8,  343, 1000,   64,  216,  343,  125,  216,\n",
       "        343,  125,   64,  125,  216,    8,  512,  512,  216,  729,  343,\n",
       "        125,   64,  125,  125,  216,  216,   64,  125,  343,  729,  216,\n",
       "       1000, 1331,   64,  125,  512,  729,  216,  216,   64,   64,  343,\n",
       "        125,   64,  216,  125,    8,  216, 1331,  216,  729,  216,   64,\n",
       "        343,   27,  125,   27,  512,  216,    8,   27, 1000,  125, 1331,\n",
       "        343,   64,  216,  216,  512,  125, 1000,  216,   27,   64,   27,\n",
       "        125, 1000,  343,   27,   27,  216,   64,  729,  512,  216,  216,\n",
       "        216, 1728,  729,  125,  343,   27,  343,  125, 1728,  125,  512,\n",
       "         27, 1331,  729,   64,  216,  512,    8,  125,   64,  512,  512,\n",
       "         64,   64,   64, 1000,   64,   64,  125,  125,   27,  343, 1331,\n",
       "        216,   64,  343,  125, 1331,  216,  216,  125,   64,  125,  216,\n",
       "         64,  343,   27,  343, 1331,   27,    8,   64,  512,  512,  512,\n",
       "        343,  125,  125,  125,   64,  512,  343,  512,  343,    8,   27,\n",
       "        343,  216,    1,   27,  343,  216,  125,  216,  512,    8,  125,\n",
       "        216,  125,  729,  125,  343,   27,  125,    8,  729,  216,  729,\n",
       "        125,   64, 2197,  216,  125,    8,  216,  216,  343,  729,   64,\n",
       "        512,  216,   64, 1000,  343,  125,  125,    8,   64,  125,  216,\n",
       "         64,    8,  216,  343,  125,   64,  343,   64,   64,  512,  125,\n",
       "         27,  512,  343,  343,  125,  343,  125,   64,  729,  216,  343,\n",
       "        216,  216,  512,  343,   27,  216,   27,  343, 1331,  343,  125,\n",
       "        729,  216,  216,  216,   64,  729,  125,  216,  343,  216,  216,\n",
       "          1,  125,  343,  216,  343,  125,  216,   27,   64,   64, 1000,\n",
       "        216,  512,   64,  216, 1000,  512,    8,  343,  125,    8,  512,\n",
       "        125,  512,  216,  216,  729,  512,  216,  343,  343,  216,   27,\n",
       "        512,   27,  343,  729,   64,   27,  343,  512,   64,  216,  125,\n",
       "        729,  343,  216,  729,   64,  125,  343,  216,  216,  729, 1000,\n",
       "         64,   64,    1,  512,  216,  216,  216,  343, 1000,  343,   64,\n",
       "        216,  125,  343,  343,  512,   64,  343, 1728,  125,   64,  125,\n",
       "        729,   27,   27,   27,   27,    8,  512,   64,  343,  343,  343,\n",
       "        343,  343,  512,  512,  343,  125,  125,  216,    8,  125,  729,\n",
       "        125,  343,   64,  343,   64,  729,  512,  216,  216,    1,  729,\n",
       "       1331,  125,  729, 1000,   64,  343,  512,  216,   64,   27,    8,\n",
       "        216,  512,  343,   64,  512,  125,  125, 1000,   64,  125,  125,\n",
       "        343,  125,   64,  729,  343,  216,  125,  216,  512,    8,  512,\n",
       "         64,   27,  343,  512,  216, 1000,   27,  512,  216,  343,  512,\n",
       "         64,   64,  216,  343,  125, 1000,  216,  125,  125,   64,  343,\n",
       "        216,  512,   27,  216,  343,  729,   64,  125,  125, 1000,  216,\n",
       "        343,   27,  512,  343,  343,  512,  343,  125,  125,    8,  729,\n",
       "        343,  125,  216,  343,   64,    8,  216, 1000,  512,  343,  343,\n",
       "        125,  125,  512,  343,  512,   27,  125, 1000,  125,   64,  125,\n",
       "        125,  216,  729,   64,  729,  343,  125,  343,  216,  729,  125,\n",
       "         64,  216,  216,  512,  216,   27,  216,  125,   27,   64,  216,\n",
       "         27,  125,   64,  343,  343,   64,   27,  343,  343,    1,   64,\n",
       "        125,  125,   64,   64,  343,   64,  343,  343,   27,  343,  343,\n",
       "        125,  512,   64,  125,  343,  343,  343,  512,  343,  125,  125,\n",
       "        216,   27,    8,  216,   64,   27,  343,  512,   64,    8,  343,\n",
       "        512,  125,  125,  216,  125, 1331,   27,  512,  216,   27,    1,\n",
       "         64,  343,  343,  343, 2197,   27,   27,  512,  343,  512,   64,\n",
       "        729,  343,  216,  343,  512,   64,  216,  343,  343,  125,  125,\n",
       "        343,  729,  512,  216,  216,  216,    8,  512,  512,  343,   64,\n",
       "        343,   27,   27,   64,  216,  216,    8,  216, 1728,  125,    8,\n",
       "        125,  216,  343,  343, 1000,  216,  512,  729,  216,  125,  125,\n",
       "        343,   64,   64,  125,  216,  343,   27,  729,   27,   64,   27,\n",
       "         27,  216,  343,  343,  343,  343,  343,   64,  729,    1,  343,\n",
       "        125,   64,  343,   27,  512,   64,  216,  343,  125,   64,  125,\n",
       "        512,  512,  216,  343,    8,  512,    8,  343,  343,  512,  216,\n",
       "         64,  125,  125,   64,  729,   64,  125,  125,  343,  216, 1000,\n",
       "        512,   64,  216,  125,  216,  125,  125,  216,  216,   64,   64,\n",
       "        216,  216,  729,  343,  216,  216,   64,  125,   27,  125,  216,\n",
       "         64,  125,  216,  729,  216,   27,  216,  216,   27,  216,  729,\n",
       "        216,  216,   64,  343,  343,   64,  729,   64,  343,  125,    1,\n",
       "        216,   64,  216,  343,  343,  125,  343,  343,  125,   64,  343,\n",
       "          8,  125, 1000,   64,  216, 1000,   64,    8,   64,   64,  512,\n",
       "         64,  216,   64,  125,  125,   64,  125,  216,  512,  125,  343,\n",
       "        216,  512,  343,   64,  216,    1, 1000,  216,  512,  125,  343,\n",
       "        729,  216,  216,  125,   64,  729,  512,  216,  729,  125,  125,\n",
       "       1000,    8,  512,  216,  125,   64,   64,   64,  729,   64,  729,\n",
       "       1331,  216, 2197,   27,  125,  729,  729,  216,   64,  512,  216,\n",
       "        125,  125,  343,  512,  512,  343,  216, 1000,  343,  343,  343,\n",
       "        125,  729,   27,   27, 1000,  729,  343,  216,  343,   64,   27,\n",
       "        125,  729,   27,  125, 1331,  216,  216,  216,  729,   27,   27,\n",
       "        512,  125,  343,  125,   27,   27,  729,  125,  216, 1000, 1728,\n",
       "         64,    8, 1000,  125,  343,  216, 1000,    8,  512,  216,    8,\n",
       "         27,  125,  125,  343,  343,  512,   64,  729,  343,  216,   64,\n",
       "        125,  343,  729,  343, 1331,  729, 1000,  216,  343,  512,   27,\n",
       "        216,  729,  343,  729,  216,   64,  216,  125,   64,  512,  125,\n",
       "        729,  216,  125,  125,  125,  125,  216,   64,   27,  343,   27,\n",
       "        125,  512,  512,  343,   64,  512,  125,   27,   64,  216,  343,\n",
       "         64,   64,   64,   64,  512,  216,  216,   64,   27,    1,  125,\n",
       "        343,  729,   64,  343,  216,  216,   27,    1,  216,   64,  729,\n",
       "        216, 1728,  216,   64,  512,  512,  729,  343,  125,  216,  125,\n",
       "        125,  125,  343,  729,   27,  125,  125,  125,  216,  216, 1000,\n",
       "         64,  343,  125,  125, 1000,  216,  729,  125,  343,   64,    1,\n",
       "        343,  729,  216,  729,   27,  125,  343,  729,   27,  343])"
      ]
     },
     "execution_count": 72,
     "metadata": {},
     "output_type": "execute_result"
    }
   ],
   "source": [
    "values ** 3"
   ]
  },
  {
   "cell_type": "code",
   "execution_count": 73,
   "metadata": {
    "collapsed": false
   },
   "outputs": [
    {
     "data": {
      "text/plain": [
       "299.351"
      ]
     },
     "execution_count": 73,
     "metadata": {},
     "output_type": "execute_result"
    }
   ],
   "source": [
    "np.mean(values ** 3)"
   ]
  },
  {
   "cell_type": "code",
   "execution_count": 74,
   "metadata": {
    "collapsed": false
   },
   "outputs": [
    {
     "data": {
      "text/plain": [
       "5.9569999999999999"
      ]
     },
     "execution_count": 74,
     "metadata": {},
     "output_type": "execute_result"
    }
   ],
   "source": [
    "np.mean(values)"
   ]
  },
  {
   "cell_type": "code",
   "execution_count": 81,
   "metadata": {
    "collapsed": true
   },
   "outputs": [],
   "source": [
    "np.random.seed(7)"
   ]
  },
  {
   "cell_type": "code",
   "execution_count": 86,
   "metadata": {
    "collapsed": false
   },
   "outputs": [
    {
     "data": {
      "text/plain": [
       "6"
      ]
     },
     "execution_count": 86,
     "metadata": {},
     "output_type": "execute_result"
    }
   ],
   "source": [
    "82 // 13"
   ]
  },
  {
   "cell_type": "code",
   "execution_count": 87,
   "metadata": {
    "collapsed": false
   },
   "outputs": [
    {
     "data": {
      "text/plain": [
       "4"
      ]
     },
     "execution_count": 87,
     "metadata": {},
     "output_type": "execute_result"
    }
   ],
   "source": [
    "82 % 13"
   ]
  },
  {
   "cell_type": "code",
   "execution_count": 88,
   "metadata": {
    "collapsed": false
   },
   "outputs": [
    {
     "data": {
      "text/plain": [
       "10"
      ]
     },
     "execution_count": 88,
     "metadata": {},
     "output_type": "execute_result"
    }
   ],
   "source": [
    "49 % 13"
   ]
  },
  {
   "cell_type": "code",
   "execution_count": 89,
   "metadata": {
    "collapsed": true
   },
   "outputs": [],
   "source": [
    "v = X.rvs(50)"
   ]
  },
  {
   "cell_type": "code",
   "execution_count": 90,
   "metadata": {
    "collapsed": true
   },
   "outputs": [],
   "source": [
    "w = X.rvs(50)"
   ]
  },
  {
   "cell_type": "code",
   "execution_count": 92,
   "metadata": {
    "collapsed": false
   },
   "outputs": [
    {
     "data": {
      "text/plain": [
       "15"
      ]
     },
     "execution_count": 92,
     "metadata": {},
     "output_type": "execute_result"
    }
   ],
   "source": [
    "np.sum(v > w)"
   ]
  },
  {
   "cell_type": "code",
   "execution_count": null,
   "metadata": {
    "collapsed": true
   },
   "outputs": [],
   "source": []
  }
 ],
 "metadata": {
  "anaconda-cloud": {},
  "kernelspec": {
   "display_name": "Python [Root]",
   "language": "python",
   "name": "Python [Root]"
  },
  "language_info": {
   "codemirror_mode": {
    "name": "ipython",
    "version": 3
   },
   "file_extension": ".py",
   "mimetype": "text/x-python",
   "name": "python",
   "nbconvert_exporter": "python",
   "pygments_lexer": "ipython3",
   "version": "3.5.2"
  }
 },
 "nbformat": 4,
 "nbformat_minor": 0
}
