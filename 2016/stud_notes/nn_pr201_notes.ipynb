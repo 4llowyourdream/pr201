{
 "cells": [
  {
   "cell_type": "markdown",
   "metadata": {},
   "source": [
    "# Последний семинар по теории вероятности"
   ]
  },
  {
   "cell_type": "markdown",
   "metadata": {},
   "source": [
    "## Task 1"
   ]
  },
  {
   "cell_type": "markdown",
   "metadata": {},
   "source": [
    "### Шапокляк кладёт в бесконечное кол-во шляп любой рисунок. Гена и Чебурашка открывают все шляпы кроме одной и надо найти такую стратегию,что они угадают какой рисунок в оставшейся шляпе с вероятностью 0,99 (условие задачи)"
   ]
  },
  {
   "cell_type": "markdown",
   "metadata": {},
   "source": [
    "Решение"
   ]
  },
  {
   "cell_type": "markdown",
   "metadata": {},
   "source": [
    "** Пусть А - множество всех последовательностей. Две последовательности с какого-то момента становятся эквивалентными.  \n",
    "  Расставим шляпы в 100 рядов**"
   ]
  },
  {
   "cell_type": "markdown",
   "metadata": {},
   "source": [
    "** 1 ряд: 1, 101, 201...(соответствует любимая с номера n1)  \n",
    "   2 ряд: 2, 102, 202...(coответствует любимая с номера n2)  \n",
    "   3 ряд: 3, 103, 203...(cooтветствует любимая с номера n3)**"
   ]
  },
  {
   "cell_type": "markdown",
   "metadata": {},
   "source": [
    "** Открою наугад 99 рядов и узнаю 99 из этих n) И еще сделаю предположение, что $n100⩽max(n1,n2...n99)+7**"
   ]
  },
  {
   "cell_type": "markdown",
   "metadata": {},
   "source": [
    "**$P(predpolojeniye)⩾0.99$**"
   ]
  },
  {
   "cell_type": "markdown",
   "metadata": {},
   "source": [
    "** И теперь в последнем сотом ряду открою шляпы а+1, а+2, а+3.  \n",
    "   Теперь мы видим, что проиграть мы можем только в том случае, если 100-ая совпадет с любимой позже чем с а-ого места.**"
   ]
  },
  {
   "cell_type": "markdown",
   "metadata": {},
   "source": [
    "## Task 2"
   ]
  },
  {
   "cell_type": "markdown",
   "metadata": {},
   "source": [
    "![](https://pp.vk.me/c837731/v837731414/21db5/TFyg_SKGFF4.jpg)"
   ]
  },
  {
   "cell_type": "markdown",
   "metadata": {},
   "source": [
    "$E(x)=1$"
   ]
  },
  {
   "cell_type": "markdown",
   "metadata": {},
   "source": [
    "$Var(x+3y-7)= Var(x)+9Var(y)+2cov(x;3y)=9+9*4-2*9$  "
   ]
  },
  {
   "cell_type": "markdown",
   "metadata": {},
   "source": [
    "$X-N(1;9)$"
   ]
  },
  {
   "cell_type": "markdown",
   "metadata": {},
   "source": [
    " $P(x>5)=P((x-1)/sqrt(9) > 4/sqrt(9))=P(N(0;1)>4/3)$"
   ]
  },
  {
   "cell_type": "markdown",
   "metadata": {},
   "source": [
    "###  Трюк (разложение в сумму независимых величин)"
   ]
  },
  {
   "cell_type": "markdown",
   "metadata": {},
   "source": [
    "$E(x|y)$"
   ]
  },
  {
   "cell_type": "markdown",
   "metadata": {},
   "source": [
    "** x разобьем на сумму x, зависимого от y и x независимого от Y(Q)  \n",
    "  $X=(зав. от У)+Q$ !Зависимая часть зависит линейно для многомерного нормального распределения"
   ]
  },
  {
   "cell_type": "markdown",
   "metadata": {},
   "source": [
    "$X=ky+Q$  (3 неизвестных => нужно три уравнения)"
   ]
  },
  {
   "cell_type": "markdown",
   "metadata": {},
   "source": [
    "$E(.)=> 1=-2k+M$  \n",
    "$Var(.)=> 9=k^2 * 4 + b^2q$  \n",
    "$Cov(.;y)=> -1=4k$"
   ]
  },
  {
   "cell_type": "markdown",
   "metadata": {},
   "source": [
    "$Cov(x;y)=Cov(ky+Q,y)$  \n",
    "$-1=Cov(Ky,y)+Cov(Q;y)$  \n",
    "$-1=kCov(y,y)+0$"
   ]
  },
  {
   "cell_type": "markdown",
   "metadata": {},
   "source": [
    "$M=1/2$ $b^2Q=25/4$"
   ]
  },
  {
   "cell_type": "markdown",
   "metadata": {},
   "source": [
    "K=-0.25; $x=-0.25y+Q$"
   ]
  },
  {
   "cell_type": "markdown",
   "metadata": {},
   "source": [
    "$E(x|y)=E(-0.25y+Q/y)=Var(Q|Y)=Var(Q)=35/4$"
   ]
  }
 ],
 "metadata": {
  "anaconda-cloud": {},
  "kernelspec": {
   "display_name": "Python [conda root]",
   "language": "python",
   "name": "conda-root-py"
  },
  "language_info": {
   "codemirror_mode": {
    "name": "ipython",
    "version": 3
   },
   "file_extension": ".py",
   "mimetype": "text/x-python",
   "name": "python",
   "nbconvert_exporter": "python",
   "pygments_lexer": "ipython3",
   "version": "3.5.2"
  }
 },
 "nbformat": 4,
 "nbformat_minor": 1
}
