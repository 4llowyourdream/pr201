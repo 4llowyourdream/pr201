{
 "cells": [
  {
   "cell_type": "markdown",
   "metadata": {},
   "source": [
    "# Семинар 12\n",
    "\n",
    "## Две кассиршы, пять пределов и Планета Плюк\n",
    "\n",
    "Подготовил Тащян Александр БЭК151\n",
    "\n",
    "Дата семинара: 28.11.16\n",
    "\n",
    "Ориентировачно к/р №2 будет 17 декабря\n",
    "\n",
    "\n",
    "### Задача про хозяюшек кассы\n",
    "\n",
    "#### Необходимо найти:\n",
    "\n",
    "С какой вероятностью Тетя Зина обслужит клиента быстрее Тети Маши\n",
    "\n",
    "#### Решение\n",
    "\n",
    "Решим эту задачу в общем виде, обозначив за $\\lambda_i$ среднее количество посетителей за единицу времени у одной из кассирш. 1-я кассирша - Тетя Зина, 2-я кассирша - Тетя Маша"
   ]
  },
  {
   "cell_type": "markdown",
   "metadata": {},
   "source": [
    "$$\\lambda_i=\\lambda_1, \\lambda_2$$"
   ]
  },
  {
   "cell_type": "markdown",
   "metadata": {
    "collapsed": true
   },
   "source": [
    "Задачу можно решить двумя вариантами: \"в лоб\" и красиво\n",
    "\n",
    "#### Решение задачи \"в лоб\"\n",
    "\n",
    "Пусть $X_i$ - это время обслуживания клиентов i-й кассиршой\n",
    "\n",
    "По условию время обслуживания клиента распределено экспоненциально, то есть:\n",
    "$$X_{1}\\sim exp(\\lambda_{1})$$\n",
    "$$X_{2}\\sim exp(\\lambda_{2})$$\n",
    "\n",
    "Функция плотности экспоненциального распределения:\n",
    "\n",
    "$$\n",
    "f(x_{i})=\n",
    "\\left\\{\n",
    "\\begin{array}{rcl}\n",
    "\\lambda_{i}e^{-\\lambda_{i}x_{i}}, &x_{i} \\geq 0 \\\\\n",
    "0, &x_{i}<0 \\\\ \n",
    "\\end{array}\n",
    "\\right.\n",
    "i \\in {1,2}\n",
    "$$ "
   ]
  },
  {
   "cell_type": "markdown",
   "metadata": {},
   "source": [
    "Находим совместную плотность, 2 события независимы, поэтому совместная плотность - это произведение плотностей:\n",
    "\n",
    "$$f(x_{1},x_{2})=f(x_{1})*f(x_{2})$$"
   ]
  },
  {
   "cell_type": "markdown",
   "metadata": {},
   "source": [
    "Соответственно:\n",
    "$$f(x_{1},x_{2})=\n",
    "\\left\\{\n",
    "\\begin{array}{rcl}\n",
    "\\lambda_{1}\\lambda_{2}e^{-\\lambda_{1}x_{1}-\\lambda_{2}x_{2}}, &x_{i} \\geq 0 \\\\\n",
    "0, &x_{i}<0 \\\\ \n",
    "\\end{array}\n",
    "\\right.\n",
    "$$"
   ]
  },
  {
   "cell_type": "markdown",
   "metadata": {},
   "source": [
    "Искомая вероятность - это двойной интеграл совместной функции плотности по подходящей области:\n",
    "\n",
    "$$ P(X_{1}<X_{2})=\\int \\limits_{0}^{\\infty} \\int \\limits_{0}^{x_{2}} \\lambda_{1}\\lambda_{2}e^{-\\lambda_{1}x_{1}-\\lambda_{2}x_{2}} dx_{1} dx_{2} $$"
   ]
  },
  {
   "cell_type": "markdown",
   "metadata": {},
   "source": [
    "Решив данный интеграл мы получаем следующий красивый результат:\n",
    "\n",
    "$$P(X_{1}<X_{2})=\\frac{\\lambda_{1}}{\\lambda_{1}+\\lambda_{2}} \\\\$$"
   ]
  },
  {
   "cell_type": "markdown",
   "metadata": {},
   "source": [
    "#### Красивое решение задачи с осмыслением Пуассоновского потока\n",
    "\n",
    "Возьмем интервал длинной $\\Delta$. Вероятности того, что произойдет 1 событие, ниодного события и более двух событий  представлена в таблице, где:\n",
    "\n",
    "$\\lambda$ - это ожидаемое количество посетителей в единицу времени \n",
    "\n",
    "$\\Delta$ - это время\n",
    "\n",
    "X - это время обслуживания клиентов кассиршой\n",
    "\n",
    "\\begin{array}{|c|c|c|}\n",
    "\\hline \\\\\n",
    "P(X=0) & P(X=1) & P(X>2)  \\\\\n",
    "\\hline \\\\\n",
    "1- \\lambda \\Delta+o(\\Delta)& \\lambda \\Delta+o(\\Delta) & o(\\Delta) \\\\\n",
    "\\hline\n",
    "\\end{array}\n",
    "\n"
   ]
  },
  {
   "cell_type": "markdown",
   "metadata": {},
   "source": [
    "Количество событий за единицу времени имеет пуассоновское распределение, поэтому:"
   ]
  },
  {
   "cell_type": "markdown",
   "metadata": {},
   "source": [
    "$$P(X=k)=e^{-\\lambda \\Delta}\\frac{(\\lambda \\Delta)^{k}}{k!}=^{1}(1- \\lambda \\Delta+o(\\Delta))\\frac{(\\lambda \\Delta)^{k}}{k!}$$"
   ]
  },
  {
   "cell_type": "markdown",
   "metadata": {},
   "source": [
    "1 - применили формулу Тейлора"
   ]
  },
  {
   "cell_type": "markdown",
   "metadata": {},
   "source": [
    "Запишем таблицу исходов:\n",
    "$$ \\text {Клиент придет...}$$\n",
    "\\begin{array}{|c|c|c|c|}\n",
    "\\hline \\\\\n",
    "P(\\text {Ни к Маше, ни к Зине}) & P(\\text {Только к Зине}) & P(\\text {Только к Маше}) & P(\\text {К обеим}) \\\\\n",
    "\\hline \\\\\n",
    "1 - \\lambda_{1} \\Delta -\\lambda_{2} \\Delta +o(\\Delta)& \\lambda_{1} \\Delta(1- \\lambda_{2} \\Delta)+o(\\Delta)& \\lambda_{2} \\Delta(1- \\lambda_{1} \\Delta)+o(\\Delta) & o(\\Delta) \\\\\n",
    "\\hline\n",
    "\\end{array}\n",
    "\n"
   ]
  },
  {
   "cell_type": "markdown",
   "metadata": {},
   "source": [
    "где \n",
    "\n",
    "$\\lambda_{i}$ - это ожидаемое количество посетителей в единицу времени \n",
    "\n",
    "$\\Delta$ - это время"
   ]
  },
  {
   "cell_type": "markdown",
   "metadata": {},
   "source": [
    "А теперь главный, интригующий момент, найдем вероятност того, что к Зине клиент придет раньше, чем к Маше. \n",
    "\n",
    "Пусть:\n",
    "\n",
    "$X_{1}$ и $X_{2}$ - это время обслуживания клиентов i-й кассиршой, где 1 - Зина, 2 - Маша\n",
    "     \n",
    "$\\lambda_{i}$ - это ожидаемое количество посетителей в единицу времени \n",
    "\n",
    "$\\Delta$ - это время\n",
    "\n",
    "c - это произвольная константа от нуля до единице\n",
    "\n",
    "$$P(X_{1}<X_{2}) = (1- \\lambda_{1} \\Delta -\\lambda_{2} \\Delta +o(\\Delta))P + (\\lambda_{1} \\Delta(1- \\lambda_{2} \\Delta)+o(\\Delta)) \\cdot 1 + (\\lambda_{2} \\Delta(1- \\lambda_{1} \\Delta)+o(\\Delta)) \\cdot 0 + o(\\Delta) \\cdot c$$\n",
    "\n",
    "Выразим $P(X_{1}<X_{2})$\n",
    "\n",
    "$$P(X_{1}<X_{2}) = \\frac{(\\lambda_{1} \\Delta(1- \\lambda_{2} \\Delta)+o(\\Delta)) \\cdot 1 + (\\lambda_{2} \\Delta(1- \\lambda_{1} \\Delta)+o(\\Delta)) \\cdot 0 + o(\\Delta) \\cdot c}{\\lambda_{1} \\Delta +\\lambda_{2} \\Delta +o(\\Delta)}$$\n",
    "\n",
    "$o(\\Delta)$ приравняем к нулю\n",
    "\n",
    "$\\lambda_{1} \\cdot \\lambda_{2}\\cdot \\Delta^{2}$ приравняем к $o(\\Delta)$\n",
    "\n",
    "А также сократим числитель и знаменатель на $\\Delta$\n",
    "\n",
    "Таким образом, выражение (О, чудо!!!) принимает вид:\n",
    "\n",
    "$$P(X_{1}<X_{2})=\\frac{\\lambda_{1}}{\\lambda_{1}+\\lambda_{2}} \\\\$$\n",
    "\n",
    "##### Подставим значения из задачи\n",
    "\n",
    "$$\\lambda_{1} = 5, \\lambda_{2} = 7$$\n",
    "\n"
   ]
  },
  {
   "cell_type": "code",
   "execution_count": 4,
   "metadata": {
    "collapsed": false
   },
   "outputs": [
    {
     "data": {
      "text/plain": [
       "0.4166666666666667"
      ]
     },
     "execution_count": 4,
     "metadata": {},
     "output_type": "execute_result"
    }
   ],
   "source": [
    "5/(5+7)"
   ]
  },
  {
   "cell_type": "markdown",
   "metadata": {},
   "source": [
    "## Пределы\n",
    "\n",
    "### Общая информация о пределах в теории вероятностей, а также их свойства\n",
    "\n",
    "Существует несколько видов пределов, которые применяются в теории вероятностей:"
   ]
  },
  {
   "cell_type": "markdown",
   "metadata": {},
   "source": [
    "#### 1) Сходимость \"Почти наверное\" (almost sure)\n",
    " \n",
    " Говорят что последовательность случайных величин $\\{X_{n}\\}$ почти наверное сходится к случайной величине $X$, при n $\\to$ $\\infty$, и пишут: $X_{n} \\to X$ п.н., если \n",
    "$$P\\{x : X_{n}(x) \\to X(x) \\text {  при  } n \\to \\infty\\} = 1$$"
   ]
  },
  {
   "cell_type": "markdown",
   "metadata": {},
   "source": [
    "#### 2) Сходимость по вероятности\n",
    "\n",
    "Говорят что последовательность случайных величин $\\{X_{n}\\}$ сходится по вероятности к случайной величине $X$, при n $\\to$ $\\infty$, и пишут: $X_{n} \\overset{p}{\\to} X$ или $plim X_n = X$ если $\\forall \\varepsilon > 0$\n",
    "$$ P(|X_{n}-X|\\geq \\varepsilon) \\to 0 \\text { при } n\\to \\infty$$\n",
    "или\n",
    "$$ P(|X_{n}-X| < \\varepsilon) \\to 1 \\text { при } n\\to \\infty$$"
   ]
  },
  {
   "cell_type": "markdown",
   "metadata": {},
   "source": [
    "#### 3) Сходимость по распределению\n",
    "\n",
    "Говорят что последовательность случайных величин $\\{X_{n}\\}$ сходится по распределению к случайной величине $X$, при n $\\to$ $\\infty$, и пишут: $X_{n} \\Rightarrow X$, если $\\forall X$ такого, что функция распределения $F_{X}$ непрерывна в точке х, имеет место сходимость:\n",
    "$F_{X_{n}}(x) \\to F_{X}(x)$ при $n \\to \\infty$"
   ]
  },
  {
   "cell_type": "markdown",
   "metadata": {},
   "source": [
    "### Свойства Сходимости по вероятности"
   ]
  },
  {
   "cell_type": "markdown",
   "metadata": {},
   "source": [
    "#### 0)Сходимость по вероятности – прямой наследник вероятности\n",
    "Все свойство обычных пределов подходят и для \"плимов\"\n",
    "\n",
    "#### 1) Закон больших чисел\n",
    "Если случайные величины $\\{X_{n}\\}$ независимы и одинаково распределены, а также $$\\overline{X_{n}}=\\frac{X_{1}+X_{2}+...+X_{n}}{n}$$\n",
    "\n",
    "То:  $$plim_{n \\to \\infty}(\\overline{X_{n}})=E(X)$$"
   ]
  },
  {
   "cell_type": "markdown",
   "metadata": {},
   "source": [
    "#### 2) Следствие из неравенства Чебышёва\n",
    "Если $\\lim_{n \\to \\infty}(E(X_{n}))=C \\text { и } \\lim_{n \\to \\infty}(Var(X_{n})) = 0$\n",
    "\n",
    "То:  $$ plim_{n \\to \\infty}(X_{n})=C$$"
   ]
  },
  {
   "cell_type": "markdown",
   "metadata": {},
   "source": [
    "### Пример № 1\n",
    "\n",
    "#### Условие\n",
    "Пусть у нас есть правильная монетка, обозначим за $X_{i}$ – результат i броска\n",
    "\n",
    "Пусть:  \n",
    "$$\n",
    "X_{i}=\n",
    "\\left\\{\n",
    "\\begin{array}{rcl}\n",
    "1, &\\text { орёл } \\\\\n",
    "0, &\\text { решка } \\\\ \n",
    "\\end{array}\n",
    "\\right.\n",
    "i \\in \\overline{1,n}\n",
    "$$ \n",
    "\n",
    "\n",
    "$$E(X) = \\frac{1}{2}$$"
   ]
  },
  {
   "cell_type": "markdown",
   "metadata": {},
   "source": [
    " #### Задачи\n",
    " \n",
    "a) $plim_{n \\to \\infty}(X_{n}) \\to \\text { ? }$\n",
    "\n",
    "b) $plim_{n \\to \\infty}(\\frac{X_{1}+X_{2}+...+X_{n}}{n}) \\to \\text { ? }$\n",
    "\n",
    "c) $plim_{n \\to \\infty}(\\frac{X_{1}+X_{2}+...+X_{n}}{n \\cdot (X_{7}+1)}) \\to \\text { ? }$\n",
    "\n",
    "d) $plim_{n \\to \\infty}(\\frac{cos(X_{1})+cos(X_{2})+...+cos(X_{n})}{2n+7}) \\to \\text { ? }$\n",
    "\n",
    "e) $plim_{n \\to \\infty}\\sqrt[n]{\\prod_{i=1}^{n}(1-X_{i})} \\to \\text { ? }$\n",
    " "
   ]
  },
  {
   "cell_type": "markdown",
   "metadata": {},
   "source": [
    "#### Решения"
   ]
  },
  {
   "cell_type": "markdown",
   "metadata": {},
   "source": [
    "#### Решение пункта А\n",
    "В пункте \"а\" сходимости нет, соответственно решения нет"
   ]
  },
  {
   "cell_type": "markdown",
   "metadata": {},
   "source": [
    "#### Решение пункта B\n",
    "По Закону Больших Чисел:\n",
    "$$plim_{n \\to \\infty}(\\frac{X_{1}+X_{2}+...+X_{n}}{n}) = plim_{n \\to \\infty}(\\overline{X_{n}})=E(X)= \\frac{1}{2}$$"
   ]
  },
  {
   "cell_type": "markdown",
   "metadata": {},
   "source": [
    "#### Решение пункта C\n",
    "Разобьем предел:\n",
    "$$plim_{n \\to \\infty}(\\frac{X_{1}+X_{2}+...+X_{n}}{n \\cdot (X_{7}+1)})= plim_{n \\to \\infty}(\\frac{X_{1}+X_{2}+...+X_{n}}{n}) \\cdot plim_{n \\to \\infty}\\frac{1}{X_{7}+1}$$\n",
    "\n",
    "По Закону Больших чисел, а также учитывая элементарные свойства пределов получаем:\n",
    "\n",
    "$$plim_{n \\to \\infty}(\\frac{X_{1}+X_{2}+...+X_{n}}{n}) = plim_{n \\to \\infty}(\\overline{X_{n}})=E(X)= \\frac{1}{2}$$\n",
    "\n",
    "$$plim_{n \\to \\infty}\\frac{1}{X_{7}+1} = \\frac{1}{X_{7}+1}$$\n",
    "\n",
    "Соответственно:\n",
    "$$plim_{n \\to \\infty}(\\frac{X_{1}+X_{2}+...+X_{n}}{n \\cdot (X_{7}+1)}) = \\frac{1}{2X_{7}+2}$$"
   ]
  },
  {
   "cell_type": "markdown",
   "metadata": {},
   "source": [
    "#### Решение пункта D\n",
    "Заменим:\n",
    "$$cos(X_{i}) = Y_{i}$$\n",
    "\n",
    "Тогда:\n",
    "$$plim_{n \\to \\infty}(\\frac{cos(X_{1})+cos(X_{2})+...+cos(X_{n})}{2n+7}) = plim_{n \\to \\infty}(\\frac{Y_{1}+Y_{2}+...+Y_{n}}{2n+7})$$\n",
    "\n",
    "Домножим числитель и знаменатель на n:\n",
    "\n",
    "$$plim_{n \\to \\infty}(\\frac{Y_{1}+Y_{2}+...+Y_{n}}{2n+7}) = plim_{n \\to \\infty}(\\frac{(Y_{1}+Y_{2}+...+Y_{n})n}{(2n+7)n})$$\n",
    "\n",
    "Разделим предел на 2 разных предела и решим их:\n",
    "\n",
    "$$plim_{n \\to \\infty}\\frac{Y_{1}+Y_{2}+...+Y_{n}}{n} = plim_{n \\to \\infty}(\\overline{Y_{n}})=E(Y)$$\n",
    "\n",
    "$$plim_{n \\to \\infty}\\frac{n}{2n+7} = plim_{n \\to \\infty} \\frac{1}{2} = \\frac{1}{2}$$\n",
    "\n",
    "Найдем математическое ожидание Игрек:\n",
    "\n",
    "$$E(Y) = \\frac{1}{2} \\cdot cos(0) + \\frac{1}{2} \\cdot cos(1) = \\frac{1+cos(1)}{2}$$\n",
    "\n",
    "Таким образом итоговый результат:\n",
    "\n",
    "$$plim_{n \\to \\infty}(\\frac{cos(X_{1})+cos(X_{2})+...+cos(X_{n})}{2n+7}) = \\frac{1+cos(1)}{2}\\cdot \\frac{1}{2} = \\frac{1+cos(1)}{4}$$"
   ]
  },
  {
   "cell_type": "markdown",
   "metadata": {},
   "source": [
    "#### Решение пункта E\n",
    "\n",
    "Введем новую переменную $Z = \\sum_{i=1}^{n}Z_{i}$, где\n",
    "$$\n",
    "Z_{i}=\n",
    "\\left\\{\n",
    "\\begin{array}{rcl}\n",
    "1, & X = 0 \\\\\n",
    "0, & X = 1 \\\\ \n",
    "\\end{array}\n",
    "\\right.\n",
    "i \\in \\overline{1,n}\n",
    "$$ \n",
    "\n",
    "Тогда, предел имеет вид:\n",
    "\n",
    "$$plim_{n \\to \\infty}\\sqrt[n]{\\prod_{i=1}^{n}(1-X_{i})} = plim_{n \\to \\infty}2 \\cdot \\left(\\frac{1}{2}\\right)^{\\frac{n-z}{n}}$$\n",
    "\n",
    "Так как показательная функция непрерывна, мы можем перенести предел в степень, и предел примет следующий вид:\n",
    "\n",
    "$$plim_{n \\to \\infty} 2 \\cdot \\left(\\frac{1}{2}\\right)^{\\frac{n-z}{n}} = \\left(\\frac{1}{2}\\right)^{plim_{n \\to \\infty}\\frac{n-z}{n}}$$\n",
    "\n",
    "$$plim_{n \\to \\infty}\\frac{n-z}{n} = \\frac{1}{2}$$\n",
    "\n",
    "Таким образом предел равен:\n",
    "\n",
    "$$plim_{n \\to \\infty}\\sqrt[n]{\\prod_{i=1}^{n}(1-X_{i})} = 2 \\cdot \\left(\\frac{1}{2}\\right)^{\\frac{1}{2}}= \\sqrt{2}$$\n"
   ]
  },
  {
   "cell_type": "markdown",
   "metadata": {},
   "source": [
    "## Планета Плюк\n",
    "\n",
    "### Условие \n",
    "\n",
    "Пусть есть n пепелацев и двумерная планета Плюк, на которой живут пацаки и чатлане. Любой приземлившийся пепелац может связаться с каким-либо объектом, находящимся не дальше от него, чем на 90 градусов центрального угла. Необходимо найти вероятность, что найдется хотя бы одна точка, где не будет связи с пепелацами."
   ]
  },
  {
   "cell_type": "markdown",
   "metadata": {},
   "source": [
    "### Решение"
   ]
  },
  {
   "cell_type": "markdown",
   "metadata": {},
   "source": [
    "Пусть существует n точек, куда может сесть пепелац. Таким образом, у первого пепелаца есть возможность выбора любой из n точек.\n",
    "\n",
    "Пусть первый пепелац успешно приземлился. Назовем его крайним правым пепелацем.\n",
    "\n",
    "Чтобы не было связи хотябы их одной точки, все пепелацы должны сесть в одной полуокружности, так как связь возможна на 90 градусов влево и вправо. \n",
    "\n",
    "Исходя из этого, вероятность того, что остальные n-1 пепелацов сядут в одной полуокружности равна:\n",
    "\n",
    "$$P(X)=\\left(\\frac{1}{2}\\right)^{(n-1)}$$\n",
    "\n",
    "Однако, как было замечено выше, у первого пепелаца есть n вариантов посадки.\n",
    "\n",
    "Итоговая вероятность равна:\n",
    "\n",
    "$$P(X) = n \\cdot \\left(\\frac{1}{2}\\right)^{n-1}$$\n",
    "\n",
    "Вероятность того, что можно будет связаться с пепелацем:\n",
    "\n",
    "$$P(X) = 1 - n \\cdot \\left(\\frac{1}{2}\\right)^{n-1}$$"
   ]
  },
  {
   "cell_type": "code",
   "execution_count": null,
   "metadata": {
    "collapsed": true
   },
   "outputs": [],
   "source": []
  }
 ],
 "metadata": {
  "anaconda-cloud": {},
  "kernelspec": {
   "display_name": "Python [Root]",
   "language": "python",
   "name": "Python [Root]"
  },
  "language_info": {
   "codemirror_mode": {
    "name": "ipython",
    "version": 3
   },
   "file_extension": ".py",
   "mimetype": "text/x-python",
   "name": "python",
   "nbconvert_exporter": "python",
   "pygments_lexer": "ipython3",
   "version": "3.5.2"
  }
 },
 "nbformat": 4,
 "nbformat_minor": 0
}
