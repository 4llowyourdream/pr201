{
 "cells": [
  {
   "cell_type": "markdown",
   "metadata": {},
   "source": [
    "# Конспект семинара 28\n",
    "\n",
    "Цахилова Тома"
   ]
  },
  {
   "cell_type": "markdown",
   "metadata": {},
   "source": [
    "## Тест Пирсона"
   ]
  },
  {
   "cell_type": "markdown",
   "metadata": {},
   "source": [
    "### Задача:\n",
    "\n",
    "Вовочка ловит покемонов. Всего он поймал 60 штук:\n",
    "\n",
    "* 15 Бульбазавров\n",
    "\n",
    "* 30 Чармандеров\n",
    "\n",
    "* 15 Иви\n"
   ]
  },
  {
   "cell_type": "markdown",
   "metadata": {},
   "source": [
    "![](http://gogopokemon.ru/wp-content/uploads/2016/07/2438704-1202149925_t.png)\n",
    "![](https://upload.wikimedia.org/wikipedia/ru/4/49/%D0%9F%D0%BE%D0%BA%D0%B5%D0%BC%D0%BE%D0%BD_%D0%98%D0%B2%D0%B8.png)\n",
    "![](https://i.ytimg.com/vi/w1klh6l_zSo/hqdefault.jpg)"
   ]
  },
  {
   "cell_type": "markdown",
   "metadata": {},
   "source": [
    "$H_0$ Бульбазавры, Чармандеры и Иви встречаются равновероятно\n",
    "\n",
    "$H_a$ Бульбазавры, Чармандеры и Иви встречаются **не** равновероятно\n",
    "\n",
    "Уровень значимости $\\alpha = 10\\%$"
   ]
  },
  {
   "cell_type": "markdown",
   "metadata": {},
   "source": [
    "$$ Q = \\dfrac{\\sum\\limits_{i=1}^n\\nu_i-np_i}{np_i} \\sim _{H_0} \\chi^2_{s-k-1} = \\chi^2_2 $$"
   ]
  },
  {
   "cell_type": "markdown",
   "metadata": {},
   "source": [
    "$$s = 3, k = 0$$\n",
    "\n",
    "\n",
    "$$ Q = \\frac{(15-20)^2 + (30-20)^2 +(15-20)^2}{20}=\\frac{25+100+25}{20}=7.5$$"
   ]
  },
  {
   "cell_type": "markdown",
   "metadata": {},
   "source": [
    "### Лайфхак, как решить, какой хвост нам нужен:\n",
    "\n",
    "* игнорируем наши данные\n",
    "* верим в $H_0$, хотя на самом деле верна $H_a$ \n",
    "* что будет со статистикой?\n",
    "* $n \\rightarrow \\infty \\Rightarrow Q \\rightarrow \\infty$, т.е., большие значения статистики говорят в пользу отклонения гипотезы\n",
    "\n",
    "Работает с любыми статистиками - логику включать очень полезно!"
   ]
  },
  {
   "cell_type": "markdown",
   "metadata": {},
   "source": [
    "Функция плотности хи-квадрата (нам нужна зелененькая линия):\n",
    "\n",
    "![](https://upload.wikimedia.org/wikipedia/commons/thumb/3/35/Chi-square_pdf.svg/321px-Chi-square_pdf.svg.png)"
   ]
  },
  {
   "cell_type": "markdown",
   "metadata": {},
   "source": [
    "$P(0\\le Q\\le 4.6) = 0.9$"
   ]
  },
  {
   "cell_type": "markdown",
   "metadata": {},
   "source": [
    "$Q_{cr} = 4.61 < 7.5 \\Rightarrow$ гипотеза $H_0$ отвергается"
   ]
  },
  {
   "cell_type": "markdown",
   "metadata": {},
   "source": [
    "## LR\n",
    "\n",
    "Решим ту же задачу с помощью LR"
   ]
  },
  {
   "cell_type": "markdown",
   "metadata": {},
   "source": [
    "$$LR = 2 ( \\ln L(\\hat{\\theta}_{ML}) - \\ln L(\\hat{\\theta}_{H0})\\ ) \\sim \\chi^2_q  $$\n",
    "\n",
    "где q - число линейно независимых уравнений, задающих $H_0$\n",
    "\n",
    "(в нашем случае q=2)"
   ]
  },
  {
   "cell_type": "markdown",
   "metadata": {},
   "source": [
    "### Лайфхак, как определить q\n",
    "\n",
    "#### Когда тестируем гипотезу:\n",
    "\n",
    "* есть тестируемая часть ( $\\mu = 1\\ или \\ \\sigma^2 =42)$ - отсюда берется q\n",
    "* есть нетестируемые предположения $\\left( \\sum\\limits_{i=1}^n p_i = 1 \\right) $"
   ]
  },
  {
   "cell_type": "markdown",
   "metadata": {},
   "source": [
    "Составим функцию прадоподобия:\n",
    "\n",
    "$$L = P(v_1=15, v_2=30,v_3=15) = C_{60}^{15} \\ p_1^{15}\\ C_{45}^{30}\\ p_2^{30}(1-p_1-p_2)^{15} $$\n",
    "\n",
    "$$\\ln{L} = \\ln C_{60}^{15} + \\ln C_{45}^{30} + 15\\ln p_1 +30\\ln p_2 +15\\ln{(1-p_1-p_2)}$$\n"
   ]
  },
  {
   "cell_type": "markdown",
   "metadata": {},
   "source": [
    "$$\\begin{cases}\n",
    "\\dfrac{\\partial \\ln L}{\\partial p_1} = 15\\dfrac{1}{p_1} - 15\\dfrac{1}{1-p_1-p_2}\\\\\n",
    "\\dfrac{\\partial \\ln L}{\\partial p_2} = 30\\dfrac{1}{p_2} - 15\\dfrac{1}{1-p_1-p_2}\n",
    "\\end{cases}$$"
   ]
  },
  {
   "cell_type": "markdown",
   "metadata": {},
   "source": [
    "$$\\begin{cases}\n",
    "15\\dfrac{1}{\\widehat{p_1}} - 15\\dfrac{1}{1-\\widehat{p_1}-\\widehat{p_2}}=0\\\\\n",
    "30\\dfrac{1}{\\widehat{p_2}} - 15\\dfrac{1}{1-\\widehat{p_1}-\\widehat{p_2}}=0\n",
    "\\end{cases}$$"
   ]
  },
  {
   "cell_type": "markdown",
   "metadata": {},
   "source": [
    "Решив эту несложную систему уравнений или воспользовавшись методом 9-ти классника, получим, что:\n",
    "\n",
    "$$\n",
    "\\widehat{p_1}_{ML}=\\widehat{p_3}_{ML}=\\frac{15}{60}=\\frac{1}{4} \\\\\n",
    "\\widehat{p_3}_{ML}=\\frac{1}{2}\n",
    "$$"
   ]
  },
  {
   "cell_type": "markdown",
   "metadata": {},
   "source": [
    "Посчитаем значение LR!\n",
    "\n",
    "$$\n",
    "LR = 2 \\left(\\ln C_{60}^{15} + \\ln C_{45}^{30} + 15\\ln\\frac{1}{4}  +30\\ln\\frac{1}{2} +15\\ln\\frac{1}{4} - \\ln C_{60}^{15} - \\ln C_{45}^{30} - 15\\ln\\frac{1}{3}  -30\\ln\\frac{1}{3} -15\\ln\\frac{1}{3}\\right) = 2(-90\\ln2 +60\\ln3)\n",
    "$$"
   ]
  },
  {
   "cell_type": "code",
   "execution_count": 4,
   "metadata": {
    "collapsed": true
   },
   "outputs": [],
   "source": [
    "import numpy as np"
   ]
  },
  {
   "cell_type": "code",
   "execution_count": 10,
   "metadata": {},
   "outputs": [
    {
     "data": {
      "text/plain": [
       "7.0669821393830148"
      ]
     },
     "execution_count": 10,
     "metadata": {},
     "output_type": "execute_result"
    }
   ],
   "source": [
    "LR = 2*(-90*np.log(2)+60*np.log(3))\n",
    "LR"
   ]
  },
  {
   "cell_type": "markdown",
   "metadata": {
    "collapsed": true
   },
   "source": [
    "Как мы помним, $\\chi^2_{cr} = 4.61 < 7.07 \\Rightarrow$ гипотеза $H_0$ отвергается"
   ]
  },
  {
   "cell_type": "markdown",
   "metadata": {
    "collapsed": true
   },
   "source": [
    "#### Пользуемся нашим лайфхаком №1 (логикой) для определения того, какой хвост нужен:\n",
    "\n",
    "При неправдоподобной $H_0$ значение функции правдоподобия будет намного меньше, чем значение в точке, полученной через ML, т.е. $LR \\rightarrow \\infty$\n",
    "\n",
    "Значит, отвергаем гипотезу при больших значениях LR (правый хвост)"
   ]
  },
  {
   "cell_type": "markdown",
   "metadata": {
    "collapsed": true
   },
   "source": [
    "**Ремарка 1** $LR \\ge 0$ _**всегда**_ (т.к. из максимального значения логарифма функции правдоподобия вычитаем какое-то другое.\n",
    "\n",
    "**Ремарка 2** LR, ML и тест Вальда применимы _**всегда**_!\n"
   ]
  },
  {
   "cell_type": "markdown",
   "metadata": {
    "collapsed": true
   },
   "source": [
    "\n",
    "![](http://lurkmore.so/images/thumb/7/78/Slowpoke.svg/200px-Slowpoke.svg.png)"
   ]
  },
  {
   "cell_type": "markdown",
   "metadata": {
    "collapsed": true
   },
   "source": [
    "Полезненькое:\n",
    "\n",
    "[Чит-шит по makdown](https://github.com/adam-p/markdown-here/wiki/Markdown-Cheatsheet)\n",
    "\n",
    "[Хлеб да соль картинки с Лукашенко](http://pikabu.ru/story/bulbazavr_ya_vyibirayu_tebya_2760931)\n",
    "\n",
    "[Все сезоны Покемонов](http://onlinemultfilmy.ru/pokemon/)"
   ]
  }
 ],
 "metadata": {
  "anaconda-cloud": {},
  "kernelspec": {
   "display_name": "Python [Root]",
   "language": "python",
   "name": "Python [Root]"
  },
  "language_info": {
   "codemirror_mode": {
    "name": "ipython",
    "version": 3
   },
   "file_extension": ".py",
   "mimetype": "text/x-python",
   "name": "python",
   "nbconvert_exporter": "python",
   "pygments_lexer": "ipython3",
   "version": "3.5.2"
  }
 },
 "nbformat": 4,
 "nbformat_minor": 1
}
