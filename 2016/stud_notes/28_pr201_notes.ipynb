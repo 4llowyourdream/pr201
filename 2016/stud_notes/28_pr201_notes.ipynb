{
 "cells": [
  {
   "cell_type": "markdown",
   "metadata": {},
   "source": [
    "# Семинар 28"
   ]
  },
  {
   "cell_type": "markdown",
   "metadata": {},
   "source": [
    "Подготовил: Давид Гаспарян"
   ]
  },
  {
   "cell_type": "markdown",
   "metadata": {},
   "source": [
    "## № 5 из КР №4 2016 года"
   ]
  },
  {
   "cell_type": "markdown",
   "metadata": {},
   "source": [
    "### Условие"
   ]
  },
  {
   "cell_type": "markdown",
   "metadata": {},
   "source": [
    "У Квдокла есть случайная выборка из экспоненциального распределения с неизвестным параметром $\\lambda$ в 50 наблюдений, $X_1$, $X_2$, ..., $X_{50}$. Оказалость, что $\\bar{X}$ = 1.1. Евдокл хочет проверить гипотезу о равенстве $\\lambda$ = 1 против альтернативной гипотезы о неравенсвте $\\lambda$ $\\ne$ 1 на уровне значимости 0.1."
   ]
  },
  {
   "cell_type": "markdown",
   "metadata": {},
   "source": [
    "Помогите Евдоклу и проверьте гипотезу с помощью критерия отношения правдоподобия. "
   ]
  },
  {
   "cell_type": "markdown",
   "metadata": {},
   "source": [
    "Пачка логарифмов: $\\ln50$ $= 3.9$, $\\ln55$ $= 4.0$, $\\ln11$ $= 2.4$, $\\ln60$ $= 4.1$, $\\ln12$ $= 2.5$,"
   ]
  },
  {
   "cell_type": "markdown",
   "metadata": {},
   "source": [
    "### Решение"
   ]
  },
  {
   "cell_type": "markdown",
   "metadata": {},
   "source": [
    "$X_1$, $X_2$, $X_3$, ... $\\sim$ exp($\\lambda$)"
   ]
  },
  {
   "cell_type": "markdown",
   "metadata": {},
   "source": [
    "$H_{0}$ $:$ $\\lambda=1$"
   ]
  },
  {
   "cell_type": "markdown",
   "metadata": {},
   "source": [
    "$H_{1}$ $:$ $\\lambda \\ne1$"
   ]
  },
  {
   "cell_type": "markdown",
   "metadata": {},
   "source": [
    "$\\alpha=10$%"
   ]
  },
  {
   "cell_type": "markdown",
   "metadata": {},
   "source": [
    "$n = 50$"
   ]
  },
  {
   "cell_type": "markdown",
   "metadata": {},
   "source": [
    "$ L = \\lambda^{50} e^{-\\lambda \\sum_{i=1}^{50} X_{i}} $ $=$  $ \\lambda^{50} e^{-55\\lambda}  $"
   ]
  },
  {
   "cell_type": "markdown",
   "metadata": {},
   "source": [
    "$\\ln{L}$ $=$ $ 50 \\ln{\\lambda} - 55\\lambda \\to MAX    $ "
   ]
  },
  {
   "cell_type": "markdown",
   "metadata": {},
   "source": [
    "$  (\\ln{L})'_{\\lambda}$ $=$ $\\frac{50}{\\lambda} -55=0$ $\\Rightarrow \\hat{\\lambda} = \\frac{10}{11}  $"
   ]
  },
  {
   "cell_type": "markdown",
   "metadata": {},
   "source": [
    "$LR = 2 (max \\ln{L(\\hat{\\theta})} -max\\ln{L(\\theta)}   )    $"
   ]
  },
  {
   "cell_type": "markdown",
   "metadata": {},
   "source": [
    "$ LR = 2(    (50\\ln{\\frac{10}{11}} - 55 \\cdot\\frac{10}{11} ) +55 ) $ $\\approx 0$"
   ]
  },
  {
   "cell_type": "markdown",
   "metadata": {},
   "source": [
    "Из таблицы для экспоненциального распределения при уровне значимости $10$% имеем критическое значение равное $2.71$"
   ]
  },
  {
   "cell_type": "markdown",
   "metadata": {},
   "source": [
    "$0<2.71$ $\\Rightarrow$  гипотеза $H_{0}$ не отвергается"
   ]
  },
  {
   "cell_type": "markdown",
   "metadata": {},
   "source": [
    "## № 6 из КР №4 2016 года\n"
   ]
  },
  {
   "cell_type": "markdown",
   "metadata": {},
   "source": [
    "### Условие"
   ]
  },
  {
   "cell_type": "markdown",
   "metadata": {},
   "source": [
    "Американский демографический журнал опубликовал исследование, в котром утверждается, что посетители крупных ТЦ за одно посещение тратят в выходные дни больше, чем в будние. Наибольшие расхды приходятся на воскресенье в период с $4$ до $6$ часов вечера. Для двух независимых выборок посетителей средние расходы и выборочные стандартные отклонения расходов составили"
   ]
  },
  {
   "cell_type": "markdown",
   "metadata": {},
   "source": [
    "В - выходные дни, Б - будние дни"
   ]
  },
  {
   "cell_type": "markdown",
   "metadata": {},
   "source": [
    "$n_B=21, n_Б=19$"
   ]
  },
  {
   "cell_type": "markdown",
   "metadata": {},
   "source": [
    "$\\bar{B}=78, \\bar{Б}=67$"
   ]
  },
  {
   "cell_type": "markdown",
   "metadata": {},
   "source": [
    "$\\hat\\sigma_B=22, \\hat\\sigma_Б=20$"
   ]
  },
  {
   "cell_type": "markdown",
   "metadata": {},
   "source": [
    "а) Проверьте гипотезу о равенстве дисперсий расходов."
   ]
  },
  {
   "cell_type": "markdown",
   "metadata": {},
   "source": [
    "б) Предполагая, что дисперсии расходов одинаковы, проверьте гипотезу об отсутствии разницы в расходах в выходные и будние дни."
   ]
  },
  {
   "cell_type": "markdown",
   "metadata": {},
   "source": [
    "в) Сформулируйте все необходимые для проверки гипотез предыдущих пунктов предпосылки."
   ]
  },
  {
   "cell_type": "markdown",
   "metadata": {},
   "source": [
    "### Решение"
   ]
  },
  {
   "cell_type": "markdown",
   "metadata": {},
   "source": [
    "а)  $H_{0}:$ $\\sigma^2_{Б}=\\sigma^2_{В}$"
   ]
  },
  {
   "cell_type": "markdown",
   "metadata": {},
   "source": [
    "$H_{1}:$ $\\sigma^2_{Б}>\\sigma^2_{В}$"
   ]
  },
  {
   "cell_type": "markdown",
   "metadata": {},
   "source": [
    "### Теорема"
   ]
  },
  {
   "cell_type": "markdown",
   "metadata": {},
   "source": [
    "Если $X_1$, ..., $X_n$ $\\sim$ $N(\\mu_X,\\sigma^2_X)$"
   ]
  },
  {
   "cell_type": "markdown",
   "metadata": {},
   "source": [
    "$Y_1$, ..., $Y_n$ $\\sim$ $N(\\mu_Y,\\sigma^2_Y)$,"
   ]
  },
  {
   "cell_type": "markdown",
   "metadata": {},
   "source": [
    "то $\\frac{\\hat\\sigma^2_X/\\sigma^2_X}{\\hat\\sigma^2_Y/\\sigma^2_Y} \\sim F_{n_X-1,n_Y-1}  $"
   ]
  },
  {
   "cell_type": "markdown",
   "metadata": {},
   "source": [
    "Пусть  $H_{0}$ верна:"
   ]
  },
  {
   "cell_type": "markdown",
   "metadata": {},
   "source": [
    "$\\frac{\\hat\\sigma^2_{B}}{\\hat\\sigma^2_{Б}} = (\\frac{22}{20})^2 = 1.21  $"
   ]
  },
  {
   "cell_type": "markdown",
   "metadata": {},
   "source": [
    "При уровне значимости 5% и левостороннем интервале имеем следующе степени свободы при распределении Фишера: $F_{20,18}$, критическое значение: $\\approx 0.47 <1.21 \\Rightarrow H_0 $ не отвергается"
   ]
  },
  {
   "cell_type": "markdown",
   "metadata": {},
   "source": [
    "Аналогично для правостороннего интервала имеем $F_{18,20}$, критическое значенние: $\\approx 2.12 > 1.21 \\Rightarrow H_0$ не отвергается"
   ]
  }
 ],
 "metadata": {
  "kernelspec": {
   "display_name": "Python 3",
   "language": "python",
   "name": "python3"
  },
  "language_info": {
   "codemirror_mode": {
    "name": "ipython",
    "version": 3
   },
   "file_extension": ".py",
   "mimetype": "text/x-python",
   "name": "python",
   "nbconvert_exporter": "python",
   "pygments_lexer": "ipython3",
   "version": "3.6.0"
  }
 },
 "nbformat": 4,
 "nbformat_minor": 2
}
