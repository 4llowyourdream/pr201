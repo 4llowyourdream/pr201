{
 "cells": [
  {
   "cell_type": "markdown",
   "metadata": {},
   "source": [
    "# Семинар 2. Совсем краткое введение в Питон и задачка про ёжиков:)\n",
    "\n"
   ]
  },
  {
   "cell_type": "markdown",
   "metadata": {},
   "source": [
    "Дата: 26.09.2016\n",
    "Конспект: Валерия Жувагина"
   ]
  },
  {
   "cell_type": "markdown",
   "metadata": {},
   "source": [
    "## Печатаем текст в Markdown"
   ]
  },
  {
   "cell_type": "markdown",
   "metadata": {},
   "source": [
    "Немного о том, как писать здесь формулы и текст.Например, мы пишем: \n",
    "Решаем уравнение $x+7=8$. Или же дробь: \n",
    "\n",
    "$$\n",
    "\\frac{45}{56}=7\n",
    "$$\n",
    "\n",
    "Формула стала красивой. Пишем формулы в уже знакомом многим TeXe. Для того, чтобы ячейку перевести из режима редактирования в готовый текст, нужно нажать shift+ENTER а чтобы её снова можно было редактировать, нужно покликать на текст :) Каждая ячейка может быть либо типа code (чтобы написать код), либо типа markdown (чтобы напечатать текст). Тип ячейки можно выбрать в toolbar наверху. Заголовки пишутся так: # Заголовок ## Подзаголовок"
   ]
  },
  {
   "cell_type": "markdown",
   "metadata": {
    "collapsed": true
   },
   "source": [
    "Мы обсудили, как писать текст, теперь  о том, как писать команды для компьютера, которые он должен выполнять."
   ]
  },
  {
   "cell_type": "markdown",
   "metadata": {},
   "source": [
    "## Code и пакеты"
   ]
  },
  {
   "cell_type": "markdown",
   "metadata": {},
   "source": [
    "Выбираем в toolbar вместо \"Markdown\" \"Code\" и решаем, например, вот такую, достаточно примитивную, задачу"
   ]
  },
  {
   "cell_type": "code",
   "execution_count": 3,
   "metadata": {
    "collapsed": false
   },
   "outputs": [
    {
     "data": {
      "text/plain": [
       "14"
      ]
     },
     "execution_count": 3,
     "metadata": {},
     "output_type": "execute_result"
    }
   ],
   "source": [
    "5 + 9"
   ]
  },
  {
   "cell_type": "markdown",
   "metadata": {},
   "source": [
    "То есть, если мы считаем вероятность, то мы её можем считать прямо так в тексте. Тут и графики строить можно и на другой язык программирования переходить!"
   ]
  },
  {
   "cell_type": "markdown",
   "metadata": {},
   "source": [
    "Какие могут потребоваться команды, с чем мы работаем часто при расчёте вероятностей:\n",
    "Нужно понимать, что Питон сам по себе мало что умеет, но на Питоне написано много библиотек, дополнительных пакетов. Наша задача, найти пакет, в котором находится необходимая нам функция и ей воспользоваться. Самому писать цикл не надо, хоть уметь это делать хорошо. \n",
    "Пакеты с которыми мы будем работать: numpy, scipy (для научных вычислений); seabourn и ggplot (для графиков); matplotlib; для работы с табличками данных pandas; scikit.learn для оценки моделей.\n",
    "Нужно вам, например, посчитать факториал. Гуглите, где живёт эта функция и находите пакет.\n",
    "Если мы не знаем, где она живет то гуглим: how to calculate factorial in python, а если знаем, то гуглим factorial scipy :)\n",
    "Находим необходимый модуль и пишем в ячейке import и название модуля. Например:"
   ]
  },
  {
   "cell_type": "code",
   "execution_count": 4,
   "metadata": {
    "collapsed": false
   },
   "outputs": [],
   "source": [
    "import scipy.misc"
   ]
  },
  {
   "cell_type": "code",
   "execution_count": 5,
   "metadata": {
    "collapsed": false
   },
   "outputs": [
    {
     "data": {
      "text/plain": [
       "array(5040.0)"
      ]
     },
     "execution_count": 5,
     "metadata": {},
     "output_type": "execute_result"
    }
   ],
   "source": [
    "scipy.misc.factorial(7)"
   ]
  },
  {
   "cell_type": "markdown",
   "metadata": {},
   "source": [
    "Это мы попросили Питон посчитать 7!"
   ]
  },
  {
   "cell_type": "markdown",
   "metadata": {},
   "source": [
    "Можно делать по другому:"
   ]
  },
  {
   "cell_type": "code",
   "execution_count": 6,
   "metadata": {
    "collapsed": false
   },
   "outputs": [],
   "source": [
    "from scipy.misc import *"
   ]
  },
  {
   "cell_type": "code",
   "execution_count": 8,
   "metadata": {
    "collapsed": false
   },
   "outputs": [
    {
     "data": {
      "text/plain": [
       "array(5040.0)"
      ]
     },
     "execution_count": 8,
     "metadata": {},
     "output_type": "execute_result"
    }
   ],
   "source": [
    "factorial(7)"
   ]
  },
  {
   "cell_type": "markdown",
   "metadata": {},
   "source": [
    "Функция choose k from n есть и в numpy, и в scipy. Можно найти либо под названием choose(), либо comb()."
   ]
  },
  {
   "cell_type": "markdown",
   "metadata": {},
   "source": [
    "Теперь решим задачку про ежей:"
   ]
  },
  {
   "cell_type": "markdown",
   "metadata": {},
   "source": [
    "# Ежи (Листок 1, задача 12)"
   ]
  },
  {
   "cell_type": "markdown",
   "metadata": {
    "collapsed": true
   },
   "source": [
    "В каждой вершине треугольника по ёжику. Каждую минуту с вероятностью 0,7 каждый ёжик независимо от других двигается по часовой стрелке и с вероятностью 0,3 против часовой. Обозначим T - время до встречи всех ежей в одной вершине. Найдите P(T=1), P(T=2), P(T=3), E(T)."
   ]
  },
  {
   "cell_type": "markdown",
   "metadata": {},
   "source": [
    "Итак, наше изначальное состояние-все ежи в разных углах. Это конфигурация 1-1-1"
   ]
  },
  {
   "cell_type": "markdown",
   "metadata": {},
   "source": [
    "![](http://s018.radikal.ru/i523/1610/a0/a9d6688688e3.png)"
   ]
  },
  {
   "cell_type": "markdown",
   "metadata": {},
   "source": [
    "Конфигурации будем считать по часовой от большего количества ежей в углу к меньшему."
   ]
  },
  {
   "cell_type": "markdown",
   "metadata": {},
   "source": [
    "Поскольку вероятность того, что ёж пойдет по часовой не равна вероятности того, что ёж пойдет против часовой, конфигурация 2-1-0 не равна конфигурации 2-0-1."
   ]
  },
  {
   "cell_type": "markdown",
   "metadata": {},
   "source": [
    "Возможные конфигурации: 1-1-1, 2-1-0, 2-0-1, 3-0-0"
   ]
  },
  {
   "cell_type": "markdown",
   "metadata": {},
   "source": [
    "![](http://s014.radikal.ru/i328/1610/d4/bfcbb5a62a28.png)"
   ]
  },
  {
   "cell_type": "markdown",
   "metadata": {},
   "source": [
    "Вот так выглядят наши возможные переходы из одной конфигурации в другую или саму в себя:"
   ]
  },
  {
   "cell_type": "markdown",
   "metadata": {},
   "source": [
    "![Вот так выглядят наши возможные переходы из одной конфигурации в другую или саму в себя:](http://i053.radikal.ru/1610/ab/1f380b13393a.png)\n",
    "\n"
   ]
  },
  {
   "cell_type": "markdown",
   "metadata": {},
   "source": [
    "## Пункт 1. Найти P(T=1)\n"
   ]
  },
  {
   "cell_type": "markdown",
   "metadata": {},
   "source": [
    "Как мы видим, сразу перейти из конфигурации 1-1-1 в конфигурацию 3-0-0 невозможно, нужно сделать как минимум два шага. Поэтому P(T=1)=0\n",
    "\n"
   ]
  },
  {
   "cell_type": "markdown",
   "metadata": {},
   "source": [
    "## Пункт 2. Найти P(T=2)"
   ]
  },
  {
   "cell_type": "markdown",
   "metadata": {},
   "source": [
    "Посчитаем вероятность перехода из 1-1-1 в 2-0-1. Тут всегда два ежа должны пойти против часовой, а один по часовой и возможных комбинаций 3, поэтому:"
   ]
  },
  {
   "cell_type": "markdown",
   "metadata": {},
   "source": [
    "$$P(\\text{из 1-1-1 в 2-0-1})=3\\times0.3\\times0.3\\times0.7$$"
   ]
  },
  {
   "cell_type": "code",
   "execution_count": 3,
   "metadata": {
    "collapsed": false
   },
   "outputs": [
    {
     "data": {
      "text/plain": [
       "0.063"
      ]
     },
     "execution_count": 3,
     "metadata": {},
     "output_type": "execute_result"
    }
   ],
   "source": [
    "0.3*0.3*0.7"
   ]
  },
  {
   "cell_type": "code",
   "execution_count": 16,
   "metadata": {
    "collapsed": false
   },
   "outputs": [
    {
     "data": {
      "text/plain": [
       "0.189"
      ]
     },
     "execution_count": 16,
     "metadata": {},
     "output_type": "execute_result"
    }
   ],
   "source": [
    "3*0.063"
   ]
  },
  {
   "cell_type": "markdown",
   "metadata": {},
   "source": [
    "Для того, чтобы из 2-0-1 ёжики перешли в 3-0-0, нужно, чтобы два из них пошли по часовой (те, которые уже встретились), а один пошёл против часовой. Соответственно, вероятность перехода из 2-0-1 в 3-0-0:"
   ]
  },
  {
   "cell_type": "markdown",
   "metadata": {},
   "source": [
    "$$P(\\text{из 2-0-1 в 3-0-0}) =0.7\\times0.7\\times0.3$$\n",
    "\n"
   ]
  },
  {
   "cell_type": "code",
   "execution_count": 6,
   "metadata": {
    "collapsed": false
   },
   "outputs": [
    {
     "data": {
      "text/plain": [
       "0.147"
      ]
     },
     "execution_count": 6,
     "metadata": {},
     "output_type": "execute_result"
    }
   ],
   "source": [
    "0.3*0.7*0.7"
   ]
  },
  {
   "cell_type": "markdown",
   "metadata": {},
   "source": [
    "Значит, перемножение вероятностей даст нам все исходы, при которых мы из 1-1-1 через 2-0-1 попадаем в 3-0-0\n"
   ]
  },
  {
   "cell_type": "code",
   "execution_count": 17,
   "metadata": {
    "collapsed": false
   },
   "outputs": [
    {
     "data": {
      "text/plain": [
       "0.027783"
      ]
     },
     "execution_count": 17,
     "metadata": {},
     "output_type": "execute_result"
    }
   ],
   "source": [
    "0.147*0.189"
   ]
  },
  {
   "cell_type": "markdown",
   "metadata": {},
   "source": [
    "В случае с 2-1-0 всё наоборот: чтобы попасть в него нам нужно, чтобы два ежа пошли по часовой и один против. А чтобы из 2-1-0 попасть в 3-0-0 нам нужно, чтобы 2 ежа пошли против часовой, а один по. "
   ]
  },
  {
   "cell_type": "code",
   "execution_count": 9,
   "metadata": {
    "collapsed": false
   },
   "outputs": [
    {
     "data": {
      "text/plain": [
       "0.4409999999999999"
      ]
     },
     "execution_count": 9,
     "metadata": {},
     "output_type": "execute_result"
    }
   ],
   "source": [
    "0.7*0.7*0.3*3\n"
   ]
  },
  {
   "cell_type": "code",
   "execution_count": 13,
   "metadata": {
    "collapsed": false
   },
   "outputs": [
    {
     "data": {
      "text/plain": [
       "0.063"
      ]
     },
     "execution_count": 13,
     "metadata": {},
     "output_type": "execute_result"
    }
   ],
   "source": [
    "0.3*0.3*0.7"
   ]
  },
  {
   "cell_type": "code",
   "execution_count": 18,
   "metadata": {
    "collapsed": false
   },
   "outputs": [
    {
     "data": {
      "text/plain": [
       "0.027783"
      ]
     },
     "execution_count": 18,
     "metadata": {},
     "output_type": "execute_result"
    }
   ],
   "source": [
    "0.063*0.441"
   ]
  },
  {
   "cell_type": "markdown",
   "metadata": {},
   "source": [
    "Вероятность того, что ёжики встретятся за два хода=сумма вероятностей того, что они перейдут из 1-1-1 в 2-0-1, а потом в 3-0-0\n",
    "и того, что они перейдут из 1-1-1 в 2-1-0, а потом в 3-0-0"
   ]
  },
  {
   "cell_type": "code",
   "execution_count": 10,
   "metadata": {
    "collapsed": false
   },
   "outputs": [
    {
     "data": {
      "text/plain": [
       "0.055566"
      ]
     },
     "execution_count": 10,
     "metadata": {},
     "output_type": "execute_result"
    }
   ],
   "source": [
    "0.027783+0.027783"
   ]
  },
  {
   "cell_type": "markdown",
   "metadata": {},
   "source": [
    "$$Ответ: P(T=2)=0.055566$$"
   ]
  },
  {
   "cell_type": "markdown",
   "metadata": {},
   "source": [
    "## Пункт 3. Найти P(T=3)"
   ]
  },
  {
   "cell_type": "markdown",
   "metadata": {
    "collapsed": true
   },
   "source": [
    "Есть 6 вариантов, при которых мы делаем 3 шага до конца игры. "
   ]
  },
  {
   "cell_type": "markdown",
   "metadata": {},
   "source": [
    "![](http://i013.radikal.ru/1610/33/6c12dbe667b4.png)"
   ]
  },
  {
   "cell_type": "markdown",
   "metadata": {},
   "source": [
    "1 и 2 вариант: 1-1-1 переходит сам в себя, потом как в T=2 (либо в 2-0-1, либо в 2-1-0)"
   ]
  },
  {
   "cell_type": "code",
   "execution_count": 23,
   "metadata": {
    "collapsed": false
   },
   "outputs": [
    {
     "data": {
      "text/plain": [
       "0.010279710000000001"
      ]
     },
     "execution_count": 23,
     "metadata": {},
     "output_type": "execute_result"
    }
   ],
   "source": [
    "0.37*0.441*0.063"
   ]
  },
  {
   "cell_type": "code",
   "execution_count": 24,
   "metadata": {
    "collapsed": false
   },
   "outputs": [
    {
     "data": {
      "text/plain": [
       "0.010279710000000001"
      ]
     },
     "execution_count": 24,
     "metadata": {},
     "output_type": "execute_result"
    }
   ],
   "source": [
    "0.37*0.189*0.147"
   ]
  },
  {
   "cell_type": "code",
   "execution_count": 25,
   "metadata": {
    "collapsed": false
   },
   "outputs": [
    {
     "data": {
      "text/plain": [
       "0.02055942"
      ]
     },
     "execution_count": 25,
     "metadata": {},
     "output_type": "execute_result"
    }
   ],
   "source": [
    "0.01027971*2"
   ]
  },
  {
   "cell_type": "markdown",
   "metadata": {},
   "source": [
    "3 и 4 вариант. Переходим либо в 2-0-1, либо в 2-1-0, эта конфигурация переходит саму в себя, а потом приходим в 3-0-0"
   ]
  },
  {
   "cell_type": "code",
   "execution_count": 12,
   "metadata": {
    "collapsed": false
   },
   "outputs": [
    {
     "data": {
      "text/plain": [
       "0.010279710000000001"
      ]
     },
     "execution_count": 12,
     "metadata": {},
     "output_type": "execute_result"
    }
   ],
   "source": [
    "0.189*0.37*0.147"
   ]
  },
  {
   "cell_type": "code",
   "execution_count": 11,
   "metadata": {
    "collapsed": false
   },
   "outputs": [
    {
     "data": {
      "text/plain": [
       "0.010279710000000001"
      ]
     },
     "execution_count": 11,
     "metadata": {},
     "output_type": "execute_result"
    }
   ],
   "source": [
    "0.441*0.37*0.063"
   ]
  },
  {
   "cell_type": "code",
   "execution_count": 29,
   "metadata": {
    "collapsed": false
   },
   "outputs": [
    {
     "data": {
      "text/plain": [
       "0.02055942"
      ]
     },
     "execution_count": 29,
     "metadata": {},
     "output_type": "execute_result"
    }
   ],
   "source": [
    "0.01027971*2"
   ]
  },
  {
   "cell_type": "markdown",
   "metadata": {},
   "source": [
    "5 и 6 вариант: переходим либо в 2-0-1, либо в 2-1-0, затем, если мы попали в 2-0-1, она переходит в 2-1-0, а если мы попали в 2-1-0, она переходит в 2-0-1. Потом, как обычно, переходим в 3-0-0."
   ]
  },
  {
   "cell_type": "code",
   "execution_count": 32,
   "metadata": {
    "collapsed": false
   },
   "outputs": [
    {
     "data": {
      "text/plain": [
       "0.012252303"
      ]
     },
     "execution_count": 32,
     "metadata": {},
     "output_type": "execute_result"
    }
   ],
   "source": [
    "0.441*0.441*0.147"
   ]
  },
  {
   "cell_type": "code",
   "execution_count": 31,
   "metadata": {
    "collapsed": false
   },
   "outputs": [
    {
     "data": {
      "text/plain": [
       "0.002250423"
      ]
     },
     "execution_count": 31,
     "metadata": {},
     "output_type": "execute_result"
    }
   ],
   "source": [
    "0.189*0.189*0.063"
   ]
  },
  {
   "cell_type": "code",
   "execution_count": 33,
   "metadata": {
    "collapsed": false
   },
   "outputs": [
    {
     "data": {
      "text/plain": [
       "0.014502726"
      ]
     },
     "execution_count": 33,
     "metadata": {},
     "output_type": "execute_result"
    }
   ],
   "source": [
    "0.012252303+0.002250423"
   ]
  },
  {
   "cell_type": "markdown",
   "metadata": {},
   "source": [
    "Складываем все возможные варианты:"
   ]
  },
  {
   "cell_type": "code",
   "execution_count": 35,
   "metadata": {
    "collapsed": false
   },
   "outputs": [
    {
     "data": {
      "text/plain": [
       "0.055621566"
      ]
     },
     "execution_count": 35,
     "metadata": {},
     "output_type": "execute_result"
    }
   ],
   "source": [
    "0.02055942+0.02055942+0.014502726"
   ]
  },
  {
   "cell_type": "markdown",
   "metadata": {},
   "source": [
    "$$Ответ: P(T=3)=0.055621566$$"
   ]
  },
  {
   "cell_type": "markdown",
   "metadata": {},
   "source": [
    "## Пункт 4. Найти E(T)"
   ]
  },
  {
   "cell_type": "markdown",
   "metadata": {},
   "source": [
    "Предположим, что из точки 1-1-1 в среднем надо ждать $a$ ходов до встречи, из 2-0-1 в среднем $b$ ходов до встречи, а из 2-1-0 в среднем $c$ ходов до встречи."
   ]
  },
  {
   "cell_type": "markdown",
   "metadata": {},
   "source": [
    "Рассмотрим ситуацию 1-1-1. Мы можем потратить один ход и перейти в неё же. Запишем это как $0.37 (1+a)$. \n",
    "Мы также можем потратить один ход и перейти туда, где нам в среднем надо ждать $b$ ходов, то есть в ситуацию 2-0-1. Это будет выглядеть как: $0.189(b+1)$, а если же мы перейдем в 2-1-0, то: $0.441(1+с)$."
   ]
  },
  {
   "cell_type": "markdown",
   "metadata": {},
   "source": [
    "По такому же принципу распишем ситуации, где нам осталось ждать $b$ и $c$ ходов (то есть 2-0-1 и 2-1-0). У нас получится следующая система уравнений:"
   ]
  },
  {
   "cell_type": "markdown",
   "metadata": {},
   "source": [
    "\\begin{equation*}\n",
    " \\begin{cases}\n",
    "  a=0.37(1+a)+0.189(1+b)+0.441(1+c)\n",
    "   \\\\\n",
    "   b=0.294(1+a)+0.37(1+b)+0.189(1+c)+0.147\n",
    "   \\\\\n",
    "   c=0.126(1+a)+0.441(1+b)+0.37(1+c)+0.063\n",
    " \\end{cases}\n",
    "\\end{equation*}"
   ]
  },
  {
   "cell_type": "markdown",
   "metadata": {
    "collapsed": true
   },
   "source": [
    "Ожидаемое количество ходов-это и есть $a$, то есть ожидаемое количество ходов в точке начала игры. Решение данной системы уравнений даёт результат: $a=E(T)=14\\frac{2}{7}$"
   ]
  },
  {
   "cell_type": "markdown",
   "metadata": {},
   "source": [
    "$$Ответ: E(T)=14\\frac{2}{7}$$"
   ]
  },
  {
   "cell_type": "markdown",
   "metadata": {},
   "source": [
    "![](http://s018.radikal.ru/i512/1610/8f/5c310d7af7c2.jpg)"
   ]
  },
  {
   "cell_type": "code",
   "execution_count": null,
   "metadata": {
    "collapsed": true
   },
   "outputs": [],
   "source": []
  }
 ],
 "metadata": {
  "anaconda-cloud": {},
  "kernelspec": {
   "display_name": "Python [Root]",
   "language": "python",
   "name": "Python [Root]"
  },
  "language_info": {
   "codemirror_mode": {
    "name": "ipython",
    "version": 3
   },
   "file_extension": ".py",
   "mimetype": "text/x-python",
   "name": "python",
   "nbconvert_exporter": "python",
   "pygments_lexer": "ipython3",
   "version": "3.5.2"
  }
 },
 "nbformat": 4,
 "nbformat_minor": 1
}
