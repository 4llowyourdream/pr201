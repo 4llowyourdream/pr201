{
 "cells": [
  {
   "cell_type": "markdown",
   "metadata": {},
   "source": [
    "\n",
    "# Семинар 20. Считаем \"руками\" или экспериментальное обучение\n",
    "#### Смотрим на доску, понимаем, задаем вопросы, но записываем заметки только после решения задачи в течении нескольких минут. А принесет ли это пользу, покажет лишь время! Ждем результат!\n",
    "\n",
    "\n",
    "Дата: 2017-02-20 <br />\n",
    "Подготовила: Субботкина Анастасия\n",
    "   "
   ]
  },
  {
   "cell_type": "markdown",
   "metadata": {},
   "source": [
    "## Задача 18.3. Пункт 2.\n",
    "### Условие\n",
    "Пусть $X_1,...,X_n$ распределены одинаково и независимо. Оцените значение $\\theta$ с помощью ML (Метод максимального правдоподобия) и  MM (Метод моментов), если функция плотности $X_i, p(t)$ имеет вид: $\\Large  \\frac{2t}{\\theta^2}$ при $ t \\in [0;\\theta]$\n"
   ]
  },
  {
   "cell_type": "markdown",
   "metadata": {},
   "source": [
    "### Решение\n",
    "$f(x) =\n",
    "  \\begin{cases}\n",
    "     \\Large \\frac{2x}{\\theta^2}, & \\quad \\text{при}\\  x \\in [0;\\theta]\\\\\n",
    "   0, & \\quad \\text иначе\\\\\n",
    "  \\end{cases}$\n",
    "#### Метод максимального правдоподобия\n",
    "Запишем функцию правдоподобия при $\\forall x_i \\in [0;\\theta]$ (иначе $ L(\\theta)= 0)$ и максимизируем ее. <br />\n",
    "$$ L(\\theta)= \\prod\\limits_{i = 1}^n  \\frac{2x_i}{\\theta^2} = \\frac{ 2^{n}\\prod\\limits_{i = 1}^n x_i}{\\theta^{2n}} \\to \\max_{\\theta} $$<br />\n",
    "Чтобы было удобно считать производную, сделаем монотонное преобразование $ln(L)$\n",
    "\n",
    "$$\n",
    "\\ln L(\\theta) = n\\ \\ln 2\\ + \\sum_{i=1}^n \\ln x_i\\ - 2n\\ \\ln\\theta \\to \\max_{\\theta}\\\\\n",
    " \\frac{\\partial \\ln L}{\\partial \\theta} = -\\frac{2n}{\\theta}<0$$ \n",
    "\n",
    "\n",
    "Заметим, что $lnL$ убывает по $\\theta$, и надо найти $ \\min \\theta$ для максимизации функции правдоподобия.<br />\n",
    "Однако условие $\\forall x_i \\in [0;\\theta]$ равносильно $\\theta > \\max(x_1,...x_n)$\n",
    "\n",
    "Следовательно, $\\large \\hat\\theta_{ML} = \\max x_i $ \n",
    "\n",
    "Чтобы лучше понять, рассмотрим пример с числами! <br />\n",
    "![](http://s019.radikal.ru/i631/1702/bb/62d756fcf563.jpg)\n",
    "$n=3,\\ x_1=2, x_2=5, x_3=7 \\\\\n",
    "\\hat\\theta_{ML}=7$  <br />\n",
    "Если $\\theta = 6$, то совместная плотность равна 0 (не можем получить такую выборку). А совместная функция плотности независимых величин равна произведению частных функций (хоть одна функция = 0, все произведение = 0).\n",
    "\n",
    "#### Метод моментов\n",
    "$$E(X)=\\bar X\\\\\n",
    "E(X)=\\int_0^\\theta \\frac{2x^2}{\\theta^2}\\, \\mathrm{d}x = \\left. \\frac{2x^3}{3\\theta^2}\\right|_0^\\theta = \\frac{2\\theta^3}{3\\theta^2} = \\frac{2\\theta}{3} \\\\\n",
    "\\bar X = \\frac{X_1+\\dotsb+X_n}{n}\\\\\n",
    "\\frac{2}{3} \\hat\\theta_{MM} = \\frac{X_1+\\dotsb+X_n}{n}\\\\\n",
    "\\hat\\theta_{MM} = \\frac{3 (X_1+\\dotsb+X_n)}{2n} = \\frac{3\\bar X}{2}$$\n"
   ]
  },
  {
   "cell_type": "markdown",
   "metadata": {},
   "source": [
    "## Разберем более сложный случай!\n",
    "## Задача 18.20. Пункт 2.\n",
    "### Условие\n",
    "Известно, что $X_i$ независимы, $E(X_i)=5, Var(X_i)=4, n$ велико.<br />\n",
    "$Y_n=\\Large \\frac{\\bar X_n +3}{\\bar X_n +6}\\\\\n",
    "E(\\hat\\theta)-?\\\\\n",
    "Var(\\hat\\theta) -?\\\\\n",
    "\\hat\\theta -?$"
   ]
  },
  {
   "cell_type": "markdown",
   "metadata": {},
   "source": [
    "### Решение\n",
    "#### Идея!!!\n",
    "Чтобы получить линейную функцию, разложим $Y_n$ в ряд Тейлора в окрестности $E(\\bar X)$ (так как по ЗБЧ при $ n \\to \\infty\\ \\  \\bar X \\to E(\\bar X)$).\n",
    "###### 1 способ - Метод прилежного ученика 1-го курса\n",
    "\n",
    "\n",
    "$$ f(\\bar X) = f(E(\\bar X)) + f'(E(\\bar X)) (\\bar X - E(\\bar X)) + ...$$ \n",
    "\n",
    "\n",
    "Ну нет, так скучно и сложно!\n",
    "###### 2 способ - Метод продвинутого девятиклассника\n",
    "Пользуемся тем, что $$\\ \\frac{1}{1-q} = 1+q+q^2+...$$<br />\n",
    "И для самых продвинутых $$ \\frac{1}{1+q} = 1-q+q^2-...$$<br />\n",
    "$$Y_n = \\frac{\\bar X +3+3-3}{\\bar X +6} = 1- \\frac{3}{\\bar X +6} = 1-\\frac{3}{6 \\big (1+\\frac{\\bar X}{6}\\big )}=\\\\\n",
    "=1-\\frac{1}{2} \\Big(1-\\frac{\\bar X}{6} + {{\\displaystyle o}\\Big(\\frac{\\bar X}{6}\\Big)\\Big) }\\approx 1- \\frac{1}{2} + \\frac {\\bar X}{12}= \\frac {1}{2} + \\frac {\\bar X}{12}\\\\\n",
    "\\hat \\theta \\approx \\frac{1}{2} + \\frac {\\bar X}{12} \\\\\n",
    "E(\\hat \\theta) \\approx \\frac{1}{2} + \\frac {E(\\bar X)}{12} = \\frac{1}{2} + \\frac {E(\\bar X_i)}{12} = \\frac{5}{12}+\\frac{56}{12}=\\frac{11}{12}  \\\\\n",
    "Var(\\hat \\theta) \\approx Var \\Big (\\frac{1}{2} + \\frac {\\bar X}{12} \\Big )= \\frac{Var(\\bar X)}{12^2} =\\frac {4}{144n} =  \\frac {1}{36n}$$<br />\n",
    "Так как $$ Var\\Big(\\frac{X_1+...+X_n}{n}\\Big) = \\frac{n Var(X_i)}{n^2} = \\frac{Var(X)}{n}$$"
   ]
  },
  {
   "cell_type": "markdown",
   "metadata": {},
   "source": [
    "## Задача 18.8 усовершенствованная\n",
    "### Условие\n",
    "Пусть $X_1,...,X_n$ независимы и их функция плотности имеет вид:\n",
    "\n",
    "\n",
    "$f(x) =\n",
    "  \\begin{cases}\n",
    "  (\\theta+1)x^\\theta, & \\quad \\  x \\in [0;1];\\\\\n",
    "   0, & \\quad \\text иначе\\\\\n",
    "  \\end{cases}\\\\\n",
    "  \\hat\\theta_{MM}- ?$"
   ]
  },
  {
   "cell_type": "markdown",
   "metadata": {},
   "source": [
    "### Решение\n",
    "#### Метод моментов\n",
    "$$E(X)=\\bar X\\\\\n",
    "E(X)=\\int_0^1(\\theta + 1)\\  x^{\\theta +1} \\mathrm{d}x = \\left.\\frac{(\\theta + 1)x^{\\theta +2}}{(\\theta + 2)}\\right|_0^1 = \\frac{\\theta +1}{\\theta +2}\\\\\n",
    "\\frac{\\hat \\theta +1}{\\hat \\theta +2}= \\bar X \\Longrightarrow \\hat \\theta_{MM} = \\frac{2\\bar X - 1}{1-\\bar X}$$"
   ]
  },
  {
   "cell_type": "markdown",
   "metadata": {},
   "source": [
    "### Немного повторения\n",
    "$$ X \\sim N (?;?) ; Y \\sim N (?;?) \\not \\Rightarrow X+2Y \\sim N (?;?)\\\\\n",
    "{X \\choose Y} \\sim N \\Big({X \\choose Y}\\begin{pmatrix} ? & ? \\\\ ? & ? \\end{pmatrix}\\Big) \\Rightarrow X+2Y \\sim N (?;?)$$\n"
   ]
  },
  {
   "cell_type": "markdown",
   "metadata": {},
   "source": [
    "### Домашнее задание по номеру 18.8 или Var(а) много не бывает!\n",
    "$ Var(\\hat\\theta_{MM}) - ?\\\\\n",
    "\\hat Var(\\hat\\theta_{MM})- ?\\\\\n",
    "Var(\\hat Var(\\hat\\theta_{MM}))- ?\\\\\n",
    "\\hat Var(\\hat Var(\\hat\\theta_{MM}))- ?$<br />\n",
    "###### План выполнения<br />\n",
    "1. Разложить в ряд Тейлора $\\hat \\theta = ? + ?\\bar X$<br />\n",
    "2. $ Var (\\hat \\theta) \\approx \\ \\large \\frac{?^2 Var(X_i)}{n}= \\large \\frac {?^2 h(\\theta)}{n}$ <br />\n",
    "3. Неизвестное $\\theta$ заменяем на оценку $\\hat \\theta$ <br />\n",
    "$ \\hat Var (\\hat \\theta) = \\large \\frac {?^2 h(\\hat \\theta)}{n}$ <br />\n",
    "и так далее..."
   ]
  },
  {
   "cell_type": "markdown",
   "metadata": {},
   "source": [
    " ###### Пора ~~хотя бы попробовать~~ сделать домашнее задание! Успехов!"
   ]
  },
  {
   "cell_type": "markdown",
   "metadata": {},
   "source": [
    "### Для полного погружения в семинар! Подписывайтесь, ставьте лайки и наслаждайтесь статистикой!\n",
    "https://www.youtube.com/watch?v=4ZyKkAystoM&t <br />\n",
    "https://www.youtube.com/watch?v=wvhMn5X9AOA&t"
   ]
  },
  {
   "cell_type": "code",
   "execution_count": null,
   "metadata": {
    "collapsed": true
   },
   "outputs": [],
   "source": []
  }
 ],
 "metadata": {
  "anaconda-cloud": {},
  "kernelspec": {
   "display_name": "Python 3",
   "language": "python",
   "name": "python3"
  },
  "language_info": {
   "codemirror_mode": {
    "name": "ipython",
    "version": 3
   },
   "file_extension": ".py",
   "mimetype": "text/x-python",
   "name": "python",
   "nbconvert_exporter": "python",
   "pygments_lexer": "ipython3",
   "version": "3.5.2"
  }
 },
 "nbformat": 4,
 "nbformat_minor": 0
}
