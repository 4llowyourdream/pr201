{
 "cells": [
  {
   "cell_type": "markdown",
   "metadata": {},
   "source": [
    "\n",
    "# Семинар 21. STAN - вероятностное программирование.\n",
    "### Смоделируй своё видение мира!\n",
    "\n",
    "Дата: 2017-02-27 <br />\n",
    "Подготовила: Чернощёкова Арина   "
   ]
  },
  {
   "cell_type": "markdown",
   "metadata": {},
   "source": [
    "## Что будем моделировать?\n",
    "\n",
    "В шапке спрятаны серебрянные и золотые монеты. Доля золотых монет равна $p$. Мы извлекаем несколько наугад по очереди с возвращением извлечённых в шапку. Оцените $p$."
   ]
  },
  {
   "cell_type": "markdown",
   "metadata": {},
   "source": [
    "### Решим задачу руками. \n",
    "#### *Шаг 1. Сформируем априорное мнение о $p$.*\n",
    "\n",
    "1) $p$ — доля золотых монет, поэтому $p \\in [0;1]$. <br />\n",
    "2) Априорное мнение отражает наше знание о $p$ и может быть разным:\n",
    "* Так \"фанат\" золотых монет, уверенный, что  их доля в шапке велика, может верить, что $p$ имеет распределение следующего вида: <br />\n",
    "![](http://s019.radikal.ru/i618/1703/a0/94557cba229f.png)\n",
    "* \"Фанат\" серебрянных монет: <br />\n",
    "![](http://s020.radikal.ru/i720/1703/4e/4792192f7ed9.png)\n",
    "* Нам безразличны и серебрянные, и золотые монеты, поэтому мы верим, что $p$ имеет равномерное распределение: $p \\sim U [0;1]$. <br />\n",
    "![](http://s41.radikal.ru/i093/1703/66/f9c0e66ea91c.png)\n",
    "<br />\n",
    "$$\n",
    "\\boxed{f(p) =\n",
    "\\begin{cases}\n",
    "1, & \\text{если $p \\in [0;1]$;} \\\\\n",
    "0, & \\text{если $иначе$.}\n",
    "\\end{cases}} $$"
   ]
  },
  {
   "cell_type": "markdown",
   "metadata": {},
   "source": [
    "#### *Шаг 2. Проведём наблюдения.*\n",
    "1) Поочерёдно вытаскиваем две монеты. <br />\n",
    "2) Пусть $Y_i$ индикатор для события \"вытащили золотую монету\". <br />\n",
    "Тогда $Y_i =\n",
    "\\begin{cases}\n",
    "1, & \\text{с вероятностью $p$ (так как $p$ — доля золотых монет в шапке);} \\\\\n",
    "0, & \\text{с вероятностью $1-p$.}\n",
    "\\end{cases}$ <br />\n",
    "3) Наши наблюдения таковы: $y_1 = 1$, $y_2 = 1$."
   ]
  },
  {
   "cell_type": "markdown",
   "metadata": {},
   "source": [
    "#### *Шаг 3. Учитывая наши наблюдения и априорное мнение о $p$, построим апостериорную функцию плотности $p$.*\n",
    "** 1) По формуле условной функции плотности:**\n",
    "<br />\n",
    "$f(p \\mid y_1 = 1, y_2 = 1) = \n",
    "\\frac {f(p, y_1 = 1, y_2 = 1)}{f(y_1 = 1, y_2 = 1)}$ <br />\n",
    "<br />\n",
    "** 2) Сначала найдём числитель $f(p, y_1 = 1, y_2 = 1)$ :**<br />\n",
    "Для этого найдём вероятность наблюдать вытаскивание двух золотых монет подряд, при условии, что их доля равна $p$ (см. *Шаг 2*): \n",
    "$P(y_1 = 1, y_2 = 1 \\mid p) = p^2$ **(1)** <br />\n",
    "<br />\n",
    "В то же время по формуле условной вероятности: <br />\n",
    "<br />\n",
    "$P(y_1 = 1, y_2 = 1 \\mid p) = \\frac {f(p, y_1 = 1, y_2 = 1)}{f(p)}$ **(2)** <br />\n",
    "<br />\n",
    "Приравнивая выражения **(1)** и **(2)** получим: <br />\n",
    "<br />\n",
    "$\\frac {f(p, y_1 = 1, y_2 = 1)}{f(p)} = p^2$ $\\quad$ <=> $\\quad$ $f(p, y_1 = 1, y_2 = 1) = p^2f(p)$. <br />\n",
    "<br />\n",
    "Вспомнив, что \n",
    "$f(p) =\n",
    "\\begin{cases}\n",
    "1, & \\text{если $p \\in [0;1]$;} \\\\\n",
    "0, & \\text{если $иначе$.}\n",
    "\\end{cases} $, вычислим: <br />\n",
    "<br />\n",
    "$f(p, y_1 = 1, y_2 = 1) =\n",
    "\\begin{cases}\n",
    "p^2, & \\text{если $p \\in [0;1]$;} \\\\\n",
    "0, & \\text{если $иначе$.}\n",
    "\\end{cases} $\n",
    "<br />\n",
    "** 3) Теперь апостериорная функция плотности выглядит так:**\n",
    "$f(p \\mid y_1 = 1, y_2 = 1)=\n",
    "\\begin{cases}\n",
    "\\frac {p^2}{f(y_1 = 1, y_2 = 1)}, & \\text{если $p \\in [0;1]$;} \\\\\n",
    "0, & \\text{если $иначе$.}\n",
    "\\end{cases} $\n",
    "<br />\n",
    "** 4)Чтобы найти знаменатель $f(y_1 = 1, y_2 = 1)$, воспользуемся тем, что площадь под функцией плотности равна 1.**<br />\n",
    "Обратим внимание на то, что $\\frac 1{f(y_1 = 1, y_2 = 1)}$ не зависит от $p$, поэтому вынесем множитель за знак интеграла.\n",
    "<br />\n",
    "<br />\n",
    "$$ \\int\\limits_0^1 \\frac{p^2}{f(y_1 = 1, y_2 = 1)}\\, dp = 1 $$\n",
    "$$ \\frac{1}{f(y_1 = 1, y_2 = 1)}\\int\\limits_0^1 {p^2}\\, dp = 1 $$\n",
    "$$ \\left. \\frac{1}{f(y_1 = 1, y_2 = 1)}\\frac{p^3}{3}\\right|_0^1 = 1 $$\n",
    "$$ \\frac{1}{f(y_1 = 1, y_2 = 1)}\\frac1{3} = 1 $$\n",
    "<br />\n",
    "$$ f(y_1 = 1, y_2 = 1) = \\frac1{3} $$\n",
    "**4)Таким образом, апостериорная функция плотности равна:**\n",
    "$$\n",
    "\\boxed{f(p \\mid y_1 = 1, y_2 = 1)=\n",
    "\\begin{cases}\n",
    "3p^2, & \\text{если $p \\in [0;1]$;} \\\\\n",
    "0, & \\text{если $иначе$.}\n",
    "\\end{cases}}\n",
    "$$\n"
   ]
  },
  {
   "cell_type": "markdown",
   "metadata": {},
   "source": [
    "## Теперь решим нашу задачу, используя вероятностное программирование.\n",
    "Для этого нам понадобятся:\n",
    "* Текстовый редактор (например, Atom/Brackets/Sublime/что-нибудь приличное)\n",
    "* Программы: дистрибутив Anaconda, модуль pystan."
   ]
  },
  {
   "cell_type": "markdown",
   "metadata": {},
   "source": [
    "### *Шаг 1. В текстовом редакторе описываем модель и создаём файл с расширением .stan:\n",
    "\n",
    "```cpp\n",
    "data {\n",
    " int<lower=0> N; // number of observations\n",
    " int<lower=0, upper=1> y[N]; // vector of observed coins\n",
    "}\n",
    "parameters {\n",
    "  // proportion of golden coins in the hat\n",
    "  real<lower=0, upper=1> p;\n",
    "}\n",
    "model {\n",
    "  // prior\n",
    "  p ~ uniform(0, 1);\n",
    "  // model for observed data\n",
    "  for (n in 1:N) {\n",
    "    y[n] ~ bernoulli(p);\n",
    "  }\n",
    "}\n",
    "```\n",
    "\n",
    "Иногда возникают проблемы с русскими буквами в комментариях к stan-коду, поэтому пишите комментарии [на языке Шекспира](https://tvrain.ru/teleshow/ted_dod/entoni_dzhon_piters-407743/) :)"
   ]
  },
  {
   "cell_type": "markdown",
   "metadata": {},
   "source": [
    "### *Шаг 2. Переходим в Jupyter.*\n",
    "Выпускаем на свободу вероятностных демонов! Они, опираясь на входные данные модели (априорная функция плотности и наблюдения) сгенерируют нам 4 выборки по 1000 наблюдений, которые сходятся по распределению к апостериорному распеределению. Вспоминая наши теоретические подсчёты, свои выборки демоны генерируют  из полученной нами функции плотности: <br />\n",
    "<br />\n",
    "$$\n",
    "\\boxed{f(p \\mid y_1 = 1, y_2 = 1)=\n",
    "\\begin{cases}\n",
    "3p^2, & \\text{если $p \\in [0;1]$;} \\\\\n",
    "0, & \\text{если $иначе$.}\n",
    "\\end{cases}}\n",
    "$$\n",
    "\n",
    "* Цепь 1: $p_1, p_2, p_3, \\dots, p_{999},  p_{1000}$\n",
    "* Цепь 2: $p_1, p_2, p_3, \\dots, p_{999},  p_{1000}$\n",
    "* Цепь 3: $p_1, p_2, p_3, \\dots, p_{999},  p_{1000}$\n",
    "* Цепь 4: $p_1, p_2, p_3, \\dots, p_{999},  p_{1000}$"
   ]
  },
  {
   "cell_type": "markdown",
   "metadata": {},
   "source": [
    "**Подготовим инструменты и входные данные**"
   ]
  },
  {
   "cell_type": "code",
   "execution_count": 1,
   "metadata": {
    "collapsed": true
   },
   "outputs": [],
   "source": [
    "import pandas as pd\n",
    "import numpy as np\n",
    "import seaborn as sns\n",
    "import pystan\n",
    "%matplotlib inline"
   ]
  },
  {
   "cell_type": "code",
   "execution_count": 2,
   "metadata": {
    "collapsed": true
   },
   "outputs": [],
   "source": [
    "coins_data = {'N' : 2, 'y' : [1, 1]}"
   ]
  },
  {
   "cell_type": "markdown",
   "metadata": {},
   "source": [
    "**Загружаем сгенерированные значения.**"
   ]
  },
  {
   "cell_type": "code",
   "execution_count": 3,
   "metadata": {
    "collapsed": false
   },
   "outputs": [
    {
     "name": "stderr",
     "output_type": "stream",
     "text": [
      "INFO:pystan:COMPILING THE C++ CODE FOR MODEL anon_model_eb876e7a7a808168a39b9cadca2846de NOW.\n"
     ]
    }
   ],
   "source": [
    "coins_fit = pystan.stan (file= \"C:/Users/afche/.atom/packages/language-stan/examples/matstat.stan\", data=coins_data, chains=4, iter=1000)"
   ]
  },
  {
   "cell_type": "markdown",
   "metadata": {},
   "source": [
    "**После того, как данные будут загружены, мы можем смело рисовать апостериорную функцию плотности!**"
   ]
  },
  {
   "cell_type": "code",
   "execution_count": 4,
   "metadata": {
    "collapsed": false
   },
   "outputs": [
    {
     "data": {
      "image/png": "[encoded data removed]",
      "text/plain": [
       "<matplotlib.figure.Figure at 0x1b8ff775a90>"
      ]
     },
     "execution_count": 4,
     "metadata": {},
     "output_type": "execute_result"
    },
    {
     "data": {
      "image/png": "[encoded data removed]",
      "text/plain": [
       "<matplotlib.figure.Figure at 0x1b8ff775a90>"
      ]
     },
     "metadata": {},
     "output_type": "display_data"
    }
   ],
   "source": [
    "coins_fit.plot()"
   ]
  },
  {
   "cell_type": "markdown",
   "metadata": {},
   "source": [
    "**Результат можно представить и в другой форме (проценты в шапке таблицы это квантили):**"
   ]
  },
  {
   "cell_type": "code",
   "execution_count": 5,
   "metadata": {
    "collapsed": false
   },
   "outputs": [
    {
     "data": {
      "text/plain": [
       "Inference for Stan model: anon_model_eb876e7a7a808168a39b9cadca2846de.\n",
       "4 chains, each with iter=1000; warmup=500; thin=1; \n",
       "post-warmup draws per chain=500, total post-warmup draws=2000.\n",
       "\n",
       "       mean se_mean     sd   2.5%    25%    50%    75%  97.5%  n_eff   Rhat\n",
       "p      0.75  5.9e-3    0.2   0.27   0.63    0.8   0.91   0.99   1106    1.0\n",
       "lp__  -2.82    0.03   0.73  -4.83  -3.08  -2.53  -2.32  -2.25    679    1.0\n",
       "\n",
       "Samples were drawn using NUTS at Sat Mar  4 17:29:39 2017.\n",
       "For each parameter, n_eff is a crude measure of effective sample size,\n",
       "and Rhat is the potential scale reduction factor on split chains (at \n",
       "convergence, Rhat=1)."
      ]
     },
     "execution_count": 5,
     "metadata": {},
     "output_type": "execute_result"
    }
   ],
   "source": [
    "coins_fit"
   ]
  },
  {
   "cell_type": "code",
   "execution_count": 6,
   "metadata": {
    "collapsed": true
   },
   "outputs": [],
   "source": [
    "coins_array = coins_fit.extract()"
   ]
  },
  {
   "cell_type": "markdown",
   "metadata": {},
   "source": [
    "**Вытащим выборку параметра $p$ и выведем несколько первых значений:**"
   ]
  },
  {
   "cell_type": "code",
   "execution_count": 7,
   "metadata": {
    "collapsed": true
   },
   "outputs": [],
   "source": [
    "p = coins_array[\"p\"]"
   ]
  },
  {
   "cell_type": "code",
   "execution_count": 8,
   "metadata": {
    "collapsed": false
   },
   "outputs": [
    {
     "data": {
      "text/plain": [
       "array([ 0.91397949,  0.79140088,  0.93180435,  0.96066562,  0.94790662,\n",
       "        0.84336321,  0.3099252 ,  0.61702983,  0.75175235,  0.70076604,\n",
       "        0.57829207,  0.62729455,  0.87431426,  0.96892456,  0.98442341,\n",
       "        0.67416391,  0.8913617 ,  0.94187272,  0.91375261,  0.58711159])"
      ]
     },
     "execution_count": 8,
     "metadata": {},
     "output_type": "execute_result"
    }
   ],
   "source": [
    "p[0:20]"
   ]
  },
  {
   "cell_type": "markdown",
   "metadata": {},
   "source": [
    "**Апостериорное среднее:**"
   ]
  },
  {
   "cell_type": "code",
   "execution_count": 9,
   "metadata": {
    "collapsed": false
   },
   "outputs": [
    {
     "data": {
      "text/plain": [
       "0.75013970732090818"
      ]
     },
     "execution_count": 9,
     "metadata": {},
     "output_type": "execute_result"
    }
   ],
   "source": [
    "np.mean(p)"
   ]
  },
  {
   "cell_type": "markdown",
   "metadata": {},
   "source": [
    "**Апостериорная медиана:**"
   ]
  },
  {
   "cell_type": "code",
   "execution_count": 10,
   "metadata": {
    "collapsed": false
   },
   "outputs": [
    {
     "data": {
      "text/plain": [
       "0.80135336848392669"
      ]
     },
     "execution_count": 10,
     "metadata": {},
     "output_type": "execute_result"
    }
   ],
   "source": [
    "np.median(p)"
   ]
  },
  {
   "cell_type": "markdown",
   "metadata": {},
   "source": [
    "**Апостериорная вероятность $P(p > 0.7 | y_1=1,y_2=1)$:**"
   ]
  },
  {
   "cell_type": "code",
   "execution_count": 11,
   "metadata": {
    "collapsed": false
   },
   "outputs": [
    {
     "data": {
      "text/plain": [
       "0.66100000000000003"
      ]
     },
     "execution_count": 11,
     "metadata": {},
     "output_type": "execute_result"
    }
   ],
   "source": [
    "np.mean(p > 0.7)"
   ]
  },
  {
   "cell_type": "code",
   "execution_count": 12,
   "metadata": {
    "collapsed": false
   },
   "outputs": [
    {
     "name": "stderr",
     "output_type": "stream",
     "text": [
      "C:\\Users\\afche\\Anaconda3\\lib\\site-packages\\statsmodels\\nonparametric\\kdetools.py:20: VisibleDeprecationWarning: using a non-integer number instead of an integer will result in an error in the future\n",
      "  y = X[:m/2+1] + np.r_[0,X[m/2+1:],0]*1j\n"
     ]
    },
    {
     "data": {
      "text/plain": [
       "<matplotlib.axes._subplots.AxesSubplot at 0x1b8846fdfd0>"
      ]
     },
     "execution_count": 12,
     "metadata": {},
     "output_type": "execute_result"
    },
    {
     "data": {
      "image/png": "[encoded data removed]",
      "text/plain": [
       "<matplotlib.figure.Figure at 0x1b885e35ba8>"
      ]
     },
     "metadata": {},
     "output_type": "display_data"
    }
   ],
   "source": [
    "sns.distplot(p)"
   ]
  },
  {
   "cell_type": "markdown",
   "metadata": {},
   "source": [
    "**На рисунке хорошо видно, что убывающая часть оценённой функции плотности — это просто особенность сглаживания :)**"
   ]
  }
 ],
 "metadata": {
  "anaconda-cloud": {},
  "kernelspec": {
   "display_name": "Python [conda root]",
   "language": "python",
   "name": "conda-root-py"
  },
  "language_info": {
   "codemirror_mode": {
    "name": "ipython",
    "version": 2
   },
   "file_extension": ".py",
   "mimetype": "text/x-python",
   "name": "python",
   "nbconvert_exporter": "python",
   "pygments_lexer": "ipython2",
   "version": "2.7.12"
  }
 },
 "nbformat": 4,
 "nbformat_minor": 0
}
