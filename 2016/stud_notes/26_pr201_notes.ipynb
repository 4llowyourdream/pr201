{
 "cells": [
  {
   "cell_type": "markdown",
   "metadata": {
    "deletable": true,
    "editable": true
   },
   "source": [
    "# Семинар 26."
   ]
  },
  {
   "cell_type": "markdown",
   "metadata": {
    "deletable": true,
    "editable": true
   },
   "source": [
    " **Выполнил:** Мартоян Сэвак"
   ]
  },
  {
   "cell_type": "markdown",
   "metadata": {
    "deletable": true,
    "editable": true
   },
   "source": [
    "##  Упражнение №1"
   ]
  },
  {
   "cell_type": "markdown",
   "metadata": {
    "deletable": true,
    "editable": true
   },
   "source": [
    "Допустим у нас есть случайный вектор $\n",
    "    Y \n",
    "    \\left( \\begin{array}{c}\n",
    "            Y_1\\\\\n",
    "            Y_2\\\\\n",
    "           \\end{array}\n",
    "    \\right)  \n",
    "$  и его математическое ожидание равняется $\n",
    "  E(Y) =\n",
    "    \\left( \\begin{array}{c}\n",
    "            2\\\\\n",
    "           -1\\\\\n",
    "           \\end{array} \n",
    "    \\right) \n",
    "$ а дисперсия равна $ Var(Y) =\n",
    "    \\left( \\begin{array}{c}\n",
    "            4&-1\\\\\n",
    "            -1&9\\\\\n",
    "           \\end{array}\n",
    "    \\right) \n",
    "$. Пусть также задана матрица $A = \n",
    "    \\left( \\begin{array}{c}\n",
    "            2&1\\\\\n",
    "            1&3\\\\\n",
    "           \\end{array}\n",
    "    \\right)  \n",
    "$ и известно, что случайный вектор $\n",
    "    Z = A \\cdot Y\n",
    "$. Необходимо найти $\n",
    "    E(Z), $ и $ Var(Z)\n",
    "$."
   ]
  },
  {
   "cell_type": "markdown",
   "metadata": {
    "deletable": true,
    "editable": true
   },
   "source": [
    "### Решение"
   ]
  },
  {
   "cell_type": "markdown",
   "metadata": {
    "deletable": true,
    "editable": true
   },
   "source": [
    "Очевидно, но факт, $\n",
    "    Z =  \n",
    "    \\left( \\begin{array}{c}\n",
    "            Z_1\\\\\n",
    "            Z_2\\\\\n",
    "           \\end{array}\n",
    "    \\right)  \n",
    "$ Одновременно с этим, $\n",
    "    Z = A \\cdot Y\n",
    "$ иначе, $\n",
    "    Z =\n",
    "    \\left( \\begin{array}{c}\n",
    "            2&1\\\\\n",
    "            1&3\\\\\n",
    "           \\end{array}\n",
    "    \\right)\n",
    "    \\left( \\begin{array}{c}\n",
    "            Y_1\\\\\n",
    "            Y_2\\\\\n",
    "           \\end{array}\n",
    "    \\right) =\n",
    "    \\left( \\begin{array}{c}\n",
    "            2 Y_1 + Y_2\\\\\n",
    "            Y_1 + 3 Y_2\\\\\n",
    "           \\end{array}\n",
    "    \\right)\n",
    "$ так как по условию, $\n",
    "    E(Y) =\n",
    "    \\left( \\begin{array}{c}\n",
    "            2\\\\\n",
    "           -1\\\\\n",
    "           \\end{array} \n",
    "    \\right) \n",
    "$  то легко видеть, что $\n",
    "    E(Z) =\n",
    "    \\left( \\begin{array}{c}\n",
    "            3\\\\\n",
    "           -1\\\\\n",
    "           \\end{array} \n",
    "    \\right)\n",
    "$. Также это можно показать из условия устойчивости математического ожидания относительно линейных операций: $\n",
    "E(Z)  = E(A \\cdot Y) = A \\cdot E(Z)\n",
    "$"
   ]
  },
  {
   "cell_type": "markdown",
   "metadata": {
    "deletable": true,
    "editable": true
   },
   "source": [
    "$ Var (Z)$ - матрица размером $2 \\times 2 $ и равна $\n",
    "    Var(Z) =\n",
    "    \\left( \\begin{array}{c}\n",
    "            V_{11}&V_{12}\\\\\n",
    "            V_{21}&V_{22}\\\\\n",
    "           \\end{array} \n",
    "    \\right) = A \\cdot Var(Z) \\cdot A^T\n",
    "$ Для лучшего понимания : $\n",
    "V_{11} = Var ( 2 Y_1 + Y_2) = 4 Var(Y_1) + Var(Y_2) + 2cov(Y_1 , Y_2) =\n",
    "(2, 1) \\left( \n",
    "       \\begin{array}{c}\n",
    "        4&-1\\\\\n",
    "        -1&9\\\\\n",
    "       \\end{array} \n",
    "       \\right)\n",
    "       \\left( \n",
    "       \\begin{array}{c}\n",
    "        2\\\\\n",
    "        1\\\\\n",
    "       \\end{array} \n",
    "       \\right)\n",
    "$ \n",
    "Аналогично,\n",
    "\n",
    "$\n",
    "V_{12} = \n",
    "(2, 1) \\left( \n",
    "       \\begin{array}{c}\n",
    "        4&-1\\\\\n",
    "        -1&9\\\\\n",
    "       \\end{array} \n",
    "       \\right)\n",
    "       \\left( \n",
    "       \\begin{array}{c}\n",
    "        1\\\\\n",
    "        3\\\\\n",
    "       \\end{array} \n",
    "       \\right)\n",
    "$\n",
    "\n",
    "$\n",
    "V_{21} = \n",
    "(1, 3) \\left( \n",
    "       \\begin{array}{c}\n",
    "        4&-1\\\\\n",
    "        -1&9\\\\\n",
    "       \\end{array} \n",
    "       \\right)\n",
    "       \\left( \n",
    "       \\begin{array}{c}\n",
    "        2\\\\\n",
    "        1\\\\\n",
    "       \\end{array} \n",
    "       \\right)\n",
    "$\n",
    "\n",
    "$\n",
    "V_{22} = \n",
    "(1, 3) \\left( \n",
    "       \\begin{array}{c}\n",
    "        4&-1\\\\\n",
    "        -1&9\\\\\n",
    "       \\end{array} \n",
    "       \\right)\n",
    "       \\left( \n",
    "       \\begin{array}{c}\n",
    "        1\\\\\n",
    "        3\\\\\n",
    "       \\end{array} \n",
    "       \\right)\n",
    "$ и в результате:\n",
    "\n",
    "$\n",
    "A \\cdot Var(Z) \\cdot A^T = \n",
    "       \\left( \n",
    "       \\begin{array}{c}\n",
    "        21&30\\\\\n",
    "        30&73\\\\\n",
    "       \\end{array} \n",
    "       \\right)\n",
    "$"
   ]
  },
  {
   "cell_type": "markdown",
   "metadata": {
    "deletable": true,
    "editable": true
   },
   "source": [
    "## Упражнение №2"
   ]
  },
  {
   "cell_type": "markdown",
   "metadata": {
    "deletable": true,
    "editable": true
   },
   "source": [
    "Пусть есть некоторый вектор $ Y = \n",
    "\\left( \n",
    "       \\begin{array}{c}\n",
    "        Y_1\\\\\n",
    "        Y_2\\\\\n",
    "        \\vdots \\\\\n",
    "        Y_n\n",
    "       \\end{array} \n",
    "\\right)\n",
    "$. Требуется найти такую матрицу А, которая удовлетворяет уравнению: $\\sum_{i=1}^n (Y_i - \\overline{Y})^2  = Y^T A Y$ . "
   ]
  },
  {
   "cell_type": "markdown",
   "metadata": {
    "deletable": true,
    "editable": true
   },
   "source": [
    "### Решение"
   ]
  },
  {
   "cell_type": "markdown",
   "metadata": {
    "deletable": true,
    "editable": true
   },
   "source": [
    "Со схожим свойством мы сталкивались при рассмотрении матриц проекторов, поэтому предположим, что это проектор. Тогда должно выполняться:\n",
    "$ Y^TAY = Y^TAAY = Y^TA^TAY = (AY)^TAY = Z^TZ$, Здесь мы обозначили $Z=AY$\n",
    "\n",
    "$ Z= \n",
    "\\left( \n",
    "       \\begin{array}{c}\n",
    "        Z_1\\\\\n",
    "        Z_2\\\\\n",
    "        \\vdots \\\\\n",
    "        Z_n\n",
    "       \\end{array} \n",
    "\\right), \n",
    "Z^T = (Z_1,Z_1,\\dots, Z_n)\n",
    "$, и соответственно, \n",
    "\n",
    "$\n",
    "Z^TZ=(Z_1,Z_1,\\dots, Z_n)\n",
    "\\left( \n",
    "       \\begin{array}{c}\n",
    "        Z_1\\\\\n",
    "        Z_2\\\\\n",
    "        \\vdots \\\\\n",
    "        Z_n\n",
    "       \\end{array} \n",
    "\\right) = \\sum_{i=1}^n Z_i^2\n",
    "$\n",
    "\n",
    "$\n",
    "A \n",
    "\\left( \n",
    "       \\begin{array}{c}\n",
    "        Y_1\\\\\n",
    "        Y_2\\\\\n",
    "        \\vdots \\\\\n",
    "        Y_n\n",
    "       \\end{array} \n",
    "\\right)\n",
    "=\n",
    "\\left( \n",
    "       \\begin{array}{c}\n",
    "        Y_1 - \\overline{Y}\\\\\n",
    "        Y_2 - \\overline{Y}\\\\\n",
    "        \\vdots \\\\\n",
    "        Y_n - \\overline{Y}\n",
    "       \\end{array} \n",
    "\\right)\n",
    "=\n",
    "\\left( \n",
    "       \\begin{array}{c}\n",
    "        Y_1 \\\\\n",
    "        Y_2 \\\\\n",
    "        \\vdots \\\\\n",
    "        Y_n \n",
    "       \\end{array} \n",
    "\\right) -\n",
    "\\left( \n",
    "       \\begin{array}{c}\n",
    "        \\overline{Y}\\\\\n",
    "        \\overline{Y}\\\\\n",
    "        \\vdots \\\\\n",
    "        \\overline{Y}\n",
    "       \\end{array} \n",
    "\\right) = \n",
    "(I - B) \n",
    "\\left( \n",
    "       \\begin{array}{c}\n",
    "        Y_1 \\\\\n",
    "        Y_2 \\\\\n",
    "        \\vdots \\\\\n",
    "        Y_n \n",
    "       \\end{array} \n",
    "\\right)\n",
    "$\n",
    "\n",
    "где вектор В - это матрица, состоящая из элементов, равных $\\frac{1}{ rank(A) }$ размера $ n \\times n $\n",
    "\n",
    "Так как А = I - B, а матрица В проецирует на вектор состоящий из единиц, тогда матрица А проецирует на вектор, перпендикулярный вектору из единиц.\n",
    "\n",
    "Матрица А имеет вид:\n",
    "$\\left( \n",
    "       \\begin{array}{c}\n",
    "        \\frac{n-1}{n}&-\\frac{1}{n}&\\dots&\\dots \\\\\n",
    "        -\\frac{1}{n}&\\frac{n-1}{n}&-\\frac{1}{n}&\\dots \\\\\n",
    "        \\vdots&\\vdots&\\ddots&\\dots \\\\\n",
    "        \\dots&\\dots&-\\frac{1}{n}&\\frac{n-1}{n} \\\\\n",
    "       \\end{array} \n",
    "\\right)\n",
    "$"
   ]
  },
  {
   "cell_type": "markdown",
   "metadata": {
    "deletable": true,
    "editable": true
   },
   "source": [
    "Можно доказать, что величины $Z^TAZ$ и $BZ$ независимы. И далее мы получим, что дробь\n",
    "\n",
    "$$\\frac{\\overline{Z} - \\mu}{\\sqrt{\\frac{\\sum_{i=1}^n {(Z_i-\\overline{Z})} }{n}}} = \\frac{BZ - \\mu}{\\sqrt{\\frac{Z^TAZ}{n-1}}}$$ имеет t-распределение"
   ]
  },
  {
   "cell_type": "markdown",
   "metadata": {
    "deletable": true,
    "editable": true
   },
   "source": [
    "![](images/26_pr201_notes_img.png)\n"
   ]
  },
  {
   "cell_type": "markdown",
   "metadata": {
    "deletable": true,
    "editable": true
   },
   "source": [
    "#### Вспомним Лемму Неймана-Пирсона"
   ]
  },
  {
   "cell_type": "markdown",
   "metadata": {
    "deletable": true,
    "editable": true
   },
   "source": [
    "При заданной $\\alpha$ (ошибке первого рода), критерий, который минимизирует ошибку второго рода, имеет вид:\n",
    "\n",
    "$$\\frac{Lik(H_0)}{Lik(H_A)}> {порог}  -  H_0 \\text{  не отвергается} $$\n"
   ]
  },
  {
   "cell_type": "markdown",
   "metadata": {
    "deletable": true,
    "editable": true
   },
   "source": [
    "## Упражнение №3"
   ]
  },
  {
   "cell_type": "markdown",
   "metadata": {
    "deletable": true,
    "editable": true
   },
   "source": [
    "Пусть $X_1,X_2,\\dots,X_n $ ~ _**N**_ $ (\\mu,4)$ - независимы\n",
    "\n",
    "$H_0: \\mu=1$\n",
    "\n",
    "$ H_A: \\mu=10 $\n",
    "\n",
    "При $\\alpha$ = 5% Найти, как выглядит оптимальный критерий."
   ]
  },
  {
   "cell_type": "markdown",
   "metadata": {
    "deletable": true,
    "editable": true
   },
   "source": [
    "### Решение"
   ]
  },
  {
   "cell_type": "markdown",
   "metadata": {
    "deletable": true,
    "editable": true
   },
   "source": [
    "Согласно лемме Неймана-Пирсона, оптимальный критерий имеет вид:\n",
    "\n",
    "$$\n",
    " frac{\\left(\\frac{1}{\\sqrt{2 \\pi \\cdot 4}}\\right)^n e^{-\\frac{1}{2} \\frac{\\sum_{i=1}^n (X_i-1)^2}{4}}}\n",
    "     {\\left(\\frac{1}{\\sqrt{2 \\pi \\cdot 4}}\\right)^n e^{-\\frac{1}{2} \\frac{\\sum_{i=1}^n (X_i-10)^2}{4}}} >a_1\n",
    "$$\n",
    "\n",
    "Сокращаем и логарифмируем:\n",
    "\n",
    "$$ -\\frac{1}{2}\\frac{\\sum_{i=1}^n (X_i-1)^2}{4} + \\frac{1}{2}\\frac{\\sum_{i=1}^n (X_i-10)^2}{4} > a_2 $ $ (a_2=\\ln a_1)\n",
    "$$\n",
    "\n",
    "$$ \\sum_{i=1}^n (X_i-10)^2 - \\sum_{i=1}^n (X_i-1)^2 > a_3$ $ (a_3=8a_2)\n",
    "$$\n",
    "\n",
    "$$ \\sum_{i=1}^n ((X_i-10)^2 - (X_i-1)^2) > a_3\n",
    "$$\n",
    "\n",
    "$$ \\sum_{i=1}^n (-18X_i+99) > a_3\n",
    "$$\n",
    "\n",
    "$$ \\sum_{i=1}^n (-9)(2X_i-11) > a_3\n",
    "$$\n",
    "\n",
    "$$ \\sum_{i=1}^n X_i > a_4 \\text{  } (a_4 = \\frac{a_3}{-18}+11n)$$\n",
    "\n",
    "Если $\\sum_{i=1}^n X_i > a_4$, то гипотеза отвергается\n",
    "\n",
    "А если $ \\sum_{i=1}^n X_i < a_4$, то отвергать гипотезу оснований нет\n",
    "\n",
    "Предположим, $H_0 $ верна, $\\mu =1$. Так как $\\alpha = 5\\%$, то $$\n",
    "  \\alpha =P\\left( \\frac{\\sum_{i=1}^n {X_i-n}}{\\sqrt{4n}} >\\frac{a_4 - n}{\\sqrt{4n}}\\right) \n",
    "$$\n",
    "\n",
    "Отсюда получаем, $\n",
    "\\frac{a_4-n}{\\sqrt{4n}} = 1,69$"
   ]
  },
  {
   "cell_type": "code",
   "execution_count": null,
   "metadata": {
    "collapsed": true
   },
   "outputs": [],
   "source": []
  }
 ],
 "metadata": {
  "kernelspec": {
   "display_name": "Python [Root]",
   "language": "python",
   "name": "Python [Root]"
  },
  "language_info": {
   "codemirror_mode": {
    "name": "ipython",
    "version": 3
   },
   "file_extension": ".py",
   "mimetype": "text/x-python",
   "name": "python",
   "nbconvert_exporter": "python",
   "pygments_lexer": "ipython3",
   "version": "3.5.2"
  }
 },
 "nbformat": 4,
 "nbformat_minor": 2
}
