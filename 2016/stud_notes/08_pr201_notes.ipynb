{
 "cells": [
  {
   "cell_type": "markdown",
   "metadata": {},
   "source": [
    "# Семинар 8. Случайные векторы.\n",
    "Дата: 31.10.2016} \n",
    "\n",
    "\n",
    "**Конспект:** Анна Кожевина\n",
    "\n",
    "\n",
    "**Занятие проводил: Фурманов Кирилл Константинович**"
   ]
  },
  {
   "cell_type": "markdown",
   "metadata": {
    "collapsed": true
   },
   "source": [
    "## Вспомним некоторые определения\n",
    "\n",
    "**Случайная величина (СВ)** – некоторая функция от множества элеметарных исходов.\n",
    "\n",
    "**Случайный вектор** – набор случайных величин. Например:\n",
    "\n",
    "$$  \\underset{n \\times 1} X = \\begin{pmatrix}\n",
    "X_1 \\\\\n",
    "X_2 \\\\         \n",
    "\\vdots \\\\\n",
    "X_n\n",
    "\\end{pmatrix} $$\n",
    "\n"
   ]
  },
  {
   "cell_type": "markdown",
   "metadata": {},
   "source": [
    "## Дискретные многомерные случайные величины\n"
   ]
  },
  {
   "cell_type": "markdown",
   "metadata": {},
   "source": [
    "**Рассмотрим следующий пример совместной двумерной дискретной случайной величины** (в течении всего семинара при упоминании примера имеется в виду именно этот):"
   ]
  },
  {
   "cell_type": "markdown",
   "metadata": {},
   "source": [
    "\n",
    "$\\begin{array}{c|cc}\n",
    "Y \\backslash X & -1 &  1 \\\\\n",
    "\\hline\n",
    " -1 & 0.2 & 0.1 \\\\\n",
    " 0 & 0.3 & 0 \\\\\n",
    " 1 & 0.1 & 0.3\n",
    "\\end{array}$ $\\text{, где в каждой клетке внутри таблицы стоит вероятность }$\n",
    "$P(\\{X = x\\}, \\{Y = y\\})$"
   ]
  },
  {
   "cell_type": "markdown",
   "metadata": {},
   "source": [
    "С первого взгляда кажется, что величины являются (не не)зависимыми, поскольку знание о том, что Y = 0 говорит, что X не может быть равным 1"
   ]
  },
  {
   "cell_type": "markdown",
   "metadata": {},
   "source": [
    "#### Еще одно определение:"
   ]
  },
  {
   "cell_type": "markdown",
   "metadata": {},
   "source": [
    "Случайные величины X и Y являются **независимыми** $ \\Leftrightarrow P \\left( \\{ X = x\\} \\cap \\{ Y = y\\} \\right) = P(X = x) \\cdot P(Y = y) \\quad  \\forall x, y$"
   ]
  },
  {
   "cell_type": "markdown",
   "metadata": {},
   "source": [
    "Теперь проверим по определению, являются ли в этом случае случайные величины X и Y независимыми:"
   ]
  },
  {
   "cell_type": "markdown",
   "metadata": {},
   "source": [
    "$ \t\n",
    "P(\\{ X = 1\\} \\cap \\{ Y = 0\\}) = 0\\\\$\n",
    "\n",
    "Далее вероятность обоих событий распишем как вероятность объединения несовместных событий:\n",
    "$P(X = 1) = P(\\{ X = 1\\} \\cap \\{ Y = -1\\}) \\cup P(\\{ X = 1\\} \\cap \\{ Y = 0\\}) \\cup P(\\{X = 1\\} \\cap \\{ Y = 1\\}) = 0.1 + 0 + 0.3 = 0.4\\\\\n",
    "P(Y = 0) = P(\\{X = -1\\} \\cap \\{Y = 0\\}) \\cup P(\\{X = 1\\} \\cap \\{Y = 0\\}) = 0.3 + 0 = 0.3\\\\$\n",
    "\n",
    "$\\Rightarrow\n",
    "P(\\{X = 1\\} \\cap \\{Y = 0\\}) = 0.3 \\cdot 0.4 \\neq 0\\\\\n",
    "\\Rightarrow \\text{СВ X и Y не являются независимыми}\n",
    "$"
   ]
  },
  {
   "cell_type": "markdown",
   "metadata": {},
   "source": [
    "## Меры зависимости: ковариация и корреляция"
   ]
  },
  {
   "cell_type": "markdown",
   "metadata": {},
   "source": [
    "**Ковариацией СВ X b Y}** называется мат.ожидание произведения их отклонений от ожидаемых значений:"
   ]
  },
  {
   "cell_type": "markdown",
   "metadata": {},
   "source": [
    "$$Cov(X, Y) = E[(X - E(X))\\cdot (Y - E(Y))]$$"
   ]
  },
  {
   "cell_type": "markdown",
   "metadata": {},
   "source": [
    "$\n",
    "Cov(X, Y) > 0 \\text{, если: }\n",
    "\\left[ \n",
    "\\begin{array}{lr}\n",
    "X > E(X), Y > E(Y)\\\\\n",
    "X < E(X), Y < E(Y)\n",
    "\\end{array}\n",
    "\\right.\n",
    "\\Rightarrow \n",
    "\\text{связь между X и Y прямая}\n",
    "$\n",
    "$\n",
    "Cov(X, Y) < 0 \\text{, если: }\n",
    "\\left[ \n",
    "\\begin{array}{lr}\n",
    "X > E(X), Y < E(Y)\\\\\n",
    "X < E(X), Y > E(Y)\n",
    "\\end{array}\n",
    "\\right.\n",
    "\\Rightarrow \n",
    "\\text{связь между X и Y обратная}\n",
    "$\n",
    "\n",
    "$\n",
    "Cov(X, Y) = 0 \n",
    "\\Rightarrow \n",
    "\\text{СВ X и Y независимы}\n",
    "$\n",
    "\n",
    "**Обратите внимение, что стрелки направлены только в одну сторону: утверждения не равносильны!**"
   ]
  },
  {
   "cell_type": "markdown",
   "metadata": {},
   "source": [
    "**Корреляцией СВ X b Y** называется отношение ковариации этих СВ к корню из произведения их дисперсий:"
   ]
  },
  {
   "cell_type": "markdown",
   "metadata": {},
   "source": [
    "$$\n",
    "Corr(X, Y) = \\dfrac{Cov(X, Y)}{\\sqrt{var(X)var(Y)}}\n",
    "$$"
   ]
  },
  {
   "cell_type": "markdown",
   "metadata": {},
   "source": [
    "$-1 \\leq Corr(X, Y) \\leq 1\n",
    "\\text{, причем:}$\n",
    "\n",
    "$Corr(X, Y) = -1 \\Leftrightarrow Y = aX + b \\text{, } a < 0\\\\\n",
    "Corr(X, Y) = 1 \\Leftrightarrow Y = aX + b \\text{, } a > 0$\n",
    "\n",
    "**Из этого следует важное свойство:** $|Cov(X, Y| \\leq \\sqrt{var(X)var(Y)} $"
   ]
  },
  {
   "cell_type": "markdown",
   "metadata": {},
   "source": [
    "**Полезная формула:**\n",
    "\n",
    "$Cov(X, Y) = E(XY) - E(X)E(Y)\\\\\n",
    "$\n",
    "\n",
    "**Доказательство:**\n",
    "\n",
    "$\\blacktriangleleft\n",
    "Cov(X, Y) =  E[(X - E(X))\\cdot (Y - E(Y))] = E[XY - E(X)Y - XE(Y) + E(X)E(Y)] = E(XY) - E(E(X)Y) -E(XE(Y)) + E(E(X)E(Y)) = E(XY) - E(X)E(Y) - E(Y)E(X) + E(X)E(Y) = E(XY) - E(X)E(Y) \\blacktriangleright\n",
    "$"
   ]
  },
  {
   "cell_type": "markdown",
   "metadata": {},
   "source": [
    "## Ковариационная матрица"
   ]
  },
  {
   "cell_type": "markdown",
   "metadata": {},
   "source": [
    "**По аналогии со случайным вектором определяется мат.ожидание многомерной СВ:**\n",
    "\n",
    "$X = \\begin{pmatrix}\n",
    "X_1\\\\\n",
    "X_2\\\\\n",
    "\\vdots \\\\\n",
    "X_n\n",
    "\\end{pmatrix}$\n",
    "$\\Rightarrow$\n",
    "$E(X) = \\begin{pmatrix}\n",
    "E(X_1)\\\\\n",
    "E(X_2)\\\\\n",
    "\\vdots \\\\\n",
    "E(X_n)\n",
    "\\end{pmatrix}$"
   ]
  },
  {
   "cell_type": "markdown",
   "metadata": {},
   "source": [
    "**Ковариационной** матрицей называется матрица V размера $n \\times n$ такая, что $V_{i, j} = Cov(X_i, X_j)$\n",
    "\n",
    "$V(X) = \n",
    "\\begin{pmatrix}\n",
    "Var(X_1) & Cov(X_1, X_2) & \\cdots & Cov(X_1, X_n) \\\\\n",
    "Cov(X_2, X_1) & Var(X_2) & \\cdots & Cov(X_2, X_n) \\\\\n",
    "\\vdots & \\vdots & \\ddots & \\vdots \\\\\n",
    "Cov(X_n, X_1)& \\cdots & \\cdots & Var(X_n)\n",
    "\\end{pmatrix}$\n",
    "\n",
    "*Ковариационная матрица:*\n",
    "1. Квадратная\n",
    "2. Симметричная, поскольку $Cov(X, Y) = Cov(Y, X)$\n",
    "3. Неотрицательно определена"
   ]
  },
  {
   "cell_type": "markdown",
   "metadata": {},
   "source": [
    "### Вернемся к нашему примеру:"
   ]
  },
  {
   "cell_type": "markdown",
   "metadata": {},
   "source": [
    "Посчитаем для него меры зависимости, которые были определены:"
   ]
  },
  {
   "cell_type": "markdown",
   "metadata": {},
   "source": [
    "$\n",
    "X \\sim \n",
    "\\begin{pmatrix}\n",
    "-1 & 1 \\\\\n",
    "0.6 & 0.4\\\\         \n",
    "\\end{pmatrix}\n",
    "\\begin{array}{lr}\n",
    "\\rightarrow \\text{значения СВ} \\rightarrow \\\\\n",
    "\\rightarrow \\text{вероятность, с которой СВ принимает значения} \\rightarrow \n",
    "\\end{array}\\\\\n",
    "\\bf{E(X)} = -0.6 + 0.4 = -0.2\\\\\n",
    "\\bf{Var(X)} = E(X^2) - (E(X))^2 = 1 - (-0.2)^2 = 0.96$  $\\quad$\n",
    "$\n",
    "Y \\sim \n",
    "\\begin{pmatrix}\n",
    "-1 & 0 & 1 \\\\\n",
    "0.3 & 0.3 & 0.4\\\\         \n",
    "\\end{pmatrix}\\\\\n",
    "Y^2 \\sim \n",
    "\\begin{pmatrix}\n",
    "0 & 1 \\\\\n",
    "0.3 & 0.7\\\\         \n",
    "\\end{pmatrix}\\\\\n",
    "\\bf{E(X)} = -0.3 + 0 + 0.4 = 0.1\\\\\n",
    "\\bf{Var(Y)} = E(Y^2) - (E(Y))^2 = 0.7 - 0.1^2 = 0.69\n",
    "$\n"
   ]
  },
  {
   "cell_type": "markdown",
   "metadata": {},
   "source": [
    "$\n",
    "XY \\sim \n",
    "\\begin{pmatrix}\n",
    "-1 & 0 & 1 \\\\\n",
    "0.2 & 0.3 & 0.5\\\\         \n",
    "\\end{pmatrix}\\\\\n",
    "\\bf{E(XY)} = -0.2 + 0.5 = 0.3\\\\\n",
    "\\bf{Cov(X, Y)} = 0.3 - (-0.2) \\cdot 0.1 = 0.32\\\\\n",
    "\\bf{Corr(X, Y)} = \\dfrac{0.32}{\\sqrt{0.96 \\cdot 0.69}} \\approx 0.4\n",
    "$"
   ]
  },
  {
   "cell_type": "markdown",
   "metadata": {},
   "source": [
    "Посчитаем корреляцию более точно с помощью Python"
   ]
  },
  {
   "cell_type": "code",
   "execution_count": 1,
   "metadata": {
    "collapsed": false
   },
   "outputs": [
    {
     "data": {
      "text/plain": [
       "0.39317854974639244"
      ]
     },
     "execution_count": 1,
     "metadata": {},
     "output_type": "execute_result"
    }
   ],
   "source": [
    "0.32 / ((0.96 * 0.69)**0.5)"
   ]
  },
  {
   "cell_type": "markdown",
   "metadata": {},
   "source": [
    "$E \\begin{pmatrix}\n",
    "X\n",
    "Y\n",
    "\\end{pmatrix} \n",
    "=\n",
    "\\begin{pmatrix}\n",
    "-0.2\\\\\n",
    "0.1      \n",
    "\\end{pmatrix} $\n",
    "\n",
    "$V \\begin{pmatrix}\n",
    "X\n",
    "Y\n",
    "\\end{pmatrix} \n",
    "=\n",
    "\\begin{pmatrix}\n",
    "0.96 & 0.32\\\\\n",
    "0.32 & 0.69      \n",
    "\\end{pmatrix} $\n",
    "\n",
    "$Corr \\begin{pmatrix}\n",
    "X\n",
    "Y\n",
    "\\end{pmatrix} \n",
    "=\n",
    "\\begin{pmatrix}\n",
    "1 & 0.4\\\\\n",
    "0.4 & 1     \n",
    "\\end{pmatrix} \\text{,т.к. } Corr(X, X) = \\dfrac{Cov(X, X)}{\\sqrt{(var(X))^2}} = 1$"
   ]
  },
  {
   "cell_type": "markdown",
   "metadata": {},
   "source": [
    "## Функция регрессии и условная дисперсия"
   ]
  },
  {
   "cell_type": "markdown",
   "metadata": {},
   "source": [
    "Если СВ дискретна, то\n",
    "\n",
    "$E(X|H) = \\sum_{i = 0}^kx_i \\cdot P(X = x_i|H)$ \n",
    "\n",
    "Здесь H – случайное событие, $x_i$ – возможное значение X"
   ]
  },
  {
   "cell_type": "markdown",
   "metadata": {},
   "source": [
    "#### Определения:\n",
    "**Функцией регрессии Y на X** называется такая функция $\\varphi$, что:\n",
    "$$\\varphi(x) = E(Y| X = x)$$\n",
    "\n",
    "**Условной дисперсией X при условии H называется:**\n",
    "$$var(X|H) = E[ (X- E(X|H))^2|H] = E(X^2|H) - (E(X|H))^2$$"
   ]
  },
  {
   "cell_type": "markdown",
   "metadata": {},
   "source": [
    "### И снова к примеру"
   ]
  },
  {
   "cell_type": "markdown",
   "metadata": {},
   "source": [
    "$E(Y|X = -1) = -1 \\cdot P(Y= -1|X = -1) + 0 + 1 \\cdot P(Y = 1| X = -1) = -1 \\cdot \\dfrac{0.2}{0.6} + 0 + 1 \\cdot \\dfrac{0.1}{0.6} = -\\dfrac{1}{3} + \\dfrac{1}{6} = -\\dfrac{1}{6}\\\\\n",
    "E(Y|X = 1) = -1 \\cdot P(Y= -1|X = 1) + 1 \\cdot P(Y = 1| X = 1) = -1 \\cdot \\dfrac{0.1}{0.4} + 1 \\cdot \\dfrac{0.3}{0.4} = \\dfrac{1}{2}$\n",
    "\n",
    "$\n",
    "\\varphi(x) = \n",
    "\\left\\{\n",
    "\\begin{array}{lr}\n",
    "-\\dfrac{1}{6} \\text{ , } x = -1 \\\\\n",
    "\\dfrac{1}{2} \\text{ , } x = 1\n",
    "\\end{array}\n",
    "\\right.\n",
    "$\n",
    "\n",
    "$var(Y|X = 1) = E(Y^2|X = 1) - (E(Y|X = 1))^2 = 1 - \\left( \\dfrac{1}{2} \\right)^2 = \\dfrac{3}{4}\\\\\n",
    "(Y|X = 1) \\sim \\begin{pmatrix} 0 & 1 \\\\ 0 & 1 \\end{pmatrix} \\rightarrow E(Y^2|X = 1) = 1$"
   ]
  },
  {
   "cell_type": "markdown",
   "metadata": {},
   "source": [
    "### Спасибо, что дочитали до конца!\n",
    "Вот очень хороший [курс](https://www.youtube.com/playlist?list=PLJOzdkh8T5kouOIbZDCqzB72hBn9T7gsJ), где можно посмотреть лекции по нашим темам и дополнительно:\n",
    "\n",
    "\n",
    "Читает его известный российкий математик [Андрей Михайлович Райгородский](https://ru.wikipedia.org/wiki/%D0%A0%D0%B0%D0%B9%D0%B3%D0%BE%D1%80%D0%BE%D0%B4%D1%81%D0%BA%D0%B8%D0%B9,_%D0%90%D0%BD%D0%B4%D1%80%D0%B5%D0%B9_%D0%9C%D0%B8%D1%85%D0%B0%D0%B9%D0%BB%D0%BE%D0%B2%D0%B8%D1%87). Погуглите его или просто посмотрите список некоторых [публикаций](http://www.mathnet.ru/person8601) (на самом деле их больше сотни)."
   ]
  },
  {
   "cell_type": "code",
   "execution_count": null,
   "metadata": {
    "collapsed": true
   },
   "outputs": [],
   "source": []
  }
 ],
 "metadata": {
  "celltoolbar": "Raw Cell Format",
  "kernelspec": {
   "display_name": "Python 3",
   "language": "python",
   "name": "python3"
  },
  "language_info": {
   "codemirror_mode": {
    "name": "ipython",
    "version": 3
   },
   "file_extension": ".py",
   "mimetype": "text/x-python",
   "name": "python",
   "nbconvert_exporter": "python",
   "pygments_lexer": "ipython3",
   "version": "3.5.2"
  }
 },
 "nbformat": 4,
 "nbformat_minor": 0
}
