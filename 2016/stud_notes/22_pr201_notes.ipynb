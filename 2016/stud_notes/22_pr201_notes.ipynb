{
 "cells": [
  {
   "cell_type": "markdown",
   "metadata": {},
   "source": [
    "# Семинар . Доверительные интервалы.\n",
    "## Дата: 2017-03-06 \n",
    "## Подготовил: Байбурин Камиль.\n",
    "\n",
    "\n",
    "\n",
    "## Упражнение.\n",
    "\n",
    "Пусть даны $n$ независимых нормально распределённых величин $X_1,X_2,...,X_n \\sim N(\\mu;9)$ , $\\hat{\\mu}=\\frac{X_1+...+X_{10}}{10} $\n",
    "\n",
    "a) $P(\\mu \\in [\\hat{ \\mu}-1;\\hat{ \\mu}+1])$ при $n=10$\n",
    "\n",
    "b) Найдите такое число $k$, что $\\mu \\in [\\hat{\\mu}-k;\\hat{\\mu}+k])=0,95$ при $n=10$.\n",
    "\n",
    "## Решение:\n",
    "    \n",
    "a) В общем случае $E(\\hat{\\mu})=E\\left(\\frac{X_1 + X_2 +...+X_n}{n}\\right)=\\frac{1}{n} \\cdot E(X_1+X_2+...+X_n)=\\frac{1}{n} \\cdot n \\cdot \\mu=\\mu$\n",
    "\n",
    "$Var(\\hat{\\mu})=Var(\\frac{X_1 + X_2 +...+X_n}{n})=\\frac{1}{n^{2}} \\cdot Var(X_1+X_2+...+X_n)=\\frac{1}{n^{2}} \\cdot n \\cdot Var(X_1)=\\frac{Var(X_1)}{n}=\\frac{9}{n}$\n",
    "\n",
    "т.к. $n=10$ ,то $Var(\\hat\\mu)=\\frac{9}{10}$\n",
    "\n",
    "Значит $\\hat{\\mu} \\sim N(\\mu;\\frac{9}{10})$\n",
    "\n",
    "$ P(\\hat{\\mu}-1≤\\mu≤\\hat{\\mu}+1)=P(\\mu-1≤\\hat{\\mu}≤\\mu+1)=P( \\frac{-1}{\\sqrt{0.9}}≤ \\frac{\\hat{\\mu}-\\mu}{\\sqrt{0.9}} ≤ \\frac{1}{\\sqrt{0.9}})=1-2\\Phi(\\frac{-1}{\\sqrt{0.9}})=1-2 \\cdot 0.1469=0.7062 $\n",
    "\n",
    "b) Исходя из предыдущего пункта: $P( \\frac{-k}{\\sqrt{0.9}}≤ \\frac{\\hat{\\mu}-\\mu}{\\sqrt{0.9}} ≤ \\frac{k}{\\sqrt{0.9}}) \\to   \\Phi(\\frac{-k}{\\sqrt{0.9}})=2.5 \\% $, значит $\\frac{k}{\\sqrt{0.9}} \\approx 2  \\to k \\approx 1.897$\n",
    "\n"
   ]
  },
  {
   "cell_type": "markdown",
   "metadata": {
    "collapsed": true
   },
   "source": [
    "![title](http://savepic.ru/13249808.png)"
   ]
  },
  {
   "cell_type": "code",
   "execution_count": null,
   "metadata": {
    "collapsed": true
   },
   "outputs": [],
   "source": []
  }
 ],
 "metadata": {
  "anaconda-cloud": {},
  "kernelspec": {
   "display_name": "Python [conda root]",
   "language": "python",
   "name": "conda-root-py"
  },
  "language_info": {
   "codemirror_mode": {
    "name": "ipython",
    "version": 2
   },
   "file_extension": ".py",
   "mimetype": "text/x-python",
   "name": "python",
   "nbconvert_exporter": "python",
   "pygments_lexer": "ipython2",
   "version": "2.7.13"
  }
 },
 "nbformat": 4,
 "nbformat_minor": 1
}
