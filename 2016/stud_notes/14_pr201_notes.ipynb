{
 "cells": [
  {
   "cell_type": "markdown",
   "metadata": {},
   "source": [
    "# Семинар 14. Всё нормально!"
   ]
  },
  {
   "cell_type": "markdown",
   "metadata": {},
   "source": [
    "дата: 12 декабря 2016"
   ]
  },
  {
   "cell_type": "markdown",
   "metadata": {},
   "source": [
    "Конспект: Фадеева Екатерина"
   ]
  },
  {
   "cell_type": "markdown",
   "metadata": {},
   "source": [
    "## Задача 1. "
   ]
  },
  {
   "cell_type": "markdown",
   "metadata": {},
   "source": [
    "$X\\in [0;1]$"
   ]
  },
  {
   "cell_type": "markdown",
   "metadata": {},
   "source": [
    "$Y=-lnX \\in [0; +\\infty)$"
   ]
  },
  {
   "cell_type": "markdown",
   "metadata": {},
   "source": [
    "*Найти функцию плотности:*"
   ]
  },
  {
   "cell_type": "markdown",
   "metadata": {},
   "source": [
    "$f(y)={\\large \\frac{dF(y)}{dy}=\\frac{dP(Y\\leqslant y)}{dy}=\\frac{dP(-lnX\\leqslant y)}{dy}=\\frac{dP(e^{-lnX}\\leqslant e^y)}{dy}=\\frac{dP(X^{-1}\\leqslant e^y)}{dy}=\\frac{dP(X\\geqslant e^{-y})}{dy}=\\frac{d(1-e^{-y})}{dy}}=-e^-{}^y(-1)=e^-{}^y$ "
   ]
  },
  {
   "cell_type": "markdown",
   "metadata": {},
   "source": [
    "$f(y) =\n",
    "\\begin{cases}\n",
    "0, & \\text{если $y<0$;} \\\\\n",
    "e^-{}^y, & \\text{если $y\\geqslant 0$.}\n",
    "\\end{cases}$     (на седьмом переходе в решении выше мы можем заметить это условие)"
   ]
  },
  {
   "cell_type": "markdown",
   "metadata": {},
   "source": [
    "## Ц.П.Т. + Дельта-метод = ВСЁ НОРМАЛЬНО!"
   ]
  },
  {
   "cell_type": "markdown",
   "metadata": {},
   "source": [
    "### Решим задачу:"
   ]
  },
  {
   "cell_type": "markdown",
   "metadata": {},
   "source": [
    "$X_1, X_2, \\dots, X_n$ независимы"
   ]
  },
  {
   "cell_type": "markdown",
   "metadata": {},
   "source": [
    "X |  -2 | 4\n",
    "-|-|-\n",
    "P | 0.5 | 0.5"
   ]
  },
  {
   "cell_type": "markdown",
   "metadata": {},
   "source": [
    "а) как примерно распределено $\\bar X_{100}$?\n",
    "\n",
    "б) как примерно распределено ${\\large \\frac{1}{\\bar X^2+1}}$?"
   ]
  },
  {
   "cell_type": "markdown",
   "metadata": {},
   "source": [
    "$E(\\bar X_{100})=E(X_i)=1$"
   ]
  },
  {
   "cell_type": "markdown",
   "metadata": {},
   "source": [
    "$Var(X_{100})=4\\cdot0.5+16\\cdot0.5-1=10-1=9$"
   ]
  },
  {
   "cell_type": "markdown",
   "metadata": {},
   "source": [
    "$Var(\\bar X_{100})={\\large \\frac {9}{100}}$"
   ]
  },
  {
   "cell_type": "markdown",
   "metadata": {},
   "source": [
    "a) $\\bar X_{100} \\sim N(1; 0.09)$"
   ]
  },
  {
   "cell_type": "markdown",
   "metadata": {},
   "source": [
    "б) Разложим в ряд Тейлора в окрестности $E(\\bar X)$:"
   ]
  },
  {
   "cell_type": "markdown",
   "metadata": {},
   "source": [
    "${\\large \\frac{1}{\\bar X^2+1}=f(\\bar X)=\\frac {1}{2}-\\frac {1}{2}(\\bar X -1) + \\displaystyle o(\\bar X)}$"
   ]
  },
  {
   "cell_type": "markdown",
   "metadata": {},
   "source": [
    "$E(f(\\bar X))\\approx {\\large \\frac {1}{2}}$\n"
   ]
  },
  {
   "cell_type": "markdown",
   "metadata": {},
   "source": [
    "$Var(f(\\bar X)) \\approx \\frac {1}{4} \\cdot Var(\\bar X - 1)= \\frac {1}{4} \\cdot\\frac {9}{100}$"
   ]
  },
  {
   "cell_type": "markdown",
   "metadata": {},
   "source": [
    "${\\large \\frac{1}{\\bar X^2+1} \\sim N(\\frac {1}{2}; \\frac {9}{400})}$"
   ]
  },
  {
   "cell_type": "markdown",
   "metadata": {},
   "source": [
    "*Чем больше количество, тем меньше дисперсия ($\\href{http://sernam.ru/book_tp.php?id=65}{см. неравенство Чебышёва}$)* "
   ]
  },
  {
   "cell_type": "markdown",
   "metadata": {},
   "source": [
    "То, что мы только что использовали, и называется  **ДЕЛЬТА-МЕТОД**!"
   ]
  },
  {
   "cell_type": "markdown",
   "metadata": {},
   "source": [
    "Если последовательность ${\\LARGE \\frac {z_n - \\mu}{\\sqrt {\\frac {\\sigma^2}{n}}}}{\\large \\xrightarrow {dist} N(0;1)\n",
    "}$, то    ${\\LARGE \\frac {f(z_n) - f(\\mu)}{\\sqrt {\\frac {f'(\\mu)^2\\sigma^2}{n}}}}{\\large \\xrightarrow {dist} N(0;1)\n",
    "}$"
   ]
  },
  {
   "cell_type": "markdown",
   "metadata": {},
   "source": [
    "Другая формулировка:"
   ]
  },
  {
   "cell_type": "markdown",
   "metadata": {},
   "source": [
    "Если ${\\large z_n \\sim N(\\mu;\\frac {\\sigma^2}{n})}$,\n",
    "\n",
    "то ${\\large f(z_n) \\sim N(f(\\mu); (f'(\\mu))^2\\frac {\\sigma^2}{n})}$"
   ]
  },
  {
   "cell_type": "markdown",
   "metadata": {},
   "source": [
    "## Задача 2. "
   ]
  },
  {
   "cell_type": "markdown",
   "metadata": {},
   "source": [
    "$X_1,X_2, X_3...$ независимы"
   ]
  },
  {
   "cell_type": "markdown",
   "metadata": {},
   "source": [
    "X |  2 | 0.5\n",
    "-|-|-\n",
    "P | 0.5 | 0.5"
   ]
  },
  {
   "cell_type": "markdown",
   "metadata": {},
   "source": [
    "$R=\\sqrt[100]{X_1\\cdot X_2\\cdot X_3 ... \\cdot X_{100}}$"
   ]
  },
  {
   "cell_type": "markdown",
   "metadata": {},
   "source": [
    "$P(R\\in [0.9;1.1])=?$ (какова вероятность того, что эта случайная величина лежит от 0,9 до 1,1?)"
   ]
  },
  {
   "cell_type": "markdown",
   "metadata": {},
   "source": [
    "Важно понять, как распределена $R$."
   ]
  },
  {
   "cell_type": "markdown",
   "metadata": {},
   "source": [
    "$Y=lnR=\\frac{1}{100}(lnX_1+lnX_1+lnX_3+...+lnX_{100})$"
   ]
  },
  {
   "cell_type": "markdown",
   "metadata": {},
   "source": [
    "По Ц.П.Т. распределено нормально. "
   ]
  },
  {
   "cell_type": "markdown",
   "metadata": {},
   "source": [
    "$L_i=lnX_i$ |  ln2 | -ln2\n",
    "-|-|-\n",
    "P | 0.5 | 0.5"
   ]
  },
  {
   "cell_type": "markdown",
   "metadata": {},
   "source": [
    "$E(L_i)=\\frac {1}{2}ln2-\\frac {1}{2}ln2=0$"
   ]
  },
  {
   "cell_type": "markdown",
   "metadata": {},
   "source": [
    "$Var(L_i)=E({L_i}^2)-(E(L_i))^2=\\frac {1}{2}(ln2)^2+\\frac{1}{2}(ln2)^2=(ln2)^2$"
   ]
  },
  {
   "cell_type": "markdown",
   "metadata": {},
   "source": [
    "$Y={\\large \\frac {L_1+L_2+L_3+...+L_{100}}{100}}$"
   ]
  },
  {
   "cell_type": "markdown",
   "metadata": {},
   "source": [
    "$E(Y)=0$"
   ]
  },
  {
   "cell_type": "markdown",
   "metadata": {},
   "source": [
    "$Var(Y)=\\frac {1}{100^2}(Var(L_1+L_2+...+L_100))=\\frac {1}{100^2} \\cdot 100(ln2)^2={\\large \\frac {(ln2)^2}{100}}$"
   ]
  },
  {
   "cell_type": "markdown",
   "metadata": {},
   "source": [
    "$Y\\sim N(0; {\\large \\frac {(ln2)^2}{100}})$"
   ]
  },
  {
   "cell_type": "markdown",
   "metadata": {},
   "source": [
    "$R=e^y=1+Y+\\displaystyle o(Y) \\approx 1+Y$"
   ]
  },
  {
   "cell_type": "markdown",
   "metadata": {},
   "source": [
    "$E(R) \\approx 1$"
   ]
  },
  {
   "cell_type": "markdown",
   "metadata": {},
   "source": [
    "$Var(R) \\approx {\\large \\frac {(ln2)^2}{100}}$"
   ]
  },
  {
   "cell_type": "markdown",
   "metadata": {},
   "source": [
    "$R \\sim N(1; {\\large \\frac {(ln2)^2}{100}})$"
   ]
  },
  {
   "cell_type": "code",
   "execution_count": 23,
   "metadata": {
    "collapsed": false
   },
   "outputs": [],
   "source": [
    "import math"
   ]
  },
  {
   "cell_type": "code",
   "execution_count": 30,
   "metadata": {
    "collapsed": false
   },
   "outputs": [
    {
     "data": {
      "text/plain": [
       "0.004804530139182014"
      ]
     },
     "execution_count": 30,
     "metadata": {},
     "output_type": "execute_result"
    }
   ],
   "source": [
    "(math.pow(math.log(2), 2))/100"
   ]
  },
  {
   "cell_type": "markdown",
   "metadata": {},
   "source": [
    "$R\\sim N(1; 0.005)$"
   ]
  },
  {
   "cell_type": "markdown",
   "metadata": {},
   "source": [
    "$P(0.9\\leqslant R\\leqslant 1.1)=P({\\large \\frac {-0.1}{\\sqrt {0.005}}\\leqslant \\frac {R-1}{\\sqrt {0.005}}\\leqslant \\frac {0.1}{\\sqrt {0.005}}})$"
   ]
  },
  {
   "cell_type": "code",
   "execution_count": 31,
   "metadata": {
    "collapsed": false
   },
   "outputs": [
    {
     "data": {
      "text/plain": [
       "1.4142135623730951"
      ]
     },
     "execution_count": 31,
     "metadata": {},
     "output_type": "execute_result"
    }
   ],
   "source": [
    "0.1/math.sqrt(0.005)"
   ]
  },
  {
   "cell_type": "markdown",
   "metadata": {},
   "source": [
    "$P(-1.41\\leqslant {\\large \\frac {R-1}{\\sqrt {0.005}}}\\leqslant 1.41)$ для $N(0;1)$"
   ]
  },
  {
   "cell_type": "markdown",
   "metadata": {},
   "source": [
    "$P(-1.41\\leqslant {\\large \\frac {R-1}{\\sqrt {0.005}}}\\leqslant 1.41)=0.9207 \\cdot 2 -1=0.84$"
   ]
  },
  {
   "cell_type": "code",
   "execution_count": 43,
   "metadata": {
    "collapsed": false
   },
   "outputs": [
    {
     "data": {
      "text/plain": [
       "0.8413999999999999"
      ]
     },
     "execution_count": 43,
     "metadata": {},
     "output_type": "execute_result"
    }
   ],
   "source": [
    "0.9207*2-1"
   ]
  },
  {
   "cell_type": "markdown",
   "metadata": {},
   "source": [
    "Как отмасштабировать: ${\\LARGE \\frac {\\bigstar - E(\\bigstar)}{\\sqrt {Var(\\bigstar)}}}$ *(здесь должна была быть черепашка)*"
   ]
  }
 ],
 "metadata": {
  "anaconda-cloud": {},
  "kernelspec": {
   "display_name": "Python [Root]",
   "language": "python",
   "name": "Python [Root]"
  },
  "language_info": {
   "codemirror_mode": {
    "name": "ipython",
    "version": 3
   },
   "file_extension": ".py",
   "mimetype": "text/x-python",
   "name": "python",
   "nbconvert_exporter": "python",
   "pygments_lexer": "ipython3",
   "version": "3.5.2"
  }
 },
 "nbformat": 4,
 "nbformat_minor": 1
}
