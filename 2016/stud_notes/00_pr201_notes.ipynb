{
 "cells": [
  {
   "cell_type": "markdown",
   "metadata": {},
   "source": [
    "# Доброе напутствие пишушим заметки :)\n",
    "\n",
    "1. Идеальный конспект — интересный и без отклонений от здравомыслия. Примочки и пеночки нужны!\n",
    "\n",
    "1. Конспект одного семинара должен иметь одно заглавие уровня `#` и несколько, скажем от двух до пяти, подзаголовков уровня `##`. После «решёточек» должен идти пробел. \n",
    "\n",
    "1. Помни об оформлении знаков препинания: после запятой есть пробел, а до запятой — нет. Существует длинное тире, `—`, которое отличается от просто дефиса `-`. [Инструкция в картинках по набору тире](http://ru.wikihow.com/%D0%BD%D0%B0%D0%BF%D0%B5%D1%87%D0%B0%D1%82%D0%B0%D1%82%D1%8C-%D1%82%D0%B8%D1%80%D0%B5) :)\n",
    "\n",
    "1. Рисунки оформляй в открытом софте ([tex + tikz](http://www.computational-logic.org/content/study/master/documents/softskills_tikz.pdf), [inkscape](https://inkscape.org/en/), [graphviz](https://inkscape.org/en/), [geogebra](https://www.geogebra.org/), [draw.io](https://www.draw.io/) и прочее) и прикладывай к работе.\n",
    "\n",
    "1. Рисунки клади в подпапку `images`\n",
    "\n",
    "1. Соблюдай конвенцию о названиях файлов: файлы относящиеся к третьему семинару должны начинаться с `03_`, и сам конспект, и рисунки. Имена файлов не должны содержать русских букв и пробелов.\n",
    "\n",
    "1. Никаких `здесь` и `тут` в ссылках. Текст, замещающий ссылку, должен быть осмысленным!\n",
    "\n",
    "1. Немного [про маркдаун](https://guides.github.com/features/mastering-markdown/).\n",
    "\n",
    "1. Немного [про тех от Воронцова](http://www.ccas.ru/voron/download/voron05latex.pdf).\n",
    "\n",
    "1. Посмотри, [как сделали конспект другие](https://github.com/bdemeshev/pr201/tree/master/2016/stud_notes), и сделай лучше! :) Обрати внимание на название .ipynb файлов, на структуру внутри .ipynb файлов. \n",
    "\n",
    "1. Расшифровывай события подробно! Плохо: $A$ – мальчик. Отлично: $A$ – событие, хотя бы один ребёнок из двух – мальчик.\n",
    "\n",
    "1. Случайные величины пиши заглавными буквами: $P(x>3)$ – плохо, а $P(X>3)$ – хорошо!\n",
    "\n",
    "1. Иногда, например, для событий, среди формулы нужен текст. Делай так: `$P(\\text{Солнце взойдёт})$`. Получится красиво: $P(\\text{Солнце взойдёт})$.\n",
    "\n",
    "1. Уважай букву `ё` – ставь над ней точки! :)\n"
   ]
  },
  {
   "cell_type": "code",
   "execution_count": null,
   "metadata": {
    "collapsed": true
   },
   "outputs": [],
   "source": []
  }
 ],
 "metadata": {
  "anaconda-cloud": {},
  "kernelspec": {
   "display_name": "Python [Root]",
   "language": "python",
   "name": "Python [Root]"
  },
  "language_info": {
   "codemirror_mode": {
    "name": "ipython",
    "version": 3
   },
   "file_extension": ".py",
   "mimetype": "text/x-python",
   "name": "python",
   "nbconvert_exporter": "python",
   "pygments_lexer": "ipython3",
   "version": "3.5.2"
  }
 },
 "nbformat": 4,
 "nbformat_minor": 0
}
