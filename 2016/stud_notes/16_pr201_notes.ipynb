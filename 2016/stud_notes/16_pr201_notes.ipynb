{
 "cells": [
  {
   "cell_type": "markdown",
   "metadata": {},
   "source": [
    "# Семинар 16. Статистика ноль + Оценки\n",
    "\n",
    "Дата: 23.01.2017\n",
    "\n",
    "Конспект: Ефимов Андрей"
   ]
  },
  {
   "cell_type": "markdown",
   "metadata": {},
   "source": [
    "## Задача 11. "
   ]
  },
  {
   "cell_type": "markdown",
   "metadata": {},
   "source": [
    "### Условие:"
   ]
  },
  {
   "cell_type": "markdown",
   "metadata": {},
   "source": [
    "Из фиксированного множества $N$ чисел случайным образом выбирают n чисел. Известно, что если бы выбирать наугад всего одно число, то тогда математическое ожидание и дисперсие этого одного случайного числа были бы равны $E(X_1) = μ$ и $Var(X_1) = σ^2$. Обозначим среднее арифметическое выбранных n чисел с помощью $\\bar{X}_n$ Чему равны $E(\\bar{X}_n)$ и $Var(\\bar{X}_n)$, если:\n",
    "1. Мы выбираем $n$ чисел из $N$ с возвращениями\n",
    "2. Мы выбираем $n$ чисел из $N$ без возвращений\n",
    "3. Во что превращаются полученные формулы при $n = 1$? при $n = N$? при $N → ∞$?"
   ]
  },
  {
   "cell_type": "markdown",
   "metadata": {},
   "source": [
    "Чтобы разобраться с этим заданием, для начала мы предположим, что мы имеем набор из 3 числе: 3, 5, 21"
   ]
  },
  {
   "cell_type": "markdown",
   "metadata": {},
   "source": [
    "Рассмотрим ситуацию $\\textbf{без возвращений}$."
   ]
  },
  {
   "cell_type": "markdown",
   "metadata": {},
   "source": [
    "Давайте посмотрим ситуацию, когда мы выбираем только одно число:"
   ]
  },
  {
   "cell_type": "markdown",
   "metadata": {},
   "source": [
    "| $X_1$ | 3            | 5            | 21           |\n",
    "|-------|--------------|--------------|--------------|\n",
    "| P     | $\\frac{1}{3}$ | $\\frac{1}{3}$ | $\\frac{1}{3}$ |"
   ]
  },
  {
   "cell_type": "markdown",
   "metadata": {},
   "source": [
    "Теперь найдем $X_2$ — вероятность того,что вторым мы достанем 3, 5 или 21, если всего мы достаем 2 числа. Для этого построим дерево."
   ]
  },
  {
   "cell_type": "markdown",
   "metadata": {},
   "source": [
    "![](16_pr201_1image.png)\n"
   ]
  },
  {
   "cell_type": "markdown",
   "metadata": {},
   "source": [
    "Исходя из построеного нами дерева, можно сделать ввывод, что:\n"
   ]
  },
  {
   "cell_type": "markdown",
   "metadata": {},
   "source": [
    "| $X_2$ | 3            | 5            | 21           |\n",
    "|-------|--------------|--------------|--------------|\n",
    "| P     | $\\frac{1}{3}$ | $\\frac{1}{3}$ | $\\frac{1}{3}$ |"
   ]
  },
  {
   "cell_type": "markdown",
   "metadata": {},
   "source": [
    "Кстати, такая табличка будет верна и для случая с возвращениями"
   ]
  },
  {
   "cell_type": "markdown",
   "metadata": {},
   "source": [
    "Построим таблицу совместного распределения для случая с возвращениями"
   ]
  },
  {
   "cell_type": "markdown",
   "metadata": {},
   "source": [
    "| $X_2$ | 3             | 5             | 21            |\n",
    "|-------|---------------|---------------|---------------|\n",
    "| 3     | $\\frac{1}{9}$ | $\\frac{1}{9}$ | $\\frac{1}{9}$ |\n",
    "| 5     | $\\frac{1}{9}$ | $\\frac{1}{9}$ | $\\frac{1}{9}$ |\n",
    "| 21     | $\\frac{1}{9}$ | $\\frac{1}{9}$ | $\\frac{1}{9}$ |"
   ]
  },
  {
   "cell_type": "markdown",
   "metadata": {},
   "source": [
    "Для случая без возвращений все тоже просто:"
   ]
  },
  {
   "cell_type": "markdown",
   "metadata": {},
   "source": [
    "| $X_2$ | 3             | 5             | 21            |\n",
    "|-------|---------------|---------------|---------------|\n",
    "| 3     | 0             | $\\frac{1}{6}$ | $\\frac{1}{6}$ |\n",
    "| 5     | $\\frac{1}{6}$ | 0             | $\\frac{1}{6}$ |\n",
    "| 9     | $\\frac{1}{6}$ | $\\frac{1}{6}$ | 0             |"
   ]
  },
  {
   "cell_type": "markdown",
   "metadata": {},
   "source": [
    "Из этой таблицы мы можем сделать вывод, что ковариация у нас будет всегда одинаковая."
   ]
  },
  {
   "cell_type": "markdown",
   "metadata": {},
   "source": [
    "Теперь мы можем перейти к самому главному."
   ]
  },
  {
   "cell_type": "markdown",
   "metadata": {},
   "source": [
    "$E(\\bar{X}_n) = E(\\frac{1}{n}\\times(X_1+X_2+\\dotsc+X_n) =\\frac{1}{n}\\times \\sum_{i=1}^{n}E(X_i) =\\mu $\n",
    "\n",
    "\n"
   ]
  },
  {
   "cell_type": "markdown",
   "metadata": {},
   "source": [
    "$Var(\\bar{X}_n)= Var(\\frac{1}{n}\\times\\sum_{i}X_i) =\\frac{1}{n^2}\\times (\\sum_{i}Var(X_i) +2\\sum_{i>j}cov(X_i;X_j))   \\mathbf{=} $"
   ]
  },
  {
   "cell_type": "markdown",
   "metadata": {},
   "source": [
    "Прежде чем продолжить, сделаем пару интересных вещей"
   ]
  },
  {
   "cell_type": "markdown",
   "metadata": {},
   "source": [
    "$\\sum_{i}Var(X_i)= n\\times\\sigma^2$"
   ]
  },
  {
   "cell_type": "markdown",
   "metadata": {},
   "source": [
    "$\\sum_{i>j}cov(X_i;X_j) = C_n^2 cov(X_1;X_2)$ — потому что можем (ведь ковариации в случае без возвращений будут всегда одинаковые, а в случае с возвращении так вообще всегда равны 0)"
   ]
  },
  {
   "cell_type": "markdown",
   "metadata": {},
   "source": [
    "А сейчас будет немного магии и никакого мошенничества:\n"
   ]
  },
  {
   "cell_type": "markdown",
   "metadata": {},
   "source": [
    "$cov(X_1;X_1+ X_2+\\dotsc+X_N) = 0$, так как $X_1+ X_2+\\dotsc+X_N — const$"
   ]
  },
  {
   "cell_type": "markdown",
   "metadata": {},
   "source": [
    "$cov(X_1;X_1+ X_2+\\dotsc+X_N) = cov(X_1;X_1)+cov(X_1;X_2+\\dotsc+X_N)=\\sigma^2 +(N-1)\\times cov(X_1,X_2)$"
   ]
  },
  {
   "cell_type": "markdown",
   "metadata": {},
   "source": [
    "$\\sigma^2 +(N-1)\\times cov(X_1,X_2)=0 \\implies cov(X_1,X_2) =\\frac{-\\sigma^2}{N-1}  $ (опять же, для случая с возвращениями $cov(X_1,X_2) = 0$)"
   ]
  },
  {
   "cell_type": "markdown",
   "metadata": {},
   "source": [
    "$\\mathbf{=} \\frac{1}{n^2}\\times(n\\times\\sigma^2 + 2\\times C_n^2 \\frac{-\\sigma^2}{N-1}) = \\frac{\\sigma^2}{n}\\times\\frac{N-n}{N-1}   $"
   ]
  },
  {
   "cell_type": "markdown",
   "metadata": {},
   "source": [
    "## Оценки"
   ]
  },
  {
   "cell_type": "markdown",
   "metadata": {},
   "source": [
    "Существует 2 подхода:"
   ]
  },
  {
   "cell_type": "markdown",
   "metadata": {},
   "source": [
    "| Классический                                                                                       | Баесовский                          |\n",
    "|----------------------------------------------------------------------------------------------------|-------------------------------------|\n",
    "|  $\\beta$ vs $\\widehat{\\beta}$                                                                         | $\\beta$  (но это, к сожалению, всё) |\n",
    "| 1) Неизвестный параметр $\\beta$ — const, мы его не знаем и никогда не узнаем.                      |                                     |\n",
    "| 2) Наши данные зависят от $\\beta$                                                                  |                                     |\n",
    "| 3) Методы: ММП (Метод Максимального Правдоподобия) и ММ (Метод Моментов)                               |                                     |\n",
    "| $\\boldsymbol{\\widehat{\\beta}} = (y_1,y_2,\\dotsc,y_n)$, где $\\widehat{\\beta}$ — наше мнение об этом параметре |                                     |"
   ]
  },
  {
   "cell_type": "markdown",
   "metadata": {},
   "source": [
    "### Упражнение 1"
   ]
  },
  {
   "cell_type": "markdown",
   "metadata": {},
   "source": [
    "Максим очень любит сыр. Чтобы этот сыр никто не украл, Максим решил спрятать его где-то на числовой прямой в точке $m$. В поисках сыра нам помогают мыши, которые могут учуять запах сыра. Но, так как мыши бегут на запах сыра, им довльно трудно сразу затормозить, поэтому останавливются они где-то недалеко от места, где спрятана заначка."
   ]
  },
  {
   "cell_type": "markdown",
   "metadata": {},
   "source": [
    "![](16_pr201_3image.jpg)"
   ]
  },
  {
   "cell_type": "markdown",
   "metadata": {},
   "source": [
    "$y_1\\sim U[m; m+1]$"
   ]
  },
  {
   "cell_type": "markdown",
   "metadata": {},
   "source": [
    "$y_2\\sim U[m; m+1]$"
   ]
  },
  {
   "cell_type": "markdown",
   "metadata": {},
   "source": [
    "$y_3\\sim U[m; m+1]$"
   ]
  },
  {
   "cell_type": "markdown",
   "metadata": {},
   "source": [
    "Мыши останавились примерно так:"
   ]
  },
  {
   "cell_type": "markdown",
   "metadata": {},
   "source": [
    "$y_1 = 25,4$"
   ]
  },
  {
   "cell_type": "markdown",
   "metadata": {},
   "source": [
    "$y_2 = 24,3$"
   ]
  },
  {
   "cell_type": "markdown",
   "metadata": {},
   "source": [
    "$y_3 = 25,9$"
   ]
  },
  {
   "cell_type": "markdown",
   "metadata": {},
   "source": [
    "Зная координаты мышей, мы пробуем следующие оценки для расположения сыра:"
   ]
  },
  {
   "cell_type": "markdown",
   "metadata": {},
   "source": [
    "$\\widehat{m}^{I} = \\frac{y_1 +y_2 + y_3}{3}$"
   ]
  },
  {
   "cell_type": "markdown",
   "metadata": {},
   "source": [
    "$\\widehat{m}^{II} = \\frac{y_1 +y_2 + y_3}{3} +1 $ "
   ]
  },
  {
   "cell_type": "markdown",
   "metadata": {},
   "source": [
    "$\\widehat{m}^{III} = \\frac{y_1 +y_2 + y_3}{3} - 1$"
   ]
  },
  {
   "cell_type": "markdown",
   "metadata": {},
   "source": [
    "Что такое несмещённость оценки? Ответ $E(\\widehat{m}) = m$"
   ]
  },
  {
   "cell_type": "markdown",
   "metadata": {},
   "source": [
    "$E(\\widehat{m}^{I}) = E(\\frac{y_1 +y_2 + y_3}{3}) = \\frac{1}{3}\\times E(y_1 +y_2 + y_3) = \\frac{1}{3}\\times\\frac{2m+1}{2}+\\frac{1}{3}\\times\\frac{2m-1}{2} + \\frac{1}{3}\\times\\frac{2m+4}{2} = \\frac{2m +1}{2} = m + 0,5$"
   ]
  },
  {
   "cell_type": "markdown",
   "metadata": {},
   "source": [
    "Так как оценка смещена, можно  найти несмещённую оценку :  $\\widehat{m}^{I} - 0,5$"
   ]
  },
  {
   "cell_type": "markdown",
   "metadata": {},
   "source": [
    "Проведем аналогичную работу и с другими оценками:"
   ]
  },
  {
   "cell_type": "markdown",
   "metadata": {},
   "source": [
    "$E(\\widehat{m}^{II}) = E(\\frac{y_1 +y_2 + y_3}{3} +1)= \\frac{1}{3}\\times E(y_1 +y_2 + y_3) + E(1) = \\frac{1}{3}\\times\\frac{2m+1}{2}+\\frac{1}{3}\\times\\frac{2m-1}{2} + \\frac{1}{3}\\times\\frac{2m+4}{2}+1 = \\frac{2m +1}{2}+1 = m + 1,5$  "
   ]
  },
  {
   "cell_type": "markdown",
   "metadata": {},
   "source": [
    "Это смещённая оценка. Несмещённая оценка: $\\widehat{m}^{II}  - 1,5$"
   ]
  },
  {
   "cell_type": "markdown",
   "metadata": {},
   "source": [
    "$E(\\widehat{m}^{III}) = E(\\frac{y_1 +y_2 + y_3}{3} -1)= \\frac{1}{3}\\times E(y_1 +y_2 + y_3) - E(1) = \\frac{1}{3}\\times\\frac{2m+1}{2}+\\frac{1}{3}\\times\\frac{2m-1}{2} + \\frac{1}{3}\\times\\frac{2m+4}{2}-1 = \\frac{2m +1}{2}-1 = m -0,5$  "
   ]
  },
  {
   "cell_type": "markdown",
   "metadata": {},
   "source": [
    "Оценка смещена. Несмещённая оценка: $\\widehat{m}^{III} + 0,5$"
   ]
  },
  {
   "cell_type": "markdown",
   "metadata": {},
   "source": [
    "### Упражнение 2. Матроскин-бизнесмен"
   ]
  },
  {
   "cell_type": "markdown",
   "metadata": {},
   "source": [
    "Кот Матроскин успешно торгует молоком. $a$ - цена литра молока. Мы собираемся узнать эту цену, исходя из того, сколько литров молока он продавал и сколько заработал в течение дня."
   ]
  },
  {
   "cell_type": "markdown",
   "metadata": {},
   "source": [
    "![](16_pr201_2image.png)"
   ]
  },
  {
   "cell_type": "markdown",
   "metadata": {},
   "source": [
    "За день $y_1,y_2,y_3$ он продал соответсвенно:"
   ]
  },
  {
   "cell_type": "markdown",
   "metadata": {},
   "source": [
    "$y_1 = 3$ литра молока"
   ]
  },
  {
   "cell_type": "markdown",
   "metadata": {},
   "source": [
    "$y_2 = 5$ литров молока"
   ]
  },
  {
   "cell_type": "markdown",
   "metadata": {},
   "source": [
    "$y_3 = 6$ литров молока"
   ]
  },
  {
   "cell_type": "markdown",
   "metadata": {},
   "source": [
    "За день он заработал:"
   ]
  },
  {
   "cell_type": "markdown",
   "metadata": {},
   "source": [
    "$y_1\\sim U[3a; 3a+1]$ — видно, приторговывает телятиной (бедный теленок)"
   ]
  },
  {
   "cell_type": "markdown",
   "metadata": {},
   "source": [
    "$y_2\\sim U[5a-1; 5a-2]$ — неплохо поужинал в ресторане"
   ]
  },
  {
   "cell_type": "markdown",
   "metadata": {},
   "source": [
    "$y_3\\sim U[6a-5; 6a+5]$ — сходил в казино, негодник"
   ]
  },
  {
   "cell_type": "markdown",
   "metadata": {},
   "source": [
    "У нас есть такие оценки:"
   ]
  },
  {
   "cell_type": "markdown",
   "metadata": {},
   "source": [
    " $\\widehat{a}_1 = \\frac{y_3 - y_1}{3}$"
   ]
  },
  {
   "cell_type": "markdown",
   "metadata": {},
   "source": [
    " $\\widehat{a}_2 = \\frac{3y_1+5y_2+ 6y_3}{70}$"
   ]
  },
  {
   "cell_type": "markdown",
   "metadata": {},
   "source": [
    "а) Являются ли оценки несмещёнными?"
   ]
  },
  {
   "cell_type": "markdown",
   "metadata": {},
   "source": [
    "$Е(\\widehat{a}_1) = E(\\frac{y_3 - y_1}{3} )= \\frac{1}{3}\\times E(y_3 - y_1) = \\frac{1}{3}\\times\\frac{12a}{2} - \\frac{1}{3}\\times\\frac{6a+1}{2} = 2a - \\frac{6a+1}{6} = a - \\frac{1}{6} $ — смещена"
   ]
  },
  {
   "cell_type": "markdown",
   "metadata": {},
   "source": [
    "$Е(\\widehat{a}_2) = E(\\frac{3y_1+5y_2+ 6y_3}{70} =\\frac{1}{70}\\times E(3y_1+5y_2+ 6y_3) = \\frac{3\\times(6a+1) + 5\\times(10a-3)+6\\times(12a)}{2\\times 70} = \\frac{18a+3 +50a-15 +72a}{2\\times 70} = \\frac{140a-12}{140}= a -\\frac{3}{35} $ — смещена"
   ]
  },
  {
   "cell_type": "markdown",
   "metadata": {},
   "source": [
    "б) Если оценки смещены, сделать их несмещёнными"
   ]
  },
  {
   "cell_type": "markdown",
   "metadata": {},
   "source": [
    " $\\widehat{b}_1 =\\widehat{a}_1 + \\frac{1}{6}$"
   ]
  },
  {
   "cell_type": "markdown",
   "metadata": {},
   "source": [
    " $\\widehat{b}_2 =\\widehat{a}_2 + \\frac{3}{35}$"
   ]
  },
  {
   "cell_type": "markdown",
   "metadata": {},
   "source": [
    "в) Из несмещеных оценок выбрать ту, где меньше дисперсия"
   ]
  },
  {
   "cell_type": "markdown",
   "metadata": {},
   "source": [
    "Пусть $y_1,y_2,y_3$ — независимы\n"
   ]
  },
  {
   "cell_type": "markdown",
   "metadata": {},
   "source": [
    "$Var(\\widehat{b}_1) = Var(\\widehat{a}_1 + \\frac{1}{6}) = Var(\\widehat{a}_1) =\\frac{1}{9}\\times Var(y_3 - y_1) =\\frac{1}{9}\\times (Var(y_3) + Var(y_1))= \\frac{1}{9}\\times (\\frac{1}{12}+\\frac{100}{12} )= \\frac{101}{108}$ "
   ]
  },
  {
   "cell_type": "code",
   "execution_count": 37,
   "metadata": {
    "collapsed": false
   },
   "outputs": [
    {
     "data": {
      "text/plain": [
       "0.9351851851851852"
      ]
     },
     "execution_count": 37,
     "metadata": {},
     "output_type": "execute_result"
    }
   ],
   "source": [
    "101/108"
   ]
  },
  {
   "cell_type": "markdown",
   "metadata": {},
   "source": [
    "$Var(\\widehat{b}_2) =Var(\\widehat{a}_2 + \\frac{3}{35}) = Var(\\widehat{a}_2) =\\frac{1}{4900}\\times Var(3y_1+5y_2+ 6y_3) = \\frac{1}{4900}\\times(9\\times Var(y_1)+25\\times Var(y_2)+ 36\\times Var(6y_3) = \\frac{9+25+360}{4900\\times12} = \\frac{394}{4900\\times12}$"
   ]
  },
  {
   "cell_type": "code",
   "execution_count": 38,
   "metadata": {
    "collapsed": false
   },
   "outputs": [
    {
     "data": {
      "text/plain": [
       "0.006700680272108844"
      ]
     },
     "execution_count": 38,
     "metadata": {},
     "output_type": "execute_result"
    }
   ],
   "source": [
    "394/(4900*12)"
   ]
  },
  {
   "cell_type": "markdown",
   "metadata": {},
   "source": [
    "$Var(\\widehat{b}_1) >Var(\\widehat{b}_2)$"
   ]
  },
  {
   "cell_type": "markdown",
   "metadata": {},
   "source": [
    "### Полезные ссылки"
   ]
  },
  {
   "cell_type": "markdown",
   "metadata": {},
   "source": [
    "https://en.wikibooks.org/wiki/LaTeX/Mathematics - тут хорошо написано, как вставлять математические формулы"
   ]
  },
  {
   "cell_type": "markdown",
   "metadata": {},
   "source": [
    "http://www.tablesgenerator.com/markdown_tables# - тут удобно делать таблицы"
   ]
  },
  {
   "cell_type": "code",
   "execution_count": null,
   "metadata": {
    "collapsed": true
   },
   "outputs": [],
   "source": []
  }
 ],
 "metadata": {
  "anaconda-cloud": {},
  "kernelspec": {
   "display_name": "Python 3",
   "language": "python",
   "name": "python3"
  },
  "language_info": {
   "codemirror_mode": {
    "name": "ipython",
    "version": 3
   },
   "file_extension": ".py",
   "mimetype": "text/x-python",
   "name": "python",
   "nbconvert_exporter": "python",
   "pygments_lexer": "ipython3",
   "version": "3.5.2"
  }
 },
 "nbformat": 4,
 "nbformat_minor": 0
}
