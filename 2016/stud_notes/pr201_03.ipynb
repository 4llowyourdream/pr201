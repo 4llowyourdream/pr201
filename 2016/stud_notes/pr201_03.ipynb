{
 "cells": [
  {
   "cell_type": "markdown",
   "metadata": {},
   "source": [
    "# Семинар 3. Метод первого шага\n",
    "\n",
    "Дата семинара: 16 сентября 2016 \n",
    "\n",
    "Конспектировал: Захаров Андрей\n",
    "\n"
   ]
  },
  {
   "cell_type": "markdown",
   "metadata": {},
   "source": [
    "### Задача №5\n",
    "$\\underline{Решение}$:\n",
    "\n",
    "1) Вероятность несовпадения дня рождения для одного человека равна $P(1)=1$, так как это достоверное событие.\n",
    "\n",
    "  Для второго человека эта вероятность уже меньше единицы, поскольку дата его рождения не должна совпадать с днем рождения первого, т.е. для второго эта вероятность равна: $P(2)=\\dfrac{365-1}{365}=\\dfrac{364}{365}$. Аналогично находим вероятности для остальных 28 людей. \n",
    "\n",
    "![](https://pp.vk.me/c626923/v626923753/2770d/356Fv0sjBeA.jpg)\n",
    "\n",
    "  Итоговая вероятность, т.е. вероятность того, что у 30 человек не будет ни одного совпадения дней рождений, будет вычисляться по формуле: \n",
    "  \n",
    "  $$P=P(1)\\times{P(2)}\\times{P(3)}\\times{P(4)}\\times{...}\\times{P(30)}$$.\n",
    "$$=> P=\\frac{365\\times{364}\\times{363}\\times{...}\\times{336}}{365^{30}}\\approx{0,2937}.$$\n",
    "\n",
    "\n",
    "\n",
    "2) Находим решение подбором &#127773; &#9994;\n",
    "\n",
    "$$P=1-\\frac{365\\times{364}\\times{363}\\times{...}\\times{(365-(n-1))}}{365^{n}}>\\dfrac{1}{2}$$\n",
    "\n",
    "Из данного уравнения получаем, что $n=23$, т.е. должно собраться 23 человека, чтобы вероятность совпадения дней рождения превысила 0,5."
   ]
  },
  {
   "cell_type": "markdown",
   "metadata": {},
   "source": [
    "### Задача №7\n",
    "$\\underline{Решение}$:\n",
    "\n",
    "1) Пусть $x$ - количество бросков. Найдем, чему равно среднее количество бросков, т.е. $E(x)$.\n",
    "\n",
    "![](https://pp.vk.me/c626923/v626923753/276fc/a5bbl-Rne88.jpg)\n",
    "\n",
    "$\\textit{I способ}$.    \n",
    "    $$ S=E(x)=0,7\\times1+0,3\\times0,7\\times{2}+{...}+ 0,3^{n-1}\\times0,7\\times{n}$$        \n",
    "    $$=> 0,3S=0,3\\times0,7+0,3^{2}\\times0,7\\times{2}+{...}+ 0,3^{n}\\times0,7\\times{n}.$$\n",
    "    \n",
    "Затем вычитаем из первого уравнения второе и получаем: \n",
    "$$0,7S=0,7+0,3\\times0,7+0,3^{2}\\times0,7 +{...}+ 0,3^{n-1}\\times0,7=\\dfrac{0,7}{1-0,3}=1$$\n",
    "\n",
    "$$=> S=\\dfrac{1}{0,7}=\\dfrac{10}{7}.$$\n",
    "\n",
    "$\\textit{II способ}$.\n",
    "$$E(x)=0,7\\times1 + 0,3\\times(1+E(x))$$\n",
    "\n",
    "$$=> E(x)=\\dfrac{10}{7}.$$\n",
    "\n",
    "\n",
    "\n",
    "2) Пусть $y$ - среднее количествр орлов, $z$ - среднее количество решек.\n",
    "\n",
    "Известно, что монетку подбрасывают до первого орла, следовательно и среднее количество орлов будет равно единице, т.е. $E(y)=1.$\n",
    "\n",
    "Поскольку количество бросков равно сумме количества выпавших решек и орлов, то: \n",
    "\n",
    "$$x=z+y=z+1$$  \n",
    "\n",
    "$$=> E(z)=E(x)-1=\\dfrac{10}{7}-1=\\dfrac{3}{7}.$$\n",
    "\n",
    "Решаю данный пункт другим образом, придем к тому же ответу: \n",
    "\n",
    "$$E(z)=0,7\\times{0}+0,3\\times{1+E(z)}$$ \n",
    "\n",
    "$$=> E(z)=\\dfrac{3}{7}.$$\n",
    "\n",
    "\n",
    "\n",
    "\n",
    "\n",
    "3) Пусть вероятность четного числа бросков равна $p$, т.е. $P(x-чётное)=p.$\n",
    "\n",
    "Известно, что с вероятностью $0,7$ игра закончится на первом ходе, а с вероятностью $0,3$ игра продолжится, при этом в следующей точке необходимо совершить уже нечетное количество бросков с вероятностью $1-p$ соответственно, чтобы итоговое количество было чётным.  \n",
    "\n",
    "Таким образом, имеет место следующее уравнение относительно $p$:\n",
    "\n",
    "$$p=0,7\\times{0}+0,3\\times{(1-p)}$$\n",
    "\n",
    "$$=> p=\\dfrac{3}{13}.$$"
   ]
  },
  {
   "cell_type": "markdown",
   "metadata": {
    "collapsed": false
   },
   "source": [
    "### Задача №8\n",
    "$\\underline{Решение}$:\n",
    "\n",
    "a) Всего существует лишь три варианта прекращения игры - выпадение \"4\", \"5\" или \"6\". \n",
    "                      \n",
    "Таким образом, вероятность того, что игра закончится выпадением шестерки равна: \n",
    "$P(6)=\\dfrac{1}{3}.$\n",
    "\n",
    "\n",
    "b) Пусть $x$ - ожидаемое количество бросков. Тогда величина $E(x)$ может быть вычислена следующим образом:\n",
    "\n",
    "$$E(x)=\\dfrac{3}{6}\\times{1}+\\dfrac{3}{6}\\times{(1+E(x))}$$\n",
    "\n",
    "$$=> E(x)=2.$$\n",
    "\n",
    "\n",
    "c) Пусть $z$ - выигрыш игрока. Уравнение для нахождения ожидаемого выигрыша $E(z)$ имеет следующий вид:\n",
    "\n",
    "$$E(z)=\\dfrac{1}{6}\\times{\\Bigr(E(z)+1\\times{\\dfrac{2}{3}\\Bigl)}}+\\dfrac{1}{6}\\times{\\Bigr(E(z)+2\\times{\\dfrac{2}{3}\\Bigl)}}+\\dfrac{1}{6}\\times{\\Bigr(E(z)+3\\times{\\dfrac{2}{3}\\Bigl)}}+\\dfrac{3}{6}\\times0$$\n",
    "\n",
    "При этом выражения $1\\times{\\dfrac{2}{3}}$, $2\\times{\\dfrac{2}{3}}$ и $3\\times{\\dfrac{2}{3}}$, находящиеся в скобках, отражают выигрыш игрока при выпадении единицы, двойки и тройки соответственно, помноженный на вероятность того, что все деньги не сгорят (см. пункт а)).\n",
    "\n",
    "Решая данное уравнение, получаем:\n",
    "\n",
    "$$E(z)=\\dfrac{4}{3}.$$\n"
   ]
  },
  {
   "cell_type": "markdown",
   "metadata": {
    "collapsed": true
   },
   "source": [
    "### Плюшки от Андрея &#9745;\n",
    "\n",
    "Отличный [Задачник по теории вероятностей](http://abkov.ru/ege/2011-B/reshenie_zadach_po_teorii_veroyatnostey-S1.pdf) для отработки навыков решения задач"
   ]
  },
  {
   "cell_type": "markdown",
   "metadata": {},
   "source": [
    "### Мозговой штурм напоследок!\n",
    "![](http://pbs.twimg.com/media/CdfNMl7W8AAuLSM.jpg:medium)"
   ]
  },
  {
   "cell_type": "code",
   "execution_count": 2,
   "metadata": {
    "collapsed": true
   },
   "outputs": [],
   "source": [
    "from scipy.misc import *"
   ]
  },
  {
   "cell_type": "code",
   "execution_count": 3,
   "metadata": {
    "collapsed": true
   },
   "outputs": [],
   "source": [
    "from numpy import *"
   ]
  },
  {
   "cell_type": "code",
   "execution_count": 4,
   "metadata": {
    "collapsed": false
   },
   "outputs": [],
   "source": [
    "vector = arange(336.0, 365)"
   ]
  },
  {
   "cell_type": "code",
   "execution_count": 5,
   "metadata": {
    "collapsed": false
   },
   "outputs": [
    {
     "data": {
      "text/plain": [
       "5.9480279000234407e+73"
      ]
     },
     "execution_count": 5,
     "metadata": {},
     "output_type": "execute_result"
    }
   ],
   "source": [
    "prod(vector)"
   ]
  },
  {
   "cell_type": "code",
   "execution_count": 6,
   "metadata": {
    "collapsed": false
   },
   "outputs": [
    {
     "data": {
      "text/plain": [
       "0.0008046130336458389"
      ]
     },
     "execution_count": 6,
     "metadata": {},
     "output_type": "execute_result"
    }
   ],
   "source": [
    "prod(vector) / 365**30"
   ]
  },
  {
   "cell_type": "code",
   "execution_count": null,
   "metadata": {
    "collapsed": false
   },
   "outputs": [],
   "source": []
  },
  {
   "cell_type": "code",
   "execution_count": null,
   "metadata": {
    "collapsed": false
   },
   "outputs": [],
   "source": []
  },
  {
   "cell_type": "code",
   "execution_count": null,
   "metadata": {
    "collapsed": false
   },
   "outputs": [],
   "source": []
  },
  {
   "cell_type": "code",
   "execution_count": null,
   "metadata": {
    "collapsed": false
   },
   "outputs": [],
   "source": []
  },
  {
   "cell_type": "code",
   "execution_count": null,
   "metadata": {
    "collapsed": false
   },
   "outputs": [],
   "source": []
  },
  {
   "cell_type": "code",
   "execution_count": null,
   "metadata": {
    "collapsed": false
   },
   "outputs": [],
   "source": []
  },
  {
   "cell_type": "code",
   "execution_count": null,
   "metadata": {
    "collapsed": false
   },
   "outputs": [],
   "source": []
  },
  {
   "cell_type": "code",
   "execution_count": null,
   "metadata": {
    "collapsed": true
   },
   "outputs": [],
   "source": []
  },
  {
   "cell_type": "code",
   "execution_count": null,
   "metadata": {
    "collapsed": true
   },
   "outputs": [],
   "source": []
  },
  {
   "cell_type": "code",
   "execution_count": null,
   "metadata": {
    "collapsed": true
   },
   "outputs": [],
   "source": []
  }
 ],
 "metadata": {
  "anaconda-cloud": {},
  "kernelspec": {
   "display_name": "Python [Root]",
   "language": "python",
   "name": "Python [Root]"
  },
  "language_info": {
   "codemirror_mode": {
    "name": "ipython",
    "version": 3
   },
   "file_extension": ".py",
   "mimetype": "text/x-python",
   "name": "python",
   "nbconvert_exporter": "python",
   "pygments_lexer": "ipython3",
   "version": "3.5.2"
  }
 },
 "nbformat": 4,
 "nbformat_minor": 0
}
