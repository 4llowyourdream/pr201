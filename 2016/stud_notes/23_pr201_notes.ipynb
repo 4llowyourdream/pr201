{
 "cells": [
  {
   "cell_type": "markdown",
   "metadata": {},
   "source": [
    "# Семинар 23#"
   ]
  },
  {
   "cell_type": "markdown",
   "metadata": {},
   "source": [
    "Дата: 13.03.17"
   ]
  },
  {
   "cell_type": "markdown",
   "metadata": {},
   "source": [
    "Подготовил: Ивлиев Иван"
   ]
  },
  {
   "cell_type": "markdown",
   "metadata": {},
   "source": [
    "## Информация по контрольной работе: ##"
   ]
  },
  {
   "cell_type": "markdown",
   "metadata": {},
   "source": [
    "* Дата: 01.04.17\n",
    "* Темы:\n",
    "\n",
    "1) Методы оценок $\\to$ ML: $\\hat a_{ml}$, $\\widehat{Var}_(\\hat a_{ml})$, информация Фишера ; MM: $\\hat a_{mm}$, $\\widehat{Var}_(\\hat a_{mm})$\n",
    "\n",
    "2) Свойства оценок\n",
    "\n",
    "3) Дельта-Метод\n",
    "\n",
    "4) Интервальные оценки"
   ]
  },
  {
   "cell_type": "markdown",
   "metadata": {},
   "source": [
    "## Разбор Д/З ##"
   ]
  },
  {
   "cell_type": "markdown",
   "metadata": {},
   "source": [
    "Задача 18.7"
   ]
  },
  {
   "cell_type": "markdown",
   "metadata": {},
   "source": [
    "Пусть $Y_i \\sim\tN(0;\\frac{1}{1-\\theta^2})$. Найдите ML и оценку для $\\theta$. Оцените дисперсию ML оценки."
   ]
  },
  {
   "cell_type": "markdown",
   "metadata": {},
   "source": [
    "$Y_i,..,Y_n$"
   ]
  },
  {
   "cell_type": "markdown",
   "metadata": {},
   "source": [
    "а) $\\hat \\theta_{ML}$ - ?\n",
    "\n",
    "б) $\\widehat{Var}(\\hat \\theta_{ML})$ - ?"
   ]
  },
  {
   "cell_type": "markdown",
   "metadata": {},
   "source": [
    "$\\frac{1}{1-\\theta^{2}}=a$\n",
    "\n",
    "$Y_i \\sim N(0,a)$"
   ]
  },
  {
   "cell_type": "markdown",
   "metadata": {},
   "source": [
    "а) $\\hat a_{ML}$ - ?\n",
    "\n",
    "б) $\\widehat{Var}(\\hat a_{ML})$ - ?"
   ]
  },
  {
   "cell_type": "markdown",
   "metadata": {},
   "source": [
    "$f(Y_1,Y_2,..,Y_N)=f(Y_1)\\cdot f(Y_2) \\cdot ... \\cdot f(Y_N)$ = $\\prod_{i=1}^{n} (\\frac{1}{\\sqrt{2\\pi\\sigma^2}} \\cdot e^{-\\frac{(Y_i-\\mu)^2}{2\\sigma^2}})$ = $\\prod_{i=1}^{n} (\\frac{1}{\\sqrt{2\\pi\\sigma^2}} \\cdot e^{-\\frac{Y_i^2}{2\\sigma^2}})$ $\\Rightarrow loglik(a)=$ $\\sum_{i=1}^{n} (-0.5 \\cdot ln(2\\pi)-0.5 \\cdot lna-\\frac{(g_i)^2}{2a}lne) \\rightarrow \\max_{a}$"
   ]
  },
  {
   "cell_type": "markdown",
   "metadata": {},
   "source": [
    "$\\frac{\\partial loglik(a)}{\\partial a} = \\sum_{i=1}^{n} (-\\frac{1}{2a}-\\frac{y_i^2}{2} \\cdot (\\frac{-1}{a^2}))$"
   ]
  },
  {
   "cell_type": "markdown",
   "metadata": {},
   "source": [
    "$\\sum_{i=1}^{n} (-\\frac{1}{2\\hat{a}}+\\frac{y_i^2}{2\\hat{a}^2}) = 0 \\mid \\cdot 2\\hat{a}^2$"
   ]
  },
  {
   "cell_type": "markdown",
   "metadata": {},
   "source": [
    "$\\sum_{i=1}^{n} (-\\hat{a} + y_i^2) = 0$"
   ]
  },
  {
   "cell_type": "markdown",
   "metadata": {},
   "source": [
    "$n(-\\hat{a})=-\\sum_{i=1}^{n}(y_i^2)$"
   ]
  },
  {
   "cell_type": "markdown",
   "metadata": {},
   "source": [
    "$$ \\hat{a} = \\frac{\\sum_{i=1}^{n} (y_i^2)}{n} $$"
   ]
  },
  {
   "cell_type": "markdown",
   "metadata": {},
   "source": [
    "Информация Фишера $I$ - вторая производная"
   ]
  },
  {
   "cell_type": "markdown",
   "metadata": {},
   "source": [
    "$I$ теоретическая $ = -E(H)$, где H - матрица Гессе"
   ]
  },
  {
   "cell_type": "markdown",
   "metadata": {},
   "source": [
    "$\\hat{I}$ наблюдаемая $ = -H \\mid_{\\theta=\\hat{\\theta}}$"
   ]
  },
  {
   "cell_type": "markdown",
   "metadata": {},
   "source": [
    "$\\frac{\\partial^2 loglik(a)}{\\partial a^2} = \\sum_{i=1}^{n} (\\frac{1}{2a^2}-\\frac{y_i^2}{a^3})=-\\frac{n}{2a^2}-\\frac{\\sum_{i=1}^{n} (y_i^2)}{a^3}$"
   ]
  },
  {
   "cell_type": "markdown",
   "metadata": {},
   "source": [
    "$-E(H) = E(-\\frac{n}{2a^2}-\\frac{\\sum_{i=1}^{n} (y_i^2)}{a^3}) = \\frac{n}{2a^2}$"
   ]
  },
  {
   "cell_type": "markdown",
   "metadata": {},
   "source": [
    "$\\widehat I_{теоретическая} = \\frac{n}{2\\hat a_{ML}} = \\frac{n}{2(\\sum_{i=1}^{n} \\frac{y_i^2}{n})^2})$ = $$\\frac{n^3}{2(\\sum_{i=1}^{n}(y_i^2))^2}$$"
   ]
  },
  {
   "cell_type": "markdown",
   "metadata": {},
   "source": [
    "Через неравенство Крамера-Рао:\n",
    "\n",
    "Пусть семейство распределений $F_\\theta$ удовлетворяет условиям (R) и (RR). Тогда для любой несмещённой оценки $\\theta^{\\ast}\\in K_{0}$, дисперсия которой $Var_{\\theta^{\\ast}}$ ограничена на любом компакте в области $\\Theta$, справедливо неравенство $$Var_{\\theta^{\\ast}} = E(\\theta^{\\ast} - \\theta)^2 \\ge \\frac{1}{nI(\\theta)}$$"
   ]
  },
  {
   "cell_type": "markdown",
   "metadata": {
    "collapsed": true
   },
   "source": [
    "$Var(\\hat a_{unbiased}) - I^{-1} \\ge 0 \\text{, при }\\hat{a} - скаляр $"
   ]
  },
  {
   "cell_type": "markdown",
   "metadata": {},
   "source": [
    "$Var(\\hat a_{unbiased}) - I^{-1}$  - положительно определена при $\\hat{a} - вектор $"
   ]
  },
  {
   "cell_type": "markdown",
   "metadata": {},
   "source": [
    "На практике: $\\widehat{Var}(\\hat a_{ML}) = \\hat I^{-1} = \\frac{2(\\sum_{i=1}^{n}(y_i^2))^2}{n^3}$"
   ]
  },
  {
   "cell_type": "markdown",
   "metadata": {},
   "source": [
    "Теперь добавим некоторые данные:\n",
    "\n",
    "n=100\n",
    "\n",
    "$\\sum_{i=1}^{n}(y_i)=200$\n",
    "\n",
    "$\\sum_{i=1}^{n}(y_i^2)=9000$"
   ]
  },
  {
   "cell_type": "markdown",
   "metadata": {},
   "source": [
    "Надо найти:\n",
    "\n",
    "$\\hat a_{ML}$\n",
    "\n",
    "$\\widehat{Var}(\\hat a_{ML})$\n",
    "\n",
    "95-% доверительный интервал для a"
   ]
  },
  {
   "cell_type": "markdown",
   "metadata": {},
   "source": [
    "$\\hat{a}_{ML} = \\frac{9000}{100}=90$"
   ]
  },
  {
   "cell_type": "markdown",
   "metadata": {},
   "source": [
    "$Var(\\hat{a}_{ML}) = \\frac{2 \\cdot 9000^2}{100^3}=162$"
   ]
  },
  {
   "cell_type": "markdown",
   "metadata": {},
   "source": [
    "Теоретическая $\\hat{a}_{ML}$ асимптотически распределена нормально"
   ]
  },
  {
   "cell_type": "markdown",
   "metadata": {},
   "source": [
    "$$\\frac{\\hat{a}_{ML} - a}{\\sqrt{\\widehat{Var}(\\hat{a}_{ML})}} \\to N(0,1)$$ по распределению"
   ]
  },
  {
   "cell_type": "code",
   "execution_count": 1,
   "metadata": {
    "collapsed": true
   },
   "outputs": [],
   "source": [
    "import numpy as np"
   ]
  },
  {
   "cell_type": "code",
   "execution_count": 2,
   "metadata": {
    "collapsed": true
   },
   "outputs": [],
   "source": [
    "import pandas as pd"
   ]
  },
  {
   "cell_type": "code",
   "execution_count": 3,
   "metadata": {
    "collapsed": true
   },
   "outputs": [],
   "source": [
    "import seaborn as sns"
   ]
  },
  {
   "cell_type": "code",
   "execution_count": 10,
   "metadata": {
    "collapsed": true
   },
   "outputs": [],
   "source": [
    "import matplotlib.pyplot as plt"
   ]
  },
  {
   "cell_type": "code",
   "execution_count": 11,
   "metadata": {
    "collapsed": true
   },
   "outputs": [],
   "source": [
    "import matplotlib.mlab as mlab"
   ]
  },
  {
   "cell_type": "code",
   "execution_count": 12,
   "metadata": {
    "collapsed": true
   },
   "outputs": [],
   "source": [
    "import math"
   ]
  },
  {
   "cell_type": "code",
   "execution_count": null,
   "metadata": {
    "collapsed": false
   },
   "outputs": [],
   "source": [
    "mu = 0\n",
    "variance = 1\n",
    "sigma = math.sqrt(variance)\n",
    "x = np.linspace(-1.96, 1.96, 100)\n",
    "plt.plot(x,mlab.normpdf(x, mu, sigma))\n",
    "\n",
    "plt.show()"
   ]
  },
  {
   "cell_type": "markdown",
   "metadata": {},
   "source": [
    "$-1.96 \\le \\frac{\\hat{a}_{ML} - a}{\\sqrt{\\widehat{Var}(\\hat{a}_{ML})}} \\le 1.96$"
   ]
  },
  {
   "cell_type": "markdown",
   "metadata": {},
   "source": [
    "$-1.96 \\le \\frac{90 - a}{\\sqrt{162}} \\le 1.96$"
   ]
  },
  {
   "cell_type": "markdown",
   "metadata": {},
   "source": [
    "$64 \\le a \\le 116$"
   ]
  },
  {
   "cell_type": "markdown",
   "metadata": {
    "collapsed": true
   },
   "source": [
    "$\\hat{a} = \\frac{1}{1-\\theta^2} = 90, \\theta>0 $"
   ]
  },
  {
   "cell_type": "markdown",
   "metadata": {},
   "source": [
    "$ 1 - \\theta^2 = \\frac{1}{a} $"
   ]
  },
  {
   "cell_type": "markdown",
   "metadata": {},
   "source": [
    "$ \\theta = \\sqrt{1-\\frac{1}{a}} $"
   ]
  },
  {
   "cell_type": "markdown",
   "metadata": {},
   "source": [
    "Теперь найдем $ \\hat{\\theta}_{ML}, Var(\\hat{\\theta}_{ML})$, 95-% доверительный интервал для $\\theta$"
   ]
  },
  {
   "cell_type": "markdown",
   "metadata": {},
   "source": [
    "Промаксимизируем $e(a(\\theta))$ по  $\\theta$"
   ]
  },
  {
   "cell_type": "markdown",
   "metadata": {},
   "source": [
    "$ e'(a(\\theta)) \\cdot (a'(\\theta) = 0$"
   ]
  },
  {
   "cell_type": "markdown",
   "metadata": {},
   "source": [
    "$e'(a)=0$"
   ]
  },
  {
   "cell_type": "markdown",
   "metadata": {},
   "source": [
    "$\\hat{\\theta}_{ML} = \\sqrt{\\frac{99}{90}}\\approx0.99$"
   ]
  },
  {
   "cell_type": "markdown",
   "metadata": {},
   "source": [
    "$\\hat{a} = \\frac{1}{1-\\theta^2} = f(\\hat{\\theta})$ разложим в ряд Тейлора: $f(\\hat{\\theta})=f(\\theta)+f'(\\theta) \\cdot (\\hat{\\theta} - \\theta)$"
   ]
  },
  {
   "cell_type": "markdown",
   "metadata": {},
   "source": [
    "$\\hat{a}$ - случайная величина\n",
    "\n",
    "$\\hat{a}\\approx \\frac{1}{1-\\theta} + \\frac{2\\theta}{(1-\\theta^2)^2} \\cdot (\\hat{\\theta}-\\theta)$"
   ]
  },
  {
   "cell_type": "markdown",
   "metadata": {},
   "source": [
    "$Var(\\hat{a})\\approx \\frac{4\\theta^2}{(1-\\theta^2)^4} \\cdot Var(\\hat{\\theta})$"
   ]
  },
  {
   "cell_type": "markdown",
   "metadata": {},
   "source": [
    "$\\widehat{Var}(\\hat{a})\\approx \\frac{4\\hat{\\theta^2}}{(1-\\hat{\\theta^2})^4} \\cdot \\widehat{Var}(\\hat{\\theta})$"
   ]
  },
  {
   "cell_type": "markdown",
   "metadata": {},
   "source": [
    "$162 = 4 \\cdot 0.99^2 \\cdot 90^4 \\cdot \\widehat{Var}(\\hat{\\theta}) \\Rightarrow \\widehat{Var}(\\hat{\\theta}) = \\frac{1}{200 \\cdot 90^2} $"
   ]
  },
  {
   "cell_type": "markdown",
   "metadata": {},
   "source": [
    "$(\\frac{1}{90 \\cdot 14}) \\cdot \\hat{\\theta}-2 \\cdot \\frac{1}{90 \\cdot 14}\\le\\theta\\le\\hat{\\theta}+2 \\cdot \\frac{1}{90 \\cdot 14}$"
   ]
  },
  {
   "cell_type": "markdown",
   "metadata": {},
   "source": [
    "## Домашнее задание: ##\n",
    "\n",
    "№19.1-19.3; 20.4-20.6"
   ]
  }
 ],
 "metadata": {
  "anaconda-cloud": {},
  "kernelspec": {
   "display_name": "Python [Root]",
   "language": "python",
   "name": "Python [Root]"
  },
  "language_info": {
   "codemirror_mode": {
    "name": "ipython",
    "version": 3
   },
   "file_extension": ".py",
   "mimetype": "text/x-python",
   "name": "python",
   "nbconvert_exporter": "python",
   "pygments_lexer": "ipython3",
   "version": "3.5.2"
  }
 },
 "nbformat": 4,
 "nbformat_minor": 0
}
