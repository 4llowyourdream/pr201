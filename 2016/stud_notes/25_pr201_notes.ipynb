{
 "cells": [
  {
   "cell_type": "markdown",
   "metadata": {},
   "source": [
    "# Семинар 25. Путь красоты и геометрии"
   ]
  },
  {
   "cell_type": "markdown",
   "metadata": {},
   "source": [
    "## Информация Фишера"
   ]
  },
  {
   "cell_type": "markdown",
   "metadata": {},
   "source": [
    "***Единственно верное*** определние информации Фишера: $ I(\\theta)=Var(s(\\theta))$, где\n",
    "\n",
    "$ \\theta = \\begin{pmatrix}\n",
    "\\theta_{1} \\\\\n",
    "\\theta_{2} \\\\         \n",
    "\\vdots  \\\\\n",
    "\\theta_{k}\n",
    "\\end{pmatrix} $ $-$ это параметр распределения,а $ L(\\theta) $ $-$ это функция правдоподобия;\n",
    "$ l(\\theta) $ = $ lnL(\\theta) $;\n",
    "\n",
    "\n",
    "$ s(\\theta) $=$ \\frac{\\partial  l(\\theta)  }{\\partial \\theta} $ $-$ градиент $ l(\\theta) $ , score function\n"
   ]
  },
  {
   "cell_type": "markdown",
   "metadata": {},
   "source": [
    "### Разминка"
   ]
  },
  {
   "cell_type": "markdown",
   "metadata": {},
   "source": [
    "Пусть имеется **n** наблюдений: $ Y_1, Y_2, \\dots, Y_n $, $ s(\\theta) = \\frac{\\partial lnL(\\theta)}{\\partial \\theta} $\n",
    "\n",
    "Доказать, что $ E(s(\\theta)) $ = $ \\vec0 $"
   ]
  },
  {
   "cell_type": "markdown",
   "metadata": {},
   "source": [
    "### Решение"
   ]
  },
  {
   "cell_type": "markdown",
   "metadata": {},
   "source": [
    "$ s(\\theta) = \\begin{pmatrix}\n",
    "\\frac{\\partial l(\\theta)}{\\partial \\theta_{1} } \\\\\n",
    "\\frac{\\partial l(\\theta)}{\\partial \\theta_{2}  }\\\\         \n",
    "\\vdots  \\\\\n",
    "\\frac{\\partial l(\\theta)}{\\partial \\theta_{k} }\n",
    "\\end{pmatrix} $"
   ]
  },
  {
   "cell_type": "markdown",
   "metadata": {},
   "source": [
    "\n",
    "\n",
    "Найдем $ E\\left(\\frac{\\partial l(\\theta)}{\\partial \\theta_{1}}\\right) $= $ \\int\\limits_{-\\infty}^{\\infty} L(\\theta)\\frac{\\partial l(\\theta)}{\\partial \\theta_{1}}\\,dy$ = $ \\int\\limits_{-\\infty}^{\\infty} L(\\theta)\\frac{\\partial lnL(\\theta)}{\\partial \\theta_{1}}\\,dy$ = $ \\int\\limits_{-\\infty}^{\\infty} L(\\theta)\\frac{\\partial L(\\theta)}{\\partial \\theta_{1}}\\frac{1}{L(\\theta},dy $ = $ \\frac{\\partial \\int\\limits_{-\\infty}^{\\infty} L(\\theta)dy}{\\partial \\theta_{1}}$ = $ \\frac{\\partial 1}{\\partial \\theta_{1}}$ = 0"
   ]
  },
  {
   "cell_type": "markdown",
   "metadata": {},
   "source": [
    "\n",
    "\n",
    "Следовательно, $ E(s(\\theta)) $ = $ \\vec0 $"
   ]
  },
  {
   "cell_type": "markdown",
   "metadata": {},
   "source": [
    "### Теорема 1"
   ]
  },
  {
   "cell_type": "markdown",
   "metadata": {},
   "source": [
    "$ I(\\theta) =  E(s\\times s^T) = -E(H)$, где $H -$ это матрица вторых проиводных для $l(\\theta)$"
   ]
  },
  {
   "cell_type": "markdown",
   "metadata": {},
   "source": [
    "### Доказательство"
   ]
  },
  {
   "cell_type": "markdown",
   "metadata": {},
   "source": [
    "Рассмотрим ковариационную матрицу для score-function $ Var(s(\\theta))=I(\\theta) $"
   ]
  },
  {
   "cell_type": "markdown",
   "metadata": {},
   "source": [
    "Рассчитаем элемент, находящийся в 5-ой строке, 6-ом столбце:"
   ]
  },
  {
   "cell_type": "markdown",
   "metadata": {},
   "source": [
    "$ Cov \\left( \\frac{\\partial l}{\\partial \\theta_{5}} ; \\frac{\\partial l}{\\partial \\theta_{6}} \\right) $ = $ E\\left(\\frac{\\partial l}{\\partial \\theta_{5}}*\\frac{\\partial l}{\\partial \\theta_{6}}\\right)$ $-$ $E\\left(\\frac{\\partial l}{\\partial \\theta_{5}}\\right)E\\left(\\frac{\\partial l}{\\partial \\theta_{6}}\\right)$= $E\\left(\\frac{\\partial l}{\\partial \\theta_{5}}*\\frac{\\partial l}{\\partial \\theta_{6}}\\right) - 0 $, аналогично предыдущему пункту."
   ]
  },
  {
   "cell_type": "markdown",
   "metadata": {},
   "source": [
    "$ I_{5,6} = E\\left(\\frac{\\partial l}{\\partial \\theta_{5}}*\\frac{\\partial l}{\\partial \\theta_{6}}\\right) $"
   ]
  },
  {
   "cell_type": "markdown",
   "metadata": {},
   "source": [
    "##### Докажем первое утверждение, рассмотрев элемент в 5-ой строке, 6-ом столбце матрицы $ s\\times s^T $ \n",
    "\n",
    "Пояснение: $ s\\times s^T $ - это матрица, размерностью $ k\\times k $ так же, как и $I$, потому что получается произведением вектора-столбца на вектор-строку.\n",
    "\n",
    "$ E(s\\times s^T)_{5,6} = E\\left(\\frac{\\partial l}{\\partial \\theta_{5}}*\\frac{\\partial l}{\\partial \\theta_{6}}\\right) = I_{5,6} $\n",
    "\n"
   ]
  },
  {
   "cell_type": "markdown",
   "metadata": {},
   "source": [
    "##### Докажем второе равенство, преобразовав обе части равенства и рассмотрев уже полюбившийся элемент из 5-ой строки, 6-ого столбца:\n",
    "\n",
    "$ I(\\theta)_{5,6} = E\\left(\\frac{\\partial l(\\theta)}{\\partial \\theta_{5}}*\\frac{\\partial l(\\theta)}{\\partial \\theta_{6}}\\right) = E\\left(\\frac{\\partial lnL(\\theta)}{\\partial \\theta_{5}}*\\frac{\\partial lnL(\\theta)}{\\partial \\theta_{6}}\\right) = E\\left(\\frac{1}{L^2}\\frac{\\partial L(\\theta)}{\\partial \\theta_{5}}\\frac{\\partial L(\\theta)}{\\partial \\theta_{6}}\\right) $"
   ]
  },
  {
   "cell_type": "markdown",
   "metadata": {},
   "source": [
    "$ -E(H)_{5,6} = -E\\left(\\frac{\\partial^2 L(\\theta)}{\\partial \\theta_{5}\\partial \\theta_{6}}\\right) =-E\\left( \\frac{\\partial \\frac{\\partial lnL(\\theta)}{\\partial \\theta_{6}}}{\\partial \\theta_{5}} \\right) = -E\\left( \\frac{\\partial \\frac{\\partial L(\\theta)}{\\partial \\theta_{6}}\\frac {1}{L}}{\\partial \\theta_{5}} \\right) = -E\\left( \\frac{1}{L}\\frac{\\partial \\frac{\\partial L(\\theta)}{\\partial \\theta_{6}}}{\\partial \\theta_{5}} - \\frac{\\partial l(\\theta)}{\\partial \\theta_{5}}*\\frac{\\partial l(\\theta)}{\\partial \\theta_{6}}\\frac{1}{L^2} \\right) = 0 + E(\\frac{1}{L^2}\\frac{\\partial L(\\theta)}{\\partial \\theta_{5}}\\frac{\\partial L(\\theta)}{\\partial \\theta_{6}}) $"
   ]
  },
  {
   "cell_type": "markdown",
   "metadata": {},
   "source": [
    "Потому что $ -E\\left( \\frac{1}{L}\\frac{\\partial \\frac{\\partial L(\\theta)}{\\partial \\theta_{6}}}{\\partial \\theta_{5}} \\right) = \\int\\limits_{-\\infty}^{\\infty} \\frac{1}{L}\\frac{\\partial^2 L(\\theta)}{\\partial \\theta_{5}\\partial \\theta_{6}}L(\\theta)\\,dy = \\frac{\\partial^2 \\int\\limits_{-\\infty}^{\\infty} L(\\theta)\\,dy}{\\partial \\theta_{5}\\partial \\theta_{6}} = \\frac{\\partial^2 1}{\\partial \\theta_{5}\\partial \\theta_{6}} = 0 $"
   ]
  },
  {
   "cell_type": "markdown",
   "metadata": {},
   "source": [
    "А значит, $ I(\\theta)_{5,6} = E\\left(\\frac{1}{L^2}\\frac{\\partial L(\\theta)}{\\partial \\theta_{5}}\\frac{\\partial L(\\theta)}{\\partial \\theta_{6}}\\right) = -E(H)_{5,6} $\n",
    "##### Что и требовалось доказать"
   ]
  },
  {
   "cell_type": "markdown",
   "metadata": {},
   "source": [
    "#### Упражнение\n",
    "\n",
    "Пусть даны n-мерные линейно независимые вектора $ x_1, x_2, \\dots, x_k $ и наблюдаемый вектор $ y = \\begin{pmatrix}\n",
    "\\ y_{1} \\\\\n",
    "\\ y_{2} \\\\         \n",
    "\\vdots  \\\\\n",
    "\\ y_{k}\n",
    "\\end{pmatrix} $\n",
    "\n",
    "$ X = \\begin{pmatrix}\n",
    "\\ \\vdots & \\vdots & \\dots & \\vdots \\\\\n",
    "\\ x_1 & x_2 & \\dots & x_k \\\\\n",
    "\\ \\vdots & \\vdots & \\dots & \\vdots \\\\\n",
    "\\end{pmatrix} $"
   ]
  },
  {
   "cell_type": "markdown",
   "metadata": {},
   "source": [
    "Найти матрицу $A$ такого линейного оператора, который проектировал бы вектор $y$ на линейную оболочку векторов $Lin(x_1, x_2, \\dots, x_k) $\n",
    "\n",
    "То есть $ Ay = \\hat y $"
   ]
  },
  {
   "cell_type": "markdown",
   "metadata": {},
   "source": [
    "Очевидно, что $ y - Ay \\perp \\hat y = Ay, x_1, x_2, \\dots, x_k $\n",
    "\n",
    "А значит, скалярные произведения: $ x_1^T\\times (y-Ay) = 0 $\n",
    "\n",
    "$ X^T \\times (y-Ay) = \\vec 0 $  (1)"
   ]
  },
  {
   "cell_type": "markdown",
   "metadata": {},
   "source": [
    "Так как $Ay$ лежит в линейной оболочке $Lin(x_1, x_2, \\dots, x_k) $, то \n",
    "\n",
    "$  Ay = a_1x_1 + a_2x_2 + \\dots + a_kx_k = X\\times \\begin{pmatrix}\n",
    "\\ a_{1} \\\\\n",
    "\\ a_{2} \\\\         \n",
    "\\vdots  \\\\\n",
    "\\ a_{k}\n",
    "\\end{pmatrix} = Xa $  (2)"
   ]
  },
  {
   "cell_type": "markdown",
   "metadata": {},
   "source": [
    "Из (1) и (2) следует, что $ \\vec 0 = X^T \\times (y-Ay) = X^Ty - X^TXa $"
   ]
  },
  {
   "cell_type": "markdown",
   "metadata": {},
   "source": [
    "$ X^TXa = X^TY $ , зааметим, что $ X^TX$ - квадратная матрица\n",
    "\n",
    "$ a = (X^TX)^{-1}X^TY $\n",
    "\n",
    "$ Xa = X(X^TX)^{-1}X^Ty = Ay $\n",
    "\n",
    "$ A = X(X^TX)^{-1}X^T $"
   ]
  },
  {
   "cell_type": "markdown",
   "metadata": {},
   "source": [
    "#### Конец семинара 25\n"
   ]
  }
 ],
 "metadata": {
  "kernelspec": {
   "display_name": "Python [Root]",
   "language": "python",
   "name": "Python [Root]"
  },
  "language_info": {
   "codemirror_mode": {
    "name": "ipython",
    "version": 3
   },
   "file_extension": ".py",
   "mimetype": "text/x-python",
   "name": "python",
   "nbconvert_exporter": "python",
   "pygments_lexer": "ipython3",
   "version": "3.5.2"
  }
 },
 "nbformat": 4,
 "nbformat_minor": 0
}
