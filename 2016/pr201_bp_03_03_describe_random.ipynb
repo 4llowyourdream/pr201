{
 "cells": [
  {
   "cell_type": "markdown",
   "metadata": {},
   "source": [
    "Ура! Мы смогли запустить Jupyter! \n",
    "Подключаем нужные модули :)"
   ]
  },
  {
   "cell_type": "code",
   "execution_count": 1,
   "metadata": {
    "collapsed": true
   },
   "outputs": [],
   "source": [
    "import numpy as np # всякие математические функции\n",
    "import pandas as pd # работа с табличками данных\n",
    "import scipy.stats as stats # работа со случайными величинами"
   ]
  },
  {
   "cell_type": "code",
   "execution_count": 2,
   "metadata": {
    "collapsed": true
   },
   "outputs": [],
   "source": [
    "import seaborn as sns # для графиков (на вышкинских не сработает)"
   ]
  },
  {
   "cell_type": "code",
   "execution_count": 3,
   "metadata": {
    "collapsed": false
   },
   "outputs": [
    {
     "data": {
      "text/plain": [
       "1.0"
      ]
     },
     "execution_count": 3,
     "metadata": {},
     "output_type": "execute_result"
    }
   ],
   "source": [
    "np.cos(0)"
   ]
  },
  {
   "cell_type": "code",
   "execution_count": 4,
   "metadata": {
    "collapsed": false
   },
   "outputs": [
    {
     "data": {
      "text/plain": [
       "'/Users/boris/Documents/pr201/2016/red_rose_python'"
      ]
     },
     "execution_count": 4,
     "metadata": {},
     "output_type": "execute_result"
    }
   ],
   "source": [
    "pwd"
   ]
  },
  {
   "cell_type": "markdown",
   "metadata": {},
   "source": [
    "Чтобы попросить python смотреть в другую папку:\n",
    "\n",
    "cd полный путь к нужной папке"
   ]
  },
  {
   "cell_type": "code",
   "execution_count": 5,
   "metadata": {
    "collapsed": false
   },
   "outputs": [
    {
     "name": "stdout",
     "output_type": "stream",
     "text": [
      "/Users/boris/Downloads\n"
     ]
    }
   ],
   "source": [
    "cd /Users/boris/Downloads/"
   ]
  },
  {
   "cell_type": "code",
   "execution_count": 6,
   "metadata": {
    "collapsed": false
   },
   "outputs": [
    {
     "name": "stdout",
     "output_type": "stream",
     "text": [
      "/Users/boris/Downloads/pokemon-sun-and-moon-gen-7-stats-1\n"
     ]
    }
   ],
   "source": [
    "cd /Users/boris/Downloads/pokemon-sun-and-moon-gen-7-stats-1/"
   ]
  },
  {
   "cell_type": "code",
   "execution_count": 7,
   "metadata": {
    "collapsed": true
   },
   "outputs": [],
   "source": [
    "pok = pd.read_csv(\"pokemon.csv\")"
   ]
  },
  {
   "cell_type": "code",
   "execution_count": 12,
   "metadata": {
    "collapsed": false
   },
   "outputs": [
    {
     "data": {
      "text/html": [
       "<div>\n",
       "<table border=\"1\" class=\"dataframe\">\n",
       "  <thead>\n",
       "    <tr style=\"text-align: right;\">\n",
       "      <th></th>\n",
       "      <th>id</th>\n",
       "      <th>ndex</th>\n",
       "      <th>species</th>\n",
       "      <th>forme</th>\n",
       "      <th>type1</th>\n",
       "      <th>type2</th>\n",
       "      <th>ability1</th>\n",
       "      <th>ability2</th>\n",
       "      <th>abilityH</th>\n",
       "      <th>hp</th>\n",
       "      <th>...</th>\n",
       "      <th>weight</th>\n",
       "      <th>height</th>\n",
       "      <th>dex1</th>\n",
       "      <th>dex2</th>\n",
       "      <th>class</th>\n",
       "      <th>percent-male</th>\n",
       "      <th>percent-female</th>\n",
       "      <th>pre-evolution</th>\n",
       "      <th>egg-group1</th>\n",
       "      <th>egg-group2</th>\n",
       "    </tr>\n",
       "  </thead>\n",
       "  <tbody>\n",
       "    <tr>\n",
       "      <th>0</th>\n",
       "      <td>1</td>\n",
       "      <td>1</td>\n",
       "      <td>Bulbasaur</td>\n",
       "      <td>Bulbasaur</td>\n",
       "      <td>Grass</td>\n",
       "      <td>Poison</td>\n",
       "      <td>Overgrow</td>\n",
       "      <td>NaN</td>\n",
       "      <td>Chlorophyll</td>\n",
       "      <td>45</td>\n",
       "      <td>...</td>\n",
       "      <td>15.2 lbs.</td>\n",
       "      <td>2'04\"</td>\n",
       "      <td>NaN</td>\n",
       "      <td>NaN</td>\n",
       "      <td>Seed Pokémon</td>\n",
       "      <td>0.875</td>\n",
       "      <td>0.125</td>\n",
       "      <td>NaN</td>\n",
       "      <td>Monster</td>\n",
       "      <td>Grass</td>\n",
       "    </tr>\n",
       "  </tbody>\n",
       "</table>\n",
       "<p>1 rows × 26 columns</p>\n",
       "</div>"
      ],
      "text/plain": [
       "   id  ndex    species      forme  type1   type2  ability1 ability2  \\\n",
       "0   1     1  Bulbasaur  Bulbasaur  Grass  Poison  Overgrow      NaN   \n",
       "\n",
       "      abilityH  hp    ...         weight  height  dex1  dex2         class  \\\n",
       "0  Chlorophyll  45    ...      15.2 lbs.   2'04\"   NaN   NaN  Seed Pokémon   \n",
       "\n",
       "   percent-male percent-female pre-evolution egg-group1 egg-group2  \n",
       "0         0.875          0.125           NaN    Monster      Grass  \n",
       "\n",
       "[1 rows x 26 columns]"
      ]
     },
     "execution_count": 12,
     "metadata": {},
     "output_type": "execute_result"
    }
   ],
   "source": [
    "pok.head(1) # начало таблички"
   ]
  },
  {
   "cell_type": "code",
   "execution_count": 11,
   "metadata": {
    "collapsed": false
   },
   "outputs": [
    {
     "data": {
      "text/html": [
       "<div>\n",
       "<table border=\"1\" class=\"dataframe\">\n",
       "  <thead>\n",
       "    <tr style=\"text-align: right;\">\n",
       "      <th></th>\n",
       "      <th>id</th>\n",
       "      <th>ndex</th>\n",
       "      <th>species</th>\n",
       "      <th>forme</th>\n",
       "      <th>type1</th>\n",
       "      <th>type2</th>\n",
       "      <th>ability1</th>\n",
       "      <th>ability2</th>\n",
       "      <th>abilityH</th>\n",
       "      <th>hp</th>\n",
       "      <th>...</th>\n",
       "      <th>weight</th>\n",
       "      <th>height</th>\n",
       "      <th>dex1</th>\n",
       "      <th>dex2</th>\n",
       "      <th>class</th>\n",
       "      <th>percent-male</th>\n",
       "      <th>percent-female</th>\n",
       "      <th>pre-evolution</th>\n",
       "      <th>egg-group1</th>\n",
       "      <th>egg-group2</th>\n",
       "    </tr>\n",
       "  </thead>\n",
       "  <tbody>\n",
       "    <tr>\n",
       "      <th>1060</th>\n",
       "      <td>1062</td>\n",
       "      <td>801</td>\n",
       "      <td>Magearna</td>\n",
       "      <td>Magearna (Original Color)</td>\n",
       "      <td>Steel</td>\n",
       "      <td>Fairy</td>\n",
       "      <td>Soul-Heart</td>\n",
       "      <td>Soul-Heart</td>\n",
       "      <td>Soul-Heart</td>\n",
       "      <td>80</td>\n",
       "      <td>...</td>\n",
       "      <td>177.5 lbs.</td>\n",
       "      <td>3'03\"</td>\n",
       "      <td>This beautiful form reflects Magearna’s appear...</td>\n",
       "      <td>This gorgeous Magearna looks as it did at the ...</td>\n",
       "      <td>Artificial Pokémon</td>\n",
       "      <td>NaN</td>\n",
       "      <td>NaN</td>\n",
       "      <td>NaN</td>\n",
       "      <td>Undiscovered</td>\n",
       "      <td>NaN</td>\n",
       "    </tr>\n",
       "  </tbody>\n",
       "</table>\n",
       "<p>1 rows × 26 columns</p>\n",
       "</div>"
      ],
      "text/plain": [
       "        id  ndex   species                      forme  type1  type2  \\\n",
       "1060  1062   801  Magearna  Magearna (Original Color)  Steel  Fairy   \n",
       "\n",
       "        ability1    ability2    abilityH  hp    ...          weight  height  \\\n",
       "1060  Soul-Heart  Soul-Heart  Soul-Heart  80    ...      177.5 lbs.   3'03\"   \n",
       "\n",
       "                                                   dex1  \\\n",
       "1060  This beautiful form reflects Magearna’s appear...   \n",
       "\n",
       "                                                   dex2               class  \\\n",
       "1060  This gorgeous Magearna looks as it did at the ...  Artificial Pokémon   \n",
       "\n",
       "      percent-male percent-female pre-evolution    egg-group1 egg-group2  \n",
       "1060           NaN            NaN           NaN  Undiscovered        NaN  \n",
       "\n",
       "[1 rows x 26 columns]"
      ]
     },
     "execution_count": 11,
     "metadata": {},
     "output_type": "execute_result"
    }
   ],
   "source": [
    "pok.tail(1) # хвостик таблички"
   ]
  },
  {
   "cell_type": "code",
   "execution_count": 13,
   "metadata": {
    "collapsed": false
   },
   "outputs": [
    {
     "name": "stderr",
     "output_type": "stream",
     "text": [
      "/Users/boris/anaconda3/lib/python3.5/site-packages/numpy/lib/function_base.py:3834: RuntimeWarning: Invalid value encountered in percentile\n",
      "  RuntimeWarning)\n"
     ]
    },
    {
     "data": {
      "text/html": [
       "<div>\n",
       "<table border=\"1\" class=\"dataframe\">\n",
       "  <thead>\n",
       "    <tr style=\"text-align: right;\">\n",
       "      <th></th>\n",
       "      <th>id</th>\n",
       "      <th>ndex</th>\n",
       "      <th>hp</th>\n",
       "      <th>attack</th>\n",
       "      <th>defense</th>\n",
       "      <th>spattack</th>\n",
       "      <th>spdefense</th>\n",
       "      <th>speed</th>\n",
       "      <th>total</th>\n",
       "      <th>percent-male</th>\n",
       "      <th>percent-female</th>\n",
       "    </tr>\n",
       "  </thead>\n",
       "  <tbody>\n",
       "    <tr>\n",
       "      <th>count</th>\n",
       "      <td>1061.000000</td>\n",
       "      <td>1061.000000</td>\n",
       "      <td>1061.000000</td>\n",
       "      <td>1061.000000</td>\n",
       "      <td>1061.000000</td>\n",
       "      <td>1061.000000</td>\n",
       "      <td>1061.000000</td>\n",
       "      <td>1061.000000</td>\n",
       "      <td>1061.000000</td>\n",
       "      <td>859.000000</td>\n",
       "      <td>859.000000</td>\n",
       "    </tr>\n",
       "    <tr>\n",
       "      <th>mean</th>\n",
       "      <td>531.244109</td>\n",
       "      <td>417.471254</td>\n",
       "      <td>70.041470</td>\n",
       "      <td>79.602262</td>\n",
       "      <td>73.730443</td>\n",
       "      <td>74.550424</td>\n",
       "      <td>72.911404</td>\n",
       "      <td>70.321395</td>\n",
       "      <td>441.157399</td>\n",
       "      <td>0.544529</td>\n",
       "      <td>0.455471</td>\n",
       "    </tr>\n",
       "    <tr>\n",
       "      <th>std</th>\n",
       "      <td>306.748505</td>\n",
       "      <td>239.020743</td>\n",
       "      <td>25.893508</td>\n",
       "      <td>31.378369</td>\n",
       "      <td>30.394899</td>\n",
       "      <td>31.975146</td>\n",
       "      <td>27.995681</td>\n",
       "      <td>29.328288</td>\n",
       "      <td>121.289505</td>\n",
       "      <td>0.207969</td>\n",
       "      <td>0.207969</td>\n",
       "    </tr>\n",
       "    <tr>\n",
       "      <th>min</th>\n",
       "      <td>1.000000</td>\n",
       "      <td>1.000000</td>\n",
       "      <td>1.000000</td>\n",
       "      <td>5.000000</td>\n",
       "      <td>5.000000</td>\n",
       "      <td>10.000000</td>\n",
       "      <td>20.000000</td>\n",
       "      <td>5.000000</td>\n",
       "      <td>175.000000</td>\n",
       "      <td>0.000000</td>\n",
       "      <td>0.000000</td>\n",
       "    </tr>\n",
       "    <tr>\n",
       "      <th>25%</th>\n",
       "      <td>266.000000</td>\n",
       "      <td>201.000000</td>\n",
       "      <td>50.000000</td>\n",
       "      <td>55.000000</td>\n",
       "      <td>50.000000</td>\n",
       "      <td>50.000000</td>\n",
       "      <td>50.000000</td>\n",
       "      <td>48.000000</td>\n",
       "      <td>336.000000</td>\n",
       "      <td>NaN</td>\n",
       "      <td>NaN</td>\n",
       "    </tr>\n",
       "    <tr>\n",
       "      <th>50%</th>\n",
       "      <td>531.000000</td>\n",
       "      <td>423.000000</td>\n",
       "      <td>68.000000</td>\n",
       "      <td>75.000000</td>\n",
       "      <td>70.000000</td>\n",
       "      <td>70.000000</td>\n",
       "      <td>70.000000</td>\n",
       "      <td>68.000000</td>\n",
       "      <td>455.000000</td>\n",
       "      <td>NaN</td>\n",
       "      <td>NaN</td>\n",
       "    </tr>\n",
       "    <tr>\n",
       "      <th>75%</th>\n",
       "      <td>796.000000</td>\n",
       "      <td>646.000000</td>\n",
       "      <td>80.000000</td>\n",
       "      <td>100.000000</td>\n",
       "      <td>91.000000</td>\n",
       "      <td>95.000000</td>\n",
       "      <td>90.000000</td>\n",
       "      <td>93.000000</td>\n",
       "      <td>520.000000</td>\n",
       "      <td>NaN</td>\n",
       "      <td>NaN</td>\n",
       "    </tr>\n",
       "    <tr>\n",
       "      <th>max</th>\n",
       "      <td>1062.000000</td>\n",
       "      <td>802.000000</td>\n",
       "      <td>255.000000</td>\n",
       "      <td>190.000000</td>\n",
       "      <td>230.000000</td>\n",
       "      <td>194.000000</td>\n",
       "      <td>230.000000</td>\n",
       "      <td>180.000000</td>\n",
       "      <td>780.000000</td>\n",
       "      <td>1.000000</td>\n",
       "      <td>1.000000</td>\n",
       "    </tr>\n",
       "  </tbody>\n",
       "</table>\n",
       "</div>"
      ],
      "text/plain": [
       "                id         ndex           hp       attack      defense  \\\n",
       "count  1061.000000  1061.000000  1061.000000  1061.000000  1061.000000   \n",
       "mean    531.244109   417.471254    70.041470    79.602262    73.730443   \n",
       "std     306.748505   239.020743    25.893508    31.378369    30.394899   \n",
       "min       1.000000     1.000000     1.000000     5.000000     5.000000   \n",
       "25%     266.000000   201.000000    50.000000    55.000000    50.000000   \n",
       "50%     531.000000   423.000000    68.000000    75.000000    70.000000   \n",
       "75%     796.000000   646.000000    80.000000   100.000000    91.000000   \n",
       "max    1062.000000   802.000000   255.000000   190.000000   230.000000   \n",
       "\n",
       "          spattack    spdefense        speed        total  percent-male  \\\n",
       "count  1061.000000  1061.000000  1061.000000  1061.000000    859.000000   \n",
       "mean     74.550424    72.911404    70.321395   441.157399      0.544529   \n",
       "std      31.975146    27.995681    29.328288   121.289505      0.207969   \n",
       "min      10.000000    20.000000     5.000000   175.000000      0.000000   \n",
       "25%      50.000000    50.000000    48.000000   336.000000           NaN   \n",
       "50%      70.000000    70.000000    68.000000   455.000000           NaN   \n",
       "75%      95.000000    90.000000    93.000000   520.000000           NaN   \n",
       "max     194.000000   230.000000   180.000000   780.000000      1.000000   \n",
       "\n",
       "       percent-female  \n",
       "count      859.000000  \n",
       "mean         0.455471  \n",
       "std          0.207969  \n",
       "min          0.000000  \n",
       "25%               NaN  \n",
       "50%               NaN  \n",
       "75%               NaN  \n",
       "max          1.000000  "
      ]
     },
     "execution_count": 13,
     "metadata": {},
     "output_type": "execute_result"
    }
   ],
   "source": [
    "pok.describe()"
   ]
  },
  {
   "cell_type": "code",
   "execution_count": 14,
   "metadata": {
    "collapsed": false
   },
   "outputs": [
    {
     "data": {
      "text/plain": [
       "0        49\n",
       "1        62\n",
       "2        82\n",
       "3        52\n",
       "4        64\n",
       "5        84\n",
       "6        48\n",
       "7        63\n",
       "8        83\n",
       "9        30\n",
       "10       20\n",
       "11       45\n",
       "12       35\n",
       "13       25\n",
       "14       90\n",
       "15       45\n",
       "16       60\n",
       "17       80\n",
       "18       56\n",
       "19       81\n",
       "20       60\n",
       "21       90\n",
       "22       60\n",
       "23       95\n",
       "24       55\n",
       "25       90\n",
       "26       75\n",
       "27      100\n",
       "28       47\n",
       "29       62\n",
       "       ... \n",
       "1031     95\n",
       "1032     95\n",
       "1033     95\n",
       "1034     95\n",
       "1035     95\n",
       "1036     95\n",
       "1037     95\n",
       "1038     95\n",
       "1039     95\n",
       "1040     95\n",
       "1041     95\n",
       "1042     95\n",
       "1043     60\n",
       "1044     60\n",
       "1045     60\n",
       "1046     60\n",
       "1047     60\n",
       "1048     60\n",
       "1049    100\n",
       "1050    100\n",
       "1051    100\n",
       "1052    100\n",
       "1053    100\n",
       "1054    100\n",
       "1055    100\n",
       "1056    100\n",
       "1057    100\n",
       "1058    100\n",
       "1059    110\n",
       "1060     95\n",
       "Name: attack, dtype: int64"
      ]
     },
     "execution_count": 14,
     "metadata": {},
     "output_type": "execute_result"
    }
   ],
   "source": [
    "pok['attack']"
   ]
  },
  {
   "cell_type": "markdown",
   "metadata": {},
   "source": [
    "Чтобы поставить модуль seaborn под windows:\n",
    "1. Жмакаем кнопку Пуск\n",
    "2. Вводим в строке снизу \"cmd\" и жмакаем enter\n",
    "3. Набираем \"conda install seaborn\" и enter\n"
   ]
  },
  {
   "cell_type": "code",
   "execution_count": 16,
   "metadata": {
    "collapsed": false
   },
   "outputs": [
    {
     "name": "stderr",
     "output_type": "stream",
     "text": [
      "/Users/boris/anaconda3/lib/python3.5/site-packages/statsmodels/nonparametric/kdetools.py:20: VisibleDeprecationWarning: using a non-integer number instead of an integer will result in an error in the future\n",
      "  y = X[:m/2+1] + np.r_[0,X[m/2+1:],0]*1j\n"
     ]
    },
    {
     "data": {
      "text/plain": [
       "<matplotlib.axes._subplots.AxesSubplot at 0x11c665048>"
      ]
     },
     "execution_count": 16,
     "metadata": {},
     "output_type": "execute_result"
    },
    {
     "data": {
      "image/png": "[encoded data removed]",
      "text/plain": [
       "<matplotlib.figure.Figure at 0x11c56dcc0>"
      ]
     },
     "metadata": {},
     "output_type": "display_data"
    }
   ],
   "source": [
    "%matplotlib inline\n",
    "sns.distplot(pok['attack'])"
   ]
  },
  {
   "cell_type": "code",
   "execution_count": 17,
   "metadata": {
    "collapsed": false
   },
   "outputs": [
    {
     "data": {
      "text/plain": [
       "<seaborn.axisgrid.JointGrid at 0x11c70f0b8>"
      ]
     },
     "execution_count": 17,
     "metadata": {},
     "output_type": "execute_result"
    },
    {
     "data": {
      "image/png": "[encoded data removed]",
      "text/plain": [
       "<matplotlib.figure.Figure at 0x11c70f8d0>"
      ]
     },
     "metadata": {},
     "output_type": "display_data"
    }
   ],
   "source": [
    "sns.jointplot(data=pok, x='attack', y='defense')"
   ]
  },
  {
   "cell_type": "code",
   "execution_count": 18,
   "metadata": {
    "collapsed": true
   },
   "outputs": [],
   "source": [
    "?sns.distplot"
   ]
  },
  {
   "cell_type": "code",
   "execution_count": 21,
   "metadata": {
    "collapsed": false
   },
   "outputs": [
    {
     "name": "stderr",
     "output_type": "stream",
     "text": [
      "/Users/boris/anaconda3/lib/python3.5/site-packages/statsmodels/nonparametric/kdetools.py:20: VisibleDeprecationWarning: using a non-integer number instead of an integer will result in an error in the future\n",
      "  y = X[:m/2+1] + np.r_[0,X[m/2+1:],0]*1j\n"
     ]
    },
    {
     "data": {
      "text/plain": [
       "<matplotlib.axes._subplots.AxesSubplot at 0x11d255a90>"
      ]
     },
     "execution_count": 21,
     "metadata": {},
     "output_type": "execute_result"
    },
    {
     "data": {
      "image/png": "[encoded data removed]",
      "text/plain": [
       "<matplotlib.figure.Figure at 0x11d2a4550>"
      ]
     },
     "metadata": {},
     "output_type": "display_data"
    }
   ],
   "source": [
    "sns.distplot(pok['attack'], bins=5, rug=True)"
   ]
  },
  {
   "cell_type": "markdown",
   "metadata": {},
   "source": [
    "$X \\sim Bin(n = 50, p = 1/3)$"
   ]
  },
  {
   "cell_type": "code",
   "execution_count": 24,
   "metadata": {
    "collapsed": false
   },
   "outputs": [],
   "source": [
    "X = stats.binom(n=50, p=1.0/3)"
   ]
  },
  {
   "cell_type": "code",
   "execution_count": 25,
   "metadata": {
    "collapsed": false
   },
   "outputs": [
    {
     "data": {
      "text/plain": [
       "16.666666666666575"
      ]
     },
     "execution_count": 25,
     "metadata": {},
     "output_type": "execute_result"
    }
   ],
   "source": [
    "X.expect() # ожидание, E(X)"
   ]
  },
  {
   "cell_type": "code",
   "execution_count": 26,
   "metadata": {
    "collapsed": false
   },
   "outputs": [
    {
     "data": {
      "text/plain": [
       "11.111111111111111"
      ]
     },
     "execution_count": 26,
     "metadata": {},
     "output_type": "execute_result"
    }
   ],
   "source": [
    "X.var() # дисперсия, Var(X)"
   ]
  },
  {
   "cell_type": "code",
   "execution_count": 27,
   "metadata": {
    "collapsed": false
   },
   "outputs": [
    {
     "data": {
      "text/plain": [
       "0.0012238402794417023"
      ]
     },
     "execution_count": 27,
     "metadata": {},
     "output_type": "execute_result"
    }
   ],
   "source": [
    "X.pmf(7) # probability mass function, P(X=7)"
   ]
  },
  {
   "cell_type": "code",
   "execution_count": 28,
   "metadata": {
    "collapsed": false
   },
   "outputs": [
    {
     "data": {
      "text/plain": [
       "0.001744022609223021"
      ]
     },
     "execution_count": 28,
     "metadata": {},
     "output_type": "execute_result"
    }
   ],
   "source": [
    "X.cdf(7) # cumulative distribution function, P(X<=7)"
   ]
  },
  {
   "cell_type": "code",
   "execution_count": 29,
   "metadata": {
    "collapsed": false
   },
   "outputs": [
    {
     "data": {
      "text/plain": [
       "0.98729240821878073"
      ]
     },
     "execution_count": 29,
     "metadata": {},
     "output_type": "execute_result"
    }
   ],
   "source": [
    "X.cdf(40) - X.cdf(9) # P(X \\in [10; 40])"
   ]
  },
  {
   "cell_type": "code",
   "execution_count": 44,
   "metadata": {
    "collapsed": true
   },
   "outputs": [],
   "source": [
    "x = X.rvs(10000) # генерируем X_1, X_2, ..., X_n"
   ]
  },
  {
   "cell_type": "code",
   "execution_count": 46,
   "metadata": {
    "collapsed": false
   },
   "outputs": [
    {
     "data": {
      "text/plain": [
       "array([20, 11, 21, 20, 14, 19, 17, 10, 11, 11])"
      ]
     },
     "execution_count": 46,
     "metadata": {},
     "output_type": "execute_result"
    }
   ],
   "source": [
    "x[0:10]"
   ]
  },
  {
   "cell_type": "code",
   "execution_count": 47,
   "metadata": {
    "collapsed": false
   },
   "outputs": [
    {
     "name": "stderr",
     "output_type": "stream",
     "text": [
      "/Users/boris/anaconda3/lib/python3.5/site-packages/statsmodels/nonparametric/kdetools.py:20: VisibleDeprecationWarning: using a non-integer number instead of an integer will result in an error in the future\n",
      "  y = X[:m/2+1] + np.r_[0,X[m/2+1:],0]*1j\n"
     ]
    },
    {
     "data": {
      "text/plain": [
       "<matplotlib.axes._subplots.AxesSubplot at 0x11edc8390>"
      ]
     },
     "execution_count": 47,
     "metadata": {},
     "output_type": "execute_result"
    },
    {
     "data": {
      "image/png": "[encoded data removed]",
      "text/plain": [
       "<matplotlib.figure.Figure at 0x11edcd940>"
      ]
     },
     "metadata": {},
     "output_type": "display_data"
    }
   ],
   "source": [
    "sns.distplot(x)"
   ]
  },
  {
   "cell_type": "code",
   "execution_count": 48,
   "metadata": {
    "collapsed": false
   },
   "outputs": [
    {
     "data": {
      "text/plain": [
       "20"
      ]
     },
     "execution_count": 48,
     "metadata": {},
     "output_type": "execute_result"
    }
   ],
   "source": [
    "x[0]"
   ]
  },
  {
   "cell_type": "code",
   "execution_count": 61,
   "metadata": {
    "collapsed": true
   },
   "outputs": [],
   "source": [
    "y = 1.0 / (x ** 2 + 7)"
   ]
  },
  {
   "cell_type": "code",
   "execution_count": 62,
   "metadata": {
    "collapsed": false
   },
   "outputs": [
    {
     "data": {
      "text/plain": [
       "0.0039991746771476221"
      ]
     },
     "execution_count": 62,
     "metadata": {},
     "output_type": "execute_result"
    }
   ],
   "source": [
    "np.mean(y)"
   ]
  },
  {
   "cell_type": "code",
   "execution_count": 65,
   "metadata": {
    "collapsed": true
   },
   "outputs": [],
   "source": [
    "np.random.seed(4)"
   ]
  },
  {
   "cell_type": "code",
   "execution_count": 66,
   "metadata": {
    "collapsed": false
   },
   "outputs": [
    {
     "data": {
      "text/plain": [
       "array([23, 17, 23, 19, 18, 14, 23,  9, 14, 16])"
      ]
     },
     "execution_count": 66,
     "metadata": {},
     "output_type": "execute_result"
    }
   ],
   "source": [
    "X.rvs(10)"
   ]
  },
  {
   "cell_type": "code",
   "execution_count": null,
   "metadata": {
    "collapsed": true
   },
   "outputs": [],
   "source": []
  }
 ],
 "metadata": {
  "anaconda-cloud": {},
  "kernelspec": {
   "display_name": "Python 3",
   "language": "python",
   "name": "python3"
  },
  "language_info": {
   "codemirror_mode": {
    "name": "ipython",
    "version": 3
   },
   "file_extension": ".py",
   "mimetype": "text/x-python",
   "name": "python",
   "nbconvert_exporter": "python",
   "pygments_lexer": "ipython3",
   "version": "3.5.2"
  }
 },
 "nbformat": 4,
 "nbformat_minor": 1
}
